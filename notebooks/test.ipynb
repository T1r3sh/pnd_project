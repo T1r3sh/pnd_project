{
 "cells": [
  {
   "cell_type": "code",
   "execution_count": 1,
   "metadata": {},
   "outputs": [],
   "source": [
    "import pandas as pd \n",
    "import numpy as np\n",
    "import os \n",
    "from isswrapper.util.helpers import read_parquet_into_dataframe\n",
    "from bs4 import BeautifulSoup\n",
    "import httpx\n",
    "from isswrapper.loaders.securities import security_description\n",
    "from urllib.parse import urljoin\n",
    "from fuzzywuzzy import fuzz\n",
    "import bs4\n",
    "import re"
   ]
  },
  {
   "cell_type": "code",
   "execution_count": 2,
   "metadata": {},
   "outputs": [
    {
     "name": "stdout",
     "output_type": "stream",
     "text": [
      "(135031, 24)\n"
     ]
    },
    {
     "data": {
      "text/html": [
       "<div>\n",
       "<style scoped>\n",
       "    .dataframe tbody tr th:only-of-type {\n",
       "        vertical-align: middle;\n",
       "    }\n",
       "\n",
       "    .dataframe tbody tr th {\n",
       "        vertical-align: top;\n",
       "    }\n",
       "\n",
       "    .dataframe thead th {\n",
       "        text-align: right;\n",
       "    }\n",
       "</style>\n",
       "<table border=\"1\" class=\"dataframe\">\n",
       "  <thead>\n",
       "    <tr style=\"text-align: right;\">\n",
       "      <th></th>\n",
       "      <th>BOARDID</th>\n",
       "      <th>TRADEDATE</th>\n",
       "      <th>SHORTNAME</th>\n",
       "      <th>SECID</th>\n",
       "      <th>NUMTRADES</th>\n",
       "      <th>VALUE</th>\n",
       "      <th>OPEN</th>\n",
       "      <th>LOW</th>\n",
       "      <th>HIGH</th>\n",
       "      <th>LEGALCLOSEPRICE</th>\n",
       "      <th>...</th>\n",
       "      <th>MARKETPRICE3</th>\n",
       "      <th>ADMITTEDQUOTE</th>\n",
       "      <th>MP2VALTRD</th>\n",
       "      <th>MARKETPRICE3TRADESVALUE</th>\n",
       "      <th>ADMITTEDVALUE</th>\n",
       "      <th>WAVAL</th>\n",
       "      <th>TRADINGSESSION</th>\n",
       "      <th>CURRENCYID</th>\n",
       "      <th>TRENDCLSPR</th>\n",
       "      <th>currencyid</th>\n",
       "    </tr>\n",
       "  </thead>\n",
       "  <tbody>\n",
       "    <tr>\n",
       "      <th>1185</th>\n",
       "      <td>TQBR</td>\n",
       "      <td>2019-02-20</td>\n",
       "      <td>КамчатЭ ап</td>\n",
       "      <td>KCHEP</td>\n",
       "      <td>9.0</td>\n",
       "      <td>27790.0</td>\n",
       "      <td>0.304</td>\n",
       "      <td>0.3</td>\n",
       "      <td>0.326</td>\n",
       "      <td>0.308</td>\n",
       "      <td>...</td>\n",
       "      <td>0.303</td>\n",
       "      <td>0.308</td>\n",
       "      <td>0.0</td>\n",
       "      <td>563620.0</td>\n",
       "      <td>0.0</td>\n",
       "      <td>NaN</td>\n",
       "      <td>3</td>\n",
       "      <td>SUR</td>\n",
       "      <td>5.50</td>\n",
       "      <td>RUB</td>\n",
       "    </tr>\n",
       "    <tr>\n",
       "      <th>2162</th>\n",
       "      <td>TQBR</td>\n",
       "      <td>2023-01-04</td>\n",
       "      <td>ТНСэнМарЭл</td>\n",
       "      <td>MISB</td>\n",
       "      <td>85.0</td>\n",
       "      <td>380870.0</td>\n",
       "      <td>15.500</td>\n",
       "      <td>15.4</td>\n",
       "      <td>16.600</td>\n",
       "      <td>15.900</td>\n",
       "      <td>...</td>\n",
       "      <td>15.900</td>\n",
       "      <td>15.900</td>\n",
       "      <td>0.0</td>\n",
       "      <td>509650.0</td>\n",
       "      <td>0.0</td>\n",
       "      <td>0.0</td>\n",
       "      <td>3</td>\n",
       "      <td>SUR</td>\n",
       "      <td>1.92</td>\n",
       "      <td>RUB</td>\n",
       "    </tr>\n",
       "    <tr>\n",
       "      <th>1946</th>\n",
       "      <td>TQBR</td>\n",
       "      <td>2022-02-23</td>\n",
       "      <td>ТКЗКК ап</td>\n",
       "      <td>KRKOP</td>\n",
       "      <td>0.0</td>\n",
       "      <td>0.0</td>\n",
       "      <td>NaN</td>\n",
       "      <td>NaN</td>\n",
       "      <td>NaN</td>\n",
       "      <td>9.270</td>\n",
       "      <td>...</td>\n",
       "      <td>9.360</td>\n",
       "      <td>9.270</td>\n",
       "      <td>0.0</td>\n",
       "      <td>500746.0</td>\n",
       "      <td>0.0</td>\n",
       "      <td>0.0</td>\n",
       "      <td>3</td>\n",
       "      <td>SUR</td>\n",
       "      <td>NaN</td>\n",
       "      <td>RUB</td>\n",
       "    </tr>\n",
       "    <tr>\n",
       "      <th>960</th>\n",
       "      <td>TQBR</td>\n",
       "      <td>2018-04-04</td>\n",
       "      <td>КрасОкт-ао</td>\n",
       "      <td>KROT</td>\n",
       "      <td>79.0</td>\n",
       "      <td>624640.0</td>\n",
       "      <td>428.000</td>\n",
       "      <td>401.0</td>\n",
       "      <td>428.000</td>\n",
       "      <td>402.000</td>\n",
       "      <td>...</td>\n",
       "      <td>411.000</td>\n",
       "      <td>402.000</td>\n",
       "      <td>624640.0</td>\n",
       "      <td>624640.0</td>\n",
       "      <td>624640.0</td>\n",
       "      <td>NaN</td>\n",
       "      <td>3</td>\n",
       "      <td>SUR</td>\n",
       "      <td>-4.51</td>\n",
       "      <td>RUB</td>\n",
       "    </tr>\n",
       "    <tr>\n",
       "      <th>574</th>\n",
       "      <td>TQBR</td>\n",
       "      <td>2016-09-21</td>\n",
       "      <td>ВыбСудЗ ао</td>\n",
       "      <td>VSYD</td>\n",
       "      <td>4.0</td>\n",
       "      <td>19230.0</td>\n",
       "      <td>3210.000</td>\n",
       "      <td>3170.0</td>\n",
       "      <td>3220.000</td>\n",
       "      <td>3170.000</td>\n",
       "      <td>...</td>\n",
       "      <td>3300.000</td>\n",
       "      <td>3170.000</td>\n",
       "      <td>0.0</td>\n",
       "      <td>500860.0</td>\n",
       "      <td>0.0</td>\n",
       "      <td>NaN</td>\n",
       "      <td>3</td>\n",
       "      <td>SUR</td>\n",
       "      <td>-0.94</td>\n",
       "      <td>RUB</td>\n",
       "    </tr>\n",
       "  </tbody>\n",
       "</table>\n",
       "<p>5 rows × 24 columns</p>\n",
       "</div>"
      ],
      "text/plain": [
       "     BOARDID   TRADEDATE   SHORTNAME  SECID  NUMTRADES     VALUE      OPEN  \\\n",
       "1185    TQBR  2019-02-20  КамчатЭ ап  KCHEP        9.0   27790.0     0.304   \n",
       "2162    TQBR  2023-01-04  ТНСэнМарЭл   MISB       85.0  380870.0    15.500   \n",
       "1946    TQBR  2022-02-23    ТКЗКК ап  KRKOP        0.0       0.0       NaN   \n",
       "960     TQBR  2018-04-04  КрасОкт-ао   KROT       79.0  624640.0   428.000   \n",
       "574     TQBR  2016-09-21  ВыбСудЗ ао   VSYD        4.0   19230.0  3210.000   \n",
       "\n",
       "         LOW      HIGH  LEGALCLOSEPRICE  ...  MARKETPRICE3  ADMITTEDQUOTE  \\\n",
       "1185     0.3     0.326            0.308  ...         0.303          0.308   \n",
       "2162    15.4    16.600           15.900  ...        15.900         15.900   \n",
       "1946     NaN       NaN            9.270  ...         9.360          9.270   \n",
       "960    401.0   428.000          402.000  ...       411.000        402.000   \n",
       "574   3170.0  3220.000         3170.000  ...      3300.000       3170.000   \n",
       "\n",
       "      MP2VALTRD  MARKETPRICE3TRADESVALUE  ADMITTEDVALUE  WAVAL  \\\n",
       "1185        0.0                 563620.0            0.0    NaN   \n",
       "2162        0.0                 509650.0            0.0    0.0   \n",
       "1946        0.0                 500746.0            0.0    0.0   \n",
       "960    624640.0                 624640.0       624640.0    NaN   \n",
       "574         0.0                 500860.0            0.0    NaN   \n",
       "\n",
       "      TRADINGSESSION  CURRENCYID  TRENDCLSPR  currencyid  \n",
       "1185               3         SUR        5.50         RUB  \n",
       "2162               3         SUR        1.92         RUB  \n",
       "1946               3         SUR         NaN         RUB  \n",
       "960                3         SUR       -4.51         RUB  \n",
       "574                3         SUR       -0.94         RUB  \n",
       "\n",
       "[5 rows x 24 columns]"
      ]
     },
     "execution_count": 2,
     "metadata": {},
     "output_type": "execute_result"
    }
   ],
   "source": [
    "# loading data\n",
    "current_path = os.getcwd()\n",
    "project_path = os.path.dirname(current_path)\n",
    "datasets_folder_path = os.path.join(project_path, 'datasets')\n",
    "# news \n",
    "pnd_token_date_df = read_parquet_into_dataframe(os.path.join(datasets_folder_path, \"pnd_token_date.parquet\"))\n",
    "# all time series\n",
    "ts_df = read_parquet_into_dataframe(os.path.join(datasets_folder_path, \"time_series_securities_pnd.parquet\"))\n",
    "news_df = read_parquet_into_dataframe(os.path.join(datasets_folder_path, \"final_df.parquet\"))\n",
    "print(ts_df.shape)\n",
    "ts_df.sample(5)"
   ]
  },
  {
   "cell_type": "code",
   "execution_count": 6,
   "metadata": {},
   "outputs": [],
   "source": [
    "def get_sec_names(token: str)->tuple:\n",
    "    \"\"\"\n",
    "    Get short and full names of a security from MOEX security description page.\n",
    "\n",
    "    :param token: The token name.\n",
    "    :type token: str\n",
    "    :return: A tuple containing the short and full names of the security.\n",
    "    :rtype: tuple\n",
    "    \"\"\"\n",
    "    s_df = security_description(q=token)\n",
    "    s_df.set_index(\"name\", inplace=True)\n",
    "    return s_df.loc[\"SHORTNAME\", \"value\"], s_df.loc[\"NAME\",\"value\"]\n",
    "\n",
    "def get_smartlab_forum_urls(tokens:list[str], confidence_threshold:int = 90)->list:\n",
    "    \"\"\"\n",
    "    Get forum links from smartlab for given tokens if possible\n",
    "\n",
    "    :param tokens: list of token to find forum threads\n",
    "    :type tokens: list[str]\n",
    "    :param confidence_threshold: similarity threshold used in fuzzywuzzy partial_ratio method, defaults to 90\n",
    "    :type confidence_threshold: int, optional\n",
    "    :return: list of tuple filled with token and it full link.\n",
    "    :rtype: list\n",
    "    \"\"\"\n",
    "    # get names for further search\n",
    "    sec_names = [get_sec_names(token) for token in tokens]\n",
    "    # init client connection\n",
    "    base_url = \"https://smart-lab.ru/\"\n",
    "    with httpx.Client(base_url=base_url) as client:\n",
    "        # soup from sectors page, contains almost all companies\n",
    "        response = client.get(\"forum/sectors\")\n",
    "        soup = BeautifulSoup(response.text, \"html.parser\")\n",
    "        \n",
    "        result = []\n",
    "    \n",
    "        for token, (s_name, l_name) in zip(tokens, sec_names):\n",
    "            # extisting endpoints\n",
    "            response = client.get(f\"/forum/{token}\")\n",
    "            if response.status_code == 200:\n",
    "                result.append((token, f\"/forum/{token}\"))\n",
    "                continue\n",
    "            # slight difference in short names\n",
    "            tmp = soup.find(\"a\", string=lambda x: x and len(x)>3 and fuzz.partial_ratio(x.lower(), s_name.lower())>=confidence_threshold)\n",
    "            if tmp:\n",
    "                result.append((token, tmp.get(\"href\")))\n",
    "                continue\n",
    "            # difference in full names \n",
    "            tmp = soup.find(\"a\", string=lambda x: x and len(x)>5 and fuzz.partial_ratio(x.lower(), l_name.lower())>=confidence_threshold)\n",
    "            if tmp:\n",
    "                result.append((token,  tmp.get(\"href\")))\n",
    "                continue\n",
    "            result.append((token,None))\n",
    "    return result\n",
    "\n",
    "def generate_forum_thread_page_urls(relative_url: str) -> list[str]:\n",
    "    \"\"\"\n",
    "    Generate URLs for all pages of a certain forum thread.\n",
    "\n",
    "    :param relative_url: The relative URL of the forum thread, e.g., /forum/ALBK.\n",
    "    :type relative_url: str\n",
    "    :return: A list of URLs to parse.\n",
    "    :rtype: list[str]\n",
    "    \"\"\"\n",
    "    base_url = \"https://smart-lab.ru/\"\n",
    "    with httpx.Client(base_url=base_url) as client:\n",
    "        response = client.get(relative_url)\n",
    "    soup = BeautifulSoup(response.text, \"html.parser\")\n",
    "    last_page = int(soup.find(\"span\", class_=\"page active\").text)\n",
    "    pages = [urljoin(base_url, relative_url + f\"/page{i}\") for i in range(1, last_page + 1)]\n",
    "    return pages"
   ]
  },
  {
   "cell_type": "markdown",
   "metadata": {},
   "source": [
    "### smartlab stuff\n"
   ]
  },
  {
   "cell_type": "code",
   "execution_count": 6,
   "metadata": {},
   "outputs": [],
   "source": [
    "base_url = \"https://smart-lab.ru/\""
   ]
  },
  {
   "cell_type": "code",
   "execution_count": 5,
   "metadata": {},
   "outputs": [],
   "source": [
    "client = httpx.Client(base_url=base_url)"
   ]
  },
  {
   "cell_type": "code",
   "execution_count": null,
   "metadata": {},
   "outputs": [],
   "source": [
    "resp = client.get(\"forum/sectors\")\n",
    "soup = BeautifulSoup(resp.text, \"html.parser\")\n",
    "soup"
   ]
  },
  {
   "cell_type": "code",
   "execution_count": 7,
   "metadata": {},
   "outputs": [
    {
     "data": {
      "text/plain": [
       "array([ 0, 31, 13, 12, 18])"
      ]
     },
     "execution_count": 7,
     "metadata": {},
     "output_type": "execute_result"
    }
   ],
   "source": [
    "np.random.randint(0, 40, 5)"
   ]
  },
  {
   "cell_type": "code",
   "execution_count": 8,
   "metadata": {},
   "outputs": [
    {
     "data": {
      "text/plain": [
       "[('RLMNP', '/forum/RLMN'),\n",
       " ('BLNG', '/forum/BLNG'),\n",
       " ('PAZA', '/forum/PAZA'),\n",
       " ('ABRD', '/forum/ABRD'),\n",
       " ('VGSBP', '/forum/VGSB')]"
      ]
     },
     "execution_count": 8,
     "metadata": {},
     "output_type": "execute_result"
    }
   ],
   "source": [
    "tokens = pnd_token_date_df[\"token\"].unique().tolist()\n",
    "result = get_smartlab_forum_urls([tokens[i] for i in np.random.randint(0, len(tokens), 5)])\n",
    "result"
   ]
  },
  {
   "cell_type": "markdown",
   "metadata": {},
   "source": [
    "next step is to get last page number and generate url for all pages. Pages on smartlab works as /forum/{security name}/page{numpage}\n",
    "but first step is to extract number of last page. On default if you go to specified forum page you ll be on the lastmost page. So we need to go through all links and take page numbers, then create for every thread list filled with pages"
   ]
  },
  {
   "cell_type": "code",
   "execution_count": 10,
   "metadata": {},
   "outputs": [],
   "source": [
    "client = httpx.Client(base_url=base_url)"
   ]
  },
  {
   "cell_type": "code",
   "execution_count": 17,
   "metadata": {},
   "outputs": [
    {
     "data": {
      "text/html": [
       "<div>\n",
       "<style scoped>\n",
       "    .dataframe tbody tr th:only-of-type {\n",
       "        vertical-align: middle;\n",
       "    }\n",
       "\n",
       "    .dataframe tbody tr th {\n",
       "        vertical-align: top;\n",
       "    }\n",
       "\n",
       "    .dataframe thead th {\n",
       "        text-align: right;\n",
       "    }\n",
       "</style>\n",
       "<table border=\"1\" class=\"dataframe\">\n",
       "  <thead>\n",
       "    <tr style=\"text-align: right;\">\n",
       "      <th></th>\n",
       "      <th>token</th>\n",
       "      <th>url</th>\n",
       "    </tr>\n",
       "  </thead>\n",
       "  <tbody>\n",
       "    <tr>\n",
       "      <th>18</th>\n",
       "      <td>ABRD</td>\n",
       "      <td>https://smart-lab.ru/forum/ABRD/page19</td>\n",
       "    </tr>\n",
       "    <tr>\n",
       "      <th>0</th>\n",
       "      <td>VGSBP</td>\n",
       "      <td>https://smart-lab.ru/forum/VGSB/page1</td>\n",
       "    </tr>\n",
       "    <tr>\n",
       "      <th>0</th>\n",
       "      <td>RLMNP</td>\n",
       "      <td>https://smart-lab.ru/forum/RLMN/page1</td>\n",
       "    </tr>\n",
       "    <tr>\n",
       "      <th>24</th>\n",
       "      <td>ABRD</td>\n",
       "      <td>https://smart-lab.ru/forum/ABRD/page25</td>\n",
       "    </tr>\n",
       "    <tr>\n",
       "      <th>3</th>\n",
       "      <td>RLMNP</td>\n",
       "      <td>https://smart-lab.ru/forum/RLMN/page4</td>\n",
       "    </tr>\n",
       "  </tbody>\n",
       "</table>\n",
       "</div>"
      ],
      "text/plain": [
       "    token                                     url\n",
       "18   ABRD  https://smart-lab.ru/forum/ABRD/page19\n",
       "0   VGSBP   https://smart-lab.ru/forum/VGSB/page1\n",
       "0   RLMNP   https://smart-lab.ru/forum/RLMN/page1\n",
       "24   ABRD  https://smart-lab.ru/forum/ABRD/page25\n",
       "3   RLMNP   https://smart-lab.ru/forum/RLMN/page4"
      ]
     },
     "execution_count": 17,
     "metadata": {},
     "output_type": "execute_result"
    }
   ],
   "source": [
    "pre_f_df = []\n",
    "for token, url in result:\n",
    "    page_list = generate_forum_thread_page_urls(url)\n",
    "    url_df = pd.DataFrame({\"token\":[token]*len(page_list), \"url\":page_list})\n",
    "    pre_f_df.append(url_df)\n",
    "f_df = pd.concat(pre_f_df)\n",
    "f_df.sample(5)"
   ]
  },
  {
   "cell_type": "code",
   "execution_count": 21,
   "metadata": {},
   "outputs": [],
   "source": [
    "client = httpx.Client()\n",
    "resp = client.get(\"https://smart-lab.ru/forum/ABRD/page19\")\n"
   ]
  },
  {
   "cell_type": "code",
   "execution_count": 23,
   "metadata": {},
   "outputs": [
    {
     "data": {
      "text/plain": [
       "'https://smart-lab.ru/forum/ABRD/page19'"
      ]
     },
     "execution_count": 23,
     "metadata": {},
     "output_type": "execute_result"
    }
   ],
   "source": [
    "str(resp.url)"
   ]
  },
  {
   "cell_type": "code",
   "execution_count": 19,
   "metadata": {},
   "outputs": [
    {
     "data": {
      "text/plain": [
       "0    https://smart-lab.ru/forum/RLMN/page1\n",
       "1    https://smart-lab.ru/forum/RLMN/page2\n",
       "2    https://smart-lab.ru/forum/RLMN/page3\n",
       "3    https://smart-lab.ru/forum/RLMN/page4\n",
       "4    https://smart-lab.ru/forum/RLMN/page5\n",
       "                     ...                  \n",
       "3    https://smart-lab.ru/forum/VGSB/page4\n",
       "4    https://smart-lab.ru/forum/VGSB/page5\n",
       "5    https://smart-lab.ru/forum/VGSB/page6\n",
       "6    https://smart-lab.ru/forum/VGSB/page7\n",
       "7    https://smart-lab.ru/forum/VGSB/page8\n",
       "Name: url, Length: 67, dtype: object"
      ]
     },
     "execution_count": 19,
     "metadata": {},
     "output_type": "execute_result"
    }
   ],
   "source": [
    "f_df[\"url\"]"
   ]
  },
  {
   "cell_type": "code",
   "execution_count": null,
   "metadata": {},
   "outputs": [],
   "source": [
    "soup = BeautifulSoup(resp.text,\"html.parser\")\n",
    "soup"
   ]
  },
  {
   "cell_type": "code",
   "execution_count": 110,
   "metadata": {},
   "outputs": [
    {
     "data": {
      "text/plain": [
       "['https://smart-lab.ru/forum/BELU/page1',\n",
       " 'https://smart-lab.ru/forum/BELU/page2',\n",
       " 'https://smart-lab.ru/forum/BELU/page3',\n",
       " 'https://smart-lab.ru/forum/BELU/page4',\n",
       " 'https://smart-lab.ru/forum/BELU/page5']"
      ]
     },
     "execution_count": 110,
     "metadata": {},
     "output_type": "execute_result"
    }
   ],
   "source": [
    "last_page = int(soup.find(\"span\", class_=\"page active\").text)\n",
    "pages = [urljoin(base_url, example+f\"/page{i}\") for i in range(1, last_page+1)]\n",
    "pages[:5]"
   ]
  },
  {
   "cell_type": "code",
   "execution_count": 109,
   "metadata": {},
   "outputs": [
    {
     "data": {
      "text/plain": [
       "200"
      ]
     },
     "execution_count": 109,
     "metadata": {},
     "output_type": "execute_result"
    }
   ],
   "source": [
    "resp2 = client.get(pages[0])\n",
    "resp2.status_code"
   ]
  },
  {
   "cell_type": "code",
   "execution_count": 114,
   "metadata": {},
   "outputs": [],
   "source": []
  },
  {
   "cell_type": "code",
   "execution_count": 113,
   "metadata": {},
   "outputs": [
    {
     "data": {
      "text/plain": [
       "'/forum/VRSB'"
      ]
     },
     "execution_count": 113,
     "metadata": {},
     "output_type": "execute_result"
    }
   ],
   "source": [
    "result[-5][1]"
   ]
  },
  {
   "cell_type": "code",
   "execution_count": 116,
   "metadata": {},
   "outputs": [],
   "source": [
    "to_parse = generate_forum_thread_page_urls(result[-15][1])"
   ]
  },
  {
   "cell_type": "code",
   "execution_count": 128,
   "metadata": {},
   "outputs": [
    {
     "data": {
      "text/plain": [
       "'https://smart-lab.ru/forum/TGKB/page6'"
      ]
     },
     "execution_count": 128,
     "metadata": {},
     "output_type": "execute_result"
    }
   ],
   "source": [
    "url = to_parse[5]\n",
    "\n",
    "url"
   ]
  },
  {
   "cell_type": "code",
   "execution_count": 122,
   "metadata": {},
   "outputs": [],
   "source": [
    "client = httpx.Client()"
   ]
  },
  {
   "cell_type": "code",
   "execution_count": 123,
   "metadata": {},
   "outputs": [],
   "source": [
    "response=client.get(url)\n",
    "response.status_code"
   ]
  },
  {
   "cell_type": "code",
   "execution_count": 125,
   "metadata": {},
   "outputs": [],
   "source": [
    "soup = BeautifulSoup(response.text, \"html.parser\")"
   ]
  },
  {
   "cell_type": "code",
   "execution_count": 126,
   "metadata": {},
   "outputs": [
    {
     "data": {
      "text/plain": [
       "<!DOCTYPE html>\n",
       "\n",
       "<html lang=\"ru\">\n",
       "<head>\n",
       "<title>Форум акции ТГК-2 (TGKB, TGKBP), страница 6</title>\n",
       "<meta content=\"text/html; charset=utf-8\" http-equiv=\"content-type\"/>\n",
       "<meta content=\"width=device-width, initial-scale=1\" name=\"viewport\"/>\n",
       "<meta content=\"Обсуждение и комментарии инвесторов по акциям ТГК-2. Прогноз курса акций ТГК-2 страница 6\" name=\"DESCRIPTION\"> <meta content=\"ТГК-2, обсуждение компании, информация о компании, новости компании.\" name=\"KEYWORDS\"/> <meta content=\"69df339e9279f161\" name=\"yandex-verification\"/>\n",
       "<meta content=\"17fde70f-5d0a-4de9-809e-a9f5334ce8dd\" name=\"PartnerFinam\"/>\n",
       "<link href=\"https://mc.yandex.ru\" rel=\"preconnect\"/>\n",
       "<link href=\"//counter.yadro.ru\" rel=\"preconnect\"/>\n",
       "<link href=\"https://www.googletagmanager.com\" rel=\"preconnect\"/>\n",
       "<link href=\"https://yastatic.net\" rel=\"dns-prefetch\"/>\n",
       "<link href=\"https://content.mql5.com\" rel=\"dns-prefetch\"/>\n",
       "<meta content=\"no\" name=\"push-subscribes\"/>\n",
       "<meta content=\"353607944842117\" property=\"fb:app_id\"><meta content=\"website\" property=\"og:type\"><meta content=\"Форум акции ТГК-2 (TGKB, TGKBP), страница 6\" property=\"og:title\"/><meta content=\"https://smart-lab.ru/forum/TGKB\" property=\"og:url\"/><meta content=\"Обсуждение, комментарии, фундаментальный разбор по акциям ТГК-2. Прогноз курса акций ТГК-2\" property=\"og:description\"/><meta content=\"smart-lab.ru - Мы делаем деньги на бирже\" property=\"og:site_name\"/><meta content=\"ru_RU\" property=\"og:locale\"/><meta content=\"https://smart-lab.ru/uploads/articles/00/19/47/thumbnail.webp\" property=\"og:image\"/><meta content=\"image/webp\" property=\"og:image:type\"/><meta content=\"https://smart-lab.ru/uploads/articles/00/19/47/thumbnail.webp\" name=\"twitter:image\"/>\n",
       "<!-- Global Site Tag (gtag.js) - Google Analytics -->\n",
       "<script async=\"\" src=\"https://www.googletagmanager.com/gtag/js?id=UA-16537214-3\"></script>\n",
       "<script>\n",
       "\t\twindow.dataLayer = window.dataLayer || [];\n",
       "\t\tfunction gtag(){dataLayer.push(arguments);}\n",
       "\t\tgtag('js', new Date());\n",
       "\t\tgtag('config', 'UA-16537214-3', {\n",
       "\t\t\t\t'custom_map': {\n",
       "\t\t\t\t\t'dimension1' : 'user_registred',\n",
       "\t\t\t\t\t'dimension2' : 'content_owner'\n",
       "\n",
       "\t\t\t\t},\n",
       "\n",
       "\t\t\t\t'user_registred': 'No',\n",
       "\t\t\t\t'content_owner': 'No'\t\t});\n",
       "\t\t</script>\n",
       "<link href=\"/manifest.json\" rel=\"manifest\"/>\n",
       "<link href=\"https://smart-lab.ru/forum/TGKB\" rel=\"canonical\"/>\n",
       "<link href=\"/forum/TGKB/page5/\" rel=\"prev\"/> <link href=\"/forum/TGKB/page7/\" rel=\"next\"/>\n",
       "<link href=\"/forum/TGKB/rss/\" rel=\"alternate\" title=\"ТГК-2 - последние комментарии о компании\" type=\"application/rss+xml\"/>\n",
       "<link href=\"/templates/cache/smart-lab-new/0b84ec1574a7a88f70ad5d055c7db28c.css?4398\" rel=\"stylesheet\" type=\"text/css\">\n",
       "<!--[if lt IE 8]><link rel='stylesheet' type='text/css' href='/plugins/trade/templates/skin/default/css/hook.console.ltie8.css?4398' /><![endif]-->\n",
       "<link href=\"/templates/skin/smart-lab-new/images/favicon.ico\" rel=\"shortcut icon\"/>\n",
       "<script type=\"text/javascript\">\n",
       "\n",
       "\t\t\tvar DIR_WEB_ROOT = 'https://smart-lab.ru';\n",
       "\t\t\tvar DIR_STATIC_SKIN = '/templates/skin/smart-lab-new';\n",
       "\t\t\tvar TINYMCE_LANG = 'ru';\n",
       "\t\t\tvar LIVESTREET_SECURITY_KEY = 'fd8ad318e9844750ee0c6c9566c0f6ff';\n",
       "\n",
       "\t\t\t\n",
       "\t\t</script>\n",
       "<!--Скрипт ADFOX-->\n",
       "<script defer=\"\" src=\"https://yandex.ru/ads/system/header-bidding.js\"></script>\n",
       "<script>window.yaContextCb = window.yaContextCb || []</script>\n",
       "<script src=\"/templates/skin/smart-lab-new/js/adfox_hbc.js?4398\"></script>\n",
       "<script async=\"\" src=\"https://yandex.ru/ads/system/context.js\"></script>\n",
       "<script async=\"\" src=\"https://content.adriver.ru/AdRiverFPS.js\"></script>\n",
       "<script type=\"text/javascript\">\n",
       "\t(function(a,e,f,g,b,c,d){a[b]||(a.FintezaCoreObject=b,a[b]=a[b]||function(){(a[b].q=a[b].q||[]).push(arguments)},a[b].l=1*new Date,c=e.createElement(f),d=e.getElementsByTagName(f)[0],c.async=!0,c.defer=!0,c.src=g,d&&d.parentNode&&d.parentNode.insertBefore(c,d))})\n",
       "\t(window,document,\"script\",\"https://content.mql5.com/core.js\",\"fz\");\n",
       "\tfz(\"register\",\"website\",\"ddhmfkdhagrouzesxgjyvzdhtcwwubymll\");\n",
       "\t</script>\n",
       "</link></meta></meta></meta></head>\n",
       "<body class=\"stock_forum\">\n",
       "<!-- user_warning_block -->\n",
       "<div class=\"right_scroller\">\n",
       "<div class=\"scroll_up\">\n",
       "<a aria-label=\"Проскрулить вверх сайта\" href=\"#top\" rel=\"nofollow\"></a>\n",
       "</div>\n",
       "<div class=\"scroll_down\">\n",
       "<a aria-label=\"Проскрулить вниз сайта\" href=\"#bottom\" rel=\"nofollow\"></a>\n",
       "</div>\n",
       "</div>\n",
       "<div class=\"forum_content\">\n",
       "<div class=\"navibar\">\n",
       "<ul class=\"navitext\">\n",
       "<li><a href=\"/\">смартлаб</a></li>\n",
       "<li>&gt;</li>\n",
       "<li><a href=\"/forums/\">форумы</a></li>\n",
       "<li>&gt;</li>\n",
       "<li class=\"drop-menu-main navigation\">\n",
       "<span class=\"drop-down\">\n",
       "<a href=\"/forum/\">форум акций</a>\n",
       "<span class=\"upbar_arrow\"></span>\n",
       "</span>\n",
       "<div class=\"drop-menu-main-sub\">\n",
       "<a href=\"/bonds/\">облигации</a>\n",
       "<a href=\"/trading/\">общий форум</a>\n",
       "<a href=\"/forex/\">forex</a>\n",
       "<a href=\"/crypto/\">крипта</a>\n",
       "<a href=\"/algotrading/\">алготрейдинг</a>\n",
       "<a href=\"/options/\">опционы</a>\n",
       "<a href=\"/trading-software/\">трейдинг софт</a>\n",
       "<a href=\"/banki/\">банки</a>\n",
       "<a href=\"/finansoviy-slovar/\">финансовый словарь</a>\n",
       "<a href=\"/brokers-rating/\">брокеры</a>\n",
       "</div>\n",
       "</li>\n",
       "<li>|</li>\n",
       "<li><a href=\"/q/shares/\">котировки акций</a></li>\n",
       "<li>&gt;</li>\n",
       "<li><a href=\"/forum/TGKB\">ТГК-2</a></li>\n",
       "</ul>\n",
       "</div>\n",
       "<div class=\"banner\">\n",
       "<div class=\"post-page__banner-img\" id=\"topic-top-banner\"></div>\n",
       "<script type=\"text/javascript\">\n",
       "\t\t\t\t\tmakeBanner(document.getElementById('topic-top-banner'));\n",
       "\t\t\t\t</script>\n",
       "</div>\n",
       "<div class=\"forum_top_panel\">\n",
       "<div class=\"graph_button guest-close-button hidden\" title=\"скрыть/показать график, календарь и фундаментал\"></div>\n",
       "<div class=\"chart_wrapper\">\n",
       "<div class=\"chart_wrapper1\" id=\"trading_view_container\" ticker=\"MOEX.TGKB\"></div>\n",
       "<div class=\"chart_wrapper2\">\n",
       "<div class=\"chart_wrapper\">\n",
       "<table class=\"fundam_table\">\n",
       "<tr>\n",
       "<td><a href=\"/q/TGKB/f/y/MSFO/number_of_shares/\">Число акций ао</a></td>\n",
       "<td>1 458 405 млн</td>\n",
       "</tr>\n",
       "<tr>\n",
       "<td><a href=\"/q/TGKB/f/y/MSFO/number_of_priv_shares/\">Число акций ап</a></td>\n",
       "<td>16 501 млн</td>\n",
       "</tr>\n",
       "<tr>\n",
       "<td>Номинал ао</td>\n",
       "<td>0.01 руб</td>\n",
       "</tr>\n",
       "<tr>\n",
       "<td>Номинал ап</td>\n",
       "<td>0.01 руб</td>\n",
       "</tr>\n",
       "<tr>\n",
       "<td>Тикер ао</td>\n",
       "<td>\n",
       "<ul>\n",
       "<li title=\"MOEX.TGKB\">TGKB</li> </ul>\n",
       "</td>\n",
       "</tr>\n",
       "<tr>\n",
       "<td>Тикер ап</td>\n",
       "<td>\n",
       "<ul>\n",
       "<li title=\"MOEX.TGKBP\">TGKBP</li> </ul>\n",
       "</td>\n",
       "</tr>\n",
       "</table>\n",
       "<table class=\"fundam_table\">\n",
       "<tr>\n",
       "<td><a href=\"/q/shares_fundamental2/?field=market_cap§or_id%5B%5D=4\">Капит-я</a></td>\n",
       "<td>16,6 млрд</td>\n",
       "</tr>\n",
       "<tr>\n",
       "<td><a href=\"/q/shares_fundamental2/?field=revenue§or_id%5B%5D=4\">Выручка</a></td>\n",
       "<td>48,3 млрд</td>\n",
       "</tr>\n",
       "<tr>\n",
       "<td><a href=\"/q/shares_fundamental2/?field=ebitda§or_id%5B%5D=4\">EBITDA</a></td>\n",
       "<td>6,1 млрд</td>\n",
       "</tr>\n",
       "<tr>\n",
       "<td><a href=\"/q/shares_fundamental2/?field=net_income§or_id%5B%5D=4\">Прибыль</a></td>\n",
       "<td>-1,0 млрд</td>\n",
       "</tr>\n",
       "<tr>\n",
       "<td><a href=\"/q/TGKB/dividend/\">Дивиденд ао</a></td>\n",
       "<td>–</td>\n",
       "</tr>\n",
       "<tr>\n",
       "<td><a href=\"/q/TGKB/dividend/\">Дивиденд ап</a></td>\n",
       "<td>–</td>\n",
       "</tr>\n",
       "</table>\n",
       "<table class=\"fundam_table\">\n",
       "<tr>\n",
       "<td><a href=\"/q/shares_fundamental2/?field=p_e§or_id%5B%5D=4\">P/E</a></td>\n",
       "<td>-15,9</td>\n",
       "</tr>\n",
       "<tr>\n",
       "<td><a href=\"/q/shares_fundamental2/?field=p_s§or_id%5B%5D=4\">P/S</a></td>\n",
       "<td>0,3</td>\n",
       "</tr>\n",
       "<tr>\n",
       "<td><a href=\"/q/shares_fundamental2/?field=p_bv§or_id%5B%5D=4\">P/BV</a></td>\n",
       "<td>0,4</td>\n",
       "</tr>\n",
       "<tr>\n",
       "<td><a href=\"/q/shares_fundamental2/?field=ev_ebitda§or_id%5B%5D=4\">EV/EBITDA</a></td>\n",
       "<td>4,4</td>\n",
       "</tr>\n",
       "<tr>\n",
       "<td><a href=\"/q/TGKB/dividend/\">Див.доход ао</a></td>\n",
       "<td>0,0%</td>\n",
       "</tr>\n",
       "<tr>\n",
       "<td><a href=\"/q/TGKB/dividend/\">Див.доход ап</a></td>\n",
       "<td>0,0%</td>\n",
       "</tr>\n",
       "</table>\n",
       "<span style=\"font-size: 12px; margin: 16px; color:gray\">* Все показатели рассчитываются по данным за последние 12 месяцев (LTM)</span>\n",
       "<table class=\"fundam_table calendar\" style=\"width: 100%\">\n",
       "<tr><td class=\"head\" colspan=\"2\">ТГК-2 Календарь Акционеров</td></tr>\n",
       "<tr>\n",
       "<td class=\"fter\">\n",
       "<a href=\"/forum/TGKB/last_events/\">Прошедшие события</a> <a href=\"/calendar/add/?type_1=company_reports&amp;stock_1=%D0%A2%D0%93%D0%9A-2\" rel=\"nofollow\">Добавить событие</a>\n",
       "</td>\n",
       "</tr>\n",
       "</table>\n",
       "</div>\n",
       "</div>\n",
       "</div>\n",
       "<div class=\"nocenter page-title\"><div class=\"page-title__text\"><img alt=\"Россия\" src=\"/uploads/article_flags/0.png?4398\"/><h1>ТГК-2 акции</h1></div><div class=\"temp_micex_info\"><span class=\"temp_micex_info_item\">ао: <i>0.011185₽</i><span id=\"up\">  <i>+0.31%</i></span></span><span class=\"temp_micex_info_item\">ап: <i>0.01486₽</i><span id=\"up\">  <i>+0.68%</i></span></span></div></div>\n",
       "</div>\n",
       "<div class=\"forum-top-buttons\">\n",
       "<div class=\"drop-menu-main full_width\">\n",
       "<div class=\"drop-down\">\n",
       "<a id=\"buy\" title=\"Купить акции ТГК-2\">Купить акции ТГК-2</a>\n",
       "</div>\n",
       "<div class=\"drop-menu-main-sub dropdown_with__logos\">\n",
       "<a href=\"https://www.finam.ru/services/promo00096/?AgencyBAckofficeID=1&amp;agent=17FDE70F-5D0A-4DE9-809E-A9F5334CE8DD\" onclick=\"window.fz('track', 'Forum BuyButton Finam Click')\" rel=\"nofollow\" target=\"_blank\"><i class=\"broker__img\">Купить в <i class=\"broker__logo\"><img alt=\"Финам\" src=\"/templates/skin/smart-lab-new/images/brokers/finam.png?4398\"/></i><b>Финаме</b></i></a>\n",
       "<a href=\"http://bcs.ru/?refid=7695\" onclick=\"window.fz('track', 'Forum BuyButton BCS')\" rel=\"nofollow\" target=\"_blank\"><i class=\"broker__img\">Купить в <i class=\"broker__logo\"><img alt=\"БКС Мир Инвестиций\" src=\"/templates/skin/smart-lab-new/images/brokers/bcs2.webp?4398\"/></i><b>БКС Мир Инвестиций</b></i></a>\n",
       "</div>\n",
       "</div>\n",
       "<a class=\"reversed\" href=\"/login/\" id=\"comments-reverse\" rel=\"nofollow\" title=\"Сменить ориентацию комментариев форума\"></a>\n",
       "</div>\n",
       "<div class=\"nocenter\">\n",
       "<div class=\"content_plus_ad\">\n",
       "<div class=\"content_wrapper\" double-pagination=\"\">\n",
       "<a id=\"top\"></a>\n",
       "<div class=\"pagination1\" id=\"pagination\"><span class=\"page gradient clock\" title=\"Выбрать дату\"><svg height=\"24\" viewbox=\"0 0 24 24\" width=\"24\" xmlns=\"http://www.w3.org/2000/svg\"><path d=\"M0 0h24v24H0V0z\" fill=\"none\"></path><path d=\"M11.99 2C6.47 2 2 6.48 2 12s4.47 10 9.99 10C17.52 22 22 17.52 22 12S17.52 2 11.99 2zM12 20c-4.42 0-8-3.58-8-8s3.58-8 8-8 8 3.58 8 8-3.58 8-8 8zm.5-13H11v6l5.25 3.15.75-1.23-4.5-2.67z\"></path></svg></span><a class=\"page gradient last\" href=\"/forum/TGKB/page1/\">←</a><a class=\"page gradient\" href=\"/forum/TGKB/page3/\">3</a><a class=\"page gradient\" href=\"/forum/TGKB/page4/\">4</a><a class=\"page gradient\" href=\"/forum/TGKB/page5/\">5</a><span class=\"page active\">6</span><a class=\"page gradient\" href=\"/forum/TGKB/page7/\">7</a><a class=\"page gradient\" href=\"/forum/TGKB/page8/\">8</a><a class=\"page gradient\" href=\"/forum/TGKB/page9/\">9</a><a class=\"page gradient last\" href=\"/forum/TGKB/page21/\">→</a></div>\n",
       "<ol class=\"forum_cmts\" data-target-id=\"1947\" data-target-type=\"forum\" mode=\"reverse\">\n",
       "<li class=\"cm_wrap\" id=\"commentBox\">\n",
       "<img class=\"avtr_box\" src=\"/templates/skin/smart-lab-new/images/avatar_48x48.jpg?4398\"/>\n",
       "<div class=\"cmt_body\">\n",
       "<div class=\"write_comment\">\n",
       "<textarea class=\"write_comment_box autoExpand\" placeholder=\"Что думаете про ТГК-2?\" rows=\"1\"></textarea>\n",
       "<div class=\"write_comment_images\">\n",
       "</div>\n",
       "<div class=\"cmt_actions\">\n",
       "<div class=\"cmt_select-image\" data-placement=\"top\" data-toggle=\"tooltip\" title=\"добавить изображение\">\n",
       "<input class=\"file\" id=\"write_comment_image\" multiple=\"true\" type=\"file\"/>\n",
       "<label for=\"write_comment_image\">\n",
       "<i class=\"ico ico-photo\"></i>\n",
       "</label>\n",
       "</div>\n",
       "<div class=\"cmt_select-separator\"></div>\n",
       "<div class=\"cmt_select-smile\" data-placement=\"top\" data-toggle=\"tooltip\" title=\"добавить смайлик\">\n",
       "<i class=\"ico ico-smile\"></i>\n",
       "</div>\n",
       "<div class=\"cmt_select-separator\"></div>\n",
       "<div class=\"cmt_select-quote\" data-placement=\"top\" data-toggle=\"tooltip\" title=\"вставить код цитаты\">\n",
       "<i class=\"ico ico-quote\"></i>\n",
       "</div>\n",
       "<input class=\"hl submit\" data-type=\"reply\" type=\"button\" value=\"Ответить\"/>\n",
       "</div>\n",
       "</div>\n",
       "</div>\n",
       "</li>\n",
       "<li class=\"cm_wrap bluid_31628\" data-id=\"10645580\" data-type=\"comment\"><a name=\"comment10645580\"></a><a aria-label=\"Профиль Victor Glukhov\" href=\"/profile/Rbaker/\" rel=\"nofollow\"><img alt=\"Аватар Victor Glukhov\" class=\"avtr_box\" loading=\"lazy\" src=\"/uploads/2021/images/03/16/28/2021/10/11/avatar_100x100.webp?4398\"/></a><div class=\"cmt_body\"><div><span><a class=\"a_name trader_other\" href=\"/profile/Rbaker/\" rel=\"nofollow\">Victor Glukhov</a></span><a class=\"a_time\" href=\"/forum/TGKB/goto_comment_10645580/#comment10645580\" rel=\"nofollow\" target=\"_blank\"><time datetime=\"2020-02-13T11:21:11+03:00\">13 февраля 2020, 11:21</time></a></div><div class=\"text\">С июля 2018-ого, до февраля 2020-ого цена почти не менялась.<br/>\n",
       "Если смотреть на графике (месяц) — всё это выглядит как прямая нитка. Вот и долгожданное сильное движение цены.<br/>\n",
       "Такая же история была перед ростов в 2017-ом.</div><div class=\"cm_ftr\"><a class=\"reply\" href=\"/login/\" rel=\"nofollow\">Ответить</a><a class=\"cm_ico th up\" href=\"/login/\" rel=\"nofollow\"></a><a class=\"cm_ico th dn\" href=\"/login/\" rel=\"nofollow\"></a><a class=\"cm_mrk\" href=\"/login/\" rel=\"nofollow\"> 0</a></div></div></li>\n",
       "<li class=\"cm_wrap bluid_54907\" data-id=\"10645502\" data-type=\"comment\"><a name=\"comment10645502\"></a><a aria-label=\"Профиль РоманП.\" href=\"/profile/RomanP75/\" rel=\"nofollow\"><img alt=\"Аватар РоманП.\" class=\"avtr_box\" loading=\"lazy\" src=\"/uploads/2023/images/05/49/07/2023/08/02/avatar_8a207e_100x100.webp?4398\"/></a><div class=\"cmt_body\"><div><span><a class=\"a_name trader_other\" href=\"/profile/RomanP75/\" rel=\"nofollow\">РоманП.</a></span><a class=\"a_time\" href=\"/forum/TGKB/goto_comment_10645502/#comment10645502\" rel=\"nofollow\" target=\"_blank\"><time datetime=\"2020-02-13T11:08:54+03:00\">13 февраля 2020, 11:08</time></a></div><div class=\"text\">Посмотрел вроде внешне ничего компания.<br/>\n",
       "Но Нераспределенная прибыль (непокрытый убыток) -13130400, И долгов больше 15 млрд.<br/>\n",
       "Шлак полный…</div><div class=\"cm_ftr\"><a class=\"reply\" href=\"/login/\" rel=\"nofollow\">Ответить</a><a class=\"cm_ico th up\" href=\"/login/\" rel=\"nofollow\"></a><a class=\"cm_ico th dn\" href=\"/login/\" rel=\"nofollow\"></a><a class=\"cm_mrk\" href=\"/login/\" rel=\"nofollow\"> 0</a></div></div></li>\n",
       "<li class=\"cm_wrap bluid_77387\" data-id=\"10644126\" data-pid=\"10644119\" data-type=\"comment\"><a name=\"comment10644126\"></a><a aria-label=\"Профиль Rodan1\" href=\"/profile/Rodan1/\" rel=\"nofollow\"><img alt=\"Аватар Rodan1\" class=\"avtr_box\" loading=\"lazy\" src=\"/templates/skin/smart-lab-new/images/avatar_100x100.jpg?4398\"/></a><div class=\"cmt_body\"><div><span><a class=\"a_name trader_other\" href=\"/profile/Rodan1/\" rel=\"nofollow\">Rodan1</a></span><a class=\"a_time\" href=\"/forum/TGKB/goto_comment_10644126/#comment10644126\" rel=\"nofollow\" target=\"_blank\"><time datetime=\"2020-02-12T21:18:24+03:00\">12 февраля 2020, 21:18</time></a></div><div class=\"text\"><blockquote class=\"reply\"><blockquote class=\"reply\"><blockquote class=\"reply\"><blockquote class=\"reply\"><blockquote class=\"reply\">На данный момент всё хорошо.<br/>\n",
       "<a class=\"imgpreview\" href=\"/uploads/images/00/24/14/2020/02/12/67fb04.jpg\"><img src=\"/uploads/images/00/24/14/2020/02/12/4dd198.jpg\"/></a></blockquote><br/>\n",
       "SChichkin, а что это?</blockquote><br/>\n",
       "Rodan1, Привет.<br/>\n",
       "Я пока в хорошем плюсе.</blockquote><br/>\n",
       "SChichkin, Круто! ПОздравляю!</blockquote><br/>\n",
       "Rodan1, Думаю, что до 0,0052 дотянут… дальше не факт…</blockquote><br/>\n",
       "SChichkin, сомневаюсь, неизвестно почему выстрелила, так же может резко вниз</div><div class=\"cm_ftr\"><a class=\"reply\" href=\"/login/\" rel=\"nofollow\">Ответить</a><a class=\"cm_ico th up\" href=\"/login/\" rel=\"nofollow\"></a><a class=\"cm_ico th dn\" href=\"/login/\" rel=\"nofollow\"></a><a class=\"cm_mrk\" href=\"/login/\" rel=\"nofollow\"> 0</a></div></div></li>\n",
       "<li class=\"cm_wrap bluid_2414\" data-id=\"10644119\" data-pid=\"10644116\" data-type=\"comment\"><a name=\"comment10644119\"></a><a aria-label=\"Профиль Сергей Чичкин\" href=\"/profile/WOOFER/\" rel=\"nofollow\"><img alt=\"Аватар Сергей Чичкин\" class=\"avtr_box\" loading=\"lazy\" src=\"/uploads/images/00/24/14/2021/01/31/avatar_100x100.webp?4398\"/></a><div class=\"cmt_body\"><div><span><a class=\"a_name trader_other\" href=\"/profile/WOOFER/\" rel=\"nofollow\">Сергей Чичкин</a></span><a class=\"a_time\" href=\"/forum/TGKB/goto_comment_10644119/#comment10644119\" rel=\"nofollow\" target=\"_blank\"><time datetime=\"2020-02-12T21:17:06+03:00\">12 февраля 2020, 21:17</time></a></div><div class=\"text\"><blockquote class=\"reply\"><blockquote class=\"reply\"><blockquote class=\"reply\"><blockquote class=\"reply\">На данный момент всё хорошо.<br/>\n",
       "<a class=\"imgpreview\" href=\"/uploads/images/00/24/14/2020/02/12/67fb04.jpg\"><img src=\"/uploads/images/00/24/14/2020/02/12/4dd198.jpg\"/></a></blockquote><br/>\n",
       "SChichkin, а что это?</blockquote><br/>\n",
       "Rodan1, Привет.<br/>\n",
       "Я пока в хорошем плюсе.</blockquote><br/>\n",
       "SChichkin, Круто! ПОздравляю!</blockquote><br/>\n",
       "Rodan1, Думаю, что до 0,0052 дотянут… дальше не факт…</div><div class=\"cm_ftr\"><a class=\"reply\" href=\"/login/\" rel=\"nofollow\">Ответить</a><a class=\"cm_ico th up\" href=\"/login/\" rel=\"nofollow\"></a><a class=\"cm_ico th dn\" href=\"/login/\" rel=\"nofollow\"></a><a class=\"cm_mrk\" href=\"/login/\" rel=\"nofollow\"> 0</a></div></div></li>\n",
       "<li class=\"cm_wrap bluid_77387\" data-id=\"10644116\" data-pid=\"10644107\" data-type=\"comment\"><a name=\"comment10644116\"></a><a aria-label=\"Профиль Rodan1\" href=\"/profile/Rodan1/\" rel=\"nofollow\"><img alt=\"Аватар Rodan1\" class=\"avtr_box\" loading=\"lazy\" src=\"/templates/skin/smart-lab-new/images/avatar_100x100.jpg?4398\"/></a><div class=\"cmt_body\"><div><span><a class=\"a_name trader_other\" href=\"/profile/Rodan1/\" rel=\"nofollow\">Rodan1</a></span><a class=\"a_time\" href=\"/forum/TGKB/goto_comment_10644116/#comment10644116\" rel=\"nofollow\" target=\"_blank\"><time datetime=\"2020-02-12T21:14:51+03:00\">12 февраля 2020, 21:14</time></a></div><div class=\"text\"><blockquote class=\"reply\"><blockquote class=\"reply\"><blockquote class=\"reply\">На данный момент всё хорошо.<br/>\n",
       "<a class=\"imgpreview\" href=\"/uploads/images/00/24/14/2020/02/12/67fb04.jpg\"><img src=\"/uploads/images/00/24/14/2020/02/12/4dd198.jpg\"/></a></blockquote><br/>\n",
       "SChichkin, а что это?</blockquote><br/>\n",
       "Rodan1, Привет.<br/>\n",
       "Я пока в хорошем плюсе.</blockquote><br/>\n",
       "SChichkin, Круто! ПОздравляю!</div><div class=\"cm_ftr\"><a class=\"reply\" href=\"/login/\" rel=\"nofollow\">Ответить</a><a class=\"cm_ico th up\" href=\"/login/\" rel=\"nofollow\"></a><a class=\"cm_ico th dn\" href=\"/login/\" rel=\"nofollow\"></a><a class=\"cm_mrk\" href=\"/login/\" rel=\"nofollow\"> 0</a></div></div></li>\n",
       "<li class=\"cm_wrap bluid_2414\" data-id=\"10644107\" data-pid=\"10644098\" data-type=\"comment\"><a name=\"comment10644107\"></a><a aria-label=\"Профиль Сергей Чичкин\" href=\"/profile/WOOFER/\" rel=\"nofollow\"><img alt=\"Аватар Сергей Чичкин\" class=\"avtr_box\" loading=\"lazy\" src=\"/uploads/images/00/24/14/2021/01/31/avatar_100x100.webp?4398\"/></a><div class=\"cmt_body\"><div><span><a class=\"a_name trader_other\" href=\"/profile/WOOFER/\" rel=\"nofollow\">Сергей Чичкин</a></span><a class=\"a_time\" href=\"/forum/TGKB/goto_comment_10644107/#comment10644107\" rel=\"nofollow\" target=\"_blank\"><time datetime=\"2020-02-12T21:12:22+03:00\">12 февраля 2020, 21:12</time></a></div><div class=\"text\"><blockquote class=\"reply\"><blockquote class=\"reply\">На данный момент всё хорошо.<br/>\n",
       "<a class=\"imgpreview\" href=\"/uploads/images/00/24/14/2020/02/12/67fb04.jpg\"><img src=\"/uploads/images/00/24/14/2020/02/12/4dd198.jpg\"/></a></blockquote><br/>\n",
       "SChichkin, а что это?</blockquote><br/>\n",
       "Rodan1, Привет.<br/>\n",
       "Я пока в хорошем плюсе.</div><div class=\"cm_ftr\"><a class=\"reply\" href=\"/login/\" rel=\"nofollow\">Ответить</a><a class=\"cm_ico th up\" href=\"/login/\" rel=\"nofollow\"></a><a class=\"cm_ico th dn\" href=\"/login/\" rel=\"nofollow\"></a><a class=\"cm_mrk\" href=\"/login/\" rel=\"nofollow\"> 0</a></div></div></li>\n",
       "<li class=\"cm_wrap bluid_77387\" data-id=\"10644098\" data-pid=\"10644070\" data-type=\"comment\"><a name=\"comment10644098\"></a><a aria-label=\"Профиль Rodan1\" href=\"/profile/Rodan1/\" rel=\"nofollow\"><img alt=\"Аватар Rodan1\" class=\"avtr_box\" loading=\"lazy\" src=\"/templates/skin/smart-lab-new/images/avatar_100x100.jpg?4398\"/></a><div class=\"cmt_body\"><div><span><a class=\"a_name trader_other\" href=\"/profile/Rodan1/\" rel=\"nofollow\">Rodan1</a></span><a class=\"a_time\" href=\"/forum/TGKB/goto_comment_10644098/#comment10644098\" rel=\"nofollow\" target=\"_blank\"><time datetime=\"2020-02-12T21:09:01+03:00\">12 февраля 2020, 21:09</time></a></div><div class=\"text\"><blockquote class=\"reply\">На данный момент всё хорошо.<br/>\n",
       "<a class=\"imgpreview\" href=\"/uploads/images/00/24/14/2020/02/12/67fb04.jpg\"><img src=\"/uploads/images/00/24/14/2020/02/12/4dd198.jpg\"/></a></blockquote><br/>\n",
       "SChichkin, а что это?</div><div class=\"cm_ftr\"><a class=\"reply\" href=\"/login/\" rel=\"nofollow\">Ответить</a><a class=\"cm_ico th up\" href=\"/login/\" rel=\"nofollow\"></a><a class=\"cm_ico th dn\" href=\"/login/\" rel=\"nofollow\"></a><a class=\"cm_mrk\" href=\"/login/\" rel=\"nofollow\"> 0</a></div></div></li>\n",
       "<li class=\"cm_wrap bluid_2414\" data-id=\"10644070\" data-type=\"comment\"><a name=\"comment10644070\"></a><a aria-label=\"Профиль Сергей Чичкин\" href=\"/profile/WOOFER/\" rel=\"nofollow\"><img alt=\"Аватар Сергей Чичкин\" class=\"avtr_box\" loading=\"lazy\" src=\"/uploads/images/00/24/14/2021/01/31/avatar_100x100.webp?4398\"/></a><div class=\"cmt_body\"><div><span><a class=\"a_name trader_other\" href=\"/profile/WOOFER/\" rel=\"nofollow\">Сергей Чичкин</a></span><a class=\"a_time\" href=\"/forum/TGKB/goto_comment_10644070/#comment10644070\" rel=\"nofollow\" target=\"_blank\"><time datetime=\"2020-02-12T21:03:27+03:00\">12 февраля 2020, 21:03</time></a></div><div class=\"text\">На данный момент всё хорошо.<br/>\n",
       "<a class=\"imgpreview\" href=\"/uploads/images/00/24/14/2020/02/12/67fb04.jpg\"><img src=\"/uploads/images/00/24/14/2020/02/12/4dd198.jpg\"/></a></div><div class=\"cm_ftr\"><a class=\"reply\" href=\"/login/\" rel=\"nofollow\">Ответить</a><a class=\"cm_ico th up\" href=\"/login/\" rel=\"nofollow\"></a><a class=\"cm_ico th dn\" href=\"/login/\" rel=\"nofollow\"></a><a class=\"cm_mrk\" href=\"/login/\" rel=\"nofollow\"> 0</a></div></div></li>\n",
       "<li class=\"cm_wrap bluid_50457\" data-id=\"10643891\" data-type=\"comment\"><a name=\"comment10643891\"></a><a aria-label=\"Профиль Марэк\" href=\"/profile/Marek/\" rel=\"nofollow\"><img alt=\"Аватар Марэк\" class=\"avtr_box\" loading=\"lazy\" src=\"/uploads/images/05/04/57/2020/09/15/avatar_4ca777_100x100.webp?4398\"/></a><div class=\"cmt_body\"><div><span><a class=\"a_name trader_other\" href=\"/profile/Marek/\" rel=\"nofollow\">Марэк</a></span><a class=\"a_time\" href=\"/forum/TGKB/goto_comment_10643891/#comment10643891\" rel=\"nofollow\" target=\"_blank\"><time datetime=\"2020-02-12T20:03:59+03:00\">12 февраля 2020, 20:03</time></a></div><div class=\"text\">ТГК-2 – рсбу/ мсфо<br/>\n",
       "1 458 404 850 747 Обыкновенных акций<br/>\n",
       "Free-float 21% <a href=\"/r.php?u=http%3A%2F%2Fmoex.com%2Fs909&amp;s=1302192142\">moex.com/s909</a><br/>\n",
       "Капитализация на 12.02.2020г: 4,740 млрд руб<br/>\n",
       "<br/>\n",
       "16 500 533 681 Привилегированных акций<br/>\n",
       "Капитализация на 12.02.2020г: 92,568 млн руб<br/>\n",
       "<br/>\n",
       "Общий долг на 31.12.2016г: 38,937 млрд руб/ мсфо 43,759 млрд руб<br/>\n",
       "Общий долг на 31.12.2017г: 40,855 млрд руб/ мсфо 43,992 млрд руб<br/>\n",
       "Общий долг на 31.12.2018г: 36,286 млрд руб/ мсфо 43,489 млрд руб<br/>\n",
       "Общий долг на 30.06.2019г: 33,505 млрд руб/ мсфо 40,046 млрд руб<br/>\n",
       "Общий долг на 30.09.2019г: 34,786 млрд руб<br/>\n",
       "<br/>\n",
       "Выручка 2017г: 36,382 млрд руб/ мсфо 35,469 млрд руб<br/>\n",
       "Выручка 1 кв 2018г: 13,040 млрд руб<br/>\n",
       "Выручка 6 мес 2018г: 19,922 млрд руб/ мсфо 19,932 млрд руб<br/>\n",
       "Выручка 9 мес 2018г: 24,683 млрд руб<br/>\n",
       "Выручка 2018г: 36,355 млрд руб/ мсфо 37,720 млрд руб<br/>\n",
       "Выручка 1 кв 2019г: 12,729 млрд руб<br/>\n",
       "Выручка 6 мес 2019г: 20,011 млрд руб/ мсфо 21,208 млрд руб<br/>\n",
       "Выручка 9 мес 2019г: 25,167 млрд руб<br/>\n",
       "<br/>\n",
       "Убыток 2017г: 15,06 млн руб/ Прибыль мсфо 2,111 млрд руб<br/>\n",
       "Прибыль 1 кв 2018г: 2,258 млрд руб<br/>\n",
       "Прибыль 6 мес 2018г: 2,727 млрд руб/ Прибыль мсфо 1,087 млрд руб<br/>\n",
       "Прибыль 9 мес 2018г: 1,512 млрд руб<br/>\n",
       "Прибыль 2018г: 3,014 млрд руб/ Прибыль мсфо 2,549 млрд руб<br/>\n",
       "Прибыль 1 кв 2019г: 2,051 млрд руб<br/>\n",
       "Прибыль 6 мес 2018г: 2,089 млрд руб/ Прибыль мсфо 2,030 млрд руб<br/>\n",
       "Прибыль 9 мес 2019г: 1,147 млрд руб<br/>\n",
       "Прибыль 2019г: млрд руб – Р/Е<br/>\n",
       "<a href=\"/r.php?u=http%3A%2F%2Fwww.tgc-2.ru%2Finvestors%2Fdisclosure%2Fstatements%2F%3FSSID%3D29&amp;s=61893226\">www.tgc-2.ru/investors/disclosure/statements/?SSID=29</a><br/>\n",
       "<br/>\n",
       "Дивидендная история ТГК-2<br/>\n",
       "<a href=\"/r.php?u=http%3A%2F%2Fwww.tgc-2.ru%2Finvestors%2Fsecurities%2Fhistory%2F&amp;s=837807909\">www.tgc-2.ru/investors/securities/history/</a></div><div class=\"cm_ftr\"><a class=\"reply\" href=\"/login/\" rel=\"nofollow\">Ответить</a><a class=\"cm_ico th up\" href=\"/login/\" rel=\"nofollow\"></a><a class=\"cm_ico th dn\" href=\"/login/\" rel=\"nofollow\"></a><a class=\"cm_mrk\" href=\"/login/\" rel=\"nofollow\"> 0</a></div></div></li>\n",
       "<li class=\"cm_wrap bluid_50457\" data-id=\"10643691\" data-type=\"comment\"><a name=\"comment10643691\"></a><a aria-label=\"Профиль Марэк\" href=\"/profile/Marek/\" rel=\"nofollow\"><img alt=\"Аватар Марэк\" class=\"avtr_box\" loading=\"lazy\" src=\"/uploads/images/05/04/57/2020/09/15/avatar_4ca777_100x100.webp?4398\"/></a><div class=\"cmt_body\"><div><span><a class=\"a_name trader_other\" href=\"/profile/Marek/\" rel=\"nofollow\">Марэк</a></span><a class=\"a_time\" href=\"/forum/TGKB/goto_comment_10643691/#comment10643691\" rel=\"nofollow\" target=\"_blank\"><time datetime=\"2020-02-12T18:58:03+03:00\">12 февраля 2020, 18:58</time></a></div><div class=\"text\">ТГК-2 не имеет никакого отношения к «Газпром энергохолдинг» и его дочкам ОГК-2, ТГК-1, Мосэнерго.</div><div class=\"cm_ftr\"><a class=\"reply\" href=\"/login/\" rel=\"nofollow\">Ответить</a><a class=\"cm_ico th up\" href=\"/login/\" rel=\"nofollow\"></a><a class=\"cm_ico th dn\" href=\"/login/\" rel=\"nofollow\"></a><a class=\"cm_mrk\" href=\"/login/\" rel=\"nofollow\"> 0</a></div></div></li>\n",
       "<li class=\"cm_wrap bluid_77387\" data-id=\"10642703\" data-pid=\"10640756\" data-type=\"comment\"><a name=\"comment10642703\"></a><a aria-label=\"Профиль Rodan1\" href=\"/profile/Rodan1/\" rel=\"nofollow\"><img alt=\"Аватар Rodan1\" class=\"avtr_box\" loading=\"lazy\" src=\"/templates/skin/smart-lab-new/images/avatar_100x100.jpg?4398\"/></a><div class=\"cmt_body\"><div><span><a class=\"a_name trader_other\" href=\"/profile/Rodan1/\" rel=\"nofollow\">Rodan1</a></span><a class=\"a_time\" href=\"/forum/TGKB/goto_comment_10642703/#comment10642703\" rel=\"nofollow\" target=\"_blank\"><time datetime=\"2020-02-12T15:23:39+03:00\">12 февраля 2020, 15:23</time></a></div><div class=\"text\"><blockquote class=\"reply\"><blockquote class=\"reply\">Откуда такой движ в префах? В кулуарах поговаривают о начале выплаты дивидендов?</blockquote><br/>\n",
       "Tim0n, может в лонговом угаре перепутали с ТГК-1? <img smile=\"biggrin\"/></blockquote><br/>\n",
       "Дмитрий Лазарев, не понятно. Неужели уже второй день путают? :)))</div><div class=\"cm_ftr\"><a class=\"reply\" href=\"/login/\" rel=\"nofollow\">Ответить</a><a class=\"cm_ico th up\" href=\"/login/\" rel=\"nofollow\"></a><a class=\"cm_ico th dn\" href=\"/login/\" rel=\"nofollow\"></a><a class=\"cm_mrk\" href=\"/login/\" rel=\"nofollow\"> 0</a></div></div></li>\n",
       "<li class=\"cm_wrap bluid_47709\" data-id=\"10640756\" data-pid=\"10640741\" data-type=\"comment\"><a name=\"comment10640756\"></a><a aria-label=\"Профиль Дмитрий Лазарев\" href=\"/profile/ConDoRrus21/\" rel=\"nofollow\"><img alt=\"Аватар Дмитрий Лазарев\" class=\"avtr_box\" loading=\"lazy\" src=\"/uploads/images/04/77/09/2017/02/04/avatar_217d2d_100x100.webp?4398\"/></a><div class=\"cmt_body\"><div><span><a class=\"a_name trader_other\" href=\"/profile/ConDoRrus21/\" rel=\"nofollow\">Дмитрий Лазарев</a></span><a class=\"a_time\" href=\"/forum/TGKB/goto_comment_10640756/#comment10640756\" rel=\"nofollow\" target=\"_blank\"><time datetime=\"2020-02-12T08:16:23+03:00\">12 февраля 2020, 08:16</time></a></div><div class=\"text\"><blockquote class=\"reply\">Откуда такой движ в префах? В кулуарах поговаривают о начале выплаты дивидендов?</blockquote><br/>\n",
       "Tim0n, может в лонговом угаре перепутали с ТГК-1? <img smile=\"biggrin\"/></div><div class=\"cm_ftr\"><a class=\"reply\" href=\"/login/\" rel=\"nofollow\">Ответить</a><a class=\"cm_ico th up\" href=\"/login/\" rel=\"nofollow\"></a><a class=\"cm_ico th dn\" href=\"/login/\" rel=\"nofollow\"></a><a class=\"cm_mrk\" href=\"/login/\" rel=\"nofollow\"> 0</a></div></div></li>\n",
       "<li class=\"cm_wrap bluid_82251\" data-id=\"10640741\" data-type=\"comment\"><a name=\"comment10640741\"></a><a aria-label=\"Профиль Осторожный спекулянт\" href=\"/profile/Tim0n/\" rel=\"nofollow\"><img alt=\"Аватар Осторожный спекулянт\" class=\"avtr_box\" loading=\"lazy\" src=\"/templates/skin/smart-lab-new/images/avatar_100x100.jpg?4398\"/></a><div class=\"cmt_body\"><div><span><a class=\"a_name trader_other\" href=\"/profile/Tim0n/\" rel=\"nofollow\">Осторожный спекулянт</a></span><a class=\"a_time\" href=\"/forum/TGKB/goto_comment_10640741/#comment10640741\" rel=\"nofollow\" target=\"_blank\"><time datetime=\"2020-02-12T08:08:37+03:00\">12 февраля 2020, 08:08</time></a></div><div class=\"text\">Откуда такой движ в префах? В кулуарах поговаривают о начале выплаты дивидендов?</div><div class=\"cm_ftr\"><a class=\"reply\" href=\"/login/\" rel=\"nofollow\">Ответить</a><a class=\"cm_ico th up\" href=\"/login/\" rel=\"nofollow\"></a><a class=\"cm_ico th dn\" href=\"/login/\" rel=\"nofollow\"></a><a class=\"cm_mrk\" href=\"/login/\" rel=\"nofollow\"> 0</a></div></div></li>\n",
       "<li class=\"cm_wrap bluid_70315\" data-id=\"10625085\" data-type=\"comment\"><a name=\"comment10625085\"></a><a aria-label=\"Профиль Дмитрий\" href=\"/profile/Orizonti/\" rel=\"nofollow\"><img alt=\"Аватар Дмитрий\" class=\"avtr_box\" loading=\"lazy\" src=\"/templates/skin/smart-lab-new/images/avatar_100x100.jpg?4398\"/></a><div class=\"cmt_body\"><div><span><a class=\"a_name trader_other\" href=\"/profile/Orizonti/\" rel=\"nofollow\">Дмитрий</a></span><a class=\"a_time\" href=\"/forum/TGKB/goto_comment_10625085/#comment10625085\" rel=\"nofollow\" target=\"_blank\"><time datetime=\"2020-02-07T23:40:44+03:00\">07 февраля 2020, 23:40</time></a></div><div class=\"text\">Ну как сказать… Не покрытый убыток за пару десяток лет выплатят, если ещё в долги не залезут. А так цифры ростут…</div><div class=\"cm_ftr\"><a class=\"reply\" href=\"/login/\" rel=\"nofollow\">Ответить</a><a class=\"cm_ico th up\" href=\"/login/\" rel=\"nofollow\"></a><a class=\"cm_ico th dn\" href=\"/login/\" rel=\"nofollow\"></a><a class=\"cm_mrk\" href=\"/login/\" rel=\"nofollow\"> 0</a></div></div></li>\n",
       "<li class=\"cm_wrap bluid_85106\" data-id=\"10625029\" data-type=\"comment\"><a name=\"comment10625029\"></a><a aria-label=\"Профиль Денис\" href=\"/profile/WWPUT/\" rel=\"nofollow\"><img alt=\"Аватар Денис\" class=\"avtr_box\" loading=\"lazy\" src=\"/uploads/images/08/51/06/2020/04/26/avatar_100x100.webp?4398\"/></a><div class=\"cmt_body\"><div><span><a class=\"a_name trader_other\" href=\"/profile/WWPUT/\" rel=\"nofollow\">Денис</a></span><a class=\"a_time\" href=\"/forum/TGKB/goto_comment_10625029/#comment10625029\" rel=\"nofollow\" target=\"_blank\"><time datetime=\"2020-02-07T23:17:03+03:00\">07 февраля 2020, 23:17</time></a></div><div class=\"text\">Обьясните пожалуйста новичку почему отчеты по РСБУ И МСФО так сильно отличаются и какому из них верить?<br/>\n",
       "Судя по отчету это просто золото а не компания или я чего не догоняю ( что скорее всего)<br/>\n",
       "</div><div class=\"cm_ftr\"><a class=\"reply\" href=\"/login/\" rel=\"nofollow\">Ответить</a><a class=\"cm_ico th up\" href=\"/login/\" rel=\"nofollow\"></a><a class=\"cm_ico th dn\" href=\"/login/\" rel=\"nofollow\"></a><a class=\"cm_mrk\" href=\"/login/\" rel=\"nofollow\"> 0</a></div></div></li>\n",
       "<li class=\"cm_wrap bluid_84595\" data-id=\"10591473\" data-type=\"comment\"><a name=\"comment10591473\"></a><a aria-label=\"Профиль Izhik\" href=\"/profile/Izhik/\" rel=\"nofollow\"><img alt=\"Аватар Izhik\" class=\"avtr_box\" loading=\"lazy\" src=\"/uploads/images/08/45/95/2020/01/21/avatar_16850c_100x100.webp?4398\"/></a><div class=\"cmt_body\"><div><span><a class=\"a_name trader_other\" href=\"/profile/Izhik/\" rel=\"nofollow\">Izhik</a></span><a class=\"a_time\" href=\"/forum/TGKB/goto_comment_10591473/#comment10591473\" rel=\"nofollow\" target=\"_blank\"><time datetime=\"2020-02-01T02:01:04+03:00\">01 февраля 2020, 02:01</time></a></div><div class=\"text\">Прежний глава совета директоров Константин Селиванов скоропостижно скончался. Он был известным человеком в особых кругах.<br/>\n",
       "Новой главой избрана Ирина Удинцева Совлинк.<br/>\n",
       "На сайте тгк-2 скорбят и считают, что за годы его деятельности дела компании пошли в гору.<br/>\n",
       "ФСК ЕЭС Тоже касается.<br/>\n",
       "<br/>\n",
       "Ранее, напоминаю:<br/>\n",
       "<br/>\n",
       "«5 декабря 2015<br/>\n",
       "Источник: РИА Новости<br/>\n",
       "Надежный источник<br/>\n",
       "Гендиректор «Территориальной генерирующей компании N2» (ТГК-2) Андрей Королев, обвиняемый в мошенничестве, отстранен от должности. Такое решение, сообщило МВД РФ, принял один из районных судов Твери.» — после чего дела компании пошли в гору.Прибыль стала положительной и на данный момент оставалась такой.</div><div class=\"cm_ftr\"><a class=\"reply\" href=\"/login/\" rel=\"nofollow\">Ответить</a><a class=\"cm_ico th up\" href=\"/login/\" rel=\"nofollow\"></a><a class=\"cm_ico th dn\" href=\"/login/\" rel=\"nofollow\"></a><a class=\"cm_mrk\" href=\"/login/\" rel=\"nofollow\"> 0</a></div></div></li>\n",
       "<li class=\"cm_wrap bluid_71066\" data-id=\"10515542\" data-type=\"comment\"><a name=\"comment10515542\"></a><a aria-label=\"Профиль Неначинающий инвестор\" href=\"/profile/Ramil73/\" rel=\"nofollow\"><img alt=\"Аватар Неначинающий инвестор\" class=\"avtr_box\" loading=\"lazy\" src=\"/uploads/images/07/10/66/2020/01/19/avatar_c8dbeb_100x100.webp?4398\"/></a><div class=\"cmt_body\"><div><span><a class=\"a_name trader_other\" href=\"/profile/Ramil73/\" rel=\"nofollow\">Неначинающий инвестор</a></span><a class=\"a_time\" href=\"/forum/TGKB/goto_comment_10515542/#comment10515542\" rel=\"nofollow\" target=\"_blank\"><time datetime=\"2020-01-14T12:39:42+03:00\">14 января 2020, 12:39</time></a></div><div class=\"text\">ТГК-2 ао все таки выстрелил<br/>04.01.2020 писал пост про ТГК-2, не все поверили Начинающему… +13,3%<br/>\n",
       "Не хвалюсь просто радуюсь)))<br/>\n",
       "И вышел из позы, как планировал (как наставляли олдскулы😊), а мог взять +18%<br/>\n",
       "<br/>\n",
       "<a href=\"https://smart-lab.ru/mobile/topic/584965/\" target=\"_blank\">smart-lab.ru/mobile/topic/584965/</a><br/>\n",
       "<br/>\n",
       "<a class=\"imgpreview\" href=\"/uploads/images/07/10/66/2020/01/14/03cc5f.jpg\" target=\"_blank\"><img alt=\"ТГК-2 ао все таки выстрелил\" src=\"/uploads/images/07/10/66/2020/01/14/fa8723.jpg\" title=\"ТГК-2 ао все таки выстрелил\"/></a><br/><br/>Авто-репост. Читать в блоге <a href=\"/blog/586837.php\">&gt;&gt;&gt;</a><br/></div><div class=\"cm_ftr\"><a class=\"reply\" href=\"/login/\" rel=\"nofollow\">Ответить</a><a class=\"cm_ico th up\" href=\"/login/\" rel=\"nofollow\"></a><a class=\"cm_ico th dn\" href=\"/login/\" rel=\"nofollow\"></a><a class=\"cm_mrk\" href=\"/login/\" rel=\"nofollow\"> 0</a></div></div></li>\n",
       "<li class=\"cm_wrap bluid_71066\" data-id=\"10482740\" data-type=\"comment\"><a name=\"comment10482740\"></a><a aria-label=\"Профиль Неначинающий инвестор\" href=\"/profile/Ramil73/\" rel=\"nofollow\"><img alt=\"Аватар Неначинающий инвестор\" class=\"avtr_box\" loading=\"lazy\" src=\"/uploads/images/07/10/66/2020/01/19/avatar_c8dbeb_100x100.webp?4398\"/></a><div class=\"cmt_body\"><div><span><a class=\"a_name trader_other\" href=\"/profile/Ramil73/\" rel=\"nofollow\">Неначинающий инвестор</a></span><a class=\"a_time\" href=\"/forum/TGKB/goto_comment_10482740/#comment10482740\" rel=\"nofollow\" target=\"_blank\"><time datetime=\"2020-01-05T01:12:14+03:00\">05 января 2020, 01:12</time></a></div><div class=\"text\">ТГК-2 ао<br/>Всем здравствуйте! Не знаю прав я или нет, но появилась у меня такая идея по покупке акций ТГК-2 ао. За 2019 год акция отбивает я от уровня 0,00230 в третий раз и может подрасти до уровня 0,00270 что по нынешней цене составит примерно 13% профит а. Я знаю, что у ТГК-2 не важные отчёты и они отказались от дивидендов, но теханализ вроде-бы указывает на рост. Подскажите в чём я неправ или ошибся (строго не судите). Но вроде бы как отбились от уровня на повышенном объёме.<br/>\n",
       "<br/>\n",
       "<br/>\n",
       "<a class=\"imgpreview\" href=\"/uploads/images/07/10/66/2020/01/04/2fe7c6.jpg\" target=\"_blank\"><img alt=\"ТГК-2 ао\" src=\"/uploads/images/07/10/66/2020/01/04/3da839.jpg\" title=\"ТГК-2 ао\"/></a><br/><br/>Авто-репост. Читать в блоге <a href=\"/blog/tradesignals/584965.php\">&gt;&gt;&gt;</a><br/></div><div class=\"cm_ftr\"><a class=\"reply\" href=\"/login/\" rel=\"nofollow\">Ответить</a><a class=\"cm_ico th up\" href=\"/login/\" rel=\"nofollow\"></a><a class=\"cm_ico th dn\" href=\"/login/\" rel=\"nofollow\"></a><a class=\"cm_mrk\" href=\"/login/\" rel=\"nofollow\"> 0</a></div></div></li>\n",
       "<li class=\"cm_wrap bluid_41471\" data-id=\"10262349\" data-type=\"comment\"><a name=\"comment10262349\"></a><a aria-label=\"Профиль Редактор Боб\" href=\"/profile/editor2/\" rel=\"nofollow\"><img alt=\"Аватар Редактор Боб\" class=\"avtr_box\" loading=\"lazy\" src=\"/uploads/2021/images/04/14/71/2021/12/02/avatar_385912_100x100.webp?4398\"/></a><div class=\"cmt_body\"><div><span><a class=\"a_name trader_other\" href=\"/profile/editor2/\" rel=\"nofollow\">Редактор Боб</a></span><a class=\"a_time\" href=\"/forum/TGKB/goto_comment_10262349/#comment10262349\" rel=\"nofollow\" target=\"_blank\"><time datetime=\"2019-10-28T13:41:59+03:00\">28 октября 2019, 13:41</time></a></div><div class=\"text\">ТГК-2 - чистая прибыль по РСБУ за 9 мес -24%<br/>ТГК-2 — <a class=\"dictionary_link\" href=\"/finansoviy-slovar/%D1%87%D0%B8%D1%81%D1%82%D0%B0%D1%8F%20%D0%BF%D1%80%D0%B8%D0%B1%D1%8B%D0%BB%D1%8C/\" target=\"_blank\">чистая прибыль</a> по <a class=\"dictionary_link\" href=\"/finansoviy-slovar/rsbu/\" target=\"_blank\">РСБУ</a> за 9 мес -24%<br/>\n",
       "<br/>\n",
       "<a class=\"imgpreview\" href=\"/uploads/images/04/14/71/2019/10/28/ee2c6b.jpg\" target=\"_blank\"><img alt=\"ТГК-2 - чистая прибыль по РСБУ за 9 мес -24%\" src=\"/uploads/images/04/14/71/2019/10/28/9f23a6.jpg\" title=\"ТГК-2 - чистая прибыль по РСБУ за 9 мес -24%\"/></a><br/>\n",
       "<br/>\n",
       "<a href=\"/r.php?u=http%3A%2F%2Fwww.e-disclosure.ru%2Fportal%2FFileLoad.ashx%3FFileid%3D1551530&amp;s=1706931589\" target=\"_blank\">отчет</a><br/>\n",
       "<br/>\n",
       "<br/><br/>Авто-репост. Читать в блоге <a href=\"/blog/news/570470.php\">&gt;&gt;&gt;</a><br/></div><div class=\"cm_ftr\"><a class=\"reply\" href=\"/login/\" rel=\"nofollow\">Ответить</a><a class=\"cm_ico th up\" href=\"/login/\" rel=\"nofollow\"></a><a class=\"cm_ico th dn\" href=\"/login/\" rel=\"nofollow\"></a><a class=\"cm_mrk\" href=\"/login/\" rel=\"nofollow\"> 0</a></div></div></li>\n",
       "<li class=\"cm_wrap bluid_74215\" data-id=\"10063717\" data-type=\"comment\"><a name=\"comment10063717\"></a><a aria-label=\"Профиль Анастасия\" href=\"/profile/FinFox/\" rel=\"nofollow\"><img alt=\"Аватар Анастасия\" class=\"avtr_box\" loading=\"lazy\" src=\"/templates/skin/smart-lab-new/images/avatar_100x100.jpg?4398\"/></a><div class=\"cmt_body\"><div><span><a class=\"a_name trader_other\" href=\"/profile/FinFox/\" rel=\"nofollow\">Анастасия</a></span><a class=\"a_time\" href=\"/forum/TGKB/goto_comment_10063717/#comment10063717\" rel=\"nofollow\" target=\"_blank\"><time datetime=\"2019-08-29T22:05:20+03:00\">29 августа 2019, 22:05</time></a></div><div class=\"text\">Поле деятельности очень зарегулировано государством и поэтому такой отчет очень хорош!<br/>\n",
       "<a href=\"/r.php?u=http%3A%2F%2Fwww.tgc-2.ru%2Fupload%2Fiblock%2Fc40%2Ftgc_2_msfo_6m-2019.pdf&amp;s=2180370259\">www.tgc-2.ru/upload/iblock/c40/tgc_2_msfo_6m-2019.pdf</a><br/>\n",
       "<br/>\n",
       "Чистая прибыль в первом полугодии выросла в 1,9 раза по сравнению с аналогичным периодом прошлого года и составила 2,03 млрд рублей.<br/>\n",
       "Выручка при этом возросла на 10,3% — до 21 млрд рублей.<br/>\n",
       "<br/>\n",
       "Прибыль от операционной деятельности выросла на 18,5% — до 3,4 млрд рублей, прибыль до налогообложения — на 30%, практически до 3 млрд рублей.<br/>\n",
       "<br/>\n",
       "Длинные долги компании уменьшились с 18,5 млрд рублей до 17,4 млрд рублей (6%), краткосрочные — с 16,9 млрд рублей до 16,3 млрд рублей (4%).</div><div class=\"cm_ftr\"><a class=\"reply\" href=\"/login/\" rel=\"nofollow\">Ответить</a><a class=\"cm_ico th up\" href=\"/login/\" rel=\"nofollow\"></a><a class=\"cm_ico th dn\" href=\"/login/\" rel=\"nofollow\"></a><a class=\"cm_mrk\" href=\"/login/\" rel=\"nofollow\"> 0</a></div></div></li>\n",
       "<li class=\"cm_wrap bluid_41471\" data-id=\"10060773\" data-type=\"comment\"><a name=\"comment10060773\"></a><a aria-label=\"Профиль Редактор Боб\" href=\"/profile/editor2/\" rel=\"nofollow\"><img alt=\"Аватар Редактор Боб\" class=\"avtr_box\" loading=\"lazy\" src=\"/uploads/2021/images/04/14/71/2021/12/02/avatar_385912_100x100.webp?4398\"/></a><div class=\"cmt_body\"><div><span><a class=\"a_name trader_other\" href=\"/profile/editor2/\" rel=\"nofollow\">Редактор Боб</a></span><a class=\"a_time\" href=\"/forum/TGKB/goto_comment_10060773/#comment10060773\" rel=\"nofollow\" target=\"_blank\"><time datetime=\"2019-08-29T10:22:54+03:00\">29 августа 2019, 10:22</time></a></div><div class=\"text\">ТГК-2 - чистая прибыль  по мсфо в i полугодии составила 2,03 млрд руб против 1,09 млрд руб годом ранее<br/><a class=\"dictionary_link\" href=\"/finansoviy-slovar/%D1%87%D0%B8%D1%81%D1%82%D0%B0%D1%8F%20%D0%BF%D1%80%D0%B8%D0%B1%D1%8B%D0%BB%D1%8C/\" target=\"_blank\">Чистая прибыль</a> ТГК-2 по <a class=\"dictionary_link\" href=\"/finansoviy-slovar/MSFO/\" target=\"_blank\">МСФО</a> в первом полугодии 2019 года выросла в 1,9 раза по сравнению с аналогичным периодом прошлого года и составила 2,03 миллиарда рублей, следует из отчета компании.<br/>\n",
       "<a class=\"dictionary_link\" href=\"/finansoviy-slovar/%D0%B2%D1%8B%D1%80%D1%83%D1%87%D0%BA%D0%B0/\" target=\"_blank\">Выручка</a> за отчетный период выросла на 10%, до 21,2 миллиарда рублей. Операционные расходы выросли также на 10%, до 18,4 миллиарда рублей.<br/>\n",
       "<br/>\n",
       "<a class=\"imgpreview\" href=\"/uploads/images/04/14/71/2019/08/29/920617.jpg\" target=\"_blank\"><img alt=\"ТГК-2 - чистая прибыль  по мсфо в i полугодии составила 2,03 млрд руб против 1,09 млрд руб годом ранее\" src=\"/uploads/images/04/14/71/2019/08/29/9e00cf.jpg\" title=\"ТГК-2 - чистая прибыль  по мсфо в i полугодии составила 2,03 млрд руб против 1,09 млрд руб годом ранее\"/></a><br/>\n",
       "<br/>\n",
       "<br/>\n",
       "<br/><br/>Авто-репост. Читать в блоге <a href=\"/blog/news/558790.php\">&gt;&gt;&gt;</a><br/></div><div class=\"cm_ftr\"><a class=\"reply\" href=\"/login/\" rel=\"nofollow\">Ответить</a><a class=\"cm_ico th up\" href=\"/login/\" rel=\"nofollow\"></a><a class=\"cm_ico th dn\" href=\"/login/\" rel=\"nofollow\"></a><a class=\"cm_mrk\" href=\"/login/\" rel=\"nofollow\"> 0</a></div></div></li>\n",
       "<li class=\"cm_wrap bluid_41471\" data-id=\"9963366\" data-type=\"comment\"><a name=\"comment9963366\"></a><a aria-label=\"Профиль Редактор Боб\" href=\"/profile/editor2/\" rel=\"nofollow\"><img alt=\"Аватар Редактор Боб\" class=\"avtr_box\" loading=\"lazy\" src=\"/uploads/2021/images/04/14/71/2021/12/02/avatar_385912_100x100.webp?4398\"/></a><div class=\"cmt_body\"><div><span><a class=\"a_name trader_other\" href=\"/profile/editor2/\" rel=\"nofollow\">Редактор Боб</a></span><a class=\"a_time\" href=\"/forum/TGKB/goto_comment_9963366/#comment9963366\" rel=\"nofollow\" target=\"_blank\"><time datetime=\"2019-07-31T17:24:05+03:00\">31 июля 2019, 17:24</time></a></div><div class=\"text\">ТГК-2 - чистая прибыль по РСБУ за 1 п/г снизилась на 23%<br/>ТГК-2 — <a class=\"dictionary_link\" href=\"/finansoviy-slovar/%D1%87%D0%B8%D1%81%D1%82%D0%B0%D1%8F%20%D0%BF%D1%80%D0%B8%D0%B1%D1%8B%D0%BB%D1%8C/\" target=\"_blank\">чистая прибыль</a> по <a class=\"dictionary_link\" href=\"/finansoviy-slovar/%D1%80%D1%81%D0%B1%D1%83/\" target=\"_blank\">РСБУ</a> за 1 п/г снизилась на 23%<br/>\n",
       "<br/>\n",
       "<a class=\"imgpreview\" href=\"/uploads/images/04/14/71/2019/07/31/6cb3b4.jpg\" target=\"_blank\"><img alt=\"ТГК-2 - чистая прибыль по РСБУ за 1 п/г снизилась на 23%\" src=\"/uploads/images/04/14/71/2019/07/31/04fb60.jpg\" title=\"ТГК-2 - чистая прибыль по РСБУ за 1 п/г снизилась на 23%\"/></a><br/>\n",
       "<br/>\n",
       "<a href=\"/r.php?u=http%3A%2F%2Fwww.e-disclosure.ru%2Fportal%2FFileLoad.ashx%3FFileid%3D1539408&amp;s=3748457376\" target=\"_blank\">отчет</a><br/>\n",
       "<br/>\n",
       "<br/><br/>Авто-репост. Читать в блоге <a href=\"/blog/news/553368.php\">&gt;&gt;&gt;</a><br/></div><div class=\"cm_ftr\"><a class=\"reply\" href=\"/login/\" rel=\"nofollow\">Ответить</a><a class=\"cm_ico th up\" href=\"/login/\" rel=\"nofollow\"></a><a class=\"cm_ico th dn\" href=\"/login/\" rel=\"nofollow\"></a><a class=\"cm_mrk\" href=\"/login/\" rel=\"nofollow\"> 0</a></div></div></li>\n",
       "<li class=\"cm_wrap bluid_61075\" data-id=\"9792141\" data-type=\"comment\"><a name=\"comment9792141\"></a><a aria-label=\"Профиль Чингачгук (Великий Змей)\" href=\"/profile/cadonache/\" rel=\"nofollow\"><img alt=\"Аватар Чингачгук (Великий Змей)\" class=\"avtr_box\" loading=\"lazy\" src=\"/uploads/2022/images/06/10/75/2022/06/21/avatar_1fc08a_100x100.webp?4398\"/></a><div class=\"cmt_body\"><div><span><a class=\"a_name trader_other\" href=\"/profile/cadonache/\" rel=\"nofollow\">Чингачгук (Великий Змей)</a></span><a class=\"a_time\" href=\"/forum/TGKB/goto_comment_9792141/#comment9792141\" rel=\"nofollow\" target=\"_blank\"><time datetime=\"2019-06-06T23:19:20+03:00\">06 июня 2019, 23:19</time></a></div><div class=\"text\">Сразу видно что дизайнер лого израилит <img smile=\"mocking\"/></div><div class=\"cm_ftr\"><a class=\"reply\" href=\"/login/\" rel=\"nofollow\">Ответить</a><a class=\"cm_ico th up\" href=\"/login/\" rel=\"nofollow\"></a><a class=\"cm_ico th dn\" href=\"/login/\" rel=\"nofollow\"></a><a class=\"cm_mrk grn\" href=\"/login/\" rel=\"nofollow\">+ 1</a></div></div></li>\n",
       "<li class=\"cm_wrap bluid_14857\" data-id=\"9792129\" data-type=\"comment\"><a name=\"comment9792129\"></a><a aria-label=\"Профиль AlexKir\" href=\"/profile/021079/\" rel=\"nofollow\"><img alt=\"Аватар AlexKir\" class=\"avtr_box\" loading=\"lazy\" src=\"/uploads/images/01/48/57/2019/06/13/avatar_d989ae_100x100.webp?4398\"/></a><div class=\"cmt_body\"><div><span><a class=\"a_name trader_other\" href=\"/profile/021079/\" rel=\"nofollow\">AlexKir</a></span><a class=\"a_time\" href=\"/forum/TGKB/goto_comment_9792129/#comment9792129\" rel=\"nofollow\" target=\"_blank\"><time datetime=\"2019-06-06T23:15:59+03:00\">06 июня 2019, 23:15</time></a></div><div class=\"text\"><a class=\"youtube_video\" code='&lt;iframe width=\"560\" height=\"315\" src=\"//www.youtube.com/embed/xHXdIOHRwmc\" frameborder=\"0\" allowfullscreen&gt;&lt;/iframe&gt;' style=\"background-image: url(//img.youtube.com/vi/xHXdIOHRwmc/hqdefault.jpg)\"></a></div><div class=\"cm_ftr\"><a class=\"reply\" href=\"/login/\" rel=\"nofollow\">Ответить</a><a class=\"cm_ico th up\" href=\"/login/\" rel=\"nofollow\"></a><a class=\"cm_ico th dn\" href=\"/login/\" rel=\"nofollow\"></a><a class=\"cm_mrk\" href=\"/login/\" rel=\"nofollow\"> 0</a></div></div></li>\n",
       "<li class=\"cm_wrap bluid_1206\" data-id=\"9738142\" data-pid=\"9738017\" data-type=\"comment\"><a name=\"comment9738142\"></a><a aria-label=\"Профиль Malik\" href=\"/profile/Malikeldjebena/\" rel=\"nofollow\"><img alt=\"Аватар Malik\" class=\"avtr_box\" loading=\"lazy\" src=\"/uploads/images/00/12/06/2019/08/13/avatar_b992f0_100x100.webp?4398\"/></a><div class=\"cmt_body\"><div><span><a class=\"a_name trader_other\" href=\"/profile/Malikeldjebena/\" rel=\"nofollow\">Malik</a></span><a class=\"a_time\" href=\"/forum/TGKB/goto_comment_9738142/#comment9738142\" rel=\"nofollow\" target=\"_blank\"><time datetime=\"2019-05-20T16:53:54+03:00\">20 мая 2019, 16:53</time></a></div><div class=\"text\"><blockquote class=\"reply\"><blockquote class=\"reply\"><br/>\n",
       "«ТГК-2» — около 4 млрд рублей.<br/>\n",
       "</blockquote><br/>\n",
       "редактор Боб, наверное, все-таки огк-2</blockquote><br/>\n",
       "bayad, для аналитегов политизированной помойки финанза это одно и то же )</div><div class=\"cm_ftr\"><a class=\"reply\" href=\"/login/\" rel=\"nofollow\">Ответить</a><a class=\"cm_ico th up\" href=\"/login/\" rel=\"nofollow\"></a><a class=\"cm_ico th dn\" href=\"/login/\" rel=\"nofollow\"></a><a class=\"cm_mrk\" href=\"/login/\" rel=\"nofollow\"> 0</a></div></div></li>\n",
       "</ol>\n",
       "<div class=\"pagination1\" id=\"pagination\"><span class=\"page gradient clock\" title=\"Выбрать дату\"><svg height=\"24\" viewbox=\"0 0 24 24\" width=\"24\" xmlns=\"http://www.w3.org/2000/svg\"><path d=\"M0 0h24v24H0V0z\" fill=\"none\"></path><path d=\"M11.99 2C6.47 2 2 6.48 2 12s4.47 10 9.99 10C17.52 22 22 17.52 22 12S17.52 2 11.99 2zM12 20c-4.42 0-8-3.58-8-8s3.58-8 8-8 8 3.58 8 8-3.58 8-8 8zm.5-13H11v6l5.25 3.15.75-1.23-4.5-2.67z\"></path></svg></span><a class=\"page gradient last\" href=\"/forum/TGKB/page1/\">←</a><a class=\"page gradient\" href=\"/forum/TGKB/page3/\">3</a><a class=\"page gradient\" href=\"/forum/TGKB/page4/\">4</a><a class=\"page gradient\" href=\"/forum/TGKB/page5/\">5</a><span class=\"page active\">6</span><a class=\"page gradient\" href=\"/forum/TGKB/page7/\">7</a><a class=\"page gradient\" href=\"/forum/TGKB/page8/\">8</a><a class=\"page gradient\" href=\"/forum/TGKB/page9/\">9</a><a class=\"page gradient last\" href=\"/forum/TGKB/page21/\">→</a></div> <a id=\"bottom\" name=\"bottom\"></a>\n",
       "</div>\n",
       "<aside class=\"right_column\">\n",
       "<div align=\"center\" class=\"logo_place\">\n",
       "<p style=\"font-size:small; margin-right: 10px; margin-bottom: 10px\">\n",
       "<a href=\"https://ru.tradingview.com/symbols/MOEX-TGKB/?offer_id=10&amp;aff_id=1339\" onclick=\"window.fz('track', 'Forum Tradingview')\" target=\"_blank\" title=\"MOEX.TGKB график предоставлен TradingView\">График MOEX.TGKB</a> предоставлен <a href=\"https://ru.tradingview.com/chart/?offer_id=10&amp;aff_id=1339\" onclick=\"window.fz('track', 'Forum Tradingview')\">TradingView</a><br/>\n",
       "</p>\n",
       "<img alt=\"ТГК-2 логотип\" src=\"/uploads/articles/00/19/47/thumbnail.webp?4398\" title=\"ТГК-2 логотип\" width=\"200\">\n",
       "</img></div>\n",
       "<div class=\"posts\" id=\"forum_last_posts\">\n",
       "<div class=\"post bluid_191278\">\n",
       "<a class=\"post_inner\" href=\"/trading/%D0%A3%D0%9A%D0%9E%D0%9B#comment16139538\" rel=\"nofollow\">\n",
       "<div class=\"logo\">\n",
       "<img src=\"/templates/skin/smart-lab-new/images/logo.png?4398\">\n",
       "</img></div>\n",
       "<h3 class=\"title\">УКОЛ</h3>\n",
       "<div class=\"meta\"><time class=\"time\" datetime=\"2023-10-04T20:21:27+03:00\">20:21</time>•<span class=\"author\">Корзин Помойкович</span>\n",
       "</div>\n",
       "<div class=\"cmtp\"> \n",
       "Тазик Огурцов, Возможно, что внутри какая-нибудь падла саботировала. Тут чётенько пендосский след прослеживается. Вся эта компашка продажных реформаторских крыс наверняка занесла кому надо коробки ...</div>\n",
       "</a>\n",
       "<a class=\"comments_count\" href=\"/trading/%D0%A3%D0%9A%D0%9E%D0%9B\" rel=\"nofollow\">8</a>\n",
       "</div>\n",
       "<div class=\"post bluid_175984\">\n",
       "<a class=\"post_inner\" href=\"/forex/usdrub#comment16139536\" rel=\"nofollow\">\n",
       "<div class=\"logo\">\n",
       "<img alt=\"Логотип Доллар рубль\" loading=\"lazy\" src=\"/uploads/articles/00/34/20/thumbnail.webp?4398\">\n",
       "</img></div>\n",
       "<h3 class=\"title\">Доллар рубль</h3>\n",
       "<div class=\"meta\"><time class=\"time\" datetime=\"2023-10-04T20:20:47+03:00\">20:20</time>•<span class=\"author\">ALOR_broker</span>\n",
       "</div>\n",
       "<div class=\"cmtp\">Как грамотно заработать на долларе по 100. Арбитражный метод с опционным хеджем. Доллар по 100 сейчас не обсуждает только ленивый. Но одно дело обсуждать, а другое извлечь из этого прибыль грамотным с...</div>\n",
       "</a>\n",
       "<a class=\"comments_count\" href=\"/forex/usdrub\" rel=\"nofollow\">181</a>\n",
       "</div>\n",
       "<div class=\"post bluid_27309\">\n",
       "<a class=\"post_inner\" href=\"/bonds/ofz#comment16139532\" rel=\"nofollow\">\n",
       "<div class=\"logo\">\n",
       "<img alt=\"Логотип ОФЗ\" loading=\"lazy\" src=\"/uploads/articles/00/29/48/thumbnail.webp?4398\">\n",
       "</img></div>\n",
       "<h3 class=\"title\">ОФЗ</h3>\n",
       "<div class=\"meta\"><time class=\"time\" datetime=\"2023-10-04T20:19:18+03:00\">20:19</time>•<span class=\"author\">chem1 (Сергей Нужнов)</span>\n",
       "</div>\n",
       "<div class=\"cmtp\">Размещение ОФЗ Очередное размещение от Минфина. Предложен всего один выпуск, новиночка — ОФЗ-ПК серии 29025, в объеме остатков доступный для размещения в указанном выпуске. \n",
       " \n",
       " \n",
       "ОФЗ 29025 с погашен...</div>\n",
       "</a>\n",
       "<a class=\"comments_count\" href=\"/bonds/ofz\" rel=\"nofollow\">16</a>\n",
       "</div>\n",
       "<div class=\"post bluid_136639\">\n",
       "<a class=\"post_inner\" href=\"/forex/EURUSD#comment16139530\" rel=\"nofollow\">\n",
       "<div class=\"logo\">\n",
       "<img alt=\"Логотип EURUSD\" loading=\"lazy\" src=\"/uploads/articles/00/37/14/thumbnail.webp?4398\">\n",
       "</img></div>\n",
       "<h3 class=\"title\">EURUSD</h3>\n",
       "<div class=\"meta\"><time class=\"time\" datetime=\"2023-10-04T20:18:53+03:00\">20:18</time>•<span class=\"author\">compasdv</span>\n",
       "</div>\n",
       "<div class=\"cmtp\">Завтра безработица опять хорошие данные выдаст — шортим евробакс</div>\n",
       "</a>\n",
       "<a class=\"comments_count\" href=\"/forex/EURUSD\" rel=\"nofollow\">12</a>\n",
       "</div>\n",
       "<div class=\"post bluid_8614\">\n",
       "<a class=\"post_inner\" href=\"/trading/oil#comment16139529\" rel=\"nofollow\">\n",
       "<div class=\"logo\">\n",
       "<img alt=\"Логотип Нефть\" loading=\"lazy\" src=\"/uploads/articles/00/35/90/thumbnail.webp?4398\">\n",
       "</img></div>\n",
       "<h3 class=\"title\">Нефть</h3>\n",
       "<div class=\"meta\"><time class=\"time\" datetime=\"2023-10-04T20:18:45+03:00\">20:18</time>•<span class=\"author\">Балабанов Александр 💎</span>\n",
       "</div>\n",
       "<div class=\"cmtp\">🛢Мысли по нефти 📉  \n",
       " \n",
       "87$ базовый актив ( — 4,50%), наш фьюч 87,80, контанго = 0,80$. \n",
       "Дневка только сегодня погрузилась в зону перепроданности, но прыгать в лонг сломя голову всей котлетой тоже не...</div>\n",
       "</a>\n",
       "<a class=\"comments_count\" href=\"/trading/oil\" rel=\"nofollow\">19</a>\n",
       "</div>\n",
       "<div class=\"post bluid_122242\">\n",
       "<a class=\"post_inner\" href=\"/trading/natural-gas#comment16139526\" rel=\"nofollow\">\n",
       "<div class=\"logo\">\n",
       "<img alt=\"Логотип натуральный газ\" loading=\"lazy\" src=\"/uploads/articles/00/54/60/thumbnail.webp?4398\">\n",
       "</img></div>\n",
       "<h3 class=\"title\">натуральный газ</h3>\n",
       "<div class=\"meta\"><time class=\"time\" datetime=\"2023-10-04T20:18:23+03:00\">20:18</time>•<span class=\"author\">Мираж</span>\n",
       "</div>\n",
       "<div class=\"cmtp\">кукл уже с потрохами увяз с этими контрактами, \n",
       "но у меня вообще то тоже часть зависла не проданная  \n",
       "поставил ему — пусть жрет, болезный. \n",
       "</div>\n",
       "</a>\n",
       "<a class=\"comments_count\" href=\"/trading/natural-gas\" rel=\"nofollow\">35</a>\n",
       "</div>\n",
       "<div class=\"post bluid_20638\">\n",
       "<a class=\"post_inner\" href=\"/forum/ASTR#comment16139524\" rel=\"nofollow\">\n",
       "<div class=\"logo\">\n",
       "<img src=\"/templates/skin/smart-lab-new/images/logo.png?4398\">\n",
       "</img></div>\n",
       "<h3 class=\"title\">Группа Астра</h3>\n",
       "<div class=\"meta\"><time class=\"time\" datetime=\"2023-10-04T20:17:50+03:00\">20:17</time>•<span class=\"author\">Microbe in the shell</span>\n",
       "</div>\n",
       "<div class=\"cmtp\"> \n",
       "Степан Грозный, Убунту ещё больше сэкономит в таком случае</div>\n",
       "</a>\n",
       "<a class=\"comments_count\" href=\"/forum/ASTR\" rel=\"nofollow\">10</a>\n",
       "</div>\n",
       "<div class=\"post bluid_18744\">\n",
       "<a class=\"post_inner\" href=\"/forum/SBER#comment16139523\" rel=\"nofollow\">\n",
       "<div class=\"logo\">\n",
       "<img alt=\"Логотип Сбербанк\" loading=\"lazy\" src=\"/uploads/2021/articles/00/19/00/thumbnail.webp?4398\">\n",
       "</img></div>\n",
       "<h3 class=\"title\">Сбербанк</h3>\n",
       "<div class=\"meta\"><time class=\"time\" datetime=\"2023-10-04T20:17:28+03:00\">20:17</time>•<span class=\"author\">не бык</span>\n",
       "</div>\n",
       "<div class=\"cmtp\"> \n",
       "Куплю газпром по 5 рублей,  \n",
       " \n",
       "Запропали!?</div>\n",
       "</a>\n",
       "<a class=\"comments_count\" href=\"/forum/SBER\" rel=\"nofollow\">95</a>\n",
       "</div>\n",
       "<div class=\"post bluid_183050\">\n",
       "<a class=\"post_inner\" href=\"/forum/TEMS#comment16139509\" rel=\"nofollow\">\n",
       "<div class=\"logo\">\n",
       "<img alt=\"Логотип ТИНЬКОФФ РАЗВИВАЮЩИЕСЯ РЫНКИ | Тинькофф Emerging Markets\" loading=\"lazy\" src=\"/uploads/2023/articles/00/78/69/thumbnail.webp?4398\">\n",
       "</img></div>\n",
       "<h3 class=\"title\">ТИНЬКОФФ РАЗВИВАЮЩИЕСЯ РЫНКИ | Тинькофф Emerging Markets</h3>\n",
       "<div class=\"meta\"><time class=\"time\" datetime=\"2023-10-04T20:13:38+03:00\">20:13</time>•<span class=\"author\">RayDalio</span>\n",
       "</div>\n",
       "<div class=\"cmtp\">Считаю, что это отличный фонд, позволяет сразу вложить деньги в такие акции как: \n",
       "Vale SA \n",
       "Industrial &amp; Commercial Bank of China  \n",
       "Petroleo Brasileiro SA \n",
       "Saudi Arabian Oil Co. \n",
       "Li Auto Inc.  \n",
       "P...</div>\n",
       "</a>\n",
       "<a class=\"comments_count\" href=\"/forum/TEMS\" rel=\"nofollow\">1</a>\n",
       "</div>\n",
       "<div class=\"post bluid_63308\">\n",
       "<a class=\"post_inner\" href=\"/trading/vigvam#comment16139508\" rel=\"nofollow\">\n",
       "<div class=\"logo\">\n",
       "<img alt=\"Логотип Вигвам на берегу Гудзон-реки\" loading=\"lazy\" src=\"/uploads/2022/articles/00/77/55/thumbnail.webp?4398\">\n",
       "</img></div>\n",
       "<h3 class=\"title\">Вигвам на берегу Гудзон-реки</h3>\n",
       "<div class=\"meta\"><time class=\"time\" datetime=\"2023-10-04T20:13:05+03:00\">20:13</time>•<span class=\"author\">TRD</span>\n",
       "</div>\n",
       "<div class=\"cmtp\"></div>\n",
       "</a>\n",
       "<a class=\"comments_count\" href=\"/trading/vigvam\" rel=\"nofollow\">63</a>\n",
       "</div>\n",
       "</div>\n",
       "<a class=\"all_forums\" href=\"/forums/\" rel=\"nofollow\">Все форумы</a>\n",
       "</aside>\n",
       "</div>\n",
       "<a id=\"factors\" name=\"factors\"></a>\n",
       "<div class=\"company_description\">\n",
       "<h2>\n",
       "\t\t\t\t\t\tТГК-2 - факторы роста и падения акций\n",
       "\t\t\t\t\t</h2>\n",
       "<div class=\"reasons\">\n",
       "<div class=\"reasons-up\">\n",
       "\t\t\t\t\t\t\t\t\t\t\t\t\t\t \n",
       "\t\t\t\t\t\t\t\t\t\t\t\t\t\t\t\t\t\t\t\t</div>\n",
       "<div class=\"reasons-down\">\n",
       "<ul class=\"list-reasons2\">\n",
       "<li>Нерентабельная компания с высоким уровнем долговой нагрузки <span>(30.10.2021)</span></li>\n",
       "<li>Высокие процентные платежи уводят свободный денежный поток в минус <span>(08.05.2023)</span></li>\n",
       "</ul>\n",
       "</div>\n",
       "</div>\n",
       "<div class=\"reasons_mistake\">\n",
       "\t\t\t\t\t\t⚠️ Если вы считаете, что какой-то фактор роста/падения больше не является актуальным, выделите его и нажмите CTRL+ENTER на клавиатуре, чтобы сообщить нам.\n",
       "\t\t\t\t\t</div>\n",
       "</div>\n",
       "<div class=\"company_description company_description--text\" data-id=\"1947\" data-type=\"article\">\n",
       "<h2>ТГК-2 - описание компании</h2>\n",
       "\t\t\t\t\tОАО «Территориальная генерирующая компания №2» (ТГК-2) создано в апреле 2005 года. ТГК-2 является одной из крупнейших теплоэнергетических компаний Северо-Западного и Центрального федеральных округов России. ТГК-2 занимается производством электрической и тепловой энергии и реализацией тепла (пара и горячей воды) потребителям. Предприятия компании расположены в Архангельской, Вологодской, Костромской, Новгородской и Ярославской областях РФ, и в г Скопье (Македония).\n",
       "\t\t\t\t</div>\n",
       "<div class=\"brokers_block\">\n",
       "<div class=\"mart_head\">Чтобы купить акции, выберите надежного брокера:</div>\n",
       "<span><a href=\"https://www.finam.ru/services/promo00096/?AgencyBAckofficeID=1&amp;agent=17FDE70F-5D0A-4DE9-809E-A9F5334CE8DD\" onclick=\"window.fz('track', 'Forum Footer Finam Click')\" target=\"_blank\"><img height=\"40\" loading=\"lazy\" src=\"/templates/skin/smart-lab-x3/images/brokers-panel/finam-grey.png?4398\" width=\"150\"/></a></span>\n",
       "<span><a href=\"http://bcs.ru/?refid=7695\" onclick=\"window.fz('track', 'Forum Footer BCS')\" target=\"_blank\"><img height=\"40\" loading=\"lazy\" src=\"/templates/skin/smart-lab-x3/images/brokers-panel/bks-grey.png?4398\" width=\"150\"/></a></span>\n",
       "</div>\n",
       "<div class=\"news-wrapper\">\n",
       "<hgroup class=\"news-head\">\n",
       "<h2><a href=\"/forum/news/TGKB/\" title=\"ТГК-2 новости\">Новости ТГК-2</a></h2>\n",
       "</hgroup>\n",
       "</div>\n",
       "</div>\n",
       "</div>\n",
       "<footer class=\"fooooooter\">\n",
       "<div class=\"flinks\">\n",
       "<div>\n",
       "<span>Блоги</span>\n",
       "<a href=\"/allblog/\">Лента всех блогов</a><br>\n",
       "<a href=\"/favtop/\">Самые полезные</a><br/>\n",
       "<a href=\"/top/topic/24h/by_comments/\">Самые комментируемые</a><br/>\n",
       "<a href=\"/news/\">Новости</a><br/>\n",
       "<a href=\"/blog/tradesignals/\">Торговые сигналы</a><br/>\n",
       "<a href=\"/vopros/\">Ответы на вопросы</a><br/>\n",
       "<a href=\"/blog/reviews/\">Книжные рецензии</a><br/>\n",
       "<a href=\"/company/\">Корпоративные</a>\n",
       "</br></div>\n",
       "<div>\n",
       "<span>Форумы</span>\n",
       "<a href=\"/forums/\">Лента всех форумов</a><br/>\n",
       "<a href=\"/trading/\">Общие темы</a><br/>\n",
       "<a href=\"/forum/\">Форум акций</a><br/>\n",
       "<a href=\"/algotrading/\">Форум алготрейдинг</a><br/>\n",
       "<a href=\"/options/\">Форум опционы</a><br/>\n",
       "<a href=\"/crypto/\">Форум криптовалют</a><br/>\n",
       "<a href=\"/forex/\">Форум Forex</a><br/>\n",
       "<a href=\"/brokers-rating/\">Рейтинг брокеров</a>\n",
       "</div>\n",
       "<div>\n",
       "<span>Акции</span>\n",
       "<a href=\"/q/map/\">Карта рынка</a><br/>\n",
       "<a href=\"/q/shares/\">Котировки</a><br/>\n",
       "<a href=\"/q/shares_fundamental/\">Фундаментальный анализ</a><br/>\n",
       "<a href=\"/q/shares_fundamental/\">Отчеты компаний</a><br/>\n",
       "<a href=\"/dividends/\">Дивиденды</a><br/>\n",
       "<a href=\"/q/portfolio/\">Мой портфель</a><br/>\n",
       "<a href=\"/forum/sectors/\">Все компании</a><br/>\n",
       "<a href=\"/calendar/stocks/\">Календарь акций</a>\n",
       "</div>\n",
       "<div>\n",
       "<span>Смартлаб</span>\n",
       "<a href=\"/page/values/\">Ценности смартлаба</a><br/>\n",
       "<a href=\"/page/privacy/\">Политика Конфиденциальности</a><br/>\n",
       "<a href=\"/page/sitemap/\">Карта сайта</a><br/>\n",
       "<a href=\"https://mediakit.smart-lab.ru/\">Реклама</a><br/>\n",
       "<a href=\"/page/contact/\">Контакты</a><br/>\n",
       "<a href=\"/blog/mytrading/5161.php\">Правила</a><br/>\n",
       "<a href=\"/page/help/\">Помощь</a><br/>\n",
       "<a href=\"/trading/%D0%97%D0%B0%D0%B4%D0%B0%D0%B9%20%D0%B2%D0%BE%D0%BF%D1%80%D0%BE%D1%81%20%D0%A2%D0%B8%D0%BC%D0%BE%D1%84%D0%B5%D1%8E%20%D0%9C%D0%B0%D1%80%D1%82%D1%8B%D0%BD%D0%BE%D0%B2%D1%83\">Обратная связь</a><br/>\n",
       "</div>\n",
       "</div>\n",
       "</footer>\n",
       "<div class=\"hidden_menu mob_menu_btn\">\n",
       "<div class=\"icon-menu\">\n",
       "<span></span>\n",
       "<span></span>\n",
       "<span></span>\n",
       "</div>\n",
       "</div>\n",
       "<aside class=\"company_bar\">\n",
       "<ul class=\"links-to-forum links-to-forum--flex\">\n",
       "<li style=\"list-style: none; display: inline\"><h2>ТГК-2</h2></li>\n",
       "<li><a href=\"/forum/news/TGKB/\" title=\"ТГК-2 новости\"><img alt=\"ТГК-2 новости\" src=\"/templates/skin/smart-lab-new/images/forum-menu/news.svg?4398\"><span>Новости ТГК-2</span></img></a></li>\n",
       "<li><a href=\"/forum/forecast/TGKB/\" title=\"Прогнозы по акциям  ТГК-2\"><img alt=\"Прогнозы по акциям ТГК-2\" src=\"/templates/skin/smart-lab-new/images/premium.svg?4398\"><span>Прогнозы по акциям</span></img></a></li>\n",
       "<li><a href=\"/q/TGKB/f/y/\"><img alt=\"Финансовая Отчетность\" src=\"/templates/skin/smart-lab-new/images/forum-menu/reports.svg?4398\"/><span>Финансовая Отчетность</span></a></li>\n",
       "<li><a href=\"/q/TGKB/dividend/\"><img alt=\"Дивиденды\" src=\"/templates/skin/smart-lab-new/images/forum-menu/dividends.svg?4398\"/><span>Дивиденды</span></a></li>\n",
       "<li><a href=\"/gr/MOEX.TGKB\"><img alt=\"График акций TGKB\" src=\"/templates/skin/smart-lab-new/images/forum-menu/charts.svg?4398\"/><span>График акций TGKB</span></a></li>\n",
       "<li><a href=\"/gr/MOEX.TGKBP\"><img alt=\"График акций TGKBP\" src=\"/templates/skin/smart-lab-new/images/forum-menu/charts.svg?4398\"/><span>График акций TGKBP</span></a></li>\n",
       "<li><a href=\"#factors\"><img alt=\"Факторы роста и падения\" src=\"/templates/skin/smart-lab-new/images/forum-menu/factors.svg?4398\"/><span>Факторы роста и падения</span></a></li>\n",
       "<li><a href=\"/q/TGKB/f/l/\"><img alt=\"Отчеты и презентации\" src=\"/templates/skin/smart-lab-new/images/forum-menu/reports-all.svg?4398\"/><span>Отчеты и презентации</span></a></li>\n",
       "<li><a href=\"/q/TGKB/shareholders/\"><img alt=\"Структура акционеров\" src=\"/templates/skin/smart-lab-new/images/forum-menu/shareholders-structure.svg?4398\"/><span>Структура акционеров</span></a></li>\n",
       "<li><a href=\"http://www.tgc-2.ru/investors/securities/\" rel=\"nofollow\" target=\"_blank\"><img alt=\"Сайт для акционеров\" src=\"/templates/skin/smart-lab-new/images/forum-menu/shareholders-website.svg?4398\"/><span>Сайт для акционеров</span></a></li> <li><a href=\"/chat/?x=1947\" rel=\"nofollow\" style=\"color: #00f500\" title=\"Чат акций ТГК-2\"><img alt=\"ТГК-2 чат\" src=\"/templates/skin/smart-lab-new/images/forum-menu/chat.svg?4398\"/><span>ТГК-2 чат</span></a></li>\n",
       "</ul>\n",
       "<ul class=\"links-to-forum links-to-forum--flex\">\n",
       "<li style=\"list-style: none; display: inline\"><h2>Акции ММВБ</h2></li>\n",
       "<li><a href=\"/q/portfolio/\"><img alt=\"Мой портфель\" src=\"/templates/skin/smart-lab-new/images/forum-menu/portfolio.svg?4398\"/><span>Мой портфель</span></a></li>\n",
       "<li><a href=\"/q/shares/\"><img alt=\"Котировки акций России\" src=\"/templates/skin/smart-lab-new/images/forum-menu/quotes.svg?4398\"/><span>Котировки акций РФ</span></a></li>\n",
       "<li><a href=\"/q/usa/\"><img alt=\"Котировки акций США\" src=\"/templates/skin/smart-lab-new/images/forum-menu/quotes.svg?4398\"/><span>Котировки акций США</span></a></li>\n",
       "<li><a href=\"/forum/sectors/\"><img alt=\"Компании по секторам\" src=\"/templates/skin/smart-lab-new/images/forum-menu/companies.svg?4398\"/><span>Компании по секторам</span></a></li>\n",
       "<li><a href=\"/q/shares_fundamental/\"><img alt=\"ФА скринер\" src=\"/templates/skin/smart-lab-new/images/forum-menu/fa-screener.svg?4398\"/><span>ФА скринер</span></a></li>\n",
       "<li><a href=\"/dividends/\"><img alt=\"Дивиденды ММВБ\" src=\"/templates/skin/smart-lab-new/images/forum-menu/dividends-mmvb.svg?4398\"/><span>Дивиденды ММВБ</span></a></li>\n",
       "<li><a href=\"/people/all/order_by_stocks/desc/\" rel=\"nofollow\"><img alt=\"Рейтинг участников\" src=\"/templates/skin/smart-lab-new/images/forum-menu/rating.svg?4398\"/><span>Рейтинг участников</span></a></li>\n",
       "</ul>\n",
       "<ul class=\"links-to-forum\" id=\"readers\" url=\"/cgi-bin/views.fcgi?page=4e9921cd9e2c11ba39dbbcad1e689876&amp;page_url=https%3A%2F%2Fsmart-lab.ru%2Fforum%2FTGKB&amp;page_title=%D0%A2%D0%93%D0%9A-2&amp;uid=0&amp;func=readersBlockBuilder\"></ul>\n",
       "</aside>\n",
       "<!--Верхняя навигация-->\n",
       "<header class=\"topbar\">\n",
       "<div class=\"upbar\">\n",
       "<div class=\"upbar_menu\">\n",
       "<button aria-label=\"Главное меню сайта\" class=\"hamburger hamburger--vortex\" type=\"button\">\n",
       "<span class=\"hamburger-box\">\n",
       "<span class=\"hamburger-inner\"></span>\n",
       "</span>\n",
       "</button>\n",
       "</div>\n",
       "<div class=\"upbar_logo\">\n",
       "<h5>\n",
       "<a href=\"/\">SMART-LAB</a>\n",
       "</h5>\n",
       "</div>\n",
       "<div class=\"upbar_search\">\n",
       "<div class=\"search_q\">\n",
       "<input autocompleter=\"/forum/ajaxsearch/\" name=\"q\" placeholder=\"Ищу компанию..\" type=\"text\"/>\n",
       "</div>\n",
       "<div class=\"mobile_search\">\n",
       "<a class=\"mobile_search__toggle\">\n",
       "<img alt=\"Поиск\" src=\"/templates/skin/smart-lab-new/images/baseline_search_white.png?4398\"/>\n",
       "</a>\n",
       "<div class=\"mobile_search__overlay\"></div>\n",
       "<div class=\"mobile_search__input\">\n",
       "<input autocompleter=\"/forum/ajaxsearch/\" name=\"q\" placeholder=\"Ищу компанию..\" type=\"text\"/>\n",
       "</div>\n",
       "</div>\n",
       "<div class=\"abc-link\">\n",
       "<div class=\"drop-menu-main\">\n",
       "<div class=\"drop-down\">\n",
       "<span id=\"abc1\">A...</span>\n",
       "<div class=\"drop-menu-main-sub\">\n",
       "<div class=\"alphabet\" style=\"width: 360px\">\n",
       "<a href=\"/forum/letter/А/\" title='Показать все компании на букву \"А\"'>А</a>\n",
       "<a href=\"/forum/letter/Б/\" title='Показать все компании на букву \"Б\"'>Б</a>\n",
       "<a href=\"/forum/letter/В/\" title='Показать все компании на букву \"В\"'>В</a>\n",
       "<a href=\"/forum/letter/Г/\" title='Показать все компании на букву \"Г\"'>Г</a>\n",
       "<a href=\"/forum/letter/Д/\" title='Показать все компании на букву \"Д\"'>Д</a>\n",
       "<a href=\"/forum/letter/Е/\" title='Показать все компании на букву \"Е\"'>Е</a>\n",
       "<a href=\"/forum/letter/Ж/\" title='Показать все компании на букву \"Ж\"'>Ж</a>\n",
       "<a href=\"/forum/letter/З/\" title='Показать все компании на букву \"З\"'>З</a>\n",
       "<a href=\"/forum/letter/И/\" title='Показать все компании на букву \"И\"'>И</a>\n",
       "<a href=\"/forum/letter/К/\" title='Показать все компании на букву \"К\"'>К</a>\n",
       "<a href=\"/forum/letter/Л/\" title='Показать все компании на букву \"Л\"'>Л</a>\n",
       "<a href=\"/forum/letter/М/\" title='Показать все компании на букву \"М\"'>М</a>\n",
       "<a href=\"/forum/letter/Н/\" title='Показать все компании на букву \"Н\"'>Н</a>\n",
       "<a href=\"/forum/letter/О/\" title='Показать все компании на букву \"О\"'>О</a>\n",
       "<a href=\"/forum/letter/П/\" title='Показать все компании на букву \"П\"'>П</a>\n",
       "<a href=\"/forum/letter/Р/\" title='Показать все компании на букву \"Р\"'>Р</a>\n",
       "<a href=\"/forum/letter/С/\" title='Показать все компании на букву \"С\"'>С</a>\n",
       "<a href=\"/forum/letter/Т/\" title='Показать все компании на букву \"Т\"'>Т</a>\n",
       "<a href=\"/forum/letter/У/\" title='Показать все компании на букву \"У\"'>У</a>\n",
       "<a href=\"/forum/letter/Ф/\" title='Показать все компании на букву \"Ф\"'>Ф</a>\n",
       "<a href=\"/forum/letter/Х/\" title='Показать все компании на букву \"Х\"'>Х</a>\n",
       "<a href=\"/forum/letter/Ц/\" title='Показать все компании на букву \"Ц\"'>Ц</a>\n",
       "<a href=\"/forum/letter/Ч/\" title='Показать все компании на букву \"Ч\"'>Ч</a>\n",
       "<a href=\"/forum/letter/Ш/\" title='Показать все компании на букву \"Ш\"'>Ш</a>\n",
       "<a href=\"/forum/letter/Щ/\" title='Показать все компании на букву \"Щ\"'>Щ</a>\n",
       "<a href=\"/forum/letter/Э/\" title='Показать все компании на букву \"Э\"'>Э</a>\n",
       "<a href=\"/forum/letter/Ю/\" title='Показать все компании на букву \"Ю\"'>Ю</a>\n",
       "<a href=\"/forum/letter/Я/\" title='Показать все компании на букву \"Я\"'>Я</a>\n",
       "<a href=\"/forum/letter/A/\" title='Показать все компании на букву \"A\"'>A</a>\n",
       "<a href=\"/forum/letter/B/\" title='Показать все компании на букву \"B\"'>B</a>\n",
       "<a href=\"/forum/letter/C/\" title='Показать все компании на букву \"C\"'>C</a>\n",
       "<a href=\"/forum/letter/D/\" title='Показать все компании на букву \"D\"'>D</a>\n",
       "<a href=\"/forum/letter/E/\" title='Показать все компании на букву \"E\"'>E</a>\n",
       "<a href=\"/forum/letter/F/\" title='Показать все компании на букву \"F\"'>F</a>\n",
       "<a href=\"/forum/letter/G/\" title='Показать все компании на букву \"G\"'>G</a>\n",
       "<a href=\"/forum/letter/H/\" title='Показать все компании на букву \"H\"'>H</a>\n",
       "<a href=\"/forum/letter/I/\" title='Показать все компании на букву \"I\"'>I</a>\n",
       "<a href=\"/forum/letter/J/\" title='Показать все компании на букву \"J\"'>J</a>\n",
       "<a href=\"/forum/letter/K/\" title='Показать все компании на букву \"K\"'>K</a>\n",
       "<a href=\"/forum/letter/L/\" title='Показать все компании на букву \"L\"'>L</a>\n",
       "<a href=\"/forum/letter/M/\" title='Показать все компании на букву \"M\"'>M</a>\n",
       "<a href=\"/forum/letter/N/\" title='Показать все компании на букву \"N\"'>N</a>\n",
       "<a href=\"/forum/letter/O/\" title='Показать все компании на букву \"O\"'>O</a>\n",
       "<a href=\"/forum/letter/P/\" title='Показать все компании на букву \"P\"'>P</a>\n",
       "<a href=\"/forum/letter/Q/\" title='Показать все компании на букву \"Q\"'>Q</a>\n",
       "<a href=\"/forum/letter/R/\" title='Показать все компании на букву \"R\"'>R</a>\n",
       "<a href=\"/forum/letter/S/\" title='Показать все компании на букву \"S\"'>S</a>\n",
       "<a href=\"/forum/letter/T/\" title='Показать все компании на букву \"T\"'>T</a>\n",
       "<a href=\"/forum/letter/U/\" title='Показать все компании на букву \"U\"'>U</a>\n",
       "<a href=\"/forum/letter/V/\" title='Показать все компании на букву \"V\"'>V</a>\n",
       "<a href=\"/forum/letter/W/\" title='Показать все компании на букву \"W\"'>W</a>\n",
       "<a href=\"/forum/letter/X/\" title='Показать все компании на букву \"X\"'>X</a>\n",
       "<a href=\"/forum/letter/Y/\" title='Показать все компании на букву \"Y\"'>Y</a>\n",
       "<a href=\"/forum/letter/Z/\" title='Показать все компании на букву \"Z\"'>Z</a>\n",
       "<a href=\"/forum/last/\" title=\"Последние добавленные компании\">....</a>\n",
       "</div>\n",
       "</div>\n",
       "</div>\n",
       "</div>\n",
       "</div>\n",
       "</div>\n",
       "<div class=\"upbar_login\">\n",
       "<a href=\"/login/\" title=\"Войти или зарегистрироваться\"><img alt=\"Вход\" class=\"mart_login\" src=\"/templates/skin/smart-lab-new/images/login_btn.svg?4398\"/></a>\n",
       "</div>\n",
       "</div>\n",
       "</header>\n",
       "<div class=\"undermenu_more_main clickmenu\" id=\"undermenu_more_main\">\n",
       "<div class=\"menu_columns\">\n",
       "<div class=\"menu_column\">\n",
       "<div class=\"menu_column__item\">\n",
       "<h4 class=\"menu_column__title\">Ленты</h4>\n",
       "<ul class=\"menu_column__list\">\n",
       "<li><a href=\"/allpremium/\"><img alt=\"PREMIUM\" loading=\"lazy\" onclick=\"window.fz('track', 'old main_menu mozgovik click')\" src=\"/templates/skin/smart-lab-new/images/premium.svg?4398\"/><span>PREMIUM</span></a></li>\n",
       "<li><a class=\"menu_bg__orange\" href=\"/allblog/\"><img alt=\"Все блоги\" loading=\"lazy\" src=\"/templates/skin/smart-lab-new/images/main-menu/all-blog.svg?4398\"><span>Все блоги</span></img></a></li>\n",
       "<li><a class=\"menu_bg__green\" href=\"/chat/\"><img alt=\"Чат\" loading=\"lazy\" src=\"/templates/skin/smart-lab-new/images/main-menu/chat.svg?4398\"><span>Чат</span></img></a></li>\n",
       "<li><a class=\"menu_bg__green\" href=\"/news/\"><img alt=\"Новости\" loading=\"lazy\" src=\"/templates/skin/smart-lab-new/images/main-menu/news.svg?4398\"><span>Новости</span></img></a></li>\n",
       "<li><a href=\"/flow/\">Поток</a></li>\n",
       "<li><a href=\"/blog/tradesignals/\">Сигналы</a></li>\n",
       "<li><a href=\"/forums/\">Форумы</a></li>\n",
       "<li><a class=\"menu_bg__green\" href=\"/top/\"><img alt=\"Топ 24\" loading=\"lazy\" src=\"/templates/skin/smart-lab-new/images/main-menu/top24.svg?4398\"/><span>Топ 24</span></a></li>\n",
       "<li><a href=\"/vopros/\">Вопросы</a></li>\n",
       "<li><a href=\"/smartlab-tv/\">Видео</a></li>\n",
       "<li><a href=\"/blog/offtop/\" rel=\"nofollow\">Оффтоп</a></li>\n",
       "</ul>\n",
       "</div>\n",
       "</div>\n",
       "<!-- second column -->\n",
       "<div class=\"menu_column\">\n",
       "<div class=\"menu_column__item\">\n",
       "<h4 class=\"menu_column__title\">Форумы</h4>\n",
       "<ul class=\"menu_column__list\">\n",
       "<li><a class=\"menu_bg__orange\" href=\"/forum/\">Форум акций</a></li>\n",
       "<li><a href=\"/trading/\">Общий</a></li>\n",
       "<li><a href=\"/bonds/\">Облигации</a></li>\n",
       "<li><a href=\"/algotrading/\">Торговые роботы</a></li>\n",
       "<li><a href=\"/options/\">Опционы</a></li>\n",
       "<li><a href=\"/forex/\">Forex</a></li>\n",
       "<li><a href=\"/banki/\">Банки</a></li>\n",
       "<li><a href=\"/brokers-rating/\">Брокеры</a></li>\n",
       "</ul>\n",
       "</div>\n",
       "<div class=\"menu_column__item\">\n",
       "<h4 class=\"menu_column__title\">Участники</h4>\n",
       "<ul class=\"menu_column__list\">\n",
       "<li><a class=\"menu_bg__green\" href=\"/people/\"><img alt=\"Люди\" loading=\"lazy\" src=\"/templates/skin/smart-lab-new/images/main-menu/people.svg?4398\"/><span>Люди</span></a></li>\n",
       "<li><a href=\"/company/\"><img alt=\"Компании\" loading=\"lazy\" src=\"/templates/skin/smart-lab-new/images/main-menu/companies.svg?4398\"/><span>Компании</span></a></li>\n",
       "</ul>\n",
       "</div>\n",
       "</div>\n",
       "<!-- third column -->\n",
       "<div class=\"menu_column\">\n",
       "<div class=\"menu_column__item\">\n",
       "<h4 class=\"menu_column__title\">Котировки</h4>\n",
       "<ul class=\"menu_column__list\">\n",
       "<li><a class=\"menu_bg__orange\" href=\"/q/shares/\"><img alt=\"Котировки акций\" loading=\"lazy\" src=\"/templates/skin/smart-lab-new/images/main-menu/quotes.svg?4398\"/><span>Котировки акций</span></a></li>\n",
       "<li><a href=\"/q/ofz/\"><img alt=\"Облигации федерального займа\" loading=\"lazy\" src=\"/templates/skin/smart-lab-new/images/main-menu/ofz.svg?4398\"/><span>ОФЗ</span></a></li>\n",
       "<li><a class=\"menu_bg__green\" href=\"/q/map/\">Карта рынка</a></li>\n",
       "<li><a href=\"/q/futures/\">Фьючерсы</a></li>\n",
       "<li><a href=\"/q/world-quotes/\">Мир/FX/Сырье/Крипта</a></li>\n",
       "<li><a href=\"/g/\"><img alt=\"Графики онлайн\" loading=\"lazy\" src=\"/templates/skin/smart-lab-new/images/main-menu/charts.svg?4398\"/><span>Графики онлайн</span></a></li>\n",
       "</ul>\n",
       "</div>\n",
       "<div class=\"menu_column__item\">\n",
       "<h4 class=\"menu_column__title\">Акции</h4>\n",
       "<ul class=\"menu_column__list\">\n",
       "<li><a class=\"menu_bg__orange\" href=\"/dividends/\"><img alt=\"Дивиденды\" loading=\"lazy\" src=\"/templates/skin/smart-lab-new/images/main-menu/dividends.svg?4398\"/><span>Дивиденды</span></a></li>\n",
       "<li><a href=\"/q/shares_fundamental3/\"><img alt=\"Отчеты РСБУ/МСФО\" loading=\"lazy\" src=\"/templates/skin/smart-lab-new/images/main-menu/reports.svg?4398\"/><span>Отчеты РСБУ/МСФО</span></a>\n",
       "<li><a href=\"/q/shares_fundamental/\"><img alt=\"Фундам. анализ\" loading=\"lazy\" src=\"/templates/skin/smart-lab-new/images/main-menu/fundamental.svg?4398\"/><span>Фундам. анализ</span></a></li>\n",
       "</li></ul>\n",
       "</div>\n",
       "</div>\n",
       "<!-- four column -->\n",
       "<div class=\"menu_column\">\n",
       "<div class=\"menu_column__item\">\n",
       "<h4 class=\"menu_column__title\">Календарь</h4>\n",
       "<ul class=\"menu_column__list\">\n",
       "<li><a class=\"menu_bg__green\" href=\"/calendar/stocks/\"><img alt=\"Акции\" loading=\"lazy\" src=\"/templates/skin/smart-lab-new/images/main-menu/shares.svg?4398\"/><span>Акции</span></a></li>\n",
       "<li><a href=\"/calendar/economic/\">Экономика</a></li>\n",
       "</ul>\n",
       "</div>\n",
       "<div class=\"menu_column__item\">\n",
       "<h4 class=\"menu_column__title\">Информация</h4>\n",
       "<ul class=\"menu_column__list\">\n",
       "<li><a href=\"/finansoviy-slovar/\"><img alt=\"Энциклопедия\" loading=\"lazy\" src=\"/templates/skin/smart-lab-new/images/main-menu/wiki.svg?4398\"/><span>Энциклопедия</span></a></li>\n",
       "<li><a href=\"/tradingreads/\">Лучшие статьи</a></li>\n",
       "</ul>\n",
       "</div>\n",
       "<div class=\"menu_column__item\">\n",
       "<h4 class=\"menu_column__title\">Книги</h4>\n",
       "<ul class=\"menu_column__list\">\n",
       "<li><a href=\"/books/\"><img alt=\"Каталог книг\" loading=\"lazy\" src=\"/templates/skin/smart-lab-new/images/main-menu/books-catalog.svg?4398\"/><span>Каталог книг</span></a></li>\n",
       "<li><a href=\"/books/top/\">100 лучших книг</a></li>\n",
       "<li><a href=\"/blog/reviews/\">Книжные рецензии</a></li>\n",
       "</ul>\n",
       "</div>\n",
       "</div>\n",
       "</div>\n",
       "</div>\n",
       "<link href=\"https://fonts.googleapis.com/css?family=Open+Sans:400,600,700\" rel=\"stylesheet\" type=\"text/css\">\n",
       "<script src=\"/templates/cache/smart-lab-new/6c437ae21bb6245a5382ade97126505c.js?4398\" type=\"text/javascript\"></script>\n",
       "<!-- Yandex.Metrika counter -->\n",
       "<script type=\"text/javascript\">\n",
       "\t\t(function(m,e,t,r,i,k,a){m[i]=m[i]||function(){(m[i].a=m[i].a||[]).push(arguments)};\n",
       "\t\tm[i].l=1*new Date();k=e.createElement(t),a=e.getElementsByTagName(t)[0],k.async=1,k.src=r,a.parentNode.insertBefore(k,a)})\n",
       "\t\t(window, document, \"script\", \"https://mc.yandex.ru/metrika/tag.js\", \"ym\");\n",
       "\n",
       "\t\tym(32877692, \"init\", {\n",
       "\t\tclickmap:true,\n",
       "\t\ttrackLinks:true,\n",
       "\t\taccurateTrackBounce:true,\n",
       "\t\twebvisor:true\n",
       "\t\t});\n",
       "\t\t</script>\n",
       "<noscript><div><img alt=\"\" src=\"https://mc.yandex.ru/watch/32877692\" style=\"position:absolute; left:-9999px;\"/></div></noscript>\n",
       "<!-- /Yandex.Metrika counter -->\n",
       "<!--LiveInternet counter--><a href=\"//www.liveinternet.ru/click\" id=\"li_counter\" target=\"_blank\"><img alt=\"\" height=\"31\" id=\"licnt497C\" src=\"data:image/gif;base64,R0lGODlhAQABAIAAAAAAAP///yH5BAEAAAEALAAAAAABAAEAAAIBTAA7\" style=\"border:0\" title=\"LiveInternet: показано число просмотров за 24 часа, посетителей за 24 часа и за сегодня\" width=\"88\"/></a><script>(function(d,s){d.getElementById(\"licnt497C\").src=\n",
       "\t\t\"//counter.yadro.ru/hit?t18.3;r\"+escape(d.referrer)+\n",
       "\t\t((typeof(s)==\"undefined\")?\"\":\";s\"+s.width+\"*\"+s.height+\"*\"+\n",
       "\t\t(s.colorDepth?s.colorDepth:s.pixelDepth))+\";u\"+escape(d.URL)+\n",
       "\t\t\";h\"+escape(d.title.substring(0,150))+\";\"+Math.random()})\n",
       "\t\t(document,screen)</script><!--/LiveInternet-->\n",
       "<!-- poll_dialog_block -->\n",
       "</link></body>\n",
       "</html>"
      ]
     },
     "execution_count": 126,
     "metadata": {},
     "output_type": "execute_result"
    }
   ],
   "source": [
    "soup"
   ]
  },
  {
   "cell_type": "code",
   "execution_count": 131,
   "metadata": {},
   "outputs": [],
   "source": [
    "comments = soup.find_all(\"li\", attrs={\"data-type\":\"comment\"})"
   ]
  },
  {
   "cell_type": "code",
   "execution_count": 172,
   "metadata": {},
   "outputs": [
    {
     "data": {
      "text/plain": [
       "bs4.element.Tag"
      ]
     },
     "execution_count": 172,
     "metadata": {},
     "output_type": "execute_result"
    }
   ],
   "source": [
    "type(comment)"
   ]
  },
  {
   "cell_type": "code",
   "execution_count": 48,
   "metadata": {},
   "outputs": [
    {
     "data": {
      "text/plain": [
       "['LNZLP', 'IDVP', 'BELU', 'TGKN', 'MISB']"
      ]
     },
     "execution_count": 48,
     "metadata": {},
     "output_type": "execute_result"
    }
   ],
   "source": [
    "[np.random.choice(tokens) for i in range(5)]\n"
   ]
  },
  {
   "cell_type": "code",
   "execution_count": 180,
   "metadata": {},
   "outputs": [
    {
     "data": {
      "text/plain": [
       "<li class=\"cm_wrap bluid_31628\" data-id=\"10645580\" data-type=\"comment\"><a name=\"comment10645580\"></a><a aria-label=\"Профиль Victor Glukhov\" href=\"/profile/Rbaker/\" rel=\"nofollow\"><img alt=\"Аватар Victor Glukhov\" class=\"avtr_box\" loading=\"lazy\" src=\"/uploads/2021/images/03/16/28/2021/10/11/avatar_100x100.webp?4398\"/></a><div class=\"cmt_body\"><div><span><a class=\"a_name trader_other\" href=\"/profile/Rbaker/\" rel=\"nofollow\">Victor Glukhov</a></span><a class=\"a_time\" href=\"/forum/TGKB/goto_comment_10645580/#comment10645580\" rel=\"nofollow\" target=\"_blank\"><time datetime=\"2020-02-13T11:21:11+03:00\">13 февраля 2020, 11:21</time></a></div><div class=\"text\">С июля 2018-ого, до февраля 2020-ого цена почти не менялась.<br/>\n",
       "Если смотреть на графике (месяц) — всё это выглядит как прямая нитка. Вот и долгожданное сильное движение цены.<br/>\n",
       "Такая же история была перед ростов в 2017-ом.</div><div class=\"cm_ftr\"><a class=\"reply\" href=\"/login/\" rel=\"nofollow\">Ответить</a><a class=\"cm_ico th up\" href=\"/login/\" rel=\"nofollow\"></a><a class=\"cm_ico th dn\" href=\"/login/\" rel=\"nofollow\"></a><a class=\"cm_mrk\" href=\"/login/\" rel=\"nofollow\"> 0</a></div></div></li>"
      ]
     },
     "execution_count": 180,
     "metadata": {},
     "output_type": "execute_result"
    }
   ],
   "source": [
    "comment = comments[0]\n",
    "comment"
   ]
  },
  {
   "cell_type": "code",
   "execution_count": 138,
   "metadata": {},
   "outputs": [
    {
     "data": {
      "text/plain": [
       "<div class=\"cmt_body\"><div><span><a class=\"a_name trader_other\" href=\"/profile/Malikeldjebena/\" rel=\"nofollow\">Malik</a></span><a class=\"a_time\" href=\"/forum/TGKB/goto_comment_9738142/#comment9738142\" rel=\"nofollow\" target=\"_blank\"><time datetime=\"2019-05-20T16:53:54+03:00\">20 мая 2019, 16:53</time></a></div><div class=\"text\"><blockquote class=\"reply\"><blockquote class=\"reply\"><br/>\n",
       "«ТГК-2» — около 4 млрд рублей.<br/>\n",
       "</blockquote><br/>\n",
       "редактор Боб, наверное, все-таки огк-2</blockquote><br/>\n",
       "bayad, для аналитегов политизированной помойки финанза это одно и то же )</div><div class=\"cm_ftr\"><a class=\"reply\" href=\"/login/\" rel=\"nofollow\">Ответить</a><a class=\"cm_ico th up\" href=\"/login/\" rel=\"nofollow\"></a><a class=\"cm_ico th dn\" href=\"/login/\" rel=\"nofollow\"></a><a class=\"cm_mrk\" href=\"/login/\" rel=\"nofollow\"> 0</a></div></div>"
      ]
     },
     "execution_count": 138,
     "metadata": {},
     "output_type": "execute_result"
    }
   ],
   "source": [
    "cmt_body = comment.find(\"div\", class_=\"cmt_body\")\n",
    "cmt_body"
   ]
  },
  {
   "cell_type": "code",
   "execution_count": 140,
   "metadata": {},
   "outputs": [
    {
     "data": {
      "text/plain": [
       "<div class=\"cm_ftr\"><a class=\"reply\" href=\"/login/\" rel=\"nofollow\">Ответить</a><a class=\"cm_ico th up\" href=\"/login/\" rel=\"nofollow\"></a><a class=\"cm_ico th dn\" href=\"/login/\" rel=\"nofollow\"></a><a class=\"cm_mrk\" href=\"/login/\" rel=\"nofollow\"> 0</a></div>"
      ]
     },
     "execution_count": 140,
     "metadata": {},
     "output_type": "execute_result"
    }
   ],
   "source": [
    "cmt_text = cmt_body.find(\"div\", class_=\"text\")\n",
    "likes = cmt_body.find(\"div\", class_=\"cm_ftr\")\n",
    "likes"
   ]
  },
  {
   "cell_type": "code",
   "execution_count": 142,
   "metadata": {},
   "outputs": [
    {
     "data": {
      "text/plain": [
       "'\\r\\n«ТГК-2» — около 4 млрд рублей.\\n\\r\\nредактор Боб, наверное, все-таки огк-2\\r\\nbayad, для аналитегов политизированной помойки финанза это одно и то же )'"
      ]
     },
     "execution_count": 142,
     "metadata": {},
     "output_type": "execute_result"
    }
   ],
   "source": [
    "cmt_text.text"
   ]
  },
  {
   "cell_type": "code",
   "execution_count": 149,
   "metadata": {},
   "outputs": [
    {
     "data": {
      "text/plain": [
       "0"
      ]
     },
     "execution_count": 149,
     "metadata": {},
     "output_type": "execute_result"
    }
   ],
   "source": [
    "int(likes.find(\"a\", class_=\"cm_mrk\").text)"
   ]
  },
  {
   "cell_type": "code",
   "execution_count": 175,
   "metadata": {},
   "outputs": [
    {
     "data": {
      "text/plain": [
       "' 0'"
      ]
     },
     "execution_count": 175,
     "metadata": {},
     "output_type": "execute_result"
    }
   ],
   "source": [
    "cmt_body.find(\"a\", class_=\"cm_mrk\").text"
   ]
  },
  {
   "cell_type": "code",
   "execution_count": 33,
   "metadata": {},
   "outputs": [],
   "source": [
    "import datetime\n",
    "import arrow\n",
    "import bs4"
   ]
  },
  {
   "cell_type": "code",
   "execution_count": 160,
   "metadata": {},
   "outputs": [
    {
     "data": {
      "text/plain": [
       "datetime.datetime(2019, 5, 20, 16, 53, 54, tzinfo=tzoffset(None, 10800))"
      ]
     },
     "execution_count": 160,
     "metadata": {},
     "output_type": "execute_result"
    }
   ],
   "source": [
    "cmt_time = arrow.get(cmt_body.find(\"time\").get(\"datetime\")).datetime\n",
    "cmt_time"
   ]
  },
  {
   "cell_type": "code",
   "execution_count": 167,
   "metadata": {},
   "outputs": [
    {
     "data": {
      "text/plain": [
       "'Malikeldjebena'"
      ]
     },
     "execution_count": 167,
     "metadata": {},
     "output_type": "execute_result"
    }
   ],
   "source": [
    "user_id = cmt_body.find(\"a\", class_=\"a_name trader_other\").get(\"href\").split(\"/\")[2]\n",
    "user_id"
   ]
  },
  {
   "cell_type": "code",
   "execution_count": 171,
   "metadata": {},
   "outputs": [
    {
     "data": {
      "text/plain": [
       "False"
      ]
     },
     "execution_count": 171,
     "metadata": {},
     "output_type": "execute_result"
    }
   ],
   "source": [
    "entitiled = not cmt_body.find(\"a\", class_=\"image_true\") is None\n",
    "entitiled"
   ]
  },
  {
   "cell_type": "code",
   "execution_count": 41,
   "metadata": {},
   "outputs": [],
   "source": [
    "def extract_comment_data(comment: bs4.element.Tag) -> dict:\n",
    "    \"\"\"\n",
    "    Extract valuable data from a comment and package it into a dictionary.\n",
    "\n",
    "    :param comment: The comment element.\n",
    "    :type comment: bs4.element.Tag\n",
    "    :return: Extracted data as a dictionary.\n",
    "    :rtype: dict\n",
    "    \"\"\"\n",
    "    comment_body = comment.find(\"div\", class_=\"cmt_body\")\n",
    "    return dict(\n",
    "        comment_text = comment_body.find(\"div\", class_=\"text\").text,\n",
    "        comment_score = int(comment_body.find(\"a\", class_=\"cm_mrk\").text.replace(\" \", \"\")),\n",
    "        comment_datetime = arrow.get(comment_body.find(\"time\").get(\"datetime\")).datetime,\n",
    "        user_id = comment_body.find(\"a\", class_=\"a_name trader_other\").get(\"href\").split(\"/\")[2],\n",
    "        badges = not comment_body.find(\"a\", class_=\"image_true\") is None,\n",
    "        )"
   ]
  },
  {
   "cell_type": "code",
   "execution_count": 27,
   "metadata": {},
   "outputs": [
    {
     "data": {
      "text/plain": [
       "'<!DOCTYPE html>\\n<html lang=\"ru\">\\n\\t<head>\\n\\t\\t<title>Форум акции Абрау-Дюрсо (ABRD), страница 19</title>\\n\\t\\t<meta http-equiv=\"content-type\" content=\"text/html; charset=utf-8\" />\\n\\t\\t<meta name=\"viewport\" content=\"width=device-width, initial-scale=1\">\\n\\t\\t<meta name=\"DESCRIPTION\" content=\"Обсуждение и комментарии инвесторов по акциям Абрау-Дюрсо. Прогноз курса акций Абрау-Дюрсо страница 19\"/>\\t\\t<meta name=\"KEYWORDS\" content=\"Абрау-Дюрсо, обсуждение компании, информация о компании, новости компании.\"/>\\t\\t\\t\\t<meta name=\\'yandex-verification\\' content=\\'69df339e9279f161\\' />\\n\\t\\t<meta name=\"PartnerFinam\" content=\"17fde70f-5d0a-4de9-809e-a9f5334ce8dd\">\\n\\t\\t\\n\\t\\t<link rel=\"preconnect\" href=\"https://mc.yandex.ru\">\\n\\t\\t<link rel=\"preconnect\" href=\"//counter.yadro.ru\">\\n\\t\\t<link rel=\"preconnect\" href=\"https://www.googletagmanager.com\">\\n\\t\\t\\t\\t<link rel=\"dns-prefetch\" href=\"https://yastatic.net\">\\n\\t\\t\\t\\t\\t\\t<link rel=\"dns-prefetch\" href=\"https://content.mql5.com\">\\n\\t\\t\\n\\t\\t<meta name=\"push-subscribes\" content=\"no\">\\n\\t\\t<meta property=\"fb:app_id\" content=\"353607944842117\" /><meta property=\"og:type\" content=\"website\" /><meta property=\"og:title\" content=\"Форум акции Абрау-Дюрсо (ABRD), страница 19\" /><meta property=\"og:url\" content=\"https://smart-lab.ru/forum/ABRD\" /><meta property=\"og:description\" content=\"Обсуждение, комментарии, фундаментальный разбор по акциям Абрау-Дюрсо. Прогноз курса акций Абрау-Дюрсо\" /><meta property=\"og:site_name\" content=\"smart-lab.ru - Мы делаем деньги на бирже\" /><meta property=\"og:locale\" content=\"ru_RU\" /><meta property=\"og:image\" content=\"https://smart-lab.ru/uploads/articles/00/20/50/thumbnail.webp\" /><meta property=\"og:image:type\" content=\"image/webp\" /><meta name=\"twitter:image\" content=\"https://smart-lab.ru/uploads/articles/00/20/50/thumbnail.webp\" />\\n\\t\\t\\n\\t\\t<!-- Global Site Tag (gtag.js) - Google Analytics -->\\n\\t\\t<script async src=\"https://www.googletagmanager.com/gtag/js?id=UA-16537214-3\"></script>\\n\\t\\t<script>\\n\\t\\twindow.dataLayer = window.dataLayer || [];\\n\\t\\tfunction gtag(){dataLayer.push(arguments);}\\n\\t\\tgtag(\\'js\\', new Date());\\n\\t\\tgtag(\\'config\\', \\'UA-16537214-3\\', {\\n\\t\\t\\t\\t\\'custom_map\\': {\\n\\t\\t\\t\\t\\t\\'dimension1\\' : \\'user_registred\\',\\n\\t\\t\\t\\t\\t\\'dimension2\\' : \\'content_owner\\'\\n\\n\\t\\t\\t\\t},\\n\\n\\t\\t\\t\\t\\'user_registred\\': \\'No\\',\\n\\t\\t\\t\\t\\'content_owner\\': \\'No\\'\\t\\t});\\n\\t\\t</script>\\n\\t\\t\\n\\n\\t\\t<link rel=\"manifest\" href=\"/manifest.json\">\\n\\t\\t<link rel=\"canonical\" href=\"https://smart-lab.ru/forum/ABRD\">\\n\\t\\t<link rel=\"prev\" href=\"/forum/ABRD/page18/\">\\t\\t<link rel=\"next\" href=\"/forum/ABRD/page20/\">\\n\\t\\t\\t\\t<link rel=\"alternate\" type=\"application/rss+xml\" href=\"/forum/ABRD/rss/\" title=\"Абрау-Дюрсо - последние комментарии о компании\">\\n\\t\\t\\t\\n\\n\\t\\t<link rel=\\'stylesheet\\' type=\\'text/css\\' href=\\'/templates/cache/smart-lab-new/0b84ec1574a7a88f70ad5d055c7db28c.css?4404\\' />\\n<!--[if lt IE 8]><link rel=\\'stylesheet\\' type=\\'text/css\\' href=\\'/plugins/trade/templates/skin/default/css/hook.console.ltie8.css?4404\\' /><![endif]-->\\n\\n\\n\\t\\t\\n\\t\\t<link href=\"/templates/skin/smart-lab-new/images/favicon.ico\" rel=\"shortcut icon\">\\n\\n\\t\\t<script type=\"text/javascript\">\\n\\n\\t\\t\\tvar DIR_WEB_ROOT = \\'https://smart-lab.ru\\';\\n\\t\\t\\tvar DIR_STATIC_SKIN = \\'/templates/skin/smart-lab-new\\';\\n\\t\\t\\tvar TINYMCE_LANG = \\'ru\\';\\n\\t\\t\\tvar LIVESTREET_SECURITY_KEY = \\'fd8ad318e9844750ee0c6c9566c0f6ff\\';\\n\\n\\t\\t\\t\\n\\t\\t</script>\\n\\n\\t\\t\\n\\n\\t\\t<!--Скрипт ADFOX-->\\n\\t<script defer src=\"https://yandex.ru/ads/system/header-bidding.js\"></script>\\n\\t<script>window.yaContextCb = window.yaContextCb || []</script>\\n\\t<script src=\"/templates/skin/smart-lab-new/js/adfox_hbc.js?4404\"></script>\\n\\t<script src=\"https://yandex.ru/ads/system/context.js\" async></script>\\n\\t<script src=\"https://content.adriver.ru/AdRiverFPS.js\" async></script>\\n\\t\\n\\t\\t\\n\\t<script type=\"text/javascript\">\\n\\t(function(a,e,f,g,b,c,d){a[b]||(a.FintezaCoreObject=b,a[b]=a[b]||function(){(a[b].q=a[b].q||[]).push(arguments)},a[b].l=1*new Date,c=e.createElement(f),d=e.getElementsByTagName(f)[0],c.async=!0,c.defer=!0,c.src=g,d&&d.parentNode&&d.parentNode.insertBefore(c,d))})\\n\\t(window,document,\"script\",\"https://content.mql5.com/core.js\",\"fz\");\\n\\tfz(\"register\",\"website\",\"ddhmfkdhagrouzesxgjyvzdhtcwwubymll\");\\n\\t</script>\\n\\t\\n\\t\\n\\t</head>\\n\\t<body class=\"stock_forum\">\\n\\t\\t<!-- user_warning_block -->\\n\\n\\t\\t<div class=\"right_scroller\">\\n\\t\\t\\t<div class=\"scroll_up\">\\n\\t\\t\\t\\t<a href=\"#top\" rel=\"nofollow\" aria-label=\"Проскрулить вверх сайта\"></a>\\n\\t\\t\\t</div>\\n\\n\\t\\t\\t<div class=\"scroll_down\">\\n\\t\\t\\t\\t<a href=\"#bottom\" rel=\"nofollow\" aria-label=\"Проскрулить вниз сайта\"></a>\\n\\t\\t\\t</div>\\n\\t\\t</div>\\n\\t\\t<div class=\"forum_content\">\\n\\t\\t\\t\\t\\t\\t<div class=\"navibar\">\\n\\t\\t\\t\\t<ul class=\"navitext\">\\n\\n\\t\\t\\t\\t\\t\\t\\t\\t\\t\\t\\n\\t\\t\\t\\t\\t\\t\\n\\t\\t\\t\\t\\t\\t\\t\\t\\t\\t\\t\\t\\t\\t\\t\\t\\t\\t\\t\\t\\t\\t\\t\\t\\t\\t\\t\\t\\t\\t<li><a href=\"/\">смартлаб</a></li>\\n\\t\\t\\t\\t\\t\\t\\t\\t\\t\\t\\t\\t\\t\\t\\t\\t\\t\\t\\t\\t\\t\\t\\t\\t\\t\\t\\t\\n\\t\\t\\t\\t\\t\\n\\t\\t\\t\\t\\t\\t<li>&gt;</li>\\n\\t\\t\\t\\t\\t\\t\\t\\t\\t\\t\\t\\t\\t\\t\\t\\t\\t\\t\\t\\t\\t\\t\\t\\t\\t\\t\\t\\t\\t\\t<li><a href=\"/forums/\">форумы</a></li>\\n\\t\\t\\t\\t\\t\\t\\t\\t\\t\\t\\t\\t\\t\\t\\t\\t\\t\\t\\t\\t\\t\\t\\t\\t\\t\\t\\t\\n\\t\\t\\t\\t\\t\\n\\t\\t\\t\\t\\t\\t<li>&gt;</li>\\n\\t\\t\\t\\t\\t\\t\\t\\t\\t\\t\\t\\t\\t\\t\\t\\t\\t\\t\\t\\t\\t\\t\\t\\t\\t\\t\\t\\t\\t\\t\\t\\t\\t\\t\\t\\t\\t\\t\\t\\t\\t\\t\\t\\t\\t\\t\\t\\t\\t\\t\\t\\t\\t\\t\\t\\t\\t\\t\\t\\t\\t\\t\\t\\t\\t\\t\\t\\t\\t\\t\\t\\t\\t<li class=\"drop-menu-main navigation\">\\n\\t\\t\\t\\t\\t\\t<span class=\"drop-down\">\\n\\t\\t\\t\\t\\t\\t\\t<a href=\"/forum/\">форум акций</a>\\n\\t\\t\\t\\t\\t\\t\\t<span class=\"upbar_arrow\"></span>\\n\\t\\t\\t\\t\\t\\t</span>\\n\\n\\t\\t\\t\\t\\t\\t<div class=\"drop-menu-main-sub\">\\n\\t\\t\\t\\t\\t\\t\\t\\t\\t\\t\\t\\t\\t\\t<a href=\"/bonds/\">облигации</a>\\n\\t\\t\\t\\t\\t\\t\\t\\t\\t\\t\\t\\t\\t\\t<a href=\"/trading/\">общий форум</a>\\n\\t\\t\\t\\t\\t\\t\\t\\t\\t\\t\\t\\t\\t\\t<a href=\"/forex/\">forex</a>\\n\\t\\t\\t\\t\\t\\t\\t\\t\\t\\t\\t\\t\\t\\t<a href=\"/crypto/\">крипта</a>\\n\\t\\t\\t\\t\\t\\t\\t\\t\\t\\t\\t\\t\\t\\t<a href=\"/algotrading/\">алготрейдинг</a>\\n\\t\\t\\t\\t\\t\\t\\t\\t\\t\\t\\t\\t\\t\\t<a href=\"/options/\">опционы</a>\\n\\t\\t\\t\\t\\t\\t\\t\\t\\t\\t\\t\\t\\t\\t<a href=\"/trading-software/\">трейдинг софт</a>\\n\\t\\t\\t\\t\\t\\t\\t\\t\\t\\t\\t\\t\\t\\t<a href=\"/banki/\">банки</a>\\n\\t\\t\\t\\t\\t\\t\\t\\t\\t\\t\\t\\t\\t\\t<a href=\"/finansoviy-slovar/\">финансовый словарь</a>\\n\\t\\t\\t\\t\\t\\t\\t\\t\\t\\t\\t\\t\\t\\t<a href=\"/brokers-rating/\">брокеры</a>\\n\\t\\t\\t\\t\\t\\t\\t\\t\\t\\t\\t\\t\\t</div>\\n\\t\\t\\t\\t\\t</li>\\n\\t\\t\\t\\t\\t\\t\\t\\t\\t\\t\\t\\t\\t\\t\\t\\t\\t\\t\\t\\t\\t\\t\\t\\t\\t\\t\\t\\t\\t\\t\\t\\t\\t\\t\\t<li>|</li>\\t\\t\\t\\t\\t\\t\\t\\t\\n\\t\\t\\t\\t\\t\\t\\t\\t\\t\\t\\t\\t\\t\\t\\t\\t\\t\\t\\t\\t\\t\\t\\t\\t\\t\\t\\t\\t\\t\\t\\t\\t\\t\\t\\t\\t\\t\\t\\t\\t\\t\\t\\t\\t\\t\\t\\t\\t\\t\\t\\t\\t\\t\\t\\t<li><a href=\"/q/shares/\">котировки акций</a></li>\\n\\t\\t\\t\\t\\t\\t\\t\\t\\t\\t\\t\\t\\t\\t\\t\\t\\t\\t\\t\\t\\t\\t\\t\\t\\t\\t\\t\\t\\t\\t\\t\\t\\t\\t\\t\\t\\t\\t\\t\\t\\t\\t\\t\\n\\t\\t\\t\\t\\t\\t\\t\\t\\t\\t\\t\\t\\t\\t\\t\\t\\t\\t\\t\\n\\t\\t\\t\\t\\t\\n\\t\\t\\t\\t\\t\\t<li>&gt;</li>\\n\\t\\t\\t\\t\\t\\t\\t\\t\\t\\t\\t\\t\\t\\t\\t\\t\\t\\t\\t\\t\\t\\t\\t\\t\\t\\t\\t\\t\\t\\t<li><a href=\"/forum/ABRD\">Абрау-Дюрсо</a></li>\\n\\t\\t\\t\\t\\t\\t\\t\\t\\t\\t\\t\\t\\t\\t\\t\\t\\t\\t\\t\\t\\t\\t\\t\\t\\t\\t\\t\\n\\t\\t\\t\\t\\t\\t\\t\\t\\t</ul>\\n\\t\\t\\t</div>\\n\\t\\t\\t\\n\\t\\t\\t\\n\\n\\t\\t\\t\\t\\t\\t<div class=\"banner\">\\n\\t\\t\\t\\t\\n\\t\\t\\t\\t<div id=\"topic-top-banner\" class=\"post-page__banner-img\"></div>\\n\\t\\t\\t\\t<script type=\"text/javascript\">\\n\\t\\t\\t\\t\\tmakeBanner(document.getElementById(\\'topic-top-banner\\'));\\n\\t\\t\\t\\t</script>\\n\\t\\t\\t\\t\\n\\t\\t\\t</div>\\n\\t\\t    \\n\\t\\t\\t\\n\\t\\t\\t\\n\\t\\t\\t<div class=\"forum_top_panel\">\\n\\t\\t\\t\\t\\t\\t\\t\\t<div class=\"graph_button guest-close-button hidden\" title=\"скрыть/показать график, календарь и фундаментал\"></div>\\n\\t\\t\\t\\t\\n\\t\\t\\t\\t<div class=\"chart_wrapper\">\\n\\n\\t\\t\\t\\t\\t\\t\\t\\t\\t\\t<div id=\"trading_view_container\" class=\"chart_wrapper1\" ticker=\"MOEX.ABRD\"></div>\\n\\t\\t\\t\\t\\t\\n\\t\\t\\t\\t\\t<div class=\"chart_wrapper2\">\\n\\t\\t\\t\\t\\t\\t<div class=\"chart_wrapper\">\\n\\t\\t\\t\\t\\t\\t\\t\\t\\t\\t\\t\\t\\t\\t<table class=\"fundam_table\">\\n\\t\\t\\t\\t\\t\\t\\t\\t<tr>\\n\\t\\t\\t\\t\\t\\t\\t\\t\\t<td><a href=\"/q/ABRD/f/y/MSFO/number_of_shares/\">Число акций ао</a></td>\\n\\t\\t\\t\\t\\t\\t\\t\\t\\t<td>98 млн</td>\\n\\t\\t\\t\\t\\t\\t\\t\\t</tr>\\n\\t\\t\\t\\t\\t\\t\\t\\t\\n\\t\\t\\t\\t\\t\\t\\t\\t<tr>\\n\\t\\t\\t\\t\\t\\t\\t\\t\\t<td>Номинал ао</td>\\n\\t\\t\\t\\t\\t\\t\\t\\t\\t<td>1 руб</td>\\n\\t\\t\\t\\t\\t\\t\\t\\t</tr>\\n\\n\\t\\t\\t\\t\\t\\t\\t\\t\\n\\t\\t\\t\\t\\t\\t\\t\\t\\t\\t\\t\\t\\t\\t\\t\\t<tr>\\n\\t\\t\\t\\t\\t\\t\\t\\t\\t<td>Тикер ао</td>\\n\\t\\t\\t\\t\\t\\t\\t\\t\\t<td>\\n\\t\\t\\t\\t\\t\\t\\t\\t\\t\\t<ul>\\n\\t\\t\\t\\t\\t\\t\\t\\t\\t\\t\\t\\t\\t\\t\\t\\t\\t\\t\\t\\t<li title=\"MOEX.ABRD\">ABRD</li>\\t\\t\\t\\t\\t\\t\\t\\t\\t\\t\\t\\t\\t\\t\\t\\t\\t\\t\\t\\t</ul>\\n\\t\\t\\t\\t\\t\\t\\t\\t\\t</td>\\n\\t\\t\\t\\t\\t\\t\\t\\t</tr>\\n\\t\\t\\t\\t\\t\\t\\t\\t\\n\\t\\t\\t\\t\\t\\t\\t\\t\\n\\t\\t\\t\\t\\t\\t\\t</table>\\n\\n\\t\\t\\t\\t\\t\\t\\t<table class=\"fundam_table\">\\n\\t\\t\\t\\t\\t\\t\\t\\t<tr>\\n\\t\\t\\t\\t\\t\\t\\t\\t\\t<td><a href=\"/q/shares_fundamental2/?field=market_cap&sector_id%5B%5D=26\">Капит-я</a></td>\\n\\t\\t\\t\\t\\t\\t\\t\\t\\t<td>30,4 млрд</td>\\n\\t\\t\\t\\t\\t\\t\\t\\t</tr>\\n\\n\\t\\t\\t\\t\\t\\t\\t\\t<tr>\\n\\t\\t\\t\\t\\t\\t\\t\\t\\t\\t\\t\\t\\t\\t\\t\\t\\t\\t<td><a href=\"/q/shares_fundamental2/?field=revenue&sector_id%5B%5D=26\">Выручка</a></td>\\n\\t\\t\\t\\t\\t\\t\\t\\t\\t<td>14,0 млрд</td>\\n\\t\\t\\t\\t\\t\\t\\t\\t\\t\\t\\t\\t\\t\\t\\t\\t\\t</tr>\\n\\n\\t\\t\\t\\t\\t\\t\\t\\t\\t\\t\\t\\t\\t\\t\\t\\t<tr>\\n\\t\\t\\t\\t\\t\\t\\t\\t\\t<td><a href=\"/q/shares_fundamental2/?field=ebitda&sector_id%5B%5D=26\">EBITDA</a></td>\\n\\t\\t\\t\\t\\t\\t\\t\\t\\t<td>3,1 млрд</td>\\n\\t\\t\\t\\t\\t\\t\\t\\t</tr>\\n\\t\\t\\t\\t\\t\\t\\t\\t\\n\\t\\t\\t\\t\\t\\t\\t\\t<tr>\\n\\t\\t\\t\\t\\t\\t\\t\\t\\t<td><a href=\"/q/shares_fundamental2/?field=net_income&sector_id%5B%5D=26\">Прибыль</a></td>\\n\\t\\t\\t\\t\\t\\t\\t\\t\\t<td>2,0 млрд</td>\\n\\t\\t\\t\\t\\t\\t\\t\\t</tr>\\n\\n\\t\\t\\t\\t\\t\\t\\t\\t\\t\\t\\t\\t\\t\\t\\t\\t<tr>\\n\\t\\t\\t\\t\\t\\t\\t\\t\\t<td><a href=\"/q/ABRD/dividend/\">Дивиденд ао</a></td>\\n\\t\\t\\t\\t\\t\\t\\t\\t\\t<td>6,33</td>\\n\\t\\t\\t\\t\\t\\t\\t\\t</tr>\\n\\t\\t\\t\\t\\t\\t\\t\\t\\n\\t\\t\\t\\t\\t\\t\\t\\t\\t\\t\\t\\t\\t\\t\\t\\t\\n\\n\\t\\t\\t\\t\\t\\t\\t</table>\\n\\n\\t\\t\\t\\t\\t\\t\\t<table class=\"fundam_table\">\\n\\t\\t\\t\\t\\t\\t\\t\\t<tr>\\n\\t\\t\\t\\t\\t\\t\\t\\t\\t<td><a href=\"/q/shares_fundamental2/?field=p_e&sector_id%5B%5D=26\">P/E</a></td>\\n\\t\\t\\t\\t\\t\\t\\t\\t\\t<td>15,2</td>\\n\\t\\t\\t\\t\\t\\t\\t\\t</tr>\\n\\n\\t\\t\\t\\t\\t\\t\\t\\t\\t\\t\\t\\t\\t\\t\\t\\t<tr>\\n\\t\\t\\t\\t\\t\\t\\t\\t\\t<td><a href=\"/q/shares_fundamental2/?field=p_s&sector_id%5B%5D=26\">P/S</a></td>\\n\\t\\t\\t\\t\\t\\t\\t\\t\\t<td>2,2</td>\\n\\t\\t\\t\\t\\t\\t\\t\\t</tr>\\n\\t\\t\\t\\t\\t\\t\\t\\t\\n\\t\\t\\t\\t\\t\\t\\t\\t<tr>\\n\\t\\t\\t\\t\\t\\t\\t\\t\\t\\t\\t\\t\\t\\t\\t\\t\\t\\t<td><a href=\"/q/shares_fundamental2/?field=p_bv&sector_id%5B%5D=26\">P/BV</a></td>\\n\\t\\t\\t\\t\\t\\t\\t\\t\\t<td>2,5</td>\\t\\t\\t\\t\\t\\t\\t\\t\\t\\n\\t\\t\\t\\t\\t\\t\\t\\t\\t\\t\\t\\t\\t\\t\\t\\t\\t</tr>\\n\\n\\t\\t\\t\\t\\t\\t\\t\\t\\n\\t\\t\\t\\t\\t\\t\\t\\t<tr>\\n\\t\\t\\t\\t\\t\\t\\t\\t\\t\\t\\t\\t\\t\\t\\t\\t\\t\\t<td><a href=\"/q/shares_fundamental2/?field=ev_ebitda&sector_id%5B%5D=26\">EV/EBITDA</a></td>\\n\\t\\t\\t\\t\\t\\t\\t\\t\\t<td>12,8</td>\\n\\t\\t\\t\\t\\t\\t\\t\\t\\t\\t\\t\\t\\t\\t\\t\\t\\t</tr>\\n\\t\\t\\t\\t\\t\\t\\t\\t\\n\\n\\t\\t\\t\\t\\t\\t\\t\\t\\t\\t\\t\\t\\t\\t\\t\\t<tr>\\n\\t\\t\\t\\t\\t\\t\\t\\t\\t<td><a href=\"/q/ABRD/dividend/\">Див.доход ао</a></td>\\n\\t\\t\\t\\t\\t\\t\\t\\t\\t<td>2,0%</td>\\n\\t\\t\\t\\t\\t\\t\\t\\t</tr>\\n\\t\\t\\t\\t\\t\\t\\t\\t\\n\\t\\t\\t\\t\\t\\t\\t\\t\\t\\t\\t\\t\\t\\t\\t</table>\\n\\n\\t\\t\\t\\t\\t\\t\\t<span style=\"font-size: 12px; margin: 16px; color:gray\">* Все показатели рассчитываются по данным за последние 12 месяцев (LTM)</span>\\n\\t\\t\\t\\t\\t\\t\\t\\n\\t\\t\\t\\t\\t\\t\\t\\t\\t\\t\\t\\t\\t\\t<table class=\"fundam_table calendar\" style=\"width: 100%\">\\n\\t\\t\\t\\t\\t\\t\\t\\t<tr><td colspan=\"2\" class=\"head\">Абрау-Дюрсо Календарь Акционеров</td></tr>\\n\\t\\t\\t\\t\\t\\t\\t\\t\\n\\t\\t\\t\\t\\t\\t\\t\\t<tr>\\n\\t\\t\\t\\t\\t\\t\\t\\t\\t<td class=\"fter\">\\n\\t\\t\\t\\t\\t\\t\\t\\t\\t\\t<a href=\"/forum/ABRD/last_events/\">Прошедшие события</a> <a href=\"/calendar/add/?type_1=company_reports&amp;stock_1=%D0%90%D0%B1%D1%80%D0%B0%D1%83-%D0%94%D1%8E%D1%80%D1%81%D0%BE\" rel=\"nofollow\">Добавить событие</a>\\n\\t\\t\\t\\t\\t\\t\\t\\t\\t</td>\\n\\t\\t\\t\\t\\t\\t\\t\\t</tr>\\n\\t\\t\\t\\t\\t\\t\\t</table>\\n\\t\\t\\t\\t\\t\\t\\t\\n\\t\\t\\t\\t\\t\\t</div>\\n\\t\\t\\t\\t\\t</div>\\n\\t\\t\\t\\t</div>\\n\\t\\t\\t\\n\\t\\t\\t\\t<div class=\"nocenter page-title\"><div class=\"page-title__text\"><img src=\"/uploads/article_flags/0.png?4404\" alt=\"Россия\"><h1>Абрау-Дюрсо акции</h1></div><div class=\"temp_micex_info\"><span class=\"temp_micex_info_item\"><i>310₽</i><span id=\"down\">&nbsp;&nbsp;<i>-1.4%</i></span></span></div></div>\\n\\t\\t\\t</div>\\n\\n\\t\\t\\t\\t\\t\\t<div class=\"forum-top-buttons\">\\n\\t\\t\\t\\t\\t\\t\\t\\t\\t\\t\\t\\t\\t\\n\\t\\t\\t\\t\\t\\t\\t\\t\\t\\t\\t\\t<div class=\"drop-menu-main full_width\">\\n\\t\\t\\t\\t\\t\\t\\t<div class=\"drop-down\">\\n\\t\\t\\t\\t\\t\\t\\t\\t\\t\\t\\t\\t\\t\\t\\t\\t<a id=\"buy\" title=\"Купить акции Абрау-Дюрсо\">Купить акции Абрау-Дюрсо</a>\\n\\t\\t\\t\\t\\t\\t\\t\\t\\t\\t\\t\\t\\t\\t\\t</div>\\n\\t\\t\\t\\t\\t\\t\\t<div class=\"drop-menu-main-sub dropdown_with__logos\">\\n\\t\\t\\t\\t\\t\\t\\t\\t\\t\\t\\t\\t\\t\\t\\t\\t<a href=\"https://www.finam.ru/services/promo00096/?AgencyBAckofficeID=1&agent=17FDE70F-5D0A-4DE9-809E-A9F5334CE8DD\" target=\"_blank\" rel=\"nofollow\" onclick=\"window.fz(\\'track\\', \\'Forum BuyButton Finam Click\\')\"><i class=\"broker__img\">Купить в <i class=\"broker__logo\"><img alt=\"Финам\" src=\"/templates/skin/smart-lab-new/images/brokers/finam.png?4404\"></i><b>Финаме</b></i></a>\\n\\t\\t\\t\\t\\t\\t\\t\\t<a href=\"http://bcs.ru/?refid=7695\" target=\"_blank\" rel=\"nofollow\" onclick=\"window.fz(\\'track\\', \\'Forum BuyButton BCS\\')\"><i class=\"broker__img\">Купить в <i class=\"broker__logo\"><img alt=\"БКС Мир Инвестиций\" src=\"/templates/skin/smart-lab-new/images/brokers/bcs2.webp?4404\"></i><b>БКС Мир Инвестиций</b></i></a>\\n\\t\\t\\t\\t\\t\\t\\t\\t\\t\\t\\t\\t\\t\\t\\t</div>\\n\\t\\t\\t\\t\\t\\t</div>\\n\\t\\t\\t\\t\\t\\t\\t\\t\\t\\t\\t\\n\\t\\t\\t\\t\\t\\n\\t\\t\\t\\t\\t\\t\\n\\t\\t\\t\\t\\t\\t\\n\\t\\t\\t\\t\\t\\t\\t\\t\\t\\t\\n\\t\\t\\t\\t\\t<a id=\"comments-reverse\"  class=\"reversed\" title=\"Сменить ориентацию комментариев форума\"  href=\"/login/\" rel=\"nofollow\"></a>\\t\\t\\t\\t\\t\\t\\t\\t\\t\\t\\t\\t\\t\\t\\t\\n\\t\\t\\t\\t\\t\\t\\t\\t\\t\\t\\t\\n\\t\\t\\t\\t\\t\\t\\t\\t\\t\\t\\t\\t\\t\\t\\t\\t\\t\\t\\t\\t\\t\\t\\t\\t\\n\\t\\t\\t\\t\\t\\n\\t\\t\\t\\t\\t\\n\\t\\t\\t\\t\\t\\t\\t</div>\\n\\n\\n\\t\\t\\t<div class=\"nocenter\">\\n\\t\\t\\t\\t<div class=\"content_plus_ad\">\\n\\t\\t\\t\\t\\t<div class=\"content_wrapper\"  double-pagination>\\n\\n\\t\\t\\t\\t\\t\\t<a id=\"top\"></a>\\n\\t\\t\\t\\t\\t\\t\\t\\t\\t\\t\\t\\t<div id=\"pagination\" class=\"pagination1\"><span class=\"page gradient clock\" title=\"Выбрать дату\"><svg xmlns=\"http://www.w3.org/2000/svg\" width=\"24\" height=\"24\" viewBox=\"0 0 24 24\"><path fill=\"none\" d=\"M0 0h24v24H0V0z\"/><path d=\"M11.99 2C6.47 2 2 6.48 2 12s4.47 10 9.99 10C17.52 22 22 17.52 22 12S17.52 2 11.99 2zM12 20c-4.42 0-8-3.58-8-8s3.58-8 8-8 8 3.58 8 8-3.58 8-8 8zm.5-13H11v6l5.25 3.15.75-1.23-4.5-2.67z\"/></svg></span><a class=\"page gradient last\" href=\"/forum/ABRD/page1/\">←</a><a class=\"page gradient\" href=\"/forum/ABRD/page16/\">16</a><a class=\"page gradient\" href=\"/forum/ABRD/page17/\">17</a><a class=\"page gradient\" href=\"/forum/ABRD/page18/\">18</a><span class=\"page active\">19</span><a class=\"page gradient\" href=\"/forum/ABRD/page20/\">20</a><a class=\"page gradient\" href=\"/forum/ABRD/page21/\">21</a><a class=\"page gradient\" href=\"/forum/ABRD/page22/\">22</a><a class=\"page gradient last\" href=\"/forum/ABRD/page25/\">→</a></div>\\t\\t\\t\\t\\t\\t\\n\\t\\t\\t\\t\\t\\t\\t\\t\\t\\t\\t\\t\\t\\t\\t\\t\\t\\t\\t\\t\\t\\t\\t\\t<ol class=\"forum_cmts\" data-target-id=\"2050\" data-target-type=\"forum\" mode=\"reverse\">\\n\\t\\t\\t\\t\\t\\t\\n\\t\\t\\t\\t\\t\\t\\t\\t\\t\\t\\t\\t\\t\\n\\t\\t\\t\\t\\t\\t\\t\\n\\t\\t\\t\\t\\t\\t\\t<li class=\"cm_wrap\" id=\"commentBox\">\\n\\t\\t\\t\\t\\t\\t\\t\\t<img class=\"avtr_box\" src=\"/templates/skin/smart-lab-new/images/avatar_48x48.jpg?4404\">\\n\\t\\t\\t\\t\\t\\t\\t\\t<div class=\"cmt_body\">\\n\\t\\t\\t\\t\\t\\t\\t\\t\\t<div class=\"write_comment\">\\n\\t\\t\\t\\t\\t\\t\\t\\t\\t\\t<textarea class=\"write_comment_box autoExpand\" rows=\"1\"  placeholder=\"Что думаете про Абрау-Дюрсо?\"></textarea>\\n\\t\\t\\t\\t\\t\\t\\t\\t\\t\\t<div class=\"write_comment_images\">\\n\\n\\t\\t\\t\\t\\t\\t\\t\\t\\t\\t</div>\\n\\t\\t\\t\\t\\t\\t\\t\\t\\t\\t<div class=\"cmt_actions\">\\n\\t\\t\\t\\t\\t\\t\\t\\t\\t\\t\\t<div class=\"cmt_select-image\" data-toggle=\"tooltip\" data-placement=\"top\" title=\"добавить изображение\">\\n\\t\\t\\t\\t\\t\\t\\t\\t\\t\\t\\t\\t<input class=\"file\" type=\"file\" id=\"write_comment_image\" multiple=\"true\" />\\n\\t\\t\\t\\t\\t\\t\\t\\t\\t\\t\\t\\t<label for=\"write_comment_image\">\\n\\t\\t\\t\\t\\t\\t\\t\\t\\t\\t\\t\\t\\t<i class=\"ico ico-photo\"></i>\\n\\t\\t\\t\\t\\t\\t\\t\\t\\t\\t\\t\\t</label>\\n\\t\\t\\t\\t\\t\\t\\t\\t\\t\\t\\t</div>\\n\\t\\t\\t\\t\\t\\t\\t\\t\\t\\t\\t<div class=\"cmt_select-separator\"></div>\\n\\t\\t\\t\\t\\t\\t\\t\\t\\t\\t\\t<div class=\"cmt_select-smile\" data-toggle=\"tooltip\" data-placement=\"top\" title=\"добавить смайлик\">\\n\\t\\t\\t\\t\\t\\t\\t\\t\\t\\t\\t\\t<i class=\"ico ico-smile\"></i>\\n\\t\\t\\t\\t\\t\\t\\t\\t\\t\\t\\t</div>\\n\\t\\t\\t\\t\\t\\t\\t\\t\\t\\t\\t<div class=\"cmt_select-separator\"></div>\\n\\t\\t\\t\\t\\t\\t\\t\\t\\t\\t\\t<div class=\"cmt_select-quote\" data-toggle=\"tooltip\" data-placement=\"top\" title=\"вставить код цитаты\">\\n\\t\\t\\t\\t\\t\\t\\t\\t\\t\\t\\t\\t<i class=\"ico ico-quote\"></i>\\n\\t\\t\\t\\t\\t\\t\\t\\t\\t\\t\\t</div>\\t\\t\\t\\t\\t\\t\\t\\t\\t\\t\\t\\n\\t\\t\\t\\t\\t\\t\\t\\t\\t\\t\\t<input type=\"button\" class=\"hl submit\" value=\"Ответить\" data-type=\"reply\" />\\n\\t\\t\\t\\t\\t\\t\\t\\t\\t\\t</div>\\n\\t\\t\\t\\t\\t\\t\\t\\t\\t</div>\\n\\t\\t\\t\\t\\t\\t\\t\\t</div>\\n\\t\\t\\t\\t\\t\\t\\t</li>\\n\\n\\n\\t\\t\\t\\t\\t\\t\\t\\t\\t\\t\\t\\t\\t\\t\\t\\t\\t\\t\\t\\t<li class=\"cm_wrap bluid_41471\" data-id=\"15592488\"  data-type=\"comment\" ><a name=\"comment15592488\"></a><a href=\"/profile/editor2/\" rel=\"nofollow\" aria-label=\"Профиль Редактор Боб\"><img class=\"avtr_box\" src=\"/uploads/2021/images/04/14/71/2021/12/02/avatar_385912_100x100.webp?4404\" alt=\"Аватар Редактор Боб\" loading=\"lazy\"></a><div class=\"cmt_body\"><div><span><a class=\"a_name trader_other\" href=\"/profile/editor2/\" rel=\"nofollow\">Редактор Боб</a></span><a class=\"a_time\" href=\"/forum/ABRD/goto_comment_15592488/#comment15592488\" rel=\"nofollow\" target=\"_blank\"><time datetime=\"2023-04-21T11:34:33+03:00\">21 апреля 2023, 11:34</time></a></div><div class=\"text\">Выручка Абрау-Дюрсо за МСФО 2022 год выросла на 19%, до 13.8 млрд рублей<br /><p><a class=\"imgpreview\" href=\"/uploads/2023/images/04/14/71/2023/04/21/31e4f6.jpg\" target=\"_blank\"><img src=\"/uploads/2023/images/04/14/71/2023/04/21/163fac.webp\" alt=\"Выручка Абрау-Дюрсо за МСФО 2022 год выросла на 19%, до 13.8 млрд рублей\" title=\"Выручка Абрау-Дюрсо за МСФО 2022 год выросла на 19%, до 13.8 млрд рублей\" /><br/>\\r\\n</a><br/>\\r\\nАбрау-Дюрсо опубликовал отчётность по МСФО за 2022 год:</p><p>Выручка 13.8 млрд руб. +19% г/г<br/>\\r\\nЧистая прибыль 1.77 млрд руб. +31% г/г<br/>\\r\\nПрибыль на акцию 17.7 руб.<br/>\\r\\n<br/>\\r\\n<a href=\"/r.php?u=https%3A%2F%2Fwww.e-disclosure.ru%2Fportal%2FFileLoad.ashx%3FFileid%3D1788984&amp;s=864530610\" target=\"_blank\">www.e-disclosure.ru/portal/FileLoad.ashx?Fileid=1788984</a></p><br /><br />Авто-репост. Читать в блоге <a href=\"/blog/news/896958.php\">&gt;&gt;&gt;</a><br /></div><div class=\"cm_ftr\"><a class=\"reply\" href=\"/login/\" rel=\"nofollow\">Ответить</a><a class=\"cm_ico th up\" href=\"/login/\" rel=\"nofollow\"></a><a class=\"cm_ico th dn\" href=\"/login/\" rel=\"nofollow\"></a><a class=\"cm_mrk \" href=\"/login/\" rel=\"nofollow\"> 0</a></div></div></li>\\n\\t\\t\\t\\t\\t\\t<li class=\"cm_wrap bluid_45903\" data-id=\"15571545\"  data-type=\"comment\" ><a name=\"comment15571545\"></a><a href=\"/profile/point_31/\" rel=\"nofollow\" aria-label=\"Профиль Владимир Литвинов\"><img class=\"avtr_box\" src=\"/uploads/images/04/59/03/2018/11/01/avatar_bec33a_100x100.webp?4404\" alt=\"Аватар Владимир Литвинов\" loading=\"lazy\"></a><div class=\"cmt_body\"><div><span><a class=\"a_name trader_other\" href=\"/profile/point_31/\" rel=\"nofollow\">Владимир Литвинов</a><span class=\"image_true\" title=\"smart-lab подтверждает подлинность публичного профиля\"><img src=\"/templates/skin/smart-lab-new/images/profile/validated.svg?4404\" alt=\"Проверенный аккаунт\" /></span></span><a class=\"a_time\" href=\"/forum/ABRD/goto_comment_15571545/#comment15571545\" rel=\"nofollow\" target=\"_blank\"><time datetime=\"2023-04-16T11:20:57+03:00\">16 апреля 2023, 11:20</time></a></div><div class=\"text\">АЛРОСА и новые санкции. Абрау-Дюрсо - идея 2023 года? Психология продаж<br /><p>Друзья, хочу вас сегодня поздравить со Светлой Пасхой и представить очередное видео с фрагментом моего вебинара от 13 апреля.\\xa0Сегодня в видео обсудим возможные санкции в отношении АЛРОСА, чего от них ждать и зависимость от мировых цен на алмазы. Во второй части разберем Абрау-Дюрсо. Компания заявила о планах по производству водки и рома. Сможет ли она составить конкуренцию Белуге? Ну и напоследок пробежимся по психологии инвестирования.\\xa0</p><p><a class=\"youtube_video\" code=\"&lt;iframe width=&quot;560&quot; height=&quot;315&quot; src=&quot;//www.youtube.com/embed/kYnmJ9NiKbY&quot; frameborder=&quot;0&quot; allowfullscreen&gt;&lt;/iframe&gt;\" style=\"background-image: url(//img.youtube.com/vi/kYnmJ9NiKbY/hqdefault.jpg)\"></a></p><p><a href=\"/r.php?u=https%3A%2F%2Fwww.youtube.com%2Fwatch%3Fv%3DkYnmJ9NiKbY%26t%3D32s&amp;s=3693601032\" target=\"_blank\">00:32</a> G7 введет санкции против Алросы<br/>\\r\\n<a href=\"/r.php?u=https%3A%2F%2Fwww.youtube.com%2Fwatch%3Fv%3DkYnmJ9NiKbY%26t%3D119s&amp;s=1067715744\" target=\"_blank\">01:59</a> Позиция Индии в этом вопросе<br/>\\r\\n<a href=\"/r.php?u=https%3A%2F%2Fwww.youtube.com%2Fwatch%3Fv%3DkYnmJ9NiKbY%26t%3D428s&amp;s=2916372085\" target=\"_blank\">07:08</a> Теханализ Алросы<br/>\\r\\n<a href=\"/r.php?u=https%3A%2F%2Fwww.youtube.com%2Fwatch%3Fv%3DkYnmJ9NiKbY%26t%3D696s&amp;s=2962016441\" target=\"_blank\">11:36</a> Фундаментальный анализ акций Абрау-Дюрсо<br/>\\r\\n<a href=\"/r.php?u=https%3A%2F%2Fwww.youtube.com%2Fwatch%3Fv%3DkYnmJ9NiKbY%26t%3D1215s&amp;s=2335440233\" target=\"_blank\">20:15</a> Вывод по Абрау-Дюрсо<br/>\\r\\n<a href=\"/r.php?u=https%3A%2F%2Fwww.youtube.com%2Fwatch%3Fv%3DkYnmJ9NiKbY%26t%3D1297s&amp;s=3627439636\" target=\"_blank\">21:37</a> Психология продаж (когда фиксировать прибыль?)<br/>\\r\\n<br/>\\r\\n❤️Друзья, не забывайте ставить лайк. Это мотивирует меня и дальше делать полезные нарезки с вебинара. Ну а вам добавляет плюсик в карму. Спасибо!</p>\\xa0\\xa0<br /><br />Авто-репост. Читать в блоге <a href=\"/blog/895326.php\">&gt;&gt;&gt;</a><br /></div><div class=\"cm_ftr\"><a class=\"reply\" href=\"/login/\" rel=\"nofollow\">Ответить</a><a class=\"cm_ico th up\" href=\"/login/\" rel=\"nofollow\"></a><a class=\"cm_ico th dn\" href=\"/login/\" rel=\"nofollow\"></a><a class=\"cm_mrk \" href=\"/login/\" rel=\"nofollow\"> 0</a></div></div></li>\\n\\t\\t\\t\\t\\t\\t<li class=\"cm_wrap bluid_121357\" data-id=\"15561467\"  data-type=\"comment\" ><a name=\"comment15561467\"></a><a href=\"/profile/TAUREN/\" rel=\"nofollow\" aria-label=\"Профиль TAUREN\"><img class=\"avtr_box\" src=\"/uploads/images/12/13/57/2021/07/02/avatar_8f0809_100x100.webp?4404\" alt=\"Аватар TAUREN\" loading=\"lazy\"></a><div class=\"cmt_body\"><div><span><a class=\"a_name trader_other\" href=\"/profile/TAUREN/\" rel=\"nofollow\">TAUREN</a><span class=\"image_true\" title=\"Популярный автор\"><img src=\"/templates/skin/smart-lab-new/images/profile/popular.svg?4404\" alt=\"Популярный автор\"></span></span><a class=\"a_time\" href=\"/forum/ABRD/goto_comment_15561467/#comment15561467\" rel=\"nofollow\" target=\"_blank\"><time datetime=\"2023-04-13T11:29:07+03:00\">13 апреля 2023, 11:29</time></a></div><div class=\"text\">🍾 Абрау Дюрсо (ABRD) - обзор результатов компании итогам 2022г<br />\\xa0▫️Капитализация: <strong>20 млрд (258₽ за акцию)<br/>\\r\\n</strong> ▫️Выручка: <strong>12,1 млрд (+22,3% г/г)</strong> <br/>\\r\\n▫️EBITDA: <strong>3,6 млрд (+23,5% г/г)\\xa0</strong> <br/>\\r\\n▫️Чистая прибыль: <strong>1,7 млрд (+25,6% г/г)</strong> <br/>\\r\\n▫️Net debt/EBITDA: <strong>2</strong> <br/>\\r\\n▫️P/E TTM:<strong>11,7</strong> <br/>\\r\\n▫️P/E fwd 2023: <strong>9,5<br/>\\r\\n</strong> ▫️fwd дивиденд 2022: <strong>1,8%<br/>\\r\\n</strong> ▫️fwd дивиденд 2023: <strong>2,3%<br/>\\r\\n<br/>\\r\\n</strong> <strong><strong><strong><strong><strong><strong><strong><strong><strong><strong>Все обзоры\\xa0<a href=\"/r.php?u=https%3A%2F%2Ft.me%2Ftaurenin%2F1275&amp;s=1300764415\" target=\"_blank\">https://t.me/taurenin/1275</a></strong></strong></strong></strong></strong></strong></strong></strong></strong></strong><br/>\\r\\n<br/>\\r\\n✅ Компания стала бенефициаром ухода иностранных брендов с рынка РФ. Это позволило увеличить поставки <strong>на 18,1% до 54,1 млн бутылок</strong>, а также поднять средние цены реализации. Надо понимать, что конкуренты ушли только частично, а некоторые уже начинают возвращаться.<br/>\\r\\n<br/>\\r\\n<a class=\"imgpreview\" href=\"/uploads/2023/images/12/13/57/2023/04/13/acb3d7.jpg\" target=\"_blank\"><img src=\"/uploads/2023/images/12/13/57/2023/04/13/b374cc.webp\" alt=\"🍾 Абрау Дюрсо (ABRD) - обзор результатов компании итогам 2022г\" title=\"🍾 Абрау Дюрсо (ABRD) - обзор результатов компании итогам 2022г\" /></a><br/>\\r\\n<br/>\\r\\n<br/>\\r\\n<br/>\\r\\n✅ Абрау-Дюрсо активно развивает туристическое направление бизнеса, которое уже занимает <strong>11,5%</strong> в выручке компании (1,4 млрд рублей за 2022г). В 2023г планируется открытие нового отеля, что позволит кратно кратно увеличить номерной фонд. Кроме того, в перспективе это направление получит дополнительный импульс роста после открытия аэропортов на юге РФ, но это зависит от геополитической обстановки. <br/>\\r\\n<br/>\\r\\n👉\\xa0К 2024г туризм скорее всего уже будет приносить около <strong>2-2,5 млрд рублей выручки.</strong> <br /><br />Авто-репост. Читать в блоге <a href=\"/blog/894592.php\">&gt;&gt;&gt;</a><br /></div><div class=\"cm_ftr\"><a class=\"reply\" href=\"/login/\" rel=\"nofollow\">Ответить</a><a class=\"cm_ico th up\" href=\"/login/\" rel=\"nofollow\"></a><a class=\"cm_ico th dn\" href=\"/login/\" rel=\"nofollow\"></a><a class=\"cm_mrk \" href=\"/login/\" rel=\"nofollow\"> 0</a></div></div></li>\\n\\t\\t\\t\\t\\t\\t<li class=\"cm_wrap bluid_147726\" data-id=\"15555964\"  data-pid=\"15555934\" data-type=\"comment\" ><a name=\"comment15555964\"></a><a href=\"/profile/VVVB/\" rel=\"nofollow\" aria-label=\"Профиль KrumBumBes\"><img class=\"avtr_box\" src=\"/uploads/2021/images/14/77/26/2021/11/19/avatar_d5fc24_100x100.webp?4404\" alt=\"Аватар KrumBumBes\" loading=\"lazy\"></a><div class=\"cmt_body\"><div><span><a class=\"a_name trader_other\" href=\"/profile/VVVB/\" rel=\"nofollow\">KrumBumBes</a></span><a class=\"a_time\" href=\"/forum/ABRD/goto_comment_15555964/#comment15555964\" rel=\"nofollow\" target=\"_blank\"><time datetime=\"2023-04-11T23:25:44+03:00\">11 апреля 2023, 23:25</time></a></div><div class=\"text\"><blockquote class=\"reply\">Марэк, <br/>\\r\\nА где это в РФ Криковское родное? Я не видел в Московском регионе<br/>\\r\\nKrumBumBes, <br/>\\r\\n<br/>\\r\\nв Метро продается <br/>\\r\\nonline.metro-cc.ru/search?q=шампа...</blockquote><br/>\\r\\nМарэк,<br/>\\r\\nСпасибо, но это балк… Криковские игристые отличаются, мягко говоря очень сильно</div><div class=\"cm_ftr\"><a class=\"reply\" href=\"/login/\" rel=\"nofollow\">Ответить</a><a class=\"cm_ico th up\" href=\"/login/\" rel=\"nofollow\"></a><a class=\"cm_ico th dn\" href=\"/login/\" rel=\"nofollow\"></a><a class=\"cm_mrk \" href=\"/login/\" rel=\"nofollow\"> 0</a></div></div></li>\\n\\t\\t\\t\\t\\t\\t<li class=\"cm_wrap bluid_50457\" data-id=\"15555934\"  data-pid=\"15555848\" data-type=\"comment\" ><a name=\"comment15555934\"></a><a href=\"/profile/Marek/\" rel=\"nofollow\" aria-label=\"Профиль Марэк\"><img class=\"avtr_box\" src=\"/uploads/images/05/04/57/2020/09/15/avatar_4ca777_100x100.webp?4404\" alt=\"Аватар Марэк\" loading=\"lazy\"></a><div class=\"cmt_body\"><div><span><a class=\"a_name trader_other\" href=\"/profile/Marek/\" rel=\"nofollow\">Марэк</a></span><a class=\"a_time\" href=\"/forum/ABRD/goto_comment_15555934/#comment15555934\" rel=\"nofollow\" target=\"_blank\"><time datetime=\"2023-04-11T23:15:19+03:00\">11 апреля 2023, 23:15</time></a></div><div class=\"text\">Марэк, <br/>\\r\\nА где это в РФ Криковское родное? Я не видел в Московском регионе<br/>\\r\\nKrumBumBes, <br/>\\r\\n<br/>\\r\\nв Метро продается <br/>\\r\\n<a href=\"/r.php?u=https%3A%2F%2Fonline.metro-cc.ru%2Fsearch%3Fq%3D%D1%88%D0%B0%D0%BC%D0%BF%D0%B0%D0%BD%D1%81%D0%BA%D0%BE%D0%B5%2520cricova&amp;s=915916933\">online.metro-cc.ru/search?q=шампанское%20cricova</a></div><div class=\"cm_ftr\"><a class=\"reply\" href=\"/login/\" rel=\"nofollow\">Ответить</a><a class=\"cm_ico th up\" href=\"/login/\" rel=\"nofollow\"></a><a class=\"cm_ico th dn\" href=\"/login/\" rel=\"nofollow\"></a><a class=\"cm_mrk \" href=\"/login/\" rel=\"nofollow\"> 0</a></div></div></li>\\n\\t\\t\\t\\t\\t\\t<li class=\"cm_wrap bluid_147726\" data-id=\"15555848\"  data-pid=\"15555747\" data-type=\"comment\" ><a name=\"comment15555848\"></a><a href=\"/profile/VVVB/\" rel=\"nofollow\" aria-label=\"Профиль KrumBumBes\"><img class=\"avtr_box\" src=\"/uploads/2021/images/14/77/26/2021/11/19/avatar_d5fc24_100x100.webp?4404\" alt=\"Аватар KrumBumBes\" loading=\"lazy\"></a><div class=\"cmt_body\"><div><span><a class=\"a_name trader_other\" href=\"/profile/VVVB/\" rel=\"nofollow\">KrumBumBes</a></span><a class=\"a_time\" href=\"/forum/ABRD/goto_comment_15555848/#comment15555848\" rel=\"nofollow\" target=\"_blank\"><time datetime=\"2023-04-11T22:49:17+03:00\">11 апреля 2023, 22:49</time></a></div><div class=\"text\"><blockquote class=\"reply\">в магазине полно шампанского, никому в подарок не дают)<br/>\\r\\nСтепан Грозный, <br/>\\r\\n<br/>\\r\\nВсегда есть выбор, что купить. <br/>\\r\\nЯ покупаю настоящее молдавское Кри...</blockquote><br/>\\r\\nМарэк, <br/>\\r\\nА где это в РФ Криковское родное? Я не видел в Московском регионе</div><div class=\"cm_ftr\"><a class=\"reply\" href=\"/login/\" rel=\"nofollow\">Ответить</a><a class=\"cm_ico th up\" href=\"/login/\" rel=\"nofollow\"></a><a class=\"cm_ico th dn\" href=\"/login/\" rel=\"nofollow\"></a><a class=\"cm_mrk \" href=\"/login/\" rel=\"nofollow\"> 0</a></div></div></li>\\n\\t\\t\\t\\t\\t\\t<li class=\"cm_wrap bluid_50457\" data-id=\"15555754\"  data-type=\"comment\" ><a name=\"comment15555754\"></a><a href=\"/profile/Marek/\" rel=\"nofollow\" aria-label=\"Профиль Марэк\"><img class=\"avtr_box\" src=\"/uploads/images/05/04/57/2020/09/15/avatar_4ca777_100x100.webp?4404\" alt=\"Аватар Марэк\" loading=\"lazy\"></a><div class=\"cmt_body\"><div><span><a class=\"a_name trader_other\" href=\"/profile/Marek/\" rel=\"nofollow\">Марэк</a></span><a class=\"a_time\" href=\"/forum/ABRD/goto_comment_15555754/#comment15555754\" rel=\"nofollow\" target=\"_blank\"><time datetime=\"2023-04-11T22:08:03+03:00\">11 апреля 2023, 22:08</time></a></div><div class=\"text\">Смысл покупать акции АД с чистой дивдохой 1,51% по текущей )))<br/>\\r\\n<br/>\\r\\nЕсли на рынке полно акций с чистой дивхой 10%.</div><div class=\"cm_ftr\"><a class=\"reply\" href=\"/login/\" rel=\"nofollow\">Ответить</a><a class=\"cm_ico th up\" href=\"/login/\" rel=\"nofollow\"></a><a class=\"cm_ico th dn\" href=\"/login/\" rel=\"nofollow\"></a><a class=\"cm_mrk \" href=\"/login/\" rel=\"nofollow\"> 0</a></div></div></li>\\n\\t\\t\\t\\t\\t\\t<li class=\"cm_wrap bluid_50457\" data-id=\"15555747\"  data-pid=\"15555686\" data-type=\"comment\" ><a name=\"comment15555747\"></a><a href=\"/profile/Marek/\" rel=\"nofollow\" aria-label=\"Профиль Марэк\"><img class=\"avtr_box\" src=\"/uploads/images/05/04/57/2020/09/15/avatar_4ca777_100x100.webp?4404\" alt=\"Аватар Марэк\" loading=\"lazy\"></a><div class=\"cmt_body\"><div><span><a class=\"a_name trader_other\" href=\"/profile/Marek/\" rel=\"nofollow\">Марэк</a></span><a class=\"a_time\" href=\"/forum/ABRD/goto_comment_15555747/#comment15555747\" rel=\"nofollow\" target=\"_blank\"><time datetime=\"2023-04-11T22:04:54+03:00\">11 апреля 2023, 22:04</time></a></div><div class=\"text\">в магазине полно шампанского, никому в подарок не дают)<br/>\\r\\nСтепан Грозный, <br/>\\r\\n<br/>\\r\\nВсегда есть выбор, что купить. <br/>\\r\\nЯ покупаю настоящее молдавское Криковское/Cricova за 450 руб, чем шипучку Абрау.</div><div class=\"cm_ftr\"><a class=\"reply\" href=\"/login/\" rel=\"nofollow\">Ответить</a><a class=\"cm_ico th up\" href=\"/login/\" rel=\"nofollow\"></a><a class=\"cm_ico th dn\" href=\"/login/\" rel=\"nofollow\"></a><a class=\"cm_mrk \" href=\"/login/\" rel=\"nofollow\"> 0</a></div></div></li>\\n\\t\\t\\t\\t\\t\\t<li class=\"cm_wrap bluid_182144\" data-id=\"15555686\"  data-pid=\"15555682\" data-type=\"comment\" ><a name=\"comment15555686\"></a><a href=\"/profile/stepagroza/\" rel=\"nofollow\" aria-label=\"Профиль Степан Грозный\"><img class=\"avtr_box\" src=\"/templates/skin/smart-lab-new/images/avatar_100x100.jpg?4404\" alt=\"Аватар Степан Грозный\" loading=\"lazy\"></a><div class=\"cmt_body\"><div><span><a class=\"a_name trader_other\" href=\"/profile/stepagroza/\" rel=\"nofollow\">Степан Грозный</a></span><a class=\"a_time\" href=\"/forum/ABRD/goto_comment_15555686/#comment15555686\" rel=\"nofollow\" target=\"_blank\"><time datetime=\"2023-04-11T21:40:58+03:00\">11 апреля 2023, 21:40</time></a></div><div class=\"text\"><blockquote class=\"reply\">С дивами за 2022г: 4,54 руб — справедливая цена акции АД = 80 рублей.</blockquote><br/>\\r\\n<br/>\\r\\nв магазине полно шампанского, никому в подарок не дают)</div><div class=\"cm_ftr\"><a class=\"reply\" href=\"/login/\" rel=\"nofollow\">Ответить</a><a class=\"cm_ico th up\" href=\"/login/\" rel=\"nofollow\"></a><a class=\"cm_ico th dn\" href=\"/login/\" rel=\"nofollow\"></a><a class=\"cm_mrk \" href=\"/login/\" rel=\"nofollow\"> 0</a></div></div></li>\\n\\t\\t\\t\\t\\t\\t<li class=\"cm_wrap bluid_50457\" data-id=\"15555682\"  data-type=\"comment\" ><a name=\"comment15555682\"></a><a href=\"/profile/Marek/\" rel=\"nofollow\" aria-label=\"Профиль Марэк\"><img class=\"avtr_box\" src=\"/uploads/images/05/04/57/2020/09/15/avatar_4ca777_100x100.webp?4404\" alt=\"Аватар Марэк\" loading=\"lazy\"></a><div class=\"cmt_body\"><div><span><a class=\"a_name trader_other\" href=\"/profile/Marek/\" rel=\"nofollow\">Марэк</a></span><a class=\"a_time\" href=\"/forum/ABRD/goto_comment_15555682/#comment15555682\" rel=\"nofollow\" target=\"_blank\"><time datetime=\"2023-04-11T21:36:45+03:00\">11 апреля 2023, 21:36</time></a></div><div class=\"text\">С дивами за 2022г: 4,54 руб — справедливая цена акции АД = 80 рублей.</div><div class=\"cm_ftr\"><a class=\"reply\" href=\"/login/\" rel=\"nofollow\">Ответить</a><a class=\"cm_ico th up\" href=\"/login/\" rel=\"nofollow\"></a><a class=\"cm_ico th dn\" href=\"/login/\" rel=\"nofollow\"></a><a class=\"cm_mrk \" href=\"/login/\" rel=\"nofollow\"> 0</a></div></div></li>\\n\\t\\t\\t\\t\\t\\t<li class=\"cm_wrap bluid_50457\" data-id=\"15554469\"  data-type=\"comment\" ><a name=\"comment15554469\"></a><a href=\"/profile/Marek/\" rel=\"nofollow\" aria-label=\"Профиль Марэк\"><img class=\"avtr_box\" src=\"/uploads/images/05/04/57/2020/09/15/avatar_4ca777_100x100.webp?4404\" alt=\"Аватар Марэк\" loading=\"lazy\"></a><div class=\"cmt_body\"><div><span><a class=\"a_name trader_other\" href=\"/profile/Marek/\" rel=\"nofollow\">Марэк</a></span><a class=\"a_time\" href=\"/forum/ABRD/goto_comment_15554469/#comment15554469\" rel=\"nofollow\" target=\"_blank\"><time datetime=\"2023-04-11T17:27:29+03:00\">11 апреля 2023, 17:27</time></a></div><div class=\"text\"><b>Абрау-Дюрсо – рсбу/ мсфо</b> <br/>\\r\\n98 000 184 обыкновенных акций <br/>\\r\\n<a href=\"/r.php?u=https%3A%2F%2Fe-disclosure.ru%2Fportal%2FFileLoad.ashx%3FFileid%3D1266259&amp;s=37529465\">e-disclosure.ru/portal/FileLoad.ashx?Fileid=1266259</a> <br/>\\r\\nКапитализация на 11.04.2023г: 25,774 млрд руб <br/>\\r\\n<br/>\\r\\n<b>Общий долг на 31.12.2019г: 546,86 млн руб/ мсфо 6,582 млрд руб <br/>\\r\\nОбщий долг на 31.12.2020г: 1,373 млрд руб / мсфо 10,313 млрд руб <br/>\\r\\nОбщий долг на 31.12.2021г: 1,916 млрд руб / мсфо 10,364 млрд руб</b><br/>\\r\\nОбщий долг на 30.06.2022г: 1,225 млрд руб/ мсфо 11,731 млрд руб<br/>\\r\\n<b>Общий долг на 31.12.2022г: 1,300 млрд руб<br/>\\r\\n<br/>\\r\\nВыручка 2020г: 228,85 млн руб/ мсфо 10,053 млрд руб</b><br/>\\r\\nВыручка 1 кв 2021г: 45,55 млн руб<br/>\\r\\nВыручка 6 мес 2021г: 118,42 млн руб/ мсфо 3,693 млрд руб <br/>\\r\\nВыручка 9 мес 2021г: 163,60 млн руб<br/>\\r\\n<b>Выручка 2021г: 208,67 млн руб/ мсфо 9,870 млрд руб</b><br/>\\r\\nВыручка 1 кв 2022г: 64,65 млн руб<br/>\\r\\nВыручка 6 мес 2022г: 130,82 млн руб/ мсфо 4,062 млрд руб<br/>\\r\\nВыручка 9 мес 2022г: 201,83 млн руб<br/>\\r\\n<b>Выручка 2022г: 266,34 млн руб/ мсфо 12,076 млрд руб</b><br/>\\r\\n<br/>\\r\\nУбыток 6 мес 2019г: 33,32 млн руб/ Убыток мсфо 92,92 млн руб<br/>\\r\\nПрибыль 9 мес 2019г: 361,94 млн руб<br/>\\r\\n<b>Прибыль 2019г: 866,73 млн руб/ Прибыль мсфо 1,274 млрд руб</b><br/>\\r\\nПрибыль 1 кв 2020г: 371,57 млн руб <br/>\\r\\nПрибыль 6 мес 2020г: 351,36 млн руб/ Убыток мсфо 597,54 млн руб <br/>\\r\\nПрибыль 9 мес 2020г: 317,69 млн руб<br/>\\r\\n<b>Прибыль 2020г: 321,71 млн руб/ Прибыль мсфо 1,099 млрд руб</b><br/>\\r\\nУбыток 1 кв 2022г: 52,99 млн руб<br/>\\r\\nУбыток 6 мес 2021г: 139,03 млн руб/ Убыток мсфо 178,90 млн руб<br/>\\r\\nУбыток 9 мес 2021г: 229,80 млн руб<br/>\\r\\n<b>Прибыль 2021г: 977,17 млн руб/ Прибыль мсфо 1,350 млрд руб</b><br/>\\r\\nУбыток 1 кв 2022г: 83,71 млн руб<br/>\\r\\nУбыток 6 мес 2022г: 154,09 млн руб/ Убыток мсфо 130,03 млн руб<br/>\\r\\nУбыток 9 мес 2022г: 205,29 млн руб <br/>\\r\\n<b>Прибыль 2022г: 18,70 млн руб/ Прибыль мсфо 1,695 млрд руб</b><br/>\\r\\n<a href=\"/r.php?u=https%3A%2F%2Fabraudurso.ru%2Fnews%2Fgruppa-kompaniy-abrau-dyurso-podvela-itogi-2022-goda&amp;s=1065938891\">abraudurso.ru/news/gruppa-kompaniy-abrau-dyurso-podvela-itogi-2022-goda</a> <br/>\\r\\n<a href=\"/r.php?u=https%3A%2F%2Fe-disclosure.ru%2Fportal%2Ffiles.aspx%3Fid%3D26517%26type%3D3&amp;s=156974459\">e-disclosure.ru/portal/files.aspx?id=26517&type=3</a> <br/>\\r\\n<a href=\"/r.php?u=https%3A%2F%2Fabrau.ru%2Finvestors%2F%23&amp;s=4240539905\">abrau.ru/investors/#</a> <br/>\\r\\n<br/>\\r\\n<b>Абрау-Дюрсо – Дивидендная история</b><br/>\\r\\nПериод ** Объявлены * Реестр дата * Дивиденд <br/>\\r\\n2021 год * 17.05.2022 ** 08.07.2022 ** 3,44 руб<br/>\\r\\n2020 год * 24.05.2021 ** 12.07.2021 ** 2,86 руб<br/>\\r\\n2019 год * 27.08.2020 ** 19.10.2020 ** 1,03 руб <br/>\\r\\n2018 год * 17.05.2019 ** 10.07.2019 ** 2,86 руб<br/>\\r\\n<a href=\"/r.php?u=https%3A%2F%2Fe-disclosure.ru%2Fportal%2Fcompany.aspx%3Fid%3D26517&amp;s=3032483787\">e-disclosure.ru/portal/company.aspx?id=26517</a> <br/>\\r\\n</div><div class=\"cm_ftr\"><a class=\"reply\" href=\"/login/\" rel=\"nofollow\">Ответить</a><a class=\"cm_ico th up\" href=\"/login/\" rel=\"nofollow\"></a><a class=\"cm_ico th dn\" href=\"/login/\" rel=\"nofollow\"></a><a class=\"cm_mrk grn\" href=\"/login/\" rel=\"nofollow\">+ 1</a></div></div></li>\\n\\t\\t\\t\\t\\t\\t<li class=\"cm_wrap bluid_163799\" data-id=\"15553798\"  data-pid=\"15552802\" data-type=\"comment\" ><a name=\"comment15553798\"></a><a href=\"/profile/Palmer_smartlabru/\" rel=\"nofollow\" aria-label=\"Профиль Palmer_smartlabru\"><img class=\"avtr_box\" src=\"/uploads/2023/images/16/37/99/2023/06/01/avatar_978be1_100x100.webp?4404\" alt=\"Аватар Palmer_smartlabru\" loading=\"lazy\"></a><div class=\"cmt_body\"><div><span><a class=\"a_name trader_other\" href=\"/profile/Palmer_smartlabru/\" rel=\"nofollow\">Palmer_smartlabru</a></span><a class=\"a_time\" href=\"/forum/ABRD/goto_comment_15553798/#comment15553798\" rel=\"nofollow\" target=\"_blank\"><time datetime=\"2023-04-11T16:17:49+03:00\">11 апреля 2023, 16:17</time></a></div><div class=\"text\"><blockquote class=\"reply\">… рост дивидендов в этом году будет около 32%. Думаю, что будут достаточно интересные цифры...</blockquote><br/>\\r\\nРедактор Боб, <br/>\\r\\n+32% это 4,54 рубля на акцию<br/>\\r\\nи кому же интересны такие цифры микро-дивдоходности? <img smile=\"scratch_one-s_head\"/><br/>\\r\\n</div><div class=\"cm_ftr\"><a class=\"reply\" href=\"/login/\" rel=\"nofollow\">Ответить</a><a class=\"cm_ico th up\" href=\"/login/\" rel=\"nofollow\"></a><a class=\"cm_ico th dn\" href=\"/login/\" rel=\"nofollow\"></a><a class=\"cm_mrk \" href=\"/login/\" rel=\"nofollow\"> 0</a></div></div></li>\\n\\t\\t\\t\\t\\t\\t<li class=\"cm_wrap bluid_41471\" data-id=\"15552802\"  data-type=\"comment\" ><a name=\"comment15552802\"></a><a href=\"/profile/editor2/\" rel=\"nofollow\" aria-label=\"Профиль Редактор Боб\"><img class=\"avtr_box\" src=\"/uploads/2021/images/04/14/71/2021/12/02/avatar_385912_100x100.webp?4404\" alt=\"Аватар Редактор Боб\" loading=\"lazy\"></a><div class=\"cmt_body\"><div><span><a class=\"a_name trader_other\" href=\"/profile/editor2/\" rel=\"nofollow\">Редактор Боб</a></span><a class=\"a_time\" href=\"/forum/ABRD/goto_comment_15552802/#comment15552802\" rel=\"nofollow\" target=\"_blank\"><time datetime=\"2023-04-11T13:28:49+03:00\">11 апреля 2023, 13:28</time></a></div><div class=\"text\">Абрау будет придерживаться своей дивполитики по выплатам 25% от прибыли<br /><p>Производитель вин «Абрау-Дюрсо» намерен сохранять дивидендную политику и направлять на выплаты 25% от прибыли. Об этом в ходе пресс-конференции сообщил президент ГК «Абрау-Дюрсо» Павел Титов.</p><p>«Мы будем придерживаться, скорее всего, нашего правила в 25% от прибыли. Даже на этом уровне рост дивидендов в этом году будет около 32%. Думаю, что будут достаточно интересные цифры», — сказал он.<br/>\\r\\n<br/>\\r\\n<a href=\"/r.php?u=https%3A%2F%2Ftass.ru%2Fekonomika%2F17495167&amp;s=2804839338\" target=\"_blank\">tass.ru/ekonomika/17495167</a></p><br /><br />Авто-репост. Читать в блоге <a href=\"/blog/news/893961.php\">&gt;&gt;&gt;</a><br /></div><div class=\"cm_ftr\"><a class=\"reply\" href=\"/login/\" rel=\"nofollow\">Ответить</a><a class=\"cm_ico th up\" href=\"/login/\" rel=\"nofollow\"></a><a class=\"cm_ico th dn\" href=\"/login/\" rel=\"nofollow\"></a><a class=\"cm_mrk \" href=\"/login/\" rel=\"nofollow\"> 0</a></div></div></li>\\n\\t\\t\\t\\t\\t\\t<li class=\"cm_wrap bluid_57203\" data-id=\"15552504\"  data-type=\"comment\" ><a name=\"comment15552504\"></a><a href=\"/profile/Buterbrod2018/\" rel=\"nofollow\" aria-label=\"Профиль Все Верно\"><img class=\"avtr_box\" src=\"/uploads/images/05/72/03/2021/06/22/avatar_bd7747_100x100.webp?4404\" alt=\"Аватар Все Верно\" loading=\"lazy\"></a><div class=\"cmt_body\"><div><span><a class=\"a_name trader_other\" href=\"/profile/Buterbrod2018/\" rel=\"nofollow\">Все Верно</a><span class=\"image_true\" title=\"Smart-lab премиум\"><img src=\"/templates/skin/smart-lab-new/images/profile/premium.svg?4404\" alt=\"Smart-lab премиум\"></span></span><a class=\"a_time\" href=\"/forum/ABRD/goto_comment_15552504/#comment15552504\" rel=\"nofollow\" target=\"_blank\"><time datetime=\"2023-04-11T12:43:56+03:00\">11 апреля 2023, 12:43</time></a></div><div class=\"text\">Абрау-Дюрсо начнет производство водки — Компания<br />«Абрау-Дюрсо» начнет производство водки — компания<br /><br />Авто-репост. Читать в блоге <a href=\"/blog/news/893936.php\">&gt;&gt;&gt;</a><br /></div><div class=\"cm_ftr\"><a class=\"reply\" href=\"/login/\" rel=\"nofollow\">Ответить</a><a class=\"cm_ico th up\" href=\"/login/\" rel=\"nofollow\"></a><a class=\"cm_ico th dn\" href=\"/login/\" rel=\"nofollow\"></a><a class=\"cm_mrk \" href=\"/login/\" rel=\"nofollow\"> 0</a></div></div></li>\\n\\t\\t\\t\\t\\t\\t<li class=\"cm_wrap bluid_57203\" data-id=\"15552296\"  data-type=\"comment\" ><a name=\"comment15552296\"></a><a href=\"/profile/Buterbrod2018/\" rel=\"nofollow\" aria-label=\"Профиль Все Верно\"><img class=\"avtr_box\" src=\"/uploads/images/05/72/03/2021/06/22/avatar_bd7747_100x100.webp?4404\" alt=\"Аватар Все Верно\" loading=\"lazy\"></a><div class=\"cmt_body\"><div><span><a class=\"a_name trader_other\" href=\"/profile/Buterbrod2018/\" rel=\"nofollow\">Все Верно</a><span class=\"image_true\" title=\"Smart-lab премиум\"><img src=\"/templates/skin/smart-lab-new/images/profile/premium.svg?4404\" alt=\"Smart-lab премиум\"></span></span><a class=\"a_time\" href=\"/forum/ABRD/goto_comment_15552296/#comment15552296\" rel=\"nofollow\" target=\"_blank\"><time datetime=\"2023-04-11T12:15:19+03:00\">11 апреля 2023, 12:15</time></a></div><div class=\"text\">Абрау-Дюрсо планирует расширять продажи косметики<br /><blockquote>Мы запустили в прошлом году наш проект по выпуску косметики\\xa0Abrau\\xa0Cosmetics. Интерес к нему был повышен, но тут мы столкнулись на долгий срок со сложностями, связанными с санкциями против России, усложненной логистической инфраструктурой… Сейчас мы уже нашли замену нашей экологичной упаковке, которую будем в дальнейшем использовать. Проект рассчитан пока на реализацию через нашу собственную сеть магазинов, но в ближайшем будущем его можно будет увидеть и на маркетплейсах, думаю, что доступность его будет расширяться</blockquote><br/>\\r\\nПрезидент ГК «Абрау-Дюрсо» Павел Титов.<br/>\\r\\n<br/>\\r\\n<a href=\"/r.php?u=https%3A%2F%2Fwww.finam.ru%2Fpublications%2Fitem%2Fabrau-dyurso-planiruet-rasshiryat-prodazhi-kosmetiki-20230411-1156%2F&amp;s=3485978262\" target=\"_blank\">www.finam.ru/publications/item/abrau-dyurso-planiruet-rasshiryat-prodazhi-kosmetiki-20230411-1156/</a><br /><br />Авто-репост. Читать в блоге <a href=\"/blog/news/893918.php\">&gt;&gt;&gt;</a><br /></div><div class=\"cm_ftr\"><a class=\"reply\" href=\"/login/\" rel=\"nofollow\">Ответить</a><a class=\"cm_ico th up\" href=\"/login/\" rel=\"nofollow\"></a><a class=\"cm_ico th dn\" href=\"/login/\" rel=\"nofollow\"></a><a class=\"cm_mrk \" href=\"/login/\" rel=\"nofollow\"> 0</a></div></div></li>\\n\\t\\t\\t\\t\\t\\t<li class=\"cm_wrap bluid_168436\" data-id=\"15552023\"  data-type=\"comment\" ><a name=\"comment15552023\"></a><a href=\"/profile/ValentinPogorelyy/\" rel=\"nofollow\" aria-label=\"Профиль Валентин Погорелый\"><img class=\"avtr_box\" src=\"/uploads/2022/images/16/84/36/2022/02/04/avatar_525a28_100x100.webp?4404\" alt=\"Аватар Валентин Погорелый\" loading=\"lazy\"></a><div class=\"cmt_body\"><div><span><a class=\"a_name trader_other\" href=\"/profile/ValentinPogorelyy/\" rel=\"nofollow\">Валентин Погорелый</a><span class=\"image_true\" title=\"Smart-lab премиум\"><img src=\"/templates/skin/smart-lab-new/images/profile/premium.svg?4404\" alt=\"Smart-lab премиум\"></span></span><a class=\"a_time\" href=\"/forum/ABRD/goto_comment_15552023/#comment15552023\" rel=\"nofollow\" target=\"_blank\"><time datetime=\"2023-04-11T11:39:51+03:00\">11 апреля 2023, 11:39</time></a></div><div class=\"text\">пишет <br/>\\r\\n<br/>\\r\\n<a href=\"/r.php?u=https%3A%2F%2Ft.me%2Fmarkettwits%2F237039&amp;s=4099058595\">t.me/markettwits/237039</a><br/>\\r\\n<br/>\\r\\nАбрау будет придерживаться своей дивполитики по выплатам 35% от прибыли. Рост дивидендов в этом году составит около 32% — компания</div><div class=\"cm_ftr\"><a class=\"reply\" href=\"/login/\" rel=\"nofollow\">Ответить</a><a class=\"cm_ico th up\" href=\"/login/\" rel=\"nofollow\"></a><a class=\"cm_ico th dn\" href=\"/login/\" rel=\"nofollow\"></a><a class=\"cm_mrk \" href=\"/login/\" rel=\"nofollow\"> 0</a></div></div></li>\\n\\t\\t\\t\\t\\t\\t<li class=\"cm_wrap bluid_41471\" data-id=\"15549386\"  data-type=\"comment\" ><a name=\"comment15549386\"></a><a href=\"/profile/editor2/\" rel=\"nofollow\" aria-label=\"Профиль Редактор Боб\"><img class=\"avtr_box\" src=\"/uploads/2021/images/04/14/71/2021/12/02/avatar_385912_100x100.webp?4404\" alt=\"Аватар Редактор Боб\" loading=\"lazy\"></a><div class=\"cmt_body\"><div><span><a class=\"a_name trader_other\" href=\"/profile/editor2/\" rel=\"nofollow\">Редактор Боб</a></span><a class=\"a_time\" href=\"/forum/ABRD/goto_comment_15549386/#comment15549386\" rel=\"nofollow\" target=\"_blank\"><time datetime=\"2023-04-10T16:54:06+03:00\">10 апреля 2023, 16:54</time></a></div><div class=\"text\">В России производство шампанского в I квартале выросло на 14,4%<br /><p>Объем производства игристых (шампанских) вин в России в I квартале 2023 года вырос на 14,4% по сравнению с показателем за аналогичный период 2022 года и достиг 2,5 млн дал. Об этом говорится в материалах Росалкогольрегулирования.</p><p>По данным ведомства, производство виноградного вина за отчетный период увеличилось на 2,7%, до 6,027 млн дал. Производство виноградосодержащих напитков без этилового спирта выросло на 11,1%, до 721,8 тыс. дал, производство виноградосодержащих напитков с этиловым спиртом снизилось на 84%, до 4,2 тыс. дал. Производство плодовой алкогольной продукции снизилось на 17,8%, до 1,8 млн дал, производство ликерных вин выросло на 11,6%, до 270,5 тыс. дал.<br/>\\r\\n<br/>\\r\\n<a href=\"/r.php?u=https%3A%2F%2Ftass.ru%2Fekonomika%2F17487467&amp;s=627260871\" target=\"_blank\">tass.ru/ekonomika/17487467</a></p><br /><br />Авто-репост. Читать в блоге <a href=\"/blog/news/893659.php\">&gt;&gt;&gt;</a><br /></div><div class=\"cm_ftr\"><a class=\"reply\" href=\"/login/\" rel=\"nofollow\">Ответить</a><a class=\"cm_ico th up\" href=\"/login/\" rel=\"nofollow\"></a><a class=\"cm_ico th dn\" href=\"/login/\" rel=\"nofollow\"></a><a class=\"cm_mrk \" href=\"/login/\" rel=\"nofollow\"> 0</a></div></div></li>\\n\\t\\t\\t\\t\\t\\t<li class=\"cm_wrap bluid_57203\" data-id=\"15548447\"  data-type=\"comment\" ><a name=\"comment15548447\"></a><a href=\"/profile/Buterbrod2018/\" rel=\"nofollow\" aria-label=\"Профиль Все Верно\"><img class=\"avtr_box\" src=\"/uploads/images/05/72/03/2021/06/22/avatar_bd7747_100x100.webp?4404\" alt=\"Аватар Все Верно\" loading=\"lazy\"></a><div class=\"cmt_body\"><div><span><a class=\"a_name trader_other\" href=\"/profile/Buterbrod2018/\" rel=\"nofollow\">Все Верно</a><span class=\"image_true\" title=\"Smart-lab премиум\"><img src=\"/templates/skin/smart-lab-new/images/profile/premium.svg?4404\" alt=\"Smart-lab премиум\"></span></span><a class=\"a_time\" href=\"/forum/ABRD/goto_comment_15548447/#comment15548447\" rel=\"nofollow\" target=\"_blank\"><time datetime=\"2023-04-10T13:19:47+03:00\">10 апреля 2023, 13:19</time></a></div><div class=\"text\">В России производство шампанского в I квартале выросло на 14,4%<br /><p>По данным ведомства, производство виноградного вина за отчетный период увеличилось на 2,7%, до 6,027 млн дал. Производство виноградосодержащих напитков без этилового спирта выросло на 11,1%, до 721,8 тыс. дал, производство виноградосодержащих напитков с этиловым спиртом снизилось на 84%, до 4,2 тыс. дал. Производство плодовой алкогольной продукции снизилось на 17,8%, до 1,8 млн дал, производство ликерных вин выросло на 11,6%, до 270,5 тыс. дал.</p><p>Всего, по данным Росалкогольрегулирования, производство алкогольной продукции в России (без учета пива, пивных напитков, сидра, пуаре и медовухи) в I квартале выросло на 0,1% и достигло 38,5 млн дал. В том числе производство спиртных напитков крепостью более 9% снизилось на 3,2%, до 22,7 млн дал. При этом производство водки упало на 8,5%, до 15,9 млн дал, производство коньяка снизилось на 1,1%, до 1,85 млн дал.</p><p>Производство ликеро-водочных изделий крепостью до 25% снизилось на 98,7%, до 6,6 тыс. дал, производство ликеро-водочных изделий крепостью более 25% выросло на 24,8%, до 3,049 млн дал. Производство других спиртных напитков крепостью более 9% выросло на 47,4%, почти до 2 млн дал. Производство слабоалкогольной продукции увеличилось на 16,6%, до 4,4 млн дал.\\xa0</p><br /><br />Авто-репост. Читать в блоге <a href=\"/blog/news/893554.php\">&gt;&gt;&gt;</a><br /></div><div class=\"cm_ftr\"><a class=\"reply\" href=\"/login/\" rel=\"nofollow\">Ответить</a><a class=\"cm_ico th up\" href=\"/login/\" rel=\"nofollow\"></a><a class=\"cm_ico th dn\" href=\"/login/\" rel=\"nofollow\"></a><a class=\"cm_mrk \" href=\"/login/\" rel=\"nofollow\"> 0</a></div></div></li>\\n\\t\\t\\t\\t\\t\\t<li class=\"cm_wrap bluid_61118\" data-id=\"15548211\"  data-type=\"comment\" ><a name=\"comment15548211\"></a><a href=\"/profile/aosipov/\" rel=\"nofollow\" aria-label=\"Профиль Александр Осипов\"><img class=\"avtr_box\" src=\"/uploads/images/06/11/18/2020/09/26/avatar_100x100.webp?4404\" alt=\"Аватар Александр Осипов\" loading=\"lazy\"></a><div class=\"cmt_body\"><div><span><a class=\"a_name trader_other\" href=\"/profile/aosipov/\" rel=\"nofollow\">Александр Осипов</a></span><a class=\"a_time\" href=\"/forum/ABRD/goto_comment_15548211/#comment15548211\" rel=\"nofollow\" target=\"_blank\"><time datetime=\"2023-04-10T12:22:32+03:00\">10 апреля 2023, 12:22</time></a></div><div class=\"text\">Краткосрочный и среднесрочный взгляд АБРАУ- ДЮРСО<br /><a class=\"imgpreview\" href=\"/uploads/2023/images/06/11/18/2023/04/10/a20788.png\" target=\"_blank\"><img src=\"/uploads/2023/images/06/11/18/2023/04/10/a05696.webp\" alt=\"Краткосрочный и среднесрочный взгляд АБРАУ- ДЮРСО\" title=\"Краткосрочный и среднесрочный взгляд АБРАУ- ДЮРСО\" /><br/>\\r\\n<br/>\\r\\n</a>Среднесрочные и краткосрочные идей и их полный разбор смотри в телеграмме тут <a href=\"/r.php?u=https%3A%2F%2Ft.me%2FSyzran1995&amp;s=1358573778\" target=\"_blank\">t.me/Syzran1995</a><br/>\\r\\n<br/>\\r\\n<br/>\\r\\n<p>#Абрау – Дюрсо</p><p>В конце марта его можно было брать среднесрочно, при пробитие вверх красной линии сопротивления.</p><p>Актив находится выше 200 дневной скользящей средней что на дневных, что на недельном таймфрейме.</p><p>Все это говорит о росте данного актива.</p><p>Если актив скорректируется обратно до уровня 215-220 то можно снова добирать его на среднесрочную перспективу</p><p>Краткосрочно</p><p>5 апреля был большой обьем, но проверки этого обьема до сих пор не было, поэтому я не исключаю проверку данного обьема, то есть спуск активы к цене открытия, дня, когда был обьем. А это уровень (223).</p><p>Но если актив пойдёт туда на проверку объёма, то возможно котировки додавят на нижнею линию канала (уровень 212,5 отмечен на графике). <br/>\\r\\nОткуда будет отскок, до средней линии канала (266)</p><p>На данный момент актив находится под средней линией канала, чтоб продолжить расти, нужно закрепится над этой линией (266) </p><br /><br />Авто-репост. Читать в блоге <a href=\"/blog/tradesignals/893525.php\">&gt;&gt;&gt;</a><br /></div><div class=\"cm_ftr\"><a class=\"reply\" href=\"/login/\" rel=\"nofollow\">Ответить</a><a class=\"cm_ico th up\" href=\"/login/\" rel=\"nofollow\"></a><a class=\"cm_ico th dn\" href=\"/login/\" rel=\"nofollow\"></a><a class=\"cm_mrk \" href=\"/login/\" rel=\"nofollow\"> 0</a></div></div></li>\\n\\t\\t\\t\\t\\t\\t<li class=\"cm_wrap bluid_53467\" data-id=\"15536382\"  data-type=\"comment\" ><a name=\"comment15536382\"></a><a href=\"/profile/Amuzo/\" rel=\"nofollow\" aria-label=\"Профиль Артур Грос\"><img class=\"avtr_box\" src=\"/uploads/images/05/34/67/2019/04/14/avatar_c59d1e_100x100.webp?4404\" alt=\"Аватар Артур Грос\" loading=\"lazy\"></a><div class=\"cmt_body\"><div><span><a class=\"a_name trader_other\" href=\"/profile/Amuzo/\" rel=\"nofollow\">Артур Грос</a></span><a class=\"a_time\" href=\"/forum/ABRD/goto_comment_15536382/#comment15536382\" rel=\"nofollow\" target=\"_blank\"><time datetime=\"2023-04-06T17:37:32+03:00\">06 апреля 2023, 17:37</time></a></div><div class=\"text\">Тэк… разрядил обойму Дюрсо сегодня, набранную тогда ещё… теперь на покупку настроен, пониже) мож в районе 200 подвернётся.</div><div class=\"cm_ftr\"><a class=\"reply\" href=\"/login/\" rel=\"nofollow\">Ответить</a><a class=\"cm_ico th up\" href=\"/login/\" rel=\"nofollow\"></a><a class=\"cm_ico th dn\" href=\"/login/\" rel=\"nofollow\"></a><a class=\"cm_mrk \" href=\"/login/\" rel=\"nofollow\"> 0</a></div></div></li>\\n\\t\\t\\t\\t\\t\\t<li class=\"cm_wrap bluid_164602\" data-id=\"15534724\"  data-type=\"comment\" ><a name=\"comment15534724\"></a><a href=\"/profile/tocka/\" rel=\"nofollow\" aria-label=\"Профиль tocka\"><img class=\"avtr_box\" src=\"/templates/skin/smart-lab-new/images/avatar_100x100.jpg?4404\" alt=\"Аватар tocka\" loading=\"lazy\"></a><div class=\"cmt_body\"><div><span><a class=\"a_name trader_other\" href=\"/profile/tocka/\" rel=\"nofollow\">tocka</a></span><a class=\"a_time\" href=\"/forum/ABRD/goto_comment_15534724/#comment15534724\" rel=\"nofollow\" target=\"_blank\"><time datetime=\"2023-04-06T12:37:14+03:00\">06 апреля 2023, 12:37</time></a></div><div class=\"text\">Очень жаль — про Абрау — Дюрсо… До революции Абрау принадлежало царской семье, в СССР традиции продолжили ( помню читал в книге рассказ и там немец в Западном Берлине решал какое шампанское купить к Новому году — Французское, Итальянское? в итоге решил не скупиться и купить Советское — Абрау- Дюрсо!). В 90 е к управлению Абрау пришли «успешные»менеджеры, которые начали скупать виноматериал по всему миру и лепить этикетку Абрау. Ну вот… «успешные» менеджеры денежки «хапнули» и долго ведь хапали, а вот марку Абрау загадили.</div><div class=\"cm_ftr\"><a class=\"reply\" href=\"/login/\" rel=\"nofollow\">Ответить</a><a class=\"cm_ico th up\" href=\"/login/\" rel=\"nofollow\"></a><a class=\"cm_ico th dn\" href=\"/login/\" rel=\"nofollow\"></a><a class=\"cm_mrk grn\" href=\"/login/\" rel=\"nofollow\">+ 1</a></div></div></li>\\n\\t\\t\\t\\t\\t\\t<li class=\"cm_wrap bluid_106015\" data-id=\"15531596\"  data-pid=\"15530788\" data-type=\"comment\" ><a name=\"comment15531596\"></a><a href=\"/profile/Stanislav_Valentinovich/\" rel=\"nofollow\" aria-label=\"Профиль BOUGHT FORGOT\"><img class=\"avtr_box\" src=\"/uploads/2022/images/10/60/15/2022/09/18/avatar_8fde70_100x100.webp?4404\" alt=\"Аватар BOUGHT FORGOT\" loading=\"lazy\"></a><div class=\"cmt_body\"><div><span><a class=\"a_name trader_other\" href=\"/profile/Stanislav_Valentinovich/\" rel=\"nofollow\">BOUGHT FORGOT</a></span><a class=\"a_time\" href=\"/forum/ABRD/goto_comment_15531596/#comment15531596\" rel=\"nofollow\" target=\"_blank\"><time datetime=\"2023-04-05T18:51:24+03:00\">05 апреля 2023, 18:51</time></a></div><div class=\"text\"><blockquote class=\"reply\">вот и выбило пробку у шампанского</blockquote><br/>\\r\\nPalmer_smartlabru, после отчета вообще сабраж покажут<img smile=\"biggrin\"/></div><div class=\"cm_ftr\"><a class=\"reply\" href=\"/login/\" rel=\"nofollow\">Ответить</a><a class=\"cm_ico th up\" href=\"/login/\" rel=\"nofollow\"></a><a class=\"cm_ico th dn\" href=\"/login/\" rel=\"nofollow\"></a><a class=\"cm_mrk grn\" href=\"/login/\" rel=\"nofollow\">+ 1</a></div></div></li>\\n\\t\\t\\t\\t\\t\\t<li class=\"cm_wrap bluid_163799\" data-id=\"15530788\"  data-type=\"comment\" ><a name=\"comment15530788\"></a><a href=\"/profile/Palmer_smartlabru/\" rel=\"nofollow\" aria-label=\"Профиль Palmer_smartlabru\"><img class=\"avtr_box\" src=\"/uploads/2023/images/16/37/99/2023/06/01/avatar_978be1_100x100.webp?4404\" alt=\"Аватар Palmer_smartlabru\" loading=\"lazy\"></a><div class=\"cmt_body\"><div><span><a class=\"a_name trader_other\" href=\"/profile/Palmer_smartlabru/\" rel=\"nofollow\">Palmer_smartlabru</a></span><a class=\"a_time\" href=\"/forum/ABRD/goto_comment_15530788/#comment15530788\" rel=\"nofollow\" target=\"_blank\"><time datetime=\"2023-04-05T16:21:41+03:00\">05 апреля 2023, 16:21</time></a></div><div class=\"text\">вот и выбило пробку у шампанского</div><div class=\"cm_ftr\"><a class=\"reply\" href=\"/login/\" rel=\"nofollow\">Ответить</a><a class=\"cm_ico th up\" href=\"/login/\" rel=\"nofollow\"></a><a class=\"cm_ico th dn\" href=\"/login/\" rel=\"nofollow\"></a><a class=\"cm_mrk grn\" href=\"/login/\" rel=\"nofollow\">+ 2</a></div></div></li>\\n\\t\\t\\t\\t\\t\\t<li class=\"cm_wrap bluid_57203\" data-id=\"15523512\"  data-type=\"comment\" ><a name=\"comment15523512\"></a><a href=\"/profile/Buterbrod2018/\" rel=\"nofollow\" aria-label=\"Профиль Все Верно\"><img class=\"avtr_box\" src=\"/uploads/images/05/72/03/2021/06/22/avatar_bd7747_100x100.webp?4404\" alt=\"Аватар Все Верно\" loading=\"lazy\"></a><div class=\"cmt_body\"><div><span><a class=\"a_name trader_other\" href=\"/profile/Buterbrod2018/\" rel=\"nofollow\">Все Верно</a><span class=\"image_true\" title=\"Smart-lab премиум\"><img src=\"/templates/skin/smart-lab-new/images/profile/premium.svg?4404\" alt=\"Smart-lab премиум\"></span></span><a class=\"a_time\" href=\"/forum/ABRD/goto_comment_15523512/#comment15523512\" rel=\"nofollow\" target=\"_blank\"><time datetime=\"2023-04-04T10:04:59+03:00\">04 апреля 2023, 10:04</time></a></div><div class=\"text\">Власти одобрили эксперимент по онлайн-продаже вина через Почту России<br />По данным РБК, проект планируется запустить с 1 ноября в Москве и Подмосковье. Эксперимент продлится до 31 июля 2026 года. В случае успеха на ранних этапах, проект могут расширить на Санкт-Петербург, Ленинградскую и Нижегородскую области.<br /><br />Авто-репост. Читать в блоге <a href=\"/blog/news/891847.php\">&gt;&gt;&gt;</a><br /></div><div class=\"cm_ftr\"><a class=\"reply\" href=\"/login/\" rel=\"nofollow\">Ответить</a><a class=\"cm_ico th up\" href=\"/login/\" rel=\"nofollow\"></a><a class=\"cm_ico th dn\" href=\"/login/\" rel=\"nofollow\"></a><a class=\"cm_mrk \" href=\"/login/\" rel=\"nofollow\"> 0</a></div></div></li>\\n\\t\\t\\t\\t\\t\\t<li class=\"cm_wrap bluid_186484\" data-id=\"15523057\"  data-type=\"comment\" ><a name=\"comment15523057\"></a><a href=\"/profile/Ds10/\" rel=\"nofollow\" aria-label=\"Профиль Ds10\"><img class=\"avtr_box\" src=\"/templates/skin/smart-lab-new/images/avatar_100x100.jpg?4404\" alt=\"Аватар Ds10\" loading=\"lazy\"></a><div class=\"cmt_body\"><div><span><a class=\"a_name trader_other\" href=\"/profile/Ds10/\" rel=\"nofollow\">Ds10</a></span><a class=\"a_time\" href=\"/forum/ABRD/goto_comment_15523057/#comment15523057\" rel=\"nofollow\" target=\"_blank\"><time datetime=\"2023-04-04T06:57:34+03:00\">04 апреля 2023, 06:57</time></a></div><div class=\"text\">это что сегодня будет… на 150!?</div><div class=\"cm_ftr\"><a class=\"reply\" href=\"/login/\" rel=\"nofollow\">Ответить</a><a class=\"cm_ico th up\" href=\"/login/\" rel=\"nofollow\"></a><a class=\"cm_ico th dn\" href=\"/login/\" rel=\"nofollow\"></a><a class=\"cm_mrk red\" href=\"/login/\" rel=\"nofollow\"> -1</a></div></div></li>\\n\\t\\t\\t\\t\\t\\t\\t\\t\\t\\t\\t\\t\\t\\t\\t\\t\\t\\t\\t\\t\\t</ol>\\n\\t\\t\\t\\t\\t\\t\\t\\t\\t\\t\\t\\t\\n\\t\\t\\t\\t\\t\\t<div id=\"pagination\" class=\"pagination1\"><span class=\"page gradient clock\" title=\"Выбрать дату\"><svg xmlns=\"http://www.w3.org/2000/svg\" width=\"24\" height=\"24\" viewBox=\"0 0 24 24\"><path fill=\"none\" d=\"M0 0h24v24H0V0z\"/><path d=\"M11.99 2C6.47 2 2 6.48 2 12s4.47 10 9.99 10C17.52 22 22 17.52 22 12S17.52 2 11.99 2zM12 20c-4.42 0-8-3.58-8-8s3.58-8 8-8 8 3.58 8 8-3.58 8-8 8zm.5-13H11v6l5.25 3.15.75-1.23-4.5-2.67z\"/></svg></span><a class=\"page gradient last\" href=\"/forum/ABRD/page1/\">←</a><a class=\"page gradient\" href=\"/forum/ABRD/page16/\">16</a><a class=\"page gradient\" href=\"/forum/ABRD/page17/\">17</a><a class=\"page gradient\" href=\"/forum/ABRD/page18/\">18</a><span class=\"page active\">19</span><a class=\"page gradient\" href=\"/forum/ABRD/page20/\">20</a><a class=\"page gradient\" href=\"/forum/ABRD/page21/\">21</a><a class=\"page gradient\" href=\"/forum/ABRD/page22/\">22</a><a class=\"page gradient last\" href=\"/forum/ABRD/page25/\">→</a></div>\\t\\t\\t\\t\\t\\t<a id=\"bottom\" name=\"bottom\"></a>\\n\\t\\t\\t\\t\\t</div>\\n\\n\\t\\t\\t\\t\\t<aside class=\"right_column\">\\n\\t\\t\\t\\t\\t\\t\\t\\t\\t\\t\\t\\t<div align=\"center\" class=\"logo_place\">\\n\\t\\t\\t\\t\\t\\t\\t\\t\\t\\t\\t\\t\\t\\t\\t\\t\\t\\t\\t\\t\\t\\t\\t<p style=\"font-size:small; margin-right: 10px; margin-bottom: 10px\">\\n\\t\\t\\t\\t\\t\\t\\t\\t\\t<a href=\"https://ru.tradingview.com/symbols/MOEX-ABRD/?offer_id=10&aff_id=1339\" target=\"_blank\" title=\"MOEX.ABRD график предоставлен TradingView\" onclick=\"window.fz(\\'track\\', \\'Forum Tradingview\\')\">График MOEX.ABRD</a> предоставлен <a href=\"https://ru.tradingview.com/chart/?offer_id=10&aff_id=1339\" onclick=\"window.fz(\\'track\\', \\'Forum Tradingview\\')\">TradingView</a><br>\\n\\t\\t\\t\\t\\t\\t\\t\\t</p>\\n\\t\\t\\t\\t\\t\\t\\t\\t\\t\\t\\t\\t\\t\\t\\t\\t\\t\\t\\t\\t\\t\\t\\t\\t\\t\\t\\t\\t\\t\\t<img src=\"/uploads/articles/00/20/50/thumbnail.webp?4404\" alt=\"Абрау-Дюрсо логотип\" title=\"Абрау-Дюрсо логотип\" width=\"200\" />\\n\\t\\t\\t\\t\\t\\t\\t\\t\\t\\t\\t\\t\\t</div>\\n\\t\\t\\t\\t\\t\\t\\n\\t\\t\\t\\t\\t\\t<div class=\"posts\" id=\"forum_last_posts\">\\n\\n\\t\\t\\t\\t\\t\\t<div class=\"post bluid_205682\">\\n\\t\\t\\t<a href=\"/trading/natural-gas#comment16141904\" class=\"post_inner\" rel=\"nofollow\">\\n\\t\\t\\t\\t\\t\\t\\t\\t<div class=\"logo\">\\n\\t\\t\\t\\t\\t<img src=\"/uploads/articles/00/54/60/thumbnail.webp?4404\" alt=\"Логотип натуральный газ\" loading=\"lazy\" />\\n\\t\\t\\t\\t</div>\\n\\t\\t\\t\\t\\t\\t\\t\\t<h3 class=\"title\">натуральный газ</h3>\\n\\t\\t\\t\\t<div class=\"meta\"><time class=\"time\" datetime=\"2023-10-05T13:09:47+03:00\">13:09</time>&bull;<span class=\"author\">Орландо Блум</span>\\n\\t\\t\\t\\t</div>\\n\\t\\t\\t\\t<div class=\"cmtp\">сейчас бахнет вниз! коммунальщики совсем заявки не собираются ставить</div>\\n\\t\\t\\t</a>\\n\\t\\t\\t<a href=\"/trading/natural-gas\" class=\"comments_count\" rel=\"nofollow\">12</a>\\n\\t\\t</div>\\n\\t\\t\\t\\t\\t\\t\\t<div class=\"post bluid_80692\">\\n\\t\\t\\t<a href=\"/forum/PHOR#comment16141903\" class=\"post_inner\" rel=\"nofollow\">\\n\\t\\t\\t\\t\\t\\t\\t\\t<div class=\"logo\">\\n\\t\\t\\t\\t\\t<img src=\"/uploads/articles/00/19/20/thumbnail.webp?4404\" alt=\"Логотип ФосАгро\" loading=\"lazy\" />\\n\\t\\t\\t\\t</div>\\n\\t\\t\\t\\t\\t\\t\\t\\t<h3 class=\"title\">ФосАгро</h3>\\n\\t\\t\\t\\t<div class=\"meta\"><time class=\"time\" datetime=\"2023-10-05T13:09:38+03:00\">13:09</time>&bull;<span class=\"author\">Народное удобрение</span>\\n\\t\\t\\t\\t</div>\\n\\t\\t\\t\\t<div class=\"cmtp\"> \\r\\nАл, у нас в стране есть специально обученные люди для этого. Пусть они и думают о существовании страны. А люди простые концы с концами сводят. Жрать семьям нечего их. Не о великом думается сейчас п...</div>\\n\\t\\t\\t</a>\\n\\t\\t\\t<a href=\"/forum/PHOR\" class=\"comments_count\" rel=\"nofollow\">16</a>\\n\\t\\t</div>\\n\\t\\t\\t\\t\\t\\t\\t<div class=\"post bluid_30271\">\\n\\t\\t\\t<a href=\"/forum/VTBR#comment16141900\" class=\"post_inner\" rel=\"nofollow\">\\n\\t\\t\\t\\t\\t\\t\\t\\t<div class=\"logo\">\\n\\t\\t\\t\\t\\t<img src=\"/uploads/articles/00/19/06/thumbnail.webp?4404\" alt=\"Логотип ВТБ\" loading=\"lazy\" />\\n\\t\\t\\t\\t</div>\\n\\t\\t\\t\\t\\t\\t\\t\\t<h3 class=\"title\">ВТБ</h3>\\n\\t\\t\\t\\t<div class=\"meta\"><time class=\"time\" datetime=\"2023-10-05T13:08:46+03:00\">13:08</time>&bull;<span class=\"author\">Nordstream</span>\\n\\t\\t\\t\\t</div>\\n\\t\\t\\t\\t<div class=\"cmtp\">Российский ВТБ хочет присутствовать в зоне свободной торговли Ирана — СМИ Банк ВТБ планирует стать участником зоны свободной торговли Ирана, а также работать в свободных экономических зонах страны,\\xa0пи...</div>\\n\\t\\t\\t</a>\\n\\t\\t\\t<a href=\"/forum/VTBR\" class=\"comments_count\" rel=\"nofollow\">2</a>\\n\\t\\t</div>\\n\\t\\t\\t\\t\\t\\t\\t<div class=\"post bluid_208338\">\\n\\t\\t\\t<a href=\"/forex/usdrub#comment16141899\" class=\"post_inner\" rel=\"nofollow\">\\n\\t\\t\\t\\t\\t\\t\\t\\t<div class=\"logo\">\\n\\t\\t\\t\\t\\t<img src=\"/uploads/articles/00/34/20/thumbnail.webp?4404\" alt=\"Логотип Доллар рубль\" loading=\"lazy\" />\\n\\t\\t\\t\\t</div>\\n\\t\\t\\t\\t\\t\\t\\t\\t<h3 class=\"title\">Доллар рубль</h3>\\n\\t\\t\\t\\t<div class=\"meta\"><time class=\"time\" datetime=\"2023-10-05T13:08:35+03:00\">13:08</time>&bull;<span class=\"author\">user71</span>\\n\\t\\t\\t\\t</div>\\n\\t\\t\\t\\t<div class=\"cmtp\"> \\r\\nDeployer, деньги на шорты кончились? \\r\\n</div>\\n\\t\\t\\t</a>\\n\\t\\t\\t<a href=\"/forex/usdrub\" class=\"comments_count\" rel=\"nofollow\">55</a>\\n\\t\\t</div>\\n\\t\\t\\t\\t\\t\\t\\t<div class=\"post bluid_212100\">\\n\\t\\t\\t<a href=\"/trading/MIX#comment16141893\" class=\"post_inner\" rel=\"nofollow\">\\n\\t\\t\\t\\t\\t\\t\\t\\t<div class=\"logo\">\\n\\t\\t\\t\\t\\t<img src=\"/uploads/articles/00/51/44/thumbnail.webp?4404\" alt=\"Логотип фьючерс MIX\" loading=\"lazy\" />\\n\\t\\t\\t\\t</div>\\n\\t\\t\\t\\t\\t\\t\\t\\t<h3 class=\"title\">фьючерс MIX</h3>\\n\\t\\t\\t\\t<div class=\"meta\"><time class=\"time\" datetime=\"2023-10-05T13:07:33+03:00\">13:07</time>&bull;<span class=\"author\">Сергей Валериевич Цаплин</span>\\n\\t\\t\\t\\t</div>\\n\\t\\t\\t\\t<div class=\"cmtp\">Индекс рисует флаг  \\r\\n \\r\\nИндекс рисует флаг, а значит наиболее вероятно продолжение движение выше, примерно к 3200. \\r\\nИ высокий курс доллара, который держит наш рынок, тому в помощь. \\r\\nПо доллару, кст...</div>\\n\\t\\t\\t</a>\\n\\t\\t\\t<a href=\"/trading/MIX\" class=\"comments_count\" rel=\"nofollow\">7</a>\\n\\t\\t</div>\\n\\t\\t\\t\\t\\t\\t\\t<div class=\"post bluid_143354\">\\n\\t\\t\\t<a href=\"/forum/KUBE#comment16141892\" class=\"post_inner\" rel=\"nofollow\">\\n\\t\\t\\t\\t\\t\\t\\t\\t<div class=\"logo\">\\n\\t\\t\\t\\t\\t<img src=\"/uploads/articles/00/19/76/thumbnail.webp?4404\" alt=\"Логотип Россети Кубань\" loading=\"lazy\" />\\n\\t\\t\\t\\t</div>\\n\\t\\t\\t\\t\\t\\t\\t\\t<h3 class=\"title\">Россети Кубань</h3>\\n\\t\\t\\t\\t<div class=\"meta\"><time class=\"time\" datetime=\"2023-10-05T13:08:50+03:00\">13:08</time>&bull;<span class=\"author\">Alexandr Nevskij</span>\\n\\t\\t\\t\\t</div>\\n\\t\\t\\t\\t<div class=\"cmtp\">летом была по 130, как думаете опуститься в этом году до 130- 150? в начале 23-го вообще сладкие цены были по 56 р.</div>\\n\\t\\t\\t</a>\\n\\t\\t\\t<a href=\"/forum/KUBE\" class=\"comments_count\" rel=\"nofollow\">1</a>\\n\\t\\t</div>\\n\\t\\t\\t\\t\\t\\t\\t<div class=\"post bluid_206636\">\\n\\t\\t\\t<a href=\"/bonds/arenza-pro#comment16141890\" class=\"post_inner\" rel=\"nofollow\">\\n\\t\\t\\t\\t\\t\\t\\t\\t<div class=\"logo\">\\n\\t\\t\\t\\t\\t<img src=\"/uploads/2022/articles/00/75/80/thumbnail.webp?4404\" alt=\"Логотип АРЕНЗА-ПРО\" loading=\"lazy\" />\\n\\t\\t\\t\\t</div>\\n\\t\\t\\t\\t\\t\\t\\t\\t<h3 class=\"title\">АРЕНЗА-ПРО</h3>\\n\\t\\t\\t\\t<div class=\"meta\"><time class=\"time\" datetime=\"2023-10-05T13:07:14+03:00\">13:07</time>&bull;<span class=\"author\">БУНКЕР ОБЛИГАЦИЙ</span>\\n\\t\\t\\t\\t</div>\\n\\t\\t\\t\\t<div class=\"cmtp\">Аренза-про 17 октября планирует собрать заявки на новый выпуск облигаций  \\r\\nООО «Аренза-про» (бренд Arenza)\\xa0— относительно небольшая лизинговая компания, расположенная в Москве. Компания специализируе...</div>\\n\\t\\t\\t</a>\\n\\t\\t\\t<a href=\"/bonds/arenza-pro\" class=\"comments_count\" rel=\"nofollow\">1</a>\\n\\t\\t</div>\\n\\t\\t\\t\\t\\t\\t\\t<div class=\"post bluid_203372\">\\n\\t\\t\\t<a href=\"/forum/KUZB#comment16141888\" class=\"post_inner\" rel=\"nofollow\">\\n\\t\\t\\t\\t\\t\\t\\t\\t<div class=\"logo\">\\n\\t\\t\\t\\t\\t<img src=\"/uploads/articles/00/26/97/thumbnail.webp?4404\" alt=\"Логотип Кузнецкий банк\" loading=\"lazy\" />\\n\\t\\t\\t\\t</div>\\n\\t\\t\\t\\t\\t\\t\\t\\t<h3 class=\"title\">Кузнецкий банк</h3>\\n\\t\\t\\t\\t<div class=\"meta\"><time class=\"time\" datetime=\"2023-10-05T13:06:59+03:00\">13:06</time>&bull;<span class=\"author\">Илья Петров</span>\\n\\t\\t\\t\\t</div>\\n\\t\\t\\t\\t<div class=\"cmtp\">Скоро, совсем недолго осталось.Всем терпения</div>\\n\\t\\t\\t</a>\\n\\t\\t\\t<a href=\"/forum/KUZB\" class=\"comments_count\" rel=\"nofollow\">3</a>\\n\\t\\t</div>\\n\\t\\t\\t\\t\\t\\t\\t<div class=\"post bluid_212900\">\\n\\t\\t\\t<a href=\"/bonds/ferrum#comment16141887\" class=\"post_inner\" rel=\"nofollow\">\\n\\t\\t\\t\\t\\t\\t\\t\\t<div class=\"logo\">\\n\\t\\t\\t\\t\\t<img src=\"/uploads/2023/articles/00/81/57/thumbnail.webp?4404\" alt=\"Логотип ООО Феррум\" loading=\"lazy\" />\\n\\t\\t\\t\\t</div>\\n\\t\\t\\t\\t\\t\\t\\t\\t<h3 class=\"title\">ООО Феррум</h3>\\n\\t\\t\\t\\t<div class=\"meta\"><time class=\"time\" datetime=\"2023-10-05T13:06:57+03:00\">13:06</time>&bull;<span class=\"author\">ООО «Феррум»</span>\\n\\t\\t\\t\\t</div>\\n\\t\\t\\t\\t<div class=\"cmtp\">Московская биржа уведомляет участников торгов об установлении формы, времени, сроков и порядка проведения размещения и обращения ценных бумаг ООО «Феррум».  \\r\\n \\r\\n5 октября 2023 г. является датой начал...</div>\\n\\t\\t\\t</a>\\n\\t\\t\\t<a href=\"/bonds/ferrum\" class=\"comments_count\" rel=\"nofollow\">1</a>\\n\\t\\t</div>\\n\\t\\t\\t\\t\\t\\t\\t<div class=\"post bluid_67929\">\\n\\t\\t\\t<a href=\"/forum/SBER#comment16141884\" class=\"post_inner\" rel=\"nofollow\">\\n\\t\\t\\t\\t\\t\\t\\t\\t<div class=\"logo\">\\n\\t\\t\\t\\t\\t<img src=\"/uploads/2021/articles/00/19/00/thumbnail.webp?4404\" alt=\"Логотип Сбербанк\" loading=\"lazy\" />\\n\\t\\t\\t\\t</div>\\n\\t\\t\\t\\t\\t\\t\\t\\t<h3 class=\"title\">Сбербанк</h3>\\n\\t\\t\\t\\t<div class=\"meta\"><time class=\"time\" datetime=\"2023-10-05T13:08:02+03:00\">13:08</time>&bull;<span class=\"author\">Вася Баффет</span>\\n\\t\\t\\t\\t</div>\\n\\t\\t\\t\\t<div class=\"cmtp\"> \\r\\nне бык, Баффет американец и ему Московская биржа нафиг не нужна. В отличие от меня и остальных здесь присутствующих. А нам, кстати, нафиг не нужен теперь рынок США, по причинам, от нас не зависящим...</div>\\n\\t\\t\\t</a>\\n\\t\\t\\t<a href=\"/forum/SBER\" class=\"comments_count\" rel=\"nofollow\">65</a>\\n\\t\\t</div>\\n\\t\\t</div>\\n<a href=\"/forums/\" class=\"all_forums\" rel=\"nofollow\">Все форумы</a>\\n\\t\\t\\t\\t\\t</aside>\\n\\t\\t\\t\\t</div>\\n\\t\\t\\t\\t<a id=\"factors\" name=\"factors\"></a>\\n\\t\\t\\t\\t<div class=\"company_description\">\\n\\t\\t\\t\\t\\t<h2>\\n\\t\\t\\t\\t\\t\\tАбрау-Дюрсо - факторы роста и падения акций\\n\\t\\t\\t\\t\\t</h2>\\n\\n\\t\\t\\t\\t\\t<div class=\"reasons\">\\n\\t\\t\\t\\t\\t\\t<div class=\"reasons-up\">\\n\\t\\t\\t\\t\\t\\t\\t\\t\\t\\t\\t\\t\\t\\t<ul class=\"list-reasons\">\\n\\t\\t\\t\\t\\t\\t\\t\\t\\t\\t\\t\\t\\t\\t\\t\\t\\t\\t\\t\\t\\t\\t\\t\\t<li>До конца 2024 года Россия может ввести эмбарго на ввоз шампанских и вин <span>(10.05.2023)</span></li>\\n\\t\\t\\t\\t\\t\\t\\t\\t\\t\\t\\t\\t\\t\\t\\t</ul>\\n\\t\\t\\t\\t\\t\\t\\t\\t\\t\\t\\t\\t\\t\\t\\t\\t\\t\\t\\t\\t</div>\\n\\n\\t\\t\\t\\t\\t\\t<div class=\"reasons-down\">\\n\\t\\t\\t\\t\\t\\t\\t\\t\\t\\t\\t\\t\\t\\t<ul class=\"list-reasons2\">\\n\\t\\t\\t\\t\\t\\t\\t\\t\\t\\t\\t\\t\\t\\t\\t\\t\\t\\t\\t\\t\\t\\t\\t\\t<li>Компания сильно переоценена относительно своих финансовых показателей <span>(22.09.2021)</span></li>\\n\\t\\t\\t\\t\\t\\t\\t\\t\\t\\t\\t\\t\\t\\t\\t\\t\\t\\t\\t\\t\\t\\t\\t\\t<li>Выручка растет низкими темпами, прибыль не растет, завышенная оценка выглядит неоправданной <span>(22.09.2021)</span></li>\\n\\t\\t\\t\\t\\t\\t\\t\\t\\t\\t\\t\\t\\t\\t\\t\\t\\t\\t\\t\\t\\t\\t\\t\\t<li>Высокий capex, слабый денежный поток <span>(10.05.2023)</span></li>\\n\\t\\t\\t\\t\\t\\t\\t\\t\\t\\t\\t\\t\\t\\t\\t</ul>\\n\\t\\t\\t\\t\\t\\t\\t\\t\\t\\t\\t\\t\\t\\t\\t\\t\\t\\t\\t\\t</div>\\n\\t\\t\\t\\t\\t</div>\\n\\t\\t\\t\\t\\t<div class=\"reasons_mistake\">\\n\\t\\t\\t\\t\\t\\t⚠️ Если вы считаете, что какой-то фактор роста/падения больше не является актуальным, выделите его и нажмите CTRL+ENTER на клавиатуре, чтобы сообщить нам.\\n\\t\\t\\t\\t\\t</div>\\n\\t\\t\\t\\t</div>\\n\\n\\t\\t\\t\\t<div class=\"company_description company_description--text\" data-id=\"2050\" data-type=\"article\">\\n\\t\\t\\t\\t\\t<h2>Абрау-Дюрсо - описание компании</h2>\\n\\t\\t\\t\\t\\t<p>Группа «Абрау-Дюрсо» по итогам первого полугодия 2015г. стала крупнейшим производителем шампанских и игристых вин в России: выпустив 923,6 тыс. дал, она заняла 17,6% от общего производства, по данным исследовательского центра ЦИФРРА. Бенефициарами компании являются бизнес-омбудсмен Борис Титов и его сын Павел. У группы «Абрау-Дюрсо» в настоящее время в собственности находится около 300 га земель в Краснодарском крае.</p><p>\\xa0</p><p>\\xa0</p>\\n\\t\\t\\t\\t</div>\\n\\n\\t\\t\\t\\t<div class=\"brokers_block\">\\n\\t<div class=\"mart_head\">Чтобы купить акции, выберите надежного брокера:</div>\\n\\t<span><a target=\"_blank\" onclick=\"window.fz(\\'track\\', \\'Forum Footer Finam Click\\')\" href=\"https://www.finam.ru/services/promo00096/?AgencyBAckofficeID=1&agent=17FDE70F-5D0A-4DE9-809E-A9F5334CE8DD\"><img src=\"/templates/skin/smart-lab-x3/images/brokers-panel/finam-grey.png?4404\" loading=\"lazy\"  width=\"150\" height=\"40\" /></a></span>\\n\\t<span><a target=\"_blank\" onclick=\"window.fz(\\'track\\', \\'Forum Footer BCS\\')\" href=\"http://bcs.ru/?refid=7695\"><img src=\"/templates/skin/smart-lab-x3/images/brokers-panel/bks-grey.png?4404\" loading=\"lazy\" width=\"150\" height=\"40\" /></a></span>\\n</div>\\n\\n\\t\\t\\t\\t<div class=\"news-wrapper\">\\n\\t<hgroup class=\"news-head\">\\n\\t\\t<h2><a href=\"/forum/news/ABRD/\" title=\"Абрау-Дюрсо новости\">Новости Абрау-Дюрсо</a></h2>\\n\\t</hgroup>\\n</div>\\n\\n\\n\\t\\t\\t</div>\\n\\n\\t\\t\\n\\t\\t</div>\\n\\t\\t<footer class=\"fooooooter\">\\n\\t\\t\\t<div class=\"flinks\">\\n\\t\\t\\t\\t<div>\\n\\t\\t\\t\\t\\t<span>Блоги</span>\\n\\n\\t\\t\\t\\t\\t<a href=\"/allblog/\">Лента всех блогов</a><br />\\n\\t\\t\\t\\t\\t<a href=\"/favtop/\">Самые полезные</a><br />\\n\\t\\t\\t\\t\\t<a href=\"/top/topic/24h/by_comments/\">Самые комментируемые</a><br />\\n\\t\\t\\t\\t\\t<a href=\"/news/\">Новости</a><br />\\n\\t\\t\\t\\t\\t<a href=\"/blog/tradesignals/\">Торговые сигналы</a><br />\\n\\t\\t\\t\\t\\t<a href=\"/vopros/\">Ответы на вопросы</a><br />\\n\\t\\t\\t\\t\\t<a href=\"/blog/reviews/\">Книжные рецензии</a><br />\\n\\t\\t\\t\\t\\t<a href=\"/company/\">Корпоративные</a>\\n\\t\\t\\t\\t</div>\\n\\n\\t\\t\\t\\t<div>\\n\\t\\t\\t\\t\\t<span>Форумы</span>\\n\\n\\t\\t\\t\\t\\t<a href=\"/forums/\">Лента всех форумов</a><br />\\n\\t\\t\\t\\t\\t<a href=\"/trading/\">Общие темы</a><br />\\n\\t\\t\\t\\t\\t<a href=\"/forum/\">Форум акций</a><br />\\n\\t\\t\\t\\t\\t<a href=\"/algotrading/\">Форум алготрейдинг</a><br />\\n\\t\\t\\t\\t\\t<a href=\"/options/\">Форум опционы</a><br />\\n\\t\\t\\t\\t\\t<a href=\"/crypto/\">Форум криптовалют</a><br />\\n\\t\\t\\t\\t\\t<a href=\"/forex/\">Форум Forex</a><br />\\n\\t\\t\\t\\t\\t<a href=\"/brokers-rating/\">Рейтинг брокеров</a>\\n\\t\\t\\t\\t</div>\\n\\t\\t\\t\\t\\n\\t\\t\\t\\t<div>\\n\\t\\t\\t\\t\\t<span>Акции</span>\\n\\n\\t\\t\\t\\t\\t<a href=\"/q/map/\">Карта рынка</a><br />\\n\\t\\t\\t\\t\\t<a href=\"/q/shares/\">Котировки</a><br />\\n\\t\\t\\t\\t\\t<a href=\"/q/shares_fundamental/\">Фундаментальный анализ</a><br />\\n\\t\\t\\t\\t\\t<a href=\"/q/shares_fundamental/\">Отчеты компаний</a><br />\\n\\t\\t\\t\\t\\t<a href=\"/dividends/\">Дивиденды</a><br />\\n\\t\\t\\t\\t\\t<a href=\"/q/portfolio/\">Мой портфель</a><br />\\n\\t\\t\\t\\t\\t<a href=\"/forum/sectors/\">Все компании</a><br />\\n\\t\\t\\t\\t\\t<a href=\"/calendar/stocks/\">Календарь акций</a>\\n\\t\\t\\t\\t</div>\\n\\n\\t\\t\\t\\t<div>\\n\\t\\t\\t\\t\\t<span>Смартлаб</span>\\n\\n\\t\\t\\t\\t\\t<a href=\"/page/values/\">Ценности смартлаба</a><br />\\n\\t\\t\\t\\t\\t<a href=\"/page/privacy/\">Политика Конфиденциальности</a><br />\\n\\t\\t\\t\\t\\t<a href=\"/page/sitemap/\">Карта сайта</a><br />\\n\\t\\t\\t\\t\\t<a href=\"https://mediakit.smart-lab.ru/\">Реклама</a><br />\\n\\t\\t\\t\\t\\t<a href=\"/page/contact/\">Контакты</a><br />\\n\\t\\t\\t\\t\\t<a href=\"/blog/mytrading/5161.php\">Правила</a><br />\\n\\t\\t\\t\\t\\t<a href=\"/page/help/\">Помощь</a><br />\\n\\t\\t\\t\\t\\t<a href=\"/trading/%D0%97%D0%B0%D0%B4%D0%B0%D0%B9%20%D0%B2%D0%BE%D0%BF%D1%80%D0%BE%D1%81%20%D0%A2%D0%B8%D0%BC%D0%BE%D1%84%D0%B5%D1%8E%20%D0%9C%D0%B0%D1%80%D1%82%D1%8B%D0%BD%D0%BE%D0%B2%D1%83\">Обратная связь</a><br />\\n\\t\\t\\t\\t</div>\\n\\t\\t\\t</div>\\n\\t\\t</footer>\\n\\n\\t\\t\\n\\t\\t<div class=\"hidden_menu mob_menu_btn\">\\n\\t\\t\\t<div class=\"icon-menu\">\\n\\t\\t\\t<span></span>\\n\\t\\t\\t<span></span>\\n\\t\\t\\t<span></span>\\n\\t\\t\\t</div>\\n\\t\\t</div>\\n\\n\\t\\t<aside class=\"company_bar\">\\n\\t\\t\\t\\t\\t\\t\\t\\t\\t\\t\\t\\n\\t\\t\\t\\t\\t\\t\\t\\t<ul class=\"links-to-forum links-to-forum--flex\">\\n\\t\\t\\t\\t\\t<li style=\"list-style: none; display: inline\"><h2>Абрау-Дюрсо</h2></li>\\n\\n\\t\\t\\t\\t\\t<li><a href=\"/forum/news/ABRD/\" title=\"Абрау-Дюрсо новости\"><img src=\"/templates/skin/smart-lab-new/images/forum-menu/news.svg?4404\" alt=\"Абрау-Дюрсо новости\" /><span>Новости Абрау-Дюрсо</span></a></li>\\n\\t\\t\\t\\t\\t<li><a href=\"/forum/forecast/ABRD/\" title=\"Прогнозы по акциям  Абрау-Дюрсо\"><img src=\"/templates/skin/smart-lab-new/images/premium.svg?4404\" alt=\"Прогнозы по акциям Абрау-Дюрсо\" /><span>Прогнозы по акциям</span></a></li>\\n\\n\\n\\n\\t\\t\\t\\t\\t<li><a href=\"/q/ABRD/f/y/\"><img src=\"/templates/skin/smart-lab-new/images/forum-menu/reports.svg?4404\" alt=\"Финансовая Отчетность\" /><span>Финансовая Отчетность</span></a></li>\\n\\t\\t\\t\\t\\t<li><a href=\"/q/ABRD/dividend/\"><img src=\"/templates/skin/smart-lab-new/images/forum-menu/dividends.svg?4404\" alt=\"Дивиденды\" /><span>Дивиденды</span></a></li>\\n\\n\\t\\t\\t\\t\\t\\t\\t\\t\\t\\t\\t\\t\\t\\t\\t\\t\\t\\t\\t\\t\\t\\t<li><a href=\"/gr/MOEX.ABRD\"><img src=\"/templates/skin/smart-lab-new/images/forum-menu/charts.svg?4404\" alt=\"График акций ABRD\" /><span>График акций ABRD</span></a></li>\\n\\t\\t\\t\\t\\t\\t\\t\\t\\t\\t\\t\\t\\t\\t\\t\\t\\t\\t\\t\\t\\t\\n\\t\\t\\t\\t\\t<li><a href=\"#factors\"><img src=\"/templates/skin/smart-lab-new/images/forum-menu/factors.svg?4404\" alt=\"Факторы роста и падения\" /><span>Факторы роста и падения</span></a></li>\\n\\t\\t\\t\\t\\t\\t\\t\\t\\t\\t<li><a href=\"/q/ABRD/f/l/\"><img src=\"/templates/skin/smart-lab-new/images/forum-menu/reports-all.svg?4404\" alt=\"Отчеты и презентации\" /><span>Отчеты и презентации</span></a></li>\\n\\t\\t\\t\\t\\t\\t\\t\\t\\t\\t\\t\\t\\t\\t\\t<li><a href=\"/q/ABRD/shareholders/\"><img src=\"/templates/skin/smart-lab-new/images/forum-menu/shareholders-structure.svg?4404\" alt=\"Структура акционеров\" /><span>Структура акционеров</span></a></li>\\n\\t\\t\\t\\t\\t\\t\\t\\t\\t\\t<li><a href=\"https://www.abraudurso.ru/investors/#reports\" target=\"_blank\" rel=\"nofollow\"><img src=\"/templates/skin/smart-lab-new/images/forum-menu/shareholders-website.svg?4404\" alt=\"Сайт для акционеров\" /><span>Сайт для акционеров</span></a></li>\\t\\t\\t\\t\\t<li><a href=\"/chat/?x=2050\" style=\"color: #00f500\" rel=\"nofollow\" title=\"Чат акций Абрау-Дюрсо\"><img src=\"/templates/skin/smart-lab-new/images/forum-menu/chat.svg?4404\" alt=\"Абрау-Дюрсо чат\" /><span>Абрау-Дюрсо чат</span></a></li>\\n\\t\\t\\t\\t\\t\\n\\t\\t\\t\\t</ul>\\n\\t\\t\\t\\t\\n\\t\\t\\t\\t<ul class=\"links-to-forum links-to-forum--flex\">\\n\\t\\t\\t\\t\\t<li style=\"list-style: none; display: inline\"><h2>Акции ММВБ</h2></li>\\n\\t\\t\\t\\t\\t<li><a href=\"/q/portfolio/\"><img src=\"/templates/skin/smart-lab-new/images/forum-menu/portfolio.svg?4404\" alt=\"Мой портфель\" /><span>Мой портфель</span></a></li>\\n\\t\\t\\t\\t\\t\\t\\t\\t\\t\\t<li><a href=\"/q/shares/\"><img src=\"/templates/skin/smart-lab-new/images/forum-menu/quotes.svg?4404\" alt=\"Котировки акций России\" /><span>Котировки акций РФ</span></a></li>\\n\\t\\t\\t\\t\\t<li><a href=\"/q/usa/\"><img src=\"/templates/skin/smart-lab-new/images/forum-menu/quotes.svg?4404\" alt=\"Котировки акций США\" /><span>Котировки акций США</span></a></li>\\n\\t\\t\\t\\t\\t\\t\\t\\t\\t\\t<li><a href=\"/forum/sectors/\"><img src=\"/templates/skin/smart-lab-new/images/forum-menu/companies.svg?4404\" alt=\"Компании по секторам\" /><span>Компании по секторам</span></a></li>\\n\\t\\t\\t\\t\\t\\t\\t\\t\\t\\t<li><a href=\"/q/shares_fundamental/\"><img src=\"/templates/skin/smart-lab-new/images/forum-menu/fa-screener.svg?4404\" alt=\"ФА скринер\" /><span>ФА скринер</span></a></li>\\n\\t\\t\\t\\t\\t<li><a href=\"/dividends/\"><img src=\"/templates/skin/smart-lab-new/images/forum-menu/dividends-mmvb.svg?4404\" alt=\"Дивиденды ММВБ\" /><span>Дивиденды ММВБ</span></a></li>\\n\\t\\t\\t\\t\\t<li><a href=\"/people/all/order_by_stocks/desc/\" rel=\"nofollow\"><img src=\"/templates/skin/smart-lab-new/images/forum-menu/rating.svg?4404\" alt=\"Рейтинг участников\" /><span>Рейтинг участников</span></a></li>\\n\\t\\t\\t\\t\\t\\t\\t\\t\\t</ul>\\n\\n\\t\\t\\t\\t\\n\\t\\t\\t\\t\\t\\t\\t\\t<ul class=\"links-to-forum\" id=\"readers\" url=\"/cgi-bin/views.fcgi?page=7bda155e97381cbf12b53dac204c3d4c&page_url=https%3A%2F%2Fsmart-lab.ru%2Fforum%2FABRD&page_title=%D0%90%D0%B1%D1%80%D0%B0%D1%83-%D0%94%D1%8E%D1%80%D1%81%D0%BE&uid=0&func=readersBlockBuilder\"></ul>\\n\\t\\t\\t\\t\\t\\t\\t\\t\\t</aside>\\n\\t\\t\\t\\t<!--Верхняя навигация-->\\n\\n\\t\\t<header class=\"topbar\">\\n\\t\\t\\t<div class=\"upbar\">\\n\\t\\t\\t\\t<div class=\"upbar_menu\">\\n\\t\\t\\t\\t\\t<button class=\"hamburger hamburger--vortex\" type=\"button\" aria-label=\"Главное меню сайта\">\\n\\t\\t\\t\\t\\t\\t<span class=\"hamburger-box\">\\n\\t\\t\\t\\t\\t\\t\\t<span class=\"hamburger-inner\"></span>\\n\\t\\t\\t\\t\\t\\t</span>\\n\\t\\t\\t\\t\\t</button>\\n\\t\\t\\t\\t</div>\\n\\n\\t\\t\\t\\t<div class=\"upbar_logo\">\\n\\t\\t\\t\\t\\t<h5>\\n\\t\\t\\t\\t\\t\\t<a href=\"/\">SMART-LAB</a>\\n\\t\\t\\t\\t\\t</h5>\\n\\t\\t\\t\\t</div>\\n\\n\\t\\t\\t\\t\\t\\t\\t\\t\\t\\t\\t\\t\\t<div class=\"upbar_search\">\\n\\t\\t\\t\\t\\t<div class=\"search_q\">\\n\\t\\t\\t\\t\\t\\t<input name=\"q\" placeholder=\"Ищу компанию..\" type=\"text\" autocompleter=\"/forum/ajaxsearch/\">\\n\\t\\t\\t\\t\\t</div>\\n\\n\\t\\t\\t\\t\\t<div class=\"mobile_search\">\\n\\t\\t\\t\\t\\t\\t<a class=\"mobile_search__toggle\">\\n\\t\\t\\t\\t\\t\\t\\t<img src=\"/templates/skin/smart-lab-new/images/baseline_search_white.png?4404\" alt=\"Поиск\">\\n\\t\\t\\t\\t\\t\\t</a>\\n\\t\\t\\t\\t\\t\\t<div class=\"mobile_search__overlay\"></div>\\n\\t\\t\\t\\t\\t\\t<div class=\"mobile_search__input\">\\n\\t\\t\\t\\t\\t\\t\\t<input name=\"q\" placeholder=\"Ищу компанию..\" type=\"text\" autocompleter=\"/forum/ajaxsearch/\">\\n\\t\\t\\t\\t\\t\\t</div>\\n\\t\\t\\t\\t\\t</div>\\n\\n\\t\\t\\t\\t\\t\\t\\t\\t\\t\\t<div class=\"abc-link\">\\n\\t\\t\\t\\t\\t\\t<div class=\"drop-menu-main\">\\n\\t\\t\\t\\t\\t\\t\\t<div class=\"drop-down\">\\n\\t\\t\\t\\t\\t\\t\\t\\t<span id=\"abc1\">A...</span>\\n\\t\\t\\t\\t\\t\\t\\t\\t<div class=\"drop-menu-main-sub\">\\n\\t\\t\\t\\t\\t\\t\\t\\t\\t<div class=\"alphabet\" style=\"width: 360px\">\\n\\t\\t\\t\\t\\t\\t\\t\\t\\t\\t\\t\\t\\t\\t\\t\\t\\t\\t\\t\\t\\t\\t\\t\\t\\t\\t\\t\\t\\t\\t\\t\\t\\t<a href=\"/forum/letter/А/\" title=\"Показать все компании на букву &quot;А&quot;\">А</a>\\n\\t\\t\\t\\t\\t\\t\\t\\t\\t\\t\\t\\t\\t\\t\\t\\t\\t\\t\\t\\t\\t\\t\\t<a href=\"/forum/letter/Б/\" title=\"Показать все компании на букву &quot;Б&quot;\">Б</a>\\n\\t\\t\\t\\t\\t\\t\\t\\t\\t\\t\\t\\t\\t\\t\\t\\t\\t\\t\\t\\t\\t\\t\\t<a href=\"/forum/letter/В/\" title=\"Показать все компании на букву &quot;В&quot;\">В</a>\\n\\t\\t\\t\\t\\t\\t\\t\\t\\t\\t\\t\\t\\t\\t\\t\\t\\t\\t\\t\\t\\t\\t\\t<a href=\"/forum/letter/Г/\" title=\"Показать все компании на букву &quot;Г&quot;\">Г</a>\\n\\t\\t\\t\\t\\t\\t\\t\\t\\t\\t\\t\\t\\t\\t\\t\\t\\t\\t\\t\\t\\t\\t\\t<a href=\"/forum/letter/Д/\" title=\"Показать все компании на букву &quot;Д&quot;\">Д</a>\\n\\t\\t\\t\\t\\t\\t\\t\\t\\t\\t\\t\\t\\t\\t\\t\\t\\t\\t\\t\\t\\t\\t\\t<a href=\"/forum/letter/Е/\" title=\"Показать все компании на букву &quot;Е&quot;\">Е</a>\\n\\t\\t\\t\\t\\t\\t\\t\\t\\t\\t\\t\\t\\t\\t\\t\\t\\t\\t\\t\\t\\t\\t\\t<a href=\"/forum/letter/Ж/\" title=\"Показать все компании на букву &quot;Ж&quot;\">Ж</a>\\n\\t\\t\\t\\t\\t\\t\\t\\t\\t\\t\\t\\t\\t\\t\\t\\t\\t\\t\\t\\t\\t\\t\\t<a href=\"/forum/letter/З/\" title=\"Показать все компании на букву &quot;З&quot;\">З</a>\\n\\t\\t\\t\\t\\t\\t\\t\\t\\t\\t\\t\\t\\t\\t\\t\\t\\t\\t\\t\\t\\t\\t\\t<a href=\"/forum/letter/И/\" title=\"Показать все компании на букву &quot;И&quot;\">И</a>\\n\\t\\t\\t\\t\\t\\t\\t\\t\\t\\t\\t\\t\\t\\t\\t\\t\\t\\t\\t\\t\\t\\t\\t<a href=\"/forum/letter/К/\" title=\"Показать все компании на букву &quot;К&quot;\">К</a>\\n\\t\\t\\t\\t\\t\\t\\t\\t\\t\\t\\t\\t\\t\\t\\t\\t\\t\\t\\t\\t\\t\\t\\t<a href=\"/forum/letter/Л/\" title=\"Показать все компании на букву &quot;Л&quot;\">Л</a>\\n\\t\\t\\t\\t\\t\\t\\t\\t\\t\\t\\t\\t\\t\\t\\t\\t\\t\\t\\t\\t\\t\\t\\t<a href=\"/forum/letter/М/\" title=\"Показать все компании на букву &quot;М&quot;\">М</a>\\n\\t\\t\\t\\t\\t\\t\\t\\t\\t\\t\\t\\t\\t\\t\\t\\t\\t\\t\\t\\t\\t\\t\\t<a href=\"/forum/letter/Н/\" title=\"Показать все компании на букву &quot;Н&quot;\">Н</a>\\n\\t\\t\\t\\t\\t\\t\\t\\t\\t\\t\\t\\t\\t\\t\\t\\t\\t\\t\\t\\t\\t\\t\\t<a href=\"/forum/letter/О/\" title=\"Показать все компании на букву &quot;О&quot;\">О</a>\\n\\t\\t\\t\\t\\t\\t\\t\\t\\t\\t\\t\\t\\t\\t\\t\\t\\t\\t\\t\\t\\t\\t\\t<a href=\"/forum/letter/П/\" title=\"Показать все компании на букву &quot;П&quot;\">П</a>\\n\\t\\t\\t\\t\\t\\t\\t\\t\\t\\t\\t\\t\\t\\t\\t\\t\\t\\t\\t\\t\\t\\t\\t<a href=\"/forum/letter/Р/\" title=\"Показать все компании на букву &quot;Р&quot;\">Р</a>\\n\\t\\t\\t\\t\\t\\t\\t\\t\\t\\t\\t\\t\\t\\t\\t\\t\\t\\t\\t\\t\\t\\t\\t<a href=\"/forum/letter/С/\" title=\"Показать все компании на букву &quot;С&quot;\">С</a>\\n\\t\\t\\t\\t\\t\\t\\t\\t\\t\\t\\t\\t\\t\\t\\t\\t\\t\\t\\t\\t\\t\\t\\t<a href=\"/forum/letter/Т/\" title=\"Показать все компании на букву &quot;Т&quot;\">Т</a>\\n\\t\\t\\t\\t\\t\\t\\t\\t\\t\\t\\t\\t\\t\\t\\t\\t\\t\\t\\t\\t\\t\\t\\t<a href=\"/forum/letter/У/\" title=\"Показать все компании на букву &quot;У&quot;\">У</a>\\n\\t\\t\\t\\t\\t\\t\\t\\t\\t\\t\\t\\t\\t\\t\\t\\t\\t\\t\\t\\t\\t\\t\\t<a href=\"/forum/letter/Ф/\" title=\"Показать все компании на букву &quot;Ф&quot;\">Ф</a>\\n\\t\\t\\t\\t\\t\\t\\t\\t\\t\\t\\t\\t\\t\\t\\t\\t\\t\\t\\t\\t\\t\\t\\t<a href=\"/forum/letter/Х/\" title=\"Показать все компании на букву &quot;Х&quot;\">Х</a>\\n\\t\\t\\t\\t\\t\\t\\t\\t\\t\\t\\t\\t\\t\\t\\t\\t\\t\\t\\t\\t\\t\\t\\t<a href=\"/forum/letter/Ц/\" title=\"Показать все компании на букву &quot;Ц&quot;\">Ц</a>\\n\\t\\t\\t\\t\\t\\t\\t\\t\\t\\t\\t\\t\\t\\t\\t\\t\\t\\t\\t\\t\\t\\t\\t<a href=\"/forum/letter/Ч/\" title=\"Показать все компании на букву &quot;Ч&quot;\">Ч</a>\\n\\t\\t\\t\\t\\t\\t\\t\\t\\t\\t\\t\\t\\t\\t\\t\\t\\t\\t\\t\\t\\t\\t\\t<a href=\"/forum/letter/Ш/\" title=\"Показать все компании на букву &quot;Ш&quot;\">Ш</a>\\n\\t\\t\\t\\t\\t\\t\\t\\t\\t\\t\\t\\t\\t\\t\\t\\t\\t\\t\\t\\t\\t\\t\\t<a href=\"/forum/letter/Щ/\" title=\"Показать все компании на букву &quot;Щ&quot;\">Щ</a>\\n\\t\\t\\t\\t\\t\\t\\t\\t\\t\\t\\t\\t\\t\\t\\t\\t\\t\\t\\t\\t\\t\\t\\t<a href=\"/forum/letter/Э/\" title=\"Показать все компании на букву &quot;Э&quot;\">Э</a>\\n\\t\\t\\t\\t\\t\\t\\t\\t\\t\\t\\t\\t\\t\\t\\t\\t\\t\\t\\t\\t\\t\\t\\t<a href=\"/forum/letter/Ю/\" title=\"Показать все компании на букву &quot;Ю&quot;\">Ю</a>\\n\\t\\t\\t\\t\\t\\t\\t\\t\\t\\t\\t\\t\\t\\t\\t\\t\\t\\t\\t\\t\\t\\t\\t<a href=\"/forum/letter/Я/\" title=\"Показать все компании на букву &quot;Я&quot;\">Я</a>\\n\\t\\t\\t\\t\\t\\t\\t\\t\\t\\t\\t\\t\\t\\t\\t\\t\\t\\t\\t\\t\\t\\t\\t\\t\\t\\t\\t\\t\\t\\t\\t\\t\\t\\t\\t\\t\\t\\t\\t\\t\\t\\t\\t\\t<a href=\"/forum/letter/A/\" title=\"Показать все компании на букву &quot;A&quot;\">A</a>\\n\\t\\t\\t\\t\\t\\t\\t\\t\\t\\t\\t\\t\\t\\t\\t\\t\\t\\t\\t\\t\\t\\t\\t<a href=\"/forum/letter/B/\" title=\"Показать все компании на букву &quot;B&quot;\">B</a>\\n\\t\\t\\t\\t\\t\\t\\t\\t\\t\\t\\t\\t\\t\\t\\t\\t\\t\\t\\t\\t\\t\\t\\t<a href=\"/forum/letter/C/\" title=\"Показать все компании на букву &quot;C&quot;\">C</a>\\n\\t\\t\\t\\t\\t\\t\\t\\t\\t\\t\\t\\t\\t\\t\\t\\t\\t\\t\\t\\t\\t\\t\\t<a href=\"/forum/letter/D/\" title=\"Показать все компании на букву &quot;D&quot;\">D</a>\\n\\t\\t\\t\\t\\t\\t\\t\\t\\t\\t\\t\\t\\t\\t\\t\\t\\t\\t\\t\\t\\t\\t\\t<a href=\"/forum/letter/E/\" title=\"Показать все компании на букву &quot;E&quot;\">E</a>\\n\\t\\t\\t\\t\\t\\t\\t\\t\\t\\t\\t\\t\\t\\t\\t\\t\\t\\t\\t\\t\\t\\t\\t<a href=\"/forum/letter/F/\" title=\"Показать все компании на букву &quot;F&quot;\">F</a>\\n\\t\\t\\t\\t\\t\\t\\t\\t\\t\\t\\t\\t\\t\\t\\t\\t\\t\\t\\t\\t\\t\\t\\t<a href=\"/forum/letter/G/\" title=\"Показать все компании на букву &quot;G&quot;\">G</a>\\n\\t\\t\\t\\t\\t\\t\\t\\t\\t\\t\\t\\t\\t\\t\\t\\t\\t\\t\\t\\t\\t\\t\\t<a href=\"/forum/letter/H/\" title=\"Показать все компании на букву &quot;H&quot;\">H</a>\\n\\t\\t\\t\\t\\t\\t\\t\\t\\t\\t\\t\\t\\t\\t\\t\\t\\t\\t\\t\\t\\t\\t\\t<a href=\"/forum/letter/I/\" title=\"Показать все компании на букву &quot;I&quot;\">I</a>\\n\\t\\t\\t\\t\\t\\t\\t\\t\\t\\t\\t\\t\\t\\t\\t\\t\\t\\t\\t\\t\\t\\t\\t<a href=\"/forum/letter/J/\" title=\"Показать все компании на букву &quot;J&quot;\">J</a>\\n\\t\\t\\t\\t\\t\\t\\t\\t\\t\\t\\t\\t\\t\\t\\t\\t\\t\\t\\t\\t\\t\\t\\t<a href=\"/forum/letter/K/\" title=\"Показать все компании на букву &quot;K&quot;\">K</a>\\n\\t\\t\\t\\t\\t\\t\\t\\t\\t\\t\\t\\t\\t\\t\\t\\t\\t\\t\\t\\t\\t\\t\\t<a href=\"/forum/letter/L/\" title=\"Показать все компании на букву &quot;L&quot;\">L</a>\\n\\t\\t\\t\\t\\t\\t\\t\\t\\t\\t\\t\\t\\t\\t\\t\\t\\t\\t\\t\\t\\t\\t\\t<a href=\"/forum/letter/M/\" title=\"Показать все компании на букву &quot;M&quot;\">M</a>\\n\\t\\t\\t\\t\\t\\t\\t\\t\\t\\t\\t\\t\\t\\t\\t\\t\\t\\t\\t\\t\\t\\t\\t<a href=\"/forum/letter/N/\" title=\"Показать все компании на букву &quot;N&quot;\">N</a>\\n\\t\\t\\t\\t\\t\\t\\t\\t\\t\\t\\t\\t\\t\\t\\t\\t\\t\\t\\t\\t\\t\\t\\t<a href=\"/forum/letter/O/\" title=\"Показать все компании на букву &quot;O&quot;\">O</a>\\n\\t\\t\\t\\t\\t\\t\\t\\t\\t\\t\\t\\t\\t\\t\\t\\t\\t\\t\\t\\t\\t\\t\\t<a href=\"/forum/letter/P/\" title=\"Показать все компании на букву &quot;P&quot;\">P</a>\\n\\t\\t\\t\\t\\t\\t\\t\\t\\t\\t\\t\\t\\t\\t\\t\\t\\t\\t\\t\\t\\t\\t\\t<a href=\"/forum/letter/Q/\" title=\"Показать все компании на букву &quot;Q&quot;\">Q</a>\\n\\t\\t\\t\\t\\t\\t\\t\\t\\t\\t\\t\\t\\t\\t\\t\\t\\t\\t\\t\\t\\t\\t\\t<a href=\"/forum/letter/R/\" title=\"Показать все компании на букву &quot;R&quot;\">R</a>\\n\\t\\t\\t\\t\\t\\t\\t\\t\\t\\t\\t\\t\\t\\t\\t\\t\\t\\t\\t\\t\\t\\t\\t<a href=\"/forum/letter/S/\" title=\"Показать все компании на букву &quot;S&quot;\">S</a>\\n\\t\\t\\t\\t\\t\\t\\t\\t\\t\\t\\t\\t\\t\\t\\t\\t\\t\\t\\t\\t\\t\\t\\t<a href=\"/forum/letter/T/\" title=\"Показать все компании на букву &quot;T&quot;\">T</a>\\n\\t\\t\\t\\t\\t\\t\\t\\t\\t\\t\\t\\t\\t\\t\\t\\t\\t\\t\\t\\t\\t\\t\\t<a href=\"/forum/letter/U/\" title=\"Показать все компании на букву &quot;U&quot;\">U</a>\\n\\t\\t\\t\\t\\t\\t\\t\\t\\t\\t\\t\\t\\t\\t\\t\\t\\t\\t\\t\\t\\t\\t\\t<a href=\"/forum/letter/V/\" title=\"Показать все компании на букву &quot;V&quot;\">V</a>\\n\\t\\t\\t\\t\\t\\t\\t\\t\\t\\t\\t\\t\\t\\t\\t\\t\\t\\t\\t\\t\\t\\t\\t<a href=\"/forum/letter/W/\" title=\"Показать все компании на букву &quot;W&quot;\">W</a>\\n\\t\\t\\t\\t\\t\\t\\t\\t\\t\\t\\t\\t\\t\\t\\t\\t\\t\\t\\t\\t\\t\\t\\t<a href=\"/forum/letter/X/\" title=\"Показать все компании на букву &quot;X&quot;\">X</a>\\n\\t\\t\\t\\t\\t\\t\\t\\t\\t\\t\\t\\t\\t\\t\\t\\t\\t\\t\\t\\t\\t\\t\\t<a href=\"/forum/letter/Y/\" title=\"Показать все компании на букву &quot;Y&quot;\">Y</a>\\n\\t\\t\\t\\t\\t\\t\\t\\t\\t\\t\\t\\t\\t\\t\\t\\t\\t\\t\\t\\t\\t\\t\\t<a href=\"/forum/letter/Z/\" title=\"Показать все компании на букву &quot;Z&quot;\">Z</a>\\n\\t\\t\\t\\t\\t\\t\\t\\t\\t\\t\\t\\t\\t\\t\\t\\t\\t\\t\\t\\t\\t\\t\\t\\t\\t\\t\\t\\t\\t\\t\\t<a href=\"/forum/last/\" title=\"Последние добавленные компании\">....</a>\\n\\t\\t\\t\\t\\t\\t\\t\\t\\t</div>\\n\\t\\t\\t\\t\\t\\t\\t\\t</div>\\n\\t\\t\\t\\t\\t\\t\\t</div>\\n\\t\\t\\t\\t\\t\\t</div>\\n\\t\\t\\t\\t\\t</div>\\n\\t\\t\\t\\t\\t\\t\\t\\t\\t</div>\\t\\t\\t\\t\\t\\t\\t\\t\\n\\t\\t\\t\\t\\t\\t\\t\\t<div class=\"upbar_login\">\\n\\t\\t\\t\\t\\t<a href=\"/login/\" title=\"Войти или зарегистрироваться\"><img src=\"/templates/skin/smart-lab-new/images/login_btn.svg?4404\" class=\"mart_login\" alt=\"Вход\"></a>\\n\\t\\t\\t\\t</div>\\t\\t\\t\\t\\n\\t\\t\\t\\t\\n\\t\\t\\t</div>\\n\\t\\t</header>\\n\\n\\t\\t\\t\\t\\t<div id=\"undermenu_more_main\" class=\"undermenu_more_main clickmenu\">\\n\\t\\t\\t\\t<div class=\"menu_columns\">\\n\\t\\t\\t\\t\\t<div class=\"menu_column\">\\n\\t\\t\\t\\t\\t\\t<div class=\"menu_column__item\">\\n\\t\\t\\t\\t\\t\\t\\t<h4 class=\"menu_column__title\">Ленты</h4>\\n\\t\\t\\t\\t\\t\\t\\t<ul class=\"menu_column__list\">\\n\\t\\t\\t\\t\\t\\t\\t\\t<li><a href=\"/allpremium/\"><img src=\"/templates/skin/smart-lab-new/images/premium.svg?4404\" loading=\"lazy\" alt=\"PREMIUM\" onclick=\"window.fz(\\'track\\', \\'old main_menu mozgovik click\\')\"><span>PREMIUM</span></a></li>\\n\\t\\t\\t\\t\\t\\t\\t\\t<li><a href=\"/allblog/\" class=\"menu_bg__orange\"><img src=\"/templates/skin/smart-lab-new/images/main-menu/all-blog.svg?4404\" loading=\"lazy\" alt=\"Все блоги\"/><span>Все блоги</span></a></li>\\n\\t\\t\\t\\t\\t\\t\\t\\t<li><a href=\"/chat/\" class=\"menu_bg__green\"><img src=\"/templates/skin/smart-lab-new/images/main-menu/chat.svg?4404\" loading=\"lazy\" alt=\"Чат\" /><span>Чат</span></a></li>\\n\\t\\t\\t\\t\\t\\t\\t\\t<li><a href=\"/news/\" class=\"menu_bg__green\"><img src=\"/templates/skin/smart-lab-new/images/main-menu/news.svg?4404\" loading=\"lazy\" alt=\"Новости\" /><span>Новости</span></a></li>\\n\\t\\t\\t\\t\\t\\t\\t\\t\\t\\t\\t\\t\\t\\t\\t\\t<li><a href=\"/flow/\">Поток</a></li>\\n\\t\\t\\t\\t\\t\\t\\t\\t<li><a href=\"/blog/tradesignals/\">Сигналы</a></li>\\n\\t\\t\\t\\t\\t\\t\\t\\t<li><a href=\"/forums/\">Форумы</a></li>\\n\\t\\t\\t\\t\\t\\t\\t\\t<li><a href=\"/top/\" class=\"menu_bg__green\"><img src=\"/templates/skin/smart-lab-new/images/main-menu/top24.svg?4404\" loading=\"lazy\" alt=\"Топ 24\"/><span>Топ 24</span></a></li>\\n\\t\\t\\t\\t\\t\\t\\t\\t<li><a href=\"/vopros/\">Вопросы</a></li>\\n\\t\\t\\t\\t\\t\\t\\t\\t<li><a href=\"/smartlab-tv/\">Видео</a></li>\\n\\t\\t\\t\\t\\t\\t\\t\\t<li><a href=\"/blog/offtop/\" rel=\"nofollow\">Оффтоп</a></li>\\n\\t\\t\\t\\t\\t\\t\\t</ul>\\n\\t\\t\\t\\t\\t\\t</div>\\n\\t\\t\\t\\t\\t</div>\\n\\t\\t\\t\\t\\t<!-- second column -->\\n\\t\\t\\t\\t\\t<div class=\"menu_column\">\\n\\t\\t\\t\\t\\t\\t<div class=\"menu_column__item\">\\n\\t\\t\\t\\t\\t\\t\\t<h4 class=\"menu_column__title\">Форумы</h4>\\n\\t\\t\\t\\t\\t\\t\\t<ul class=\"menu_column__list\">\\n\\t\\t\\t\\t\\t\\t\\t\\t<li><a href=\"/forum/\" class=\"menu_bg__orange\">Форум акций</a></li>\\n\\t\\t\\t\\t\\t\\t\\t\\t<li><a href=\"/trading/\">Общий</a></li>\\n\\t\\t\\t\\t\\t\\t\\t\\t<li><a href=\"/bonds/\">Облигации</a></li>\\n\\t\\t\\t\\t\\t\\t\\t\\t<li><a href=\"/algotrading/\">Торговые роботы</a></li>\\n\\t\\t\\t\\t\\t\\t\\t\\t<li><a href=\"/options/\">Опционы</a></li>\\n\\t\\t\\t\\t\\t\\t\\t\\t<li><a href=\"/forex/\">Forex</a></li>\\n\\t\\t\\t\\t\\t\\t\\t\\t<li><a href=\"/banki/\">Банки</a></li>\\n\\t\\t\\t\\t\\t\\t\\t\\t<li><a href=\"/brokers-rating/\">Брокеры</a></li>\\n\\t\\t\\t\\t\\t\\t\\t</ul>\\n\\t\\t\\t\\t\\t\\t</div>\\n\\t\\t\\t\\t\\t\\t<div class=\"menu_column__item\">\\n\\t\\t\\t\\t\\t\\t\\t<h4 class=\"menu_column__title\">Участники</h4>\\n\\t\\t\\t\\t\\t\\t\\t<ul class=\"menu_column__list\">\\n\\t\\t\\t\\t\\t\\t\\t\\t<li><a href=\"/people/\" class=\"menu_bg__green\"><img src=\"/templates/skin/smart-lab-new/images/main-menu/people.svg?4404\" loading=\"lazy\" alt=\"Люди\"/><span>Люди</span></a></li>\\n\\t\\t\\t\\t\\t\\t\\t\\t<li><a href=\"/company/\"><img src=\"/templates/skin/smart-lab-new/images/main-menu/companies.svg?4404\" loading=\"lazy\" alt=\"Компании\"/><span>Компании</span></a></li>\\n\\t\\t\\t\\t\\t\\t\\t</ul>\\n\\t\\t\\t\\t\\t\\t</div>\\n\\t\\t\\t\\t\\t</div>\\n\\t\\t\\t\\t\\t<!-- third column -->\\n\\t\\t\\t\\t\\t<div class=\"menu_column\">\\n\\t\\t\\t\\t\\t\\t<div class=\"menu_column__item\">\\n\\t\\t\\t\\t\\t\\t\\t<h4 class=\"menu_column__title\">Котировки</h4>\\n\\t\\t\\t\\t\\t\\t\\t<ul class=\"menu_column__list\">\\n\\t\\t\\t\\t\\t\\t\\t\\t<li><a href=\"/q/shares/\" class=\"menu_bg__orange\"><img src=\"/templates/skin/smart-lab-new/images/main-menu/quotes.svg?4404\" loading=\"lazy\" alt=\"Котировки акций\"/><span>Котировки акций</span></a></li>\\n\\t\\t\\t\\t\\t\\t\\t\\t<li><a href=\"/q/ofz/\"><img src=\"/templates/skin/smart-lab-new/images/main-menu/ofz.svg?4404\" loading=\"lazy\" alt=\"Облигации федерального займа\"/><span>ОФЗ</span></a></li>\\n\\t\\t\\t\\t\\t\\t\\t\\t<li><a href=\"/q/map/\" class=\"menu_bg__green\">Карта рынка</a></li>\\n\\t\\t\\t\\t\\t\\t\\t\\t<li><a href=\"/q/futures/\">Фьючерсы</a></li>\\n\\t\\t\\t\\t\\t\\t\\t\\t<li><a href=\"/q/world-quotes/\">Мир/FX/Сырье/Крипта</a></li>\\n\\t\\t\\t\\t\\t\\t\\t\\t<li><a href=\"/g/\"><img src=\"/templates/skin/smart-lab-new/images/main-menu/charts.svg?4404\" loading=\"lazy\" alt=\"Графики онлайн\"/><span>Графики онлайн</span></a></li>\\n\\t\\t\\t\\t\\t\\t\\t</ul>\\n\\t\\t\\t\\t\\t\\t</div>\\n\\t\\t\\t\\t\\t\\t<div class=\"menu_column__item\">\\n\\t\\t\\t\\t\\t\\t\\t<h4 class=\"menu_column__title\">Акции</h4>\\n\\t\\t\\t\\t\\t\\t\\t<ul class=\"menu_column__list\">\\n\\t\\t\\t\\t\\t\\t\\t\\t<li><a href=\"/dividends/\" class=\"menu_bg__orange\"><img src=\"/templates/skin/smart-lab-new/images/main-menu/dividends.svg?4404\" loading=\"lazy\" alt=\"Дивиденды\"/><span>Дивиденды</span></a></li>\\n\\t\\t\\t\\t\\t\\t\\t\\t<li><a href=\"/q/shares_fundamental3/\"><img src=\"/templates/skin/smart-lab-new/images/main-menu/reports.svg?4404\" loading=\"lazy\" alt=\"Отчеты РСБУ/МСФО\"/><span>Отчеты РСБУ/МСФО</span></a>\\n\\t\\t\\t\\t\\t\\t\\t\\t<li><a href=\"/q/shares_fundamental/\"><img src=\"/templates/skin/smart-lab-new/images/main-menu/fundamental.svg?4404\" loading=\"lazy\" alt=\"Фундам. анализ\"/><span>Фундам. анализ</span></a></li>\\n\\t\\t\\t\\t\\t\\t\\t\\t\\t\\t\\t\\t\\t\\t\\t\\t\\t\\t\\t\\t\\t\\t\\t</ul>\\n\\t\\t\\t\\t\\t\\t</div>\\n\\t\\t\\t\\t\\t</div>\\n\\t\\t\\t\\t\\t<!-- four column -->\\n\\t\\t\\t\\t\\t<div class=\"menu_column\">\\n\\t\\t\\t\\t\\t\\t<div class=\"menu_column__item\">\\n\\t\\t\\t\\t\\t\\t\\t<h4 class=\"menu_column__title\">Календарь</h4>\\n\\t\\t\\t\\t\\t\\t\\t<ul class=\"menu_column__list\">\\n\\t\\t\\t\\t\\t\\t\\t\\t<li><a href=\"/calendar/stocks/\" class=\"menu_bg__green\"><img src=\"/templates/skin/smart-lab-new/images/main-menu/shares.svg?4404\" loading=\"lazy\" alt=\"Акции\"/><span>Акции</span></a></li>\\n\\t\\t\\t\\t\\t\\t\\t\\t<li><a href=\"/calendar/economic/\">Экономика</a></li>\\n\\t\\t\\t\\t\\t\\t\\t</ul>\\n\\t\\t\\t\\t\\t\\t</div>\\n\\t\\t\\t\\t\\t\\t<div class=\"menu_column__item\">\\n\\t\\t\\t\\t\\t\\t\\t<h4 class=\"menu_column__title\">Информация</h4>\\n\\t\\t\\t\\t\\t\\t\\t<ul class=\"menu_column__list\">\\n\\t\\t\\t\\t\\t\\t\\t\\t<li><a href=\"/finansoviy-slovar/\"><img src=\"/templates/skin/smart-lab-new/images/main-menu/wiki.svg?4404\" loading=\"lazy\" alt=\"Энциклопедия\"/><span>Энциклопедия</span></a></li>\\n\\t\\t\\t\\t\\t\\t\\t\\t<li><a href=\"/tradingreads/\">Лучшие статьи</a></li>\\n\\t\\t\\t\\t\\t\\t\\t</ul>\\n\\t\\t\\t\\t\\t\\t</div>\\n\\t\\t\\t\\t\\t\\t<div class=\"menu_column__item\">\\n\\t\\t\\t\\t\\t\\t\\t<h4 class=\"menu_column__title\">Книги</h4>\\n\\t\\t\\t\\t\\t\\t\\t<ul class=\"menu_column__list\">\\n\\t\\t\\t\\t\\t\\t\\t\\t<li><a href=\"/books/\"><img src=\"/templates/skin/smart-lab-new/images/main-menu/books-catalog.svg?4404\" loading=\"lazy\" alt=\"Каталог книг\"/><span>Каталог книг</span></a></li>\\n\\t\\t\\t\\t\\t\\t\\t\\t<li><a href=\"/books/top/\">100 лучших книг</a></li>\\n\\t\\t\\t\\t\\t\\t\\t\\t<li><a href=\"/blog/reviews/\">Книжные рецензии</a></li>\\n\\t\\t\\t\\t\\t\\t\\t</ul>\\n\\t\\t\\t\\t\\t\\t</div>\\n\\t\\t\\t\\t\\t</div>\\n\\t\\t\\t\\t\\t\\t\\t\\t\\t</div>\\n\\t\\t\\t</div>\\n\\t\\t\\n\\t\\t<link rel=\"stylesheet\" type=\"text/css\" href=\"https://fonts.googleapis.com/css?family=Open+Sans:400,600,700\" />\\n\\t\\t<script type=\\'text/javascript\\' src=\\'/templates/cache/smart-lab-new/6c437ae21bb6245a5382ade97126505c.js?4404\\'></script>\\n\\n\\n\\t\\t<!-- Yandex.Metrika counter -->\\n\\t\\t\\n\\t\\t<script type=\"text/javascript\" >\\n\\t\\t(function(m,e,t,r,i,k,a){m[i]=m[i]||function(){(m[i].a=m[i].a||[]).push(arguments)};\\n\\t\\tm[i].l=1*new Date();k=e.createElement(t),a=e.getElementsByTagName(t)[0],k.async=1,k.src=r,a.parentNode.insertBefore(k,a)})\\n\\t\\t(window, document, \"script\", \"https://mc.yandex.ru/metrika/tag.js\", \"ym\");\\n\\n\\t\\tym(32877692, \"init\", {\\n\\t\\tclickmap:true,\\n\\t\\ttrackLinks:true,\\n\\t\\taccurateTrackBounce:true,\\n\\t\\twebvisor:true\\n\\t\\t});\\n\\t\\t</script>\\n\\n\\t\\t<noscript><div><img src=\"https://mc.yandex.ru/watch/32877692\" style=\"position:absolute; left:-9999px;\" alt=\"\" /></div></noscript>\\n\\t\\t\\n\\t\\t<!-- /Yandex.Metrika counter -->\\n\\t\\n\\n\\t\\t\\n\\n\\t\\t<!--LiveInternet counter--><a id=\"li_counter\" href=\"//www.liveinternet.ru/click\"\\n\\t\\ttarget=\"_blank\"><img id=\"licnt497C\" width=\"88\" height=\"31\" style=\"border:0\" \\n\\t\\ttitle=\"LiveInternet: показано число просмотров за 24 часа, посетителей за 24 часа и за сегодня\"\\n\\t\\tsrc=\"data:image/gif;base64,R0lGODlhAQABAIAAAAAAAP///yH5BAEAAAEALAAAAAABAAEAAAIBTAA7\"\\n\\t\\talt=\"\"/></a><script>(function(d,s){d.getElementById(\"licnt497C\").src=\\n\\t\\t\"//counter.yadro.ru/hit?t18.3;r\"+escape(d.referrer)+\\n\\t\\t((typeof(s)==\"undefined\")?\"\":\";s\"+s.width+\"*\"+s.height+\"*\"+\\n\\t\\t(s.colorDepth?s.colorDepth:s.pixelDepth))+\";u\"+escape(d.URL)+\\n\\t\\t\";h\"+escape(d.title.substring(0,150))+\";\"+Math.random()})\\n\\t\\t(document,screen)</script><!--/LiveInternet-->\\n\\n\\t\\t\\n\\n\\t\\t<!-- poll_dialog_block -->\\n\\t</body>\\n</html>'"
      ]
     },
     "execution_count": 27,
     "metadata": {},
     "output_type": "execute_result"
    }
   ],
   "source": [
    "\n",
    "resp.text"
   ]
  },
  {
   "cell_type": "code",
   "execution_count": 28,
   "metadata": {},
   "outputs": [
    {
     "data": {
      "text/html": [
       "<div>\n",
       "<style scoped>\n",
       "    .dataframe tbody tr th:only-of-type {\n",
       "        vertical-align: middle;\n",
       "    }\n",
       "\n",
       "    .dataframe tbody tr th {\n",
       "        vertical-align: top;\n",
       "    }\n",
       "\n",
       "    .dataframe thead th {\n",
       "        text-align: right;\n",
       "    }\n",
       "</style>\n",
       "<table border=\"1\" class=\"dataframe\">\n",
       "  <thead>\n",
       "    <tr style=\"text-align: right;\">\n",
       "      <th></th>\n",
       "      <th>token</th>\n",
       "      <th>url</th>\n",
       "      <th>body</th>\n",
       "    </tr>\n",
       "  </thead>\n",
       "  <tbody>\n",
       "    <tr>\n",
       "      <th>0</th>\n",
       "      <td>ABRD</td>\n",
       "      <td>https://smart-lab.ru/forum/ABRD/page1</td>\n",
       "      <td>&lt;!DOCTYPE html&gt;\\n&lt;html lang=\"ru\"&gt;\\n\\t&lt;head&gt;\\n\\...</td>\n",
       "    </tr>\n",
       "    <tr>\n",
       "      <th>1</th>\n",
       "      <td>ABRD</td>\n",
       "      <td>https://smart-lab.ru/forum/ABRD/page2</td>\n",
       "      <td>&lt;!DOCTYPE html&gt;\\n&lt;html lang=\"ru\"&gt;\\n\\t&lt;head&gt;\\n\\...</td>\n",
       "    </tr>\n",
       "    <tr>\n",
       "      <th>2</th>\n",
       "      <td>ABRD</td>\n",
       "      <td>https://smart-lab.ru/forum/ABRD/page3</td>\n",
       "      <td>&lt;!DOCTYPE html&gt;\\n&lt;html lang=\"ru\"&gt;\\n\\t&lt;head&gt;\\n\\...</td>\n",
       "    </tr>\n",
       "    <tr>\n",
       "      <th>3</th>\n",
       "      <td>ABRD</td>\n",
       "      <td>https://smart-lab.ru/forum/ABRD/page4</td>\n",
       "      <td>&lt;!DOCTYPE html&gt;\\n&lt;html lang=\"ru\"&gt;\\n\\t&lt;head&gt;\\n\\...</td>\n",
       "    </tr>\n",
       "    <tr>\n",
       "      <th>4</th>\n",
       "      <td>ABRD</td>\n",
       "      <td>https://smart-lab.ru/forum/ABRD/page5</td>\n",
       "      <td>&lt;!DOCTYPE html&gt;\\n&lt;html lang=\"ru\"&gt;\\n\\t&lt;head&gt;\\n\\...</td>\n",
       "    </tr>\n",
       "  </tbody>\n",
       "</table>\n",
       "</div>"
      ],
      "text/plain": [
       "  token                                    url  \\\n",
       "0  ABRD  https://smart-lab.ru/forum/ABRD/page1   \n",
       "1  ABRD  https://smart-lab.ru/forum/ABRD/page2   \n",
       "2  ABRD  https://smart-lab.ru/forum/ABRD/page3   \n",
       "3  ABRD  https://smart-lab.ru/forum/ABRD/page4   \n",
       "4  ABRD  https://smart-lab.ru/forum/ABRD/page5   \n",
       "\n",
       "                                                body  \n",
       "0  <!DOCTYPE html>\\n<html lang=\"ru\">\\n\\t<head>\\n\\...  \n",
       "1  <!DOCTYPE html>\\n<html lang=\"ru\">\\n\\t<head>\\n\\...  \n",
       "2  <!DOCTYPE html>\\n<html lang=\"ru\">\\n\\t<head>\\n\\...  \n",
       "3  <!DOCTYPE html>\\n<html lang=\"ru\">\\n\\t<head>\\n\\...  \n",
       "4  <!DOCTYPE html>\\n<html lang=\"ru\">\\n\\t<head>\\n\\...  "
      ]
     },
     "execution_count": 28,
     "metadata": {},
     "output_type": "execute_result"
    }
   ],
   "source": [
    "f_df = read_parquet_into_dataframe(os.path.join(datasets_folder_path, \"test.parquet\"))\n",
    "f_df.head(5)"
   ]
  },
  {
   "cell_type": "code",
   "execution_count": 29,
   "metadata": {},
   "outputs": [
    {
     "data": {
      "text/plain": [
       "33"
      ]
     },
     "execution_count": 29,
     "metadata": {},
     "output_type": "execute_result"
    }
   ],
   "source": [
    "bodys = f_df[\"body\"]\n",
    "len(bodys)"
   ]
  },
  {
   "cell_type": "code",
   "execution_count": 46,
   "metadata": {},
   "outputs": [
    {
     "data": {
      "text/plain": [
       "['ABRD', 'PAZA']"
      ]
     },
     "execution_count": 46,
     "metadata": {},
     "output_type": "execute_result"
    }
   ],
   "source": [
    "f_df[\"token\"].unique().tolist()"
   ]
  },
  {
   "cell_type": "code",
   "execution_count": 42,
   "metadata": {},
   "outputs": [
    {
     "data": {
      "text/html": [
       "<div>\n",
       "<style scoped>\n",
       "    .dataframe tbody tr th:only-of-type {\n",
       "        vertical-align: middle;\n",
       "    }\n",
       "\n",
       "    .dataframe tbody tr th {\n",
       "        vertical-align: top;\n",
       "    }\n",
       "\n",
       "    .dataframe thead th {\n",
       "        text-align: right;\n",
       "    }\n",
       "</style>\n",
       "<table border=\"1\" class=\"dataframe\">\n",
       "  <thead>\n",
       "    <tr style=\"text-align: right;\">\n",
       "      <th></th>\n",
       "      <th>comment_text</th>\n",
       "      <th>comment_score</th>\n",
       "      <th>comment_datetime</th>\n",
       "      <th>user_id</th>\n",
       "      <th>badges</th>\n",
       "      <th>token</th>\n",
       "      <th>url</th>\n",
       "    </tr>\n",
       "  </thead>\n",
       "  <tbody>\n",
       "    <tr>\n",
       "      <th>0</th>\n",
       "      <td>Павловский автобус - Цена выкупа 6339 руб за о...</td>\n",
       "      <td>0</td>\n",
       "      <td>2021-10-28 09:43:03+03:00</td>\n",
       "      <td>Marek</td>\n",
       "      <td>False</td>\n",
       "      <td>PAZA</td>\n",
       "      <td>https://smart-lab.ru/forum/PAZA/page5</td>\n",
       "    </tr>\n",
       "    <tr>\n",
       "      <th>15</th>\n",
       "      <td>Распределить прибыль ПАО «Абрау – Дюрсо», полу...</td>\n",
       "      <td>0</td>\n",
       "      <td>2021-05-24 16:22:53+03:00</td>\n",
       "      <td>Marek</td>\n",
       "      <td>False</td>\n",
       "      <td>ABRD</td>\n",
       "      <td>https://smart-lab.ru/forum/ABRD/page10</td>\n",
       "    </tr>\n",
       "    <tr>\n",
       "      <th>3</th>\n",
       "      <td>Иван Соловьев, есть доказательства, что это ма...</td>\n",
       "      <td>0</td>\n",
       "      <td>2023-07-10 10:32:00+03:00</td>\n",
       "      <td>IvanSolovev</td>\n",
       "      <td>False</td>\n",
       "      <td>PAZA</td>\n",
       "      <td>https://smart-lab.ru/forum/PAZA/page7</td>\n",
       "    </tr>\n",
       "    <tr>\n",
       "      <th>23</th>\n",
       "      <td>Этого напитка не хватает в России… Водяра косо...</td>\n",
       "      <td>0</td>\n",
       "      <td>2023-01-17 15:10:09+03:00</td>\n",
       "      <td>Ds10</td>\n",
       "      <td>False</td>\n",
       "      <td>ABRD</td>\n",
       "      <td>https://smart-lab.ru/forum/ABRD/page16</td>\n",
       "    </tr>\n",
       "    <tr>\n",
       "      <th>24</th>\n",
       "      <td>Что за чудеса с этой компанией? Новый биткоин?...</td>\n",
       "      <td>1</td>\n",
       "      <td>2019-09-26 17:59:31+03:00</td>\n",
       "      <td>Andy24pro</td>\n",
       "      <td>False</td>\n",
       "      <td>PAZA</td>\n",
       "      <td>https://smart-lab.ru/forum/PAZA/page2</td>\n",
       "    </tr>\n",
       "    <tr>\n",
       "      <th>4</th>\n",
       "      <td>Популярность зарубежного вина достигла рекордн...</td>\n",
       "      <td>0</td>\n",
       "      <td>2023-10-03 07:41:38+03:00</td>\n",
       "      <td>Buterbrod2018</td>\n",
       "      <td>False</td>\n",
       "      <td>ABRD</td>\n",
       "      <td>https://smart-lab.ru/forum/ABRD/page25</td>\n",
       "    </tr>\n",
       "    <tr>\n",
       "      <th>8</th>\n",
       "      <td>Имущество «ПАЗ»а давно заложено «ГАЗ»ом в обес...</td>\n",
       "      <td>0</td>\n",
       "      <td>2020-06-14 20:25:58+03:00</td>\n",
       "      <td>WBaffet</td>\n",
       "      <td>False</td>\n",
       "      <td>PAZA</td>\n",
       "      <td>https://smart-lab.ru/forum/PAZA/page4</td>\n",
       "    </tr>\n",
       "    <tr>\n",
       "      <th>5</th>\n",
       "      <td>Когда МСФО 2019 год?\\r\\nkhornickjaadle, удовле...</td>\n",
       "      <td>0</td>\n",
       "      <td>2020-04-08 06:38:42+03:00</td>\n",
       "      <td>khornickjaadle</td>\n",
       "      <td>False</td>\n",
       "      <td>ABRD</td>\n",
       "      <td>https://smart-lab.ru/forum/ABRD/page4</td>\n",
       "    </tr>\n",
       "    <tr>\n",
       "      <th>24</th>\n",
       "      <td>Формулировка решения по первому вопросу повест...</td>\n",
       "      <td>0</td>\n",
       "      <td>2023-01-25 22:55:15+03:00</td>\n",
       "      <td>Marek</td>\n",
       "      <td>False</td>\n",
       "      <td>PAZA</td>\n",
       "      <td>https://smart-lab.ru/forum/PAZA/page7</td>\n",
       "    </tr>\n",
       "    <tr>\n",
       "      <th>1</th>\n",
       "      <td>Походу аграрное лобби сдувается… \\r\\nМой прогн...</td>\n",
       "      <td>0</td>\n",
       "      <td>2020-06-15 19:21:25+03:00</td>\n",
       "      <td>FinOrg</td>\n",
       "      <td>False</td>\n",
       "      <td>ABRD</td>\n",
       "      <td>https://smart-lab.ru/forum/ABRD/page4</td>\n",
       "    </tr>\n",
       "  </tbody>\n",
       "</table>\n",
       "</div>"
      ],
      "text/plain": [
       "                                         comment_text  comment_score  \\\n",
       "0   Павловский автобус - Цена выкупа 6339 руб за о...              0   \n",
       "15  Распределить прибыль ПАО «Абрау – Дюрсо», полу...              0   \n",
       "3   Иван Соловьев, есть доказательства, что это ма...              0   \n",
       "23  Этого напитка не хватает в России… Водяра косо...              0   \n",
       "24  Что за чудеса с этой компанией? Новый биткоин?...              1   \n",
       "4   Популярность зарубежного вина достигла рекордн...              0   \n",
       "8   Имущество «ПАЗ»а давно заложено «ГАЗ»ом в обес...              0   \n",
       "5   Когда МСФО 2019 год?\\r\\nkhornickjaadle, удовле...              0   \n",
       "24  Формулировка решения по первому вопросу повест...              0   \n",
       "1   Походу аграрное лобби сдувается… \\r\\nМой прогн...              0   \n",
       "\n",
       "            comment_datetime         user_id  badges token  \\\n",
       "0  2021-10-28 09:43:03+03:00           Marek   False  PAZA   \n",
       "15 2021-05-24 16:22:53+03:00           Marek   False  ABRD   \n",
       "3  2023-07-10 10:32:00+03:00     IvanSolovev   False  PAZA   \n",
       "23 2023-01-17 15:10:09+03:00            Ds10   False  ABRD   \n",
       "24 2019-09-26 17:59:31+03:00       Andy24pro   False  PAZA   \n",
       "4  2023-10-03 07:41:38+03:00   Buterbrod2018   False  ABRD   \n",
       "8  2020-06-14 20:25:58+03:00         WBaffet   False  PAZA   \n",
       "5  2020-04-08 06:38:42+03:00  khornickjaadle   False  ABRD   \n",
       "24 2023-01-25 22:55:15+03:00           Marek   False  PAZA   \n",
       "1  2020-06-15 19:21:25+03:00          FinOrg   False  ABRD   \n",
       "\n",
       "                                       url  \n",
       "0    https://smart-lab.ru/forum/PAZA/page5  \n",
       "15  https://smart-lab.ru/forum/ABRD/page10  \n",
       "3    https://smart-lab.ru/forum/PAZA/page7  \n",
       "23  https://smart-lab.ru/forum/ABRD/page16  \n",
       "24   https://smart-lab.ru/forum/PAZA/page2  \n",
       "4   https://smart-lab.ru/forum/ABRD/page25  \n",
       "8    https://smart-lab.ru/forum/PAZA/page4  \n",
       "5    https://smart-lab.ru/forum/ABRD/page4  \n",
       "24   https://smart-lab.ru/forum/PAZA/page7  \n",
       "1    https://smart-lab.ru/forum/ABRD/page4  "
      ]
     },
     "execution_count": 42,
     "metadata": {},
     "output_type": "execute_result"
    }
   ],
   "source": [
    "pre_fin_list = []\n",
    "for idx, row in f_df.iterrows():\n",
    "    soup = BeautifulSoup(row[\"body\"])\n",
    "    comments = soup.find_all(\"li\", attrs={\"data-type\":\"comment\"})\n",
    "    f_list = []\n",
    "    for comment in comments:\n",
    "        f_list.append(extract_comment_data(comment))\n",
    "    n_df = pd.DataFrame(f_list)\n",
    "    n_df[\"token\"] = row[\"token\"]\n",
    "    n_df[\"url\"] = row[\"url\"]\n",
    "    pre_fin_list.append(n_df)\n",
    "ffff_df = pd.concat(pre_fin_list)\n",
    "    "
   ]
  },
  {
   "cell_type": "code",
   "execution_count": 43,
   "metadata": {},
   "outputs": [],
   "source": [
    "ffff_df.to_parquet(\"penis.parquet\")"
   ]
  },
  {
   "cell_type": "code",
   "execution_count": 37,
   "metadata": {},
   "outputs": [],
   "source": []
  },
  {
   "cell_type": "code",
   "execution_count": 39,
   "metadata": {},
   "outputs": [
    {
     "data": {
      "text/html": [
       "<div>\n",
       "<style scoped>\n",
       "    .dataframe tbody tr th:only-of-type {\n",
       "        vertical-align: middle;\n",
       "    }\n",
       "\n",
       "    .dataframe tbody tr th {\n",
       "        vertical-align: top;\n",
       "    }\n",
       "\n",
       "    .dataframe thead th {\n",
       "        text-align: right;\n",
       "    }\n",
       "</style>\n",
       "<table border=\"1\" class=\"dataframe\">\n",
       "  <thead>\n",
       "    <tr style=\"text-align: right;\">\n",
       "      <th></th>\n",
       "      <th>comment_text</th>\n",
       "      <th>comment_score</th>\n",
       "      <th>comment_datetime</th>\n",
       "      <th>user_id</th>\n",
       "      <th>badges</th>\n",
       "    </tr>\n",
       "  </thead>\n",
       "  <tbody>\n",
       "    <tr>\n",
       "      <th>0</th>\n",
       "      <td>Auximen, а её вообще дают шортить?</td>\n",
       "      <td>0</td>\n",
       "      <td>2017-07-02 13:49:10+03:00</td>\n",
       "      <td>romanranniy</td>\n",
       "      <td>False</td>\n",
       "    </tr>\n",
       "    <tr>\n",
       "      <th>1</th>\n",
       "      <td>Я бы зашортил с текущей цены до 150, но ABRD «...</td>\n",
       "      <td>0</td>\n",
       "      <td>2017-07-02 13:47:41+03:00</td>\n",
       "      <td>Auximen</td>\n",
       "      <td>False</td>\n",
       "    </tr>\n",
       "    <tr>\n",
       "      <th>2</th>\n",
       "      <td>сегодня ожидаем: ABRD: отсечка по д-дам 1,29 р...</td>\n",
       "      <td>0</td>\n",
       "      <td>2017-07-02 00:30:00+03:00</td>\n",
       "      <td>dhc</td>\n",
       "      <td>False</td>\n",
       "    </tr>\n",
       "    <tr>\n",
       "      <th>3</th>\n",
       "      <td>сегодня ожидаем: ABRD: посл. день с дивид. 1,2...</td>\n",
       "      <td>0</td>\n",
       "      <td>2017-06-28 00:30:01+03:00</td>\n",
       "      <td>dhc</td>\n",
       "      <td>False</td>\n",
       "    </tr>\n",
       "    <tr>\n",
       "      <th>4</th>\n",
       "      <td>Ну вот, а сегодня в обратную сторону.</td>\n",
       "      <td>0</td>\n",
       "      <td>2017-06-22 17:54:49+03:00</td>\n",
       "      <td>dimalar</td>\n",
       "      <td>False</td>\n",
       "    </tr>\n",
       "  </tbody>\n",
       "</table>\n",
       "</div>"
      ],
      "text/plain": [
       "                                        comment_text  comment_score  \\\n",
       "0                 Auximen, а её вообще дают шортить?              0   \n",
       "1  Я бы зашортил с текущей цены до 150, но ABRD «...              0   \n",
       "2  сегодня ожидаем: ABRD: отсечка по д-дам 1,29 р...              0   \n",
       "3  сегодня ожидаем: ABRD: посл. день с дивид. 1,2...              0   \n",
       "4              Ну вот, а сегодня в обратную сторону.              0   \n",
       "\n",
       "           comment_datetime      user_id  badges  \n",
       "0 2017-07-02 13:49:10+03:00  romanranniy   False  \n",
       "1 2017-07-02 13:47:41+03:00      Auximen   False  \n",
       "2 2017-07-02 00:30:00+03:00          dhc   False  \n",
       "3 2017-06-28 00:30:01+03:00          dhc   False  \n",
       "4 2017-06-22 17:54:49+03:00      dimalar   False  "
      ]
     },
     "execution_count": 39,
     "metadata": {},
     "output_type": "execute_result"
    }
   ],
   "source": [
    "n_df[\"token\"] = \n",
    "n_df.head()"
   ]
  },
  {
   "cell_type": "code",
   "execution_count": 183,
   "metadata": {},
   "outputs": [
    {
     "data": {
      "text/plain": [
       "{'comment_text': 'С июля 2018-ого, до февраля 2020-ого цена почти не менялась.\\r\\nЕсли смотреть на графике (месяц) — всё это выглядит как прямая нитка. Вот и долгожданное сильное движение цены.\\r\\nТакая же история была перед ростов в 2017-ом.',\n",
       " 'comment_score': 0,\n",
       " 'comment_datetime': datetime.datetime(2020, 2, 13, 11, 21, 11, tzinfo=tzoffset(None, 10800)),\n",
       " 'user_id': 'Malikeldjebena',\n",
       " 'badges': False}"
      ]
     },
     "execution_count": 183,
     "metadata": {},
     "output_type": "execute_result"
    }
   ],
   "source": [
    "decompose_comment(comment)"
   ]
  },
  {
   "cell_type": "markdown",
   "metadata": {},
   "source": [
    "### mfd stuff"
   ]
  },
  {
   "cell_type": "code",
   "execution_count": 106,
   "metadata": {},
   "outputs": [],
   "source": [
    "base_url=\"https://lite.mfd.ru\""
   ]
  },
  {
   "cell_type": "code",
   "execution_count": 3,
   "metadata": {},
   "outputs": [
    {
     "data": {
      "text/plain": [
       "['DZRD', 'GTLC', 'VGSBP', 'VRSB', 'LNZL', 'ROST', 'IGSTP']"
      ]
     },
     "execution_count": 3,
     "metadata": {},
     "output_type": "execute_result"
    }
   ],
   "source": [
    "tokens = pnd_token_date_df.sample(7)[\"token\"].tolist()\n",
    "tokens"
   ]
  },
  {
   "cell_type": "code",
   "execution_count": 4,
   "metadata": {},
   "outputs": [],
   "source": [
    "tokens = pnd_token_date_df[\"token\"]"
   ]
  },
  {
   "cell_type": "code",
   "execution_count": 7,
   "metadata": {},
   "outputs": [
    {
     "data": {
      "text/plain": [
       "[('АбрауДюрсо', 'Абрау-Дюрсо ПАО ао'),\n",
       " ('БестЭфБ ао', 'Бест Эффортс Банк ПАО ао'),\n",
       " ('АстрЭнСб', '\"Астраханская ЭСК\" ПАО'),\n",
       " ('НоваБев ао', 'НоваБев Групп ПАО ао'),\n",
       " ('Белон ао', 'Белон ОАО ао'),\n",
       " ('БСП ап', 'Банк Санкт-Петербург ап'),\n",
       " ('ЧКПЗ ао', '\"ЧКПЗ\" ПАО ао'),\n",
       " ('ДагСб ао', 'ао Дагестанская энергосб.комп.'),\n",
       " ('ДЭК ао', '\"ДЭК\" ПАО ао'),\n",
       " ('ДонскЗР', 'Донской завод радиодеталей ао'),\n",
       " ('Электрцинк', 'Электроцинк ПАО ао'),\n",
       " ('FXRW ETF', 'FinEx RUB GLOBAL EQUITY UC ETF'),\n",
       " ('FXWO ETF', 'FinEx USD GLOBAL EQUITY UC ETF'),\n",
       " ('iГЕНЕТИКО', 'ЦГРМ ГЕНЕТИКО ао'),\n",
       " ('ПАОДжиТиЭл', 'ПАО \"ДжиТиЭл\" ао'),\n",
       " ('ГТМ ао', 'ПАО \"ГТМ\" ао'),\n",
       " ('Инв-Девел', 'ПАО \"ИНВЕСТ-ДЕВЕЛОПМЕНТ\" - ао'),\n",
       " ('Ижсталь2ао', 'Ижсталь ПАО ао 2в.'),\n",
       " ('Ижсталь ап', 'Ижсталь ПАО ап'),\n",
       " ('iАРТГЕН ао', 'ПАО \"Артген\"'),\n",
       " ('КамчатЭ ао', 'Камчатскэнерго ПАО ао'),\n",
       " ('КамчатЭ ап', 'Камчатскэнерго ПАО ап'),\n",
       " ('ТКЗКК ап', 'ТКЗ Красный котельщик ПАО ап'),\n",
       " ('КрасОкт-ао', '\"КрасныйОктябрь\" ПАО - ао'),\n",
       " ('КрасОкт-1п', 'КрасныйОктябрь-1п'),\n",
       " ('КСБ ао', '\"Костромск.сбыт.комп\" ПАО'),\n",
       " ('КСБ ап', '\"Костромск.сбыт.комп\" ПАО'),\n",
       " ('РСетКубань', '\"Россети Кубань\" ПАО'),\n",
       " ('КузнецкийБ', 'Банк \"Кузнецкий\" ПАО ао'),\n",
       " ('Лента ао', 'Лента МКПАО ао'),\n",
       " ('Лензолото', '\"Лензолото\" ПАО ао'),\n",
       " ('Лензол. ап', '\"Лензолото\" ПАО ап'),\n",
       " ('ЛЭСК ао', 'Липецкая энергосбыт.ком.ОАО ао'),\n",
       " ('Левенгук', 'Левенгук ПАО ао'),\n",
       " ('МЕРИДИАН', 'МЕРИДИАН ПАО ао'),\n",
       " ('МедиаВиМ', 'Медиа гр.\"Война и Мир\" ОАО ао'),\n",
       " ('ТНСэнМарЭл', 'ТНС энерго Марий Эл ПАО ао'),\n",
       " ('ТНСэМаЭл-п', 'ТНС энерго Марий Эл ПАО ап'),\n",
       " ('МосОблБанк', 'Московский областной банк ПАО'),\n",
       " ('РсетСиб ао', 'Россети Сибирь ао'),\n",
       " ('МультиСис', 'Мультисистема ОАО ао'),\n",
       " ('Мостотрест', 'ПАО \"МОСТОТРЕСТ\" ао'),\n",
       " ('НКХП ао', 'НКХП ПАО ао'),\n",
       " ('ТНСэнНН ап', 'ТНС энерго Нижний Новг.ПАО ап'),\n",
       " ('ОРГ ао', 'ПАО \"ОРГ\" ао'),\n",
       " ('ПавлАвт ао', 'Павловский автобус ПАО ао'),\n",
       " ('РДБанк ао', 'РоссийскийДорож Банк ПАО ао'),\n",
       " ('ЭнергияРКК', 'РКК Энергия им.С.П.Королева ао'),\n",
       " ('Роллман-п', 'Группа Компаний Роллман ПАО ап'),\n",
       " ('Росбанк ао', 'РОСБАНК ПАО ао'),\n",
       " ('РОСИНТЕРао', 'РОСИНТЕР РЕСТОРАНТС (ПАО)'),\n",
       " ('ТНСэнРст', 'ТНС энерго Ростов. ПАО ао'),\n",
       " ('ТНСэнРст-п', 'ТНС энерго Ростов. ПАО ап'),\n",
       " ('ЗПИФ ФПР', 'ЗПИФ Фонд первичных размещений'),\n",
       " ('ИКРУСС-ИНВ', 'РУСС-ИНВЕСТ ИК ПАО ао'),\n",
       " ('СОЛЛЕРС', 'ПАО \"СОЛЛЕРС\"'),\n",
       " ('Светофор', 'Светофор Групп ао'),\n",
       " ('ТГК-2 ап', 'ап ПАО \"ТГК-2\"'),\n",
       " ('ТГК-14', 'ао ПАО \"ТГК-14\"'),\n",
       " ('ТНСэнрг ао', 'ПАО ГК \"ТНС энерго\" ао'),\n",
       " ('ОКС ао', 'ПАО ОКС ао'),\n",
       " ('ЮжКузб. ао', 'Южный Кузбасс ПАО ао'),\n",
       " ('ЮУНК ао', 'Южно-Уральский никел. комб. ао'),\n",
       " ('ОВК ао', 'ПАО НПК ОВК ао'),\n",
       " ('ВолгЭнСб-п', '\"Волгоград.энергосбыткомп\" ПАО'),\n",
       " ('Варьеган', 'ННК-Варьеганнефтегаз ПАО ао'),\n",
       " ('Варьеган-п', 'ННК-Варьеганнефтегаз ПАО ап'),\n",
       " ('ТНСэнВорон', 'ТНС энерго Воронеж ПАО ао'),\n",
       " ('ТНСэнВор-п', 'ТНС энерго Воронеж ПАО ап'),\n",
       " ('ВыбСудЗ ао', 'Выборгский Суд.Завод ПАО ао'),\n",
       " ('ВыбСудЗ ап', 'Выборгский Суд.Завод ПАО ап'),\n",
       " ('ЯТЭК ао', 'Якутская топл.-энерг. комп. ао')]"
      ]
     },
     "execution_count": 7,
     "metadata": {},
     "output_type": "execute_result"
    }
   ],
   "source": [
    "t_names = [get_sec_names(token) for token in tokens]\n",
    "t_names\n",
    "# retry when moex is up"
   ]
  },
  {
   "cell_type": "code",
   "execution_count": 8,
   "metadata": {},
   "outputs": [],
   "source": [
    "df = pd.DataFrame(t_names)"
   ]
  },
  {
   "cell_type": "code",
   "execution_count": 10,
   "metadata": {},
   "outputs": [],
   "source": [
    "df.columns = [\"shortname\", \"longname\"]"
   ]
  },
  {
   "cell_type": "code",
   "execution_count": 12,
   "metadata": {},
   "outputs": [],
   "source": [
    "df[\"token\"] = tokens"
   ]
  },
  {
   "cell_type": "code",
   "execution_count": 14,
   "metadata": {},
   "outputs": [],
   "source": [
    "df.to_parquet(os.path.join(datasets_folder_path, \"sec_names.parquet\"))"
   ]
  },
  {
   "cell_type": "code",
   "execution_count": 108,
   "metadata": {},
   "outputs": [],
   "source": [
    "token = np.random.choice(tokens)"
   ]
  },
  {
   "cell_type": "code",
   "execution_count": 5,
   "metadata": {},
   "outputs": [],
   "source": [
    "def get_mfd_thread_links(tokens):\n",
    "    # get most visited thread for given token(s)\n",
    "    result = dict()\n",
    "    with httpx.Client(base_url=\"https://lite.mfd.ru\") as client:\n",
    "        for token in tokens:\n",
    "            response = client.get(\"/forum/subforum/\", params=dict(id=1, q=token))\n",
    "            soup = BeautifulSoup(response.text, \"html.parser\")\n",
    "            search_result_table = soup.find(\"table\", class_=\"mfd-table mfd-threads\")\n",
    "            wrapped_link = search_result_table.find(\"td\", class_=\"mfd-item-subject\")\n",
    "            link=None\n",
    "            if wrapped_link:\n",
    "                link = wrapped_link.find(\"a\").get(\"href\")\n",
    "            # wrapped_links = search_result_table.find(\"td\", class_=\"mfd-item-subject\")\n",
    "            # links = [link.find(\"a\").get(\"href\") for link in wrapped_links]\n",
    "            result[token]=link\n",
    "    return result\n",
    "# shortname and long name usage required\n",
    "# a lot to go, a lot to do"
   ]
  },
  {
   "cell_type": "code",
   "execution_count": 109,
   "metadata": {},
   "outputs": [
    {
     "data": {
      "text/plain": [
       "{'KCHE': '/forum/thread/?id=63489&2022',\n",
       " 'SVET': '/forum/thread/?id=111519&2022',\n",
       " 'DVEC': '/forum/thread/?id=62197&2022',\n",
       " 'RTSB': None,\n",
       " 'RKKE': '/forum/thread/?id=61551&2022',\n",
       " 'SVAV': '/forum/thread/?id=61394&2022',\n",
       " 'KCHEP': None}"
      ]
     },
     "execution_count": 109,
     "metadata": {},
     "output_type": "execute_result"
    }
   ],
   "source": [
    "link_lists = get_mfd_thread_links(tokens)\n",
    "link_lists"
   ]
  },
  {
   "cell_type": "code",
   "execution_count": 7,
   "metadata": {},
   "outputs": [],
   "source": [
    "from pnd_moex.general.scraper import generate_forum_thread_page_urls, extract_comments_from_page"
   ]
  },
  {
   "cell_type": "code",
   "execution_count": 110,
   "metadata": {},
   "outputs": [
    {
     "data": {
      "text/plain": [
       "['https://lite.mfd.ru/forum/thread/?id=63489&2022&page=0',\n",
       " 'https://lite.mfd.ru/forum/thread/?id=63489&2022&page=1',\n",
       " 'https://lite.mfd.ru/forum/thread/?id=63489&2022&page=2',\n",
       " 'https://lite.mfd.ru/forum/thread/?id=63489&2022&page=3',\n",
       " 'https://lite.mfd.ru/forum/thread/?id=63489&2022&page=4',\n",
       " 'https://lite.mfd.ru/forum/thread/?id=63489&2022&page=5',\n",
       " 'https://lite.mfd.ru/forum/thread/?id=63489&2022&page=6',\n",
       " 'https://lite.mfd.ru/forum/thread/?id=63489&2022&page=7',\n",
       " 'https://lite.mfd.ru/forum/thread/?id=63489&2022&page=8',\n",
       " 'https://lite.mfd.ru/forum/thread/?id=63489&2022&page=9',\n",
       " 'https://lite.mfd.ru/forum/thread/?id=63489&2022&page=10',\n",
       " 'https://lite.mfd.ru/forum/thread/?id=63489&2022&page=11',\n",
       " 'https://lite.mfd.ru/forum/thread/?id=63489&2022&page=12',\n",
       " 'https://lite.mfd.ru/forum/thread/?id=63489&2022&page=13',\n",
       " 'https://lite.mfd.ru/forum/thread/?id=63489&2022&page=14',\n",
       " 'https://lite.mfd.ru/forum/thread/?id=63489&2022&page=15',\n",
       " 'https://lite.mfd.ru/forum/thread/?id=63489&2022&page=16',\n",
       " 'https://lite.mfd.ru/forum/thread/?id=63489&2022&page=17',\n",
       " 'https://lite.mfd.ru/forum/thread/?id=63489&2022&page=18',\n",
       " 'https://lite.mfd.ru/forum/thread/?id=63489&2022&page=19',\n",
       " 'https://lite.mfd.ru/forum/thread/?id=63489&2022&page=20',\n",
       " 'https://lite.mfd.ru/forum/thread/?id=63489&2022&page=21',\n",
       " 'https://lite.mfd.ru/forum/thread/?id=63489&2022&page=22',\n",
       " 'https://lite.mfd.ru/forum/thread/?id=63489&2022&page=23',\n",
       " 'https://lite.mfd.ru/forum/thread/?id=63489&2022&page=24',\n",
       " 'https://lite.mfd.ru/forum/thread/?id=63489&2022&page=25',\n",
       " 'https://lite.mfd.ru/forum/thread/?id=63489&2022&page=26',\n",
       " 'https://lite.mfd.ru/forum/thread/?id=63489&2022&page=27',\n",
       " 'https://lite.mfd.ru/forum/thread/?id=63489&2022&page=28',\n",
       " 'https://lite.mfd.ru/forum/thread/?id=63489&2022&page=29',\n",
       " 'https://lite.mfd.ru/forum/thread/?id=63489&2022&page=30',\n",
       " 'https://lite.mfd.ru/forum/thread/?id=63489&2022&page=31',\n",
       " 'https://lite.mfd.ru/forum/thread/?id=63489&2022&page=32',\n",
       " 'https://lite.mfd.ru/forum/thread/?id=63489&2022&page=33',\n",
       " 'https://lite.mfd.ru/forum/thread/?id=63489&2022&page=34',\n",
       " 'https://lite.mfd.ru/forum/thread/?id=63489&2022&page=35',\n",
       " 'https://lite.mfd.ru/forum/thread/?id=63489&2022&page=36',\n",
       " 'https://lite.mfd.ru/forum/thread/?id=63489&2022&page=37',\n",
       " 'https://lite.mfd.ru/forum/thread/?id=63489&2022&page=38',\n",
       " 'https://lite.mfd.ru/forum/thread/?id=63489&2022&page=39',\n",
       " 'https://lite.mfd.ru/forum/thread/?id=63489&2022&page=40',\n",
       " 'https://lite.mfd.ru/forum/thread/?id=63489&2022&page=41',\n",
       " 'https://lite.mfd.ru/forum/thread/?id=63489&2022&page=42',\n",
       " 'https://lite.mfd.ru/forum/thread/?id=63489&2022&page=43',\n",
       " 'https://lite.mfd.ru/forum/thread/?id=63489&2022&page=44',\n",
       " 'https://lite.mfd.ru/forum/thread/?id=63489&2022&page=45',\n",
       " 'https://lite.mfd.ru/forum/thread/?id=63489&2022&page=46',\n",
       " 'https://lite.mfd.ru/forum/thread/?id=63489&2022&page=47',\n",
       " 'https://lite.mfd.ru/forum/thread/?id=63489&2022&page=48',\n",
       " 'https://lite.mfd.ru/forum/thread/?id=63489&2022&page=49',\n",
       " 'https://lite.mfd.ru/forum/thread/?id=63489&2022&page=50',\n",
       " 'https://lite.mfd.ru/forum/thread/?id=63489&2022&page=51',\n",
       " 'https://lite.mfd.ru/forum/thread/?id=63489&2022&page=52',\n",
       " 'https://lite.mfd.ru/forum/thread/?id=63489&2022&page=53',\n",
       " 'https://lite.mfd.ru/forum/thread/?id=63489&2022&page=54',\n",
       " 'https://lite.mfd.ru/forum/thread/?id=63489&2022&page=55',\n",
       " 'https://lite.mfd.ru/forum/thread/?id=63489&2022&page=56',\n",
       " 'https://lite.mfd.ru/forum/thread/?id=63489&2022&page=57',\n",
       " 'https://lite.mfd.ru/forum/thread/?id=63489&2022&page=58',\n",
       " 'https://lite.mfd.ru/forum/thread/?id=63489&2022&page=59',\n",
       " 'https://lite.mfd.ru/forum/thread/?id=63489&2022&page=60',\n",
       " 'https://lite.mfd.ru/forum/thread/?id=63489&2022&page=61',\n",
       " 'https://lite.mfd.ru/forum/thread/?id=63489&2022&page=62',\n",
       " 'https://lite.mfd.ru/forum/thread/?id=63489&2022&page=63',\n",
       " 'https://lite.mfd.ru/forum/thread/?id=63489&2022&page=64',\n",
       " 'https://lite.mfd.ru/forum/thread/?id=63489&2022&page=65',\n",
       " 'https://lite.mfd.ru/forum/thread/?id=63489&2022&page=66',\n",
       " 'https://lite.mfd.ru/forum/thread/?id=63489&2022&page=67',\n",
       " 'https://lite.mfd.ru/forum/thread/?id=63489&2022&page=68',\n",
       " 'https://lite.mfd.ru/forum/thread/?id=63489&2022&page=69',\n",
       " 'https://lite.mfd.ru/forum/thread/?id=63489&2022&page=70',\n",
       " 'https://lite.mfd.ru/forum/thread/?id=63489&2022&page=71',\n",
       " 'https://lite.mfd.ru/forum/thread/?id=63489&2022&page=72',\n",
       " 'https://lite.mfd.ru/forum/thread/?id=63489&2022&page=73',\n",
       " 'https://lite.mfd.ru/forum/thread/?id=63489&2022&page=74',\n",
       " 'https://lite.mfd.ru/forum/thread/?id=63489&2022&page=75',\n",
       " 'https://lite.mfd.ru/forum/thread/?id=63489&2022&page=76',\n",
       " 'https://lite.mfd.ru/forum/thread/?id=63489&2022&page=77',\n",
       " 'https://lite.mfd.ru/forum/thread/?id=63489&2022&page=78',\n",
       " 'https://lite.mfd.ru/forum/thread/?id=63489&2022&page=79',\n",
       " 'https://lite.mfd.ru/forum/thread/?id=63489&2022&page=80',\n",
       " 'https://lite.mfd.ru/forum/thread/?id=63489&2022&page=81',\n",
       " 'https://lite.mfd.ru/forum/thread/?id=63489&2022&page=82',\n",
       " 'https://lite.mfd.ru/forum/thread/?id=63489&2022&page=83',\n",
       " 'https://lite.mfd.ru/forum/thread/?id=63489&2022&page=84',\n",
       " 'https://lite.mfd.ru/forum/thread/?id=63489&2022&page=85',\n",
       " 'https://lite.mfd.ru/forum/thread/?id=63489&2022&page=86',\n",
       " 'https://lite.mfd.ru/forum/thread/?id=63489&2022&page=87',\n",
       " 'https://lite.mfd.ru/forum/thread/?id=63489&2022&page=88',\n",
       " 'https://lite.mfd.ru/forum/thread/?id=63489&2022&page=89',\n",
       " 'https://lite.mfd.ru/forum/thread/?id=63489&2022&page=90',\n",
       " 'https://lite.mfd.ru/forum/thread/?id=63489&2022&page=91',\n",
       " 'https://lite.mfd.ru/forum/thread/?id=63489&2022&page=92',\n",
       " 'https://lite.mfd.ru/forum/thread/?id=63489&2022&page=93',\n",
       " 'https://lite.mfd.ru/forum/thread/?id=63489&2022&page=94',\n",
       " 'https://lite.mfd.ru/forum/thread/?id=63489&2022&page=95',\n",
       " 'https://lite.mfd.ru/forum/thread/?id=63489&2022&page=96',\n",
       " 'https://lite.mfd.ru/forum/thread/?id=63489&2022&page=97',\n",
       " 'https://lite.mfd.ru/forum/thread/?id=63489&2022&page=98',\n",
       " 'https://lite.mfd.ru/forum/thread/?id=63489&2022&page=99',\n",
       " 'https://lite.mfd.ru/forum/thread/?id=63489&2022&page=100',\n",
       " 'https://lite.mfd.ru/forum/thread/?id=63489&2022&page=101',\n",
       " 'https://lite.mfd.ru/forum/thread/?id=63489&2022&page=102',\n",
       " 'https://lite.mfd.ru/forum/thread/?id=63489&2022&page=103',\n",
       " 'https://lite.mfd.ru/forum/thread/?id=63489&2022&page=104',\n",
       " 'https://lite.mfd.ru/forum/thread/?id=63489&2022&page=105',\n",
       " 'https://lite.mfd.ru/forum/thread/?id=63489&2022&page=106',\n",
       " 'https://lite.mfd.ru/forum/thread/?id=63489&2022&page=107',\n",
       " 'https://lite.mfd.ru/forum/thread/?id=63489&2022&page=108',\n",
       " 'https://lite.mfd.ru/forum/thread/?id=63489&2022&page=109',\n",
       " 'https://lite.mfd.ru/forum/thread/?id=63489&2022&page=110',\n",
       " 'https://lite.mfd.ru/forum/thread/?id=63489&2022&page=111',\n",
       " 'https://lite.mfd.ru/forum/thread/?id=63489&2022&page=112',\n",
       " 'https://lite.mfd.ru/forum/thread/?id=63489&2022&page=113',\n",
       " 'https://lite.mfd.ru/forum/thread/?id=63489&2022&page=114',\n",
       " 'https://lite.mfd.ru/forum/thread/?id=63489&2022&page=115',\n",
       " 'https://lite.mfd.ru/forum/thread/?id=63489&2022&page=116',\n",
       " 'https://lite.mfd.ru/forum/thread/?id=63489&2022&page=117',\n",
       " 'https://lite.mfd.ru/forum/thread/?id=63489&2022&page=118',\n",
       " 'https://lite.mfd.ru/forum/thread/?id=63489&2022&page=119',\n",
       " 'https://lite.mfd.ru/forum/thread/?id=63489&2022&page=120',\n",
       " 'https://lite.mfd.ru/forum/thread/?id=63489&2022&page=121',\n",
       " 'https://lite.mfd.ru/forum/thread/?id=63489&2022&page=122',\n",
       " 'https://lite.mfd.ru/forum/thread/?id=63489&2022&page=123',\n",
       " 'https://lite.mfd.ru/forum/thread/?id=63489&2022&page=124',\n",
       " 'https://lite.mfd.ru/forum/thread/?id=63489&2022&page=125',\n",
       " 'https://lite.mfd.ru/forum/thread/?id=63489&2022&page=126',\n",
       " 'https://lite.mfd.ru/forum/thread/?id=63489&2022&page=127',\n",
       " 'https://lite.mfd.ru/forum/thread/?id=63489&2022&page=128',\n",
       " 'https://lite.mfd.ru/forum/thread/?id=63489&2022&page=129',\n",
       " 'https://lite.mfd.ru/forum/thread/?id=63489&2022&page=130',\n",
       " 'https://lite.mfd.ru/forum/thread/?id=63489&2022&page=131',\n",
       " 'https://lite.mfd.ru/forum/thread/?id=63489&2022&page=132',\n",
       " 'https://lite.mfd.ru/forum/thread/?id=63489&2022&page=133',\n",
       " 'https://lite.mfd.ru/forum/thread/?id=63489&2022&page=134',\n",
       " 'https://lite.mfd.ru/forum/thread/?id=63489&2022&page=135',\n",
       " 'https://lite.mfd.ru/forum/thread/?id=63489&2022&page=136',\n",
       " 'https://lite.mfd.ru/forum/thread/?id=63489&2022&page=137',\n",
       " 'https://lite.mfd.ru/forum/thread/?id=63489&2022&page=138',\n",
       " 'https://lite.mfd.ru/forum/thread/?id=63489&2022&page=139',\n",
       " 'https://lite.mfd.ru/forum/thread/?id=63489&2022&page=140',\n",
       " 'https://lite.mfd.ru/forum/thread/?id=63489&2022&page=141',\n",
       " 'https://lite.mfd.ru/forum/thread/?id=63489&2022&page=142',\n",
       " 'https://lite.mfd.ru/forum/thread/?id=63489&2022&page=143',\n",
       " 'https://lite.mfd.ru/forum/thread/?id=63489&2022&page=144',\n",
       " 'https://lite.mfd.ru/forum/thread/?id=63489&2022&page=145',\n",
       " 'https://lite.mfd.ru/forum/thread/?id=63489&2022&page=146',\n",
       " 'https://lite.mfd.ru/forum/thread/?id=63489&2022&page=147',\n",
       " 'https://lite.mfd.ru/forum/thread/?id=63489&2022&page=148',\n",
       " 'https://lite.mfd.ru/forum/thread/?id=63489&2022&page=149',\n",
       " 'https://lite.mfd.ru/forum/thread/?id=63489&2022&page=150',\n",
       " 'https://lite.mfd.ru/forum/thread/?id=63489&2022&page=151',\n",
       " 'https://lite.mfd.ru/forum/thread/?id=63489&2022&page=152',\n",
       " 'https://lite.mfd.ru/forum/thread/?id=63489&2022&page=153',\n",
       " 'https://lite.mfd.ru/forum/thread/?id=63489&2022&page=154',\n",
       " 'https://lite.mfd.ru/forum/thread/?id=63489&2022&page=155',\n",
       " 'https://lite.mfd.ru/forum/thread/?id=63489&2022&page=156',\n",
       " 'https://lite.mfd.ru/forum/thread/?id=63489&2022&page=157',\n",
       " 'https://lite.mfd.ru/forum/thread/?id=63489&2022&page=158',\n",
       " 'https://lite.mfd.ru/forum/thread/?id=63489&2022&page=159',\n",
       " 'https://lite.mfd.ru/forum/thread/?id=63489&2022&page=160',\n",
       " 'https://lite.mfd.ru/forum/thread/?id=63489&2022&page=161',\n",
       " 'https://lite.mfd.ru/forum/thread/?id=63489&2022&page=162',\n",
       " 'https://lite.mfd.ru/forum/thread/?id=63489&2022&page=163',\n",
       " 'https://lite.mfd.ru/forum/thread/?id=63489&2022&page=164',\n",
       " 'https://lite.mfd.ru/forum/thread/?id=63489&2022&page=165',\n",
       " 'https://lite.mfd.ru/forum/thread/?id=63489&2022&page=166',\n",
       " 'https://lite.mfd.ru/forum/thread/?id=63489&2022&page=167',\n",
       " 'https://lite.mfd.ru/forum/thread/?id=63489&2022&page=168',\n",
       " 'https://lite.mfd.ru/forum/thread/?id=63489&2022&page=169',\n",
       " 'https://lite.mfd.ru/forum/thread/?id=63489&2022&page=170',\n",
       " 'https://lite.mfd.ru/forum/thread/?id=63489&2022&page=171',\n",
       " 'https://lite.mfd.ru/forum/thread/?id=63489&2022&page=172',\n",
       " 'https://lite.mfd.ru/forum/thread/?id=63489&2022&page=173',\n",
       " 'https://lite.mfd.ru/forum/thread/?id=63489&2022&page=174',\n",
       " 'https://lite.mfd.ru/forum/thread/?id=63489&2022&page=175',\n",
       " 'https://lite.mfd.ru/forum/thread/?id=63489&2022&page=176',\n",
       " 'https://lite.mfd.ru/forum/thread/?id=63489&2022&page=177',\n",
       " 'https://lite.mfd.ru/forum/thread/?id=63489&2022&page=178',\n",
       " 'https://lite.mfd.ru/forum/thread/?id=63489&2022&page=179',\n",
       " 'https://lite.mfd.ru/forum/thread/?id=63489&2022&page=180',\n",
       " 'https://lite.mfd.ru/forum/thread/?id=63489&2022&page=181',\n",
       " 'https://lite.mfd.ru/forum/thread/?id=63489&2022&page=182',\n",
       " 'https://lite.mfd.ru/forum/thread/?id=63489&2022&page=183',\n",
       " 'https://lite.mfd.ru/forum/thread/?id=63489&2022&page=184',\n",
       " 'https://lite.mfd.ru/forum/thread/?id=63489&2022&page=185',\n",
       " 'https://lite.mfd.ru/forum/thread/?id=63489&2022&page=186',\n",
       " 'https://lite.mfd.ru/forum/thread/?id=63489&2022&page=187',\n",
       " 'https://lite.mfd.ru/forum/thread/?id=63489&2022&page=188',\n",
       " 'https://lite.mfd.ru/forum/thread/?id=63489&2022&page=189',\n",
       " 'https://lite.mfd.ru/forum/thread/?id=63489&2022&page=190',\n",
       " 'https://lite.mfd.ru/forum/thread/?id=63489&2022&page=191',\n",
       " 'https://lite.mfd.ru/forum/thread/?id=63489&2022&page=192',\n",
       " 'https://lite.mfd.ru/forum/thread/?id=63489&2022&page=193',\n",
       " 'https://lite.mfd.ru/forum/thread/?id=63489&2022&page=194',\n",
       " 'https://lite.mfd.ru/forum/thread/?id=63489&2022&page=195',\n",
       " 'https://lite.mfd.ru/forum/thread/?id=63489&2022&page=196',\n",
       " 'https://lite.mfd.ru/forum/thread/?id=63489&2022&page=197',\n",
       " 'https://lite.mfd.ru/forum/thread/?id=63489&2022&page=198',\n",
       " 'https://lite.mfd.ru/forum/thread/?id=63489&2022&page=199',\n",
       " 'https://lite.mfd.ru/forum/thread/?id=63489&2022&page=200',\n",
       " 'https://lite.mfd.ru/forum/thread/?id=63489&2022&page=201',\n",
       " 'https://lite.mfd.ru/forum/thread/?id=63489&2022&page=202',\n",
       " 'https://lite.mfd.ru/forum/thread/?id=63489&2022&page=203',\n",
       " 'https://lite.mfd.ru/forum/thread/?id=63489&2022&page=204',\n",
       " 'https://lite.mfd.ru/forum/thread/?id=63489&2022&page=205',\n",
       " 'https://lite.mfd.ru/forum/thread/?id=63489&2022&page=206',\n",
       " 'https://lite.mfd.ru/forum/thread/?id=63489&2022&page=207',\n",
       " 'https://lite.mfd.ru/forum/thread/?id=63489&2022&page=208',\n",
       " 'https://lite.mfd.ru/forum/thread/?id=63489&2022&page=209',\n",
       " 'https://lite.mfd.ru/forum/thread/?id=63489&2022&page=210',\n",
       " 'https://lite.mfd.ru/forum/thread/?id=63489&2022&page=211']"
      ]
     },
     "execution_count": 110,
     "metadata": {},
     "output_type": "execute_result"
    }
   ],
   "source": [
    "test_urls = generate_forum_thread_page_urls(\n",
    "    base_url,\n",
    "    list(link_lists.values())[0],\n",
    "    last_page=dict(name=\"a\", class_=\"mfd-paginator-selected\"),\n",
    "    page_fstr=\"&page={i}\",\n",
    "    zero_index=True\n",
    "    )\n",
    "test_urls"
   ]
  },
  {
   "cell_type": "code",
   "execution_count": 132,
   "metadata": {},
   "outputs": [],
   "source": [
    "def extract_mfd_comment_data(comment: bs4.element.Tag) -> dict:\n",
    "    \"\"\"\n",
    "    Extract valuable data from a comment and package it into a dictionary.\n",
    "    :param comment: The comment element.\n",
    "    :type comment: bs4.element.Tag\n",
    "    :return: Extracted data as a dictionary.\n",
    "    :rtype: dict\n",
    "    \"\"\"\n",
    "    comment_misc = comment.find(\"div\", class_=\"mfd-post-remark\")\n",
    "    user_id = comment.find(\"a\", class_=\"mfd-poster-link\")\n",
    "    comment_score = comment.find(\"span\", class_=\"u\")\n",
    "    user_score = comment.find(\"div\", class_=\"mfd-poster-info-rating mfd-icon-profile-star\")\n",
    "    comment_text = comment.find(\"div\", class_=\"mfd-post-text\")\n",
    "    return dict(\n",
    "        comment_text=None if comment_text is None else comment_text.text,\n",
    "        comment_score=0 if comment_score is None else int(comment_score.text),\n",
    "        comment_datetime=arrow.get(comment.find(\"a\", class_=\"mfd-post-link\").text, 'DD.MM.YYYY HH:mm').datetime,\n",
    "        comment_misc = None if comment_misc is None else comment_misc.text,\n",
    "        user_id = None if user_id is None else user_id.get(\"href\"),\n",
    "        user_score = None if user_score is None else int(re.search(r'\\((\\d+)\\)',user_score.find(\"a\").get(\"title\")).group(1)),\n",
    "    )\n"
   ]
  },
  {
   "cell_type": "code",
   "execution_count": 111,
   "metadata": {},
   "outputs": [
    {
     "data": {
      "text/plain": [
       "'https://lite.mfd.ru/forum/thread/?id=63489&2022&page=0'"
      ]
     },
     "execution_count": 111,
     "metadata": {},
     "output_type": "execute_result"
    }
   ],
   "source": [
    "proba_url = test_urls[0]\n",
    "proba_url"
   ]
  },
  {
   "cell_type": "code",
   "execution_count": 120,
   "metadata": {},
   "outputs": [],
   "source": [
    "with httpx.Client() as client:\n",
    "    resp = client.get(proba_url)"
   ]
  },
  {
   "cell_type": "code",
   "execution_count": 133,
   "metadata": {},
   "outputs": [
    {
     "data": {
      "text/html": [
       "<div>\n",
       "<style scoped>\n",
       "    .dataframe tbody tr th:only-of-type {\n",
       "        vertical-align: middle;\n",
       "    }\n",
       "\n",
       "    .dataframe tbody tr th {\n",
       "        vertical-align: top;\n",
       "    }\n",
       "\n",
       "    .dataframe thead th {\n",
       "        text-align: right;\n",
       "    }\n",
       "</style>\n",
       "<table border=\"1\" class=\"dataframe\">\n",
       "  <thead>\n",
       "    <tr style=\"text-align: right;\">\n",
       "      <th></th>\n",
       "      <th>comment_text</th>\n",
       "      <th>comment_score</th>\n",
       "      <th>comment_datetime</th>\n",
       "      <th>comment_misc</th>\n",
       "      <th>user_id</th>\n",
       "      <th>user_score</th>\n",
       "    </tr>\n",
       "  </thead>\n",
       "  <tbody>\n",
       "    <tr>\n",
       "      <th>0</th>\n",
       "      <td>Братья и сестры рад приветствовать вас, вот ре...</td>\n",
       "      <td>0</td>\n",
       "      <td>2010-11-26 12:56:00+00:00</td>\n",
       "      <td>Сообщение перенесено администратором МФД 29.11...</td>\n",
       "      <td>None</td>\n",
       "      <td>NaN</td>\n",
       "    </tr>\n",
       "    <tr>\n",
       "      <th>12</th>\n",
       "      <td>Вам на рынке важней брать как вам кажется \"хор...</td>\n",
       "      <td>0</td>\n",
       "      <td>2010-11-28 18:38:00+00:00</td>\n",
       "      <td>None</td>\n",
       "      <td>/forum/poster/?id=59135</td>\n",
       "      <td>2522.0</td>\n",
       "    </tr>\n",
       "    <tr>\n",
       "      <th>15</th>\n",
       "      <td>Моя родина -  свобода. @ 28.11.2010 18:44Спаси...</td>\n",
       "      <td>0</td>\n",
       "      <td>2010-11-28 18:49:00+00:00</td>\n",
       "      <td>None</td>\n",
       "      <td>/forum/poster/?id=58862</td>\n",
       "      <td>43504.0</td>\n",
       "    </tr>\n",
       "    <tr>\n",
       "      <th>14</th>\n",
       "      <td>Спасибо! не пробьет выйдем!  Удачи!</td>\n",
       "      <td>0</td>\n",
       "      <td>2010-11-28 18:44:00+00:00</td>\n",
       "      <td>None</td>\n",
       "      <td>/forum/poster/?id=59135</td>\n",
       "      <td>2522.0</td>\n",
       "    </tr>\n",
       "    <tr>\n",
       "      <th>2</th>\n",
       "      <td>СПРАВКА:   ОАО «Камчатскэнерго» создано в 1964...</td>\n",
       "      <td>0</td>\n",
       "      <td>2010-11-28 17:15:00+00:00</td>\n",
       "      <td>None</td>\n",
       "      <td>/forum/poster/?id=59135</td>\n",
       "      <td>2522.0</td>\n",
       "    </tr>\n",
       "  </tbody>\n",
       "</table>\n",
       "</div>"
      ],
      "text/plain": [
       "                                         comment_text  comment_score  \\\n",
       "0   Братья и сестры рад приветствовать вас, вот ре...              0   \n",
       "12  Вам на рынке важней брать как вам кажется \"хор...              0   \n",
       "15  Моя родина -  свобода. @ 28.11.2010 18:44Спаси...              0   \n",
       "14                Спасибо! не пробьет выйдем!  Удачи!              0   \n",
       "2   СПРАВКА:   ОАО «Камчатскэнерго» создано в 1964...              0   \n",
       "\n",
       "            comment_datetime  \\\n",
       "0  2010-11-26 12:56:00+00:00   \n",
       "12 2010-11-28 18:38:00+00:00   \n",
       "15 2010-11-28 18:49:00+00:00   \n",
       "14 2010-11-28 18:44:00+00:00   \n",
       "2  2010-11-28 17:15:00+00:00   \n",
       "\n",
       "                                         comment_misc  \\\n",
       "0   Сообщение перенесено администратором МФД 29.11...   \n",
       "12                                               None   \n",
       "15                                               None   \n",
       "14                                               None   \n",
       "2                                                None   \n",
       "\n",
       "                    user_id  user_score  \n",
       "0                      None         NaN  \n",
       "12  /forum/poster/?id=59135      2522.0  \n",
       "15  /forum/poster/?id=58862     43504.0  \n",
       "14  /forum/poster/?id=59135      2522.0  \n",
       "2   /forum/poster/?id=59135      2522.0  "
      ]
     },
     "execution_count": 133,
     "metadata": {},
     "output_type": "execute_result"
    }
   ],
   "source": [
    "af_df = extract_comments_from_page(resp, dict(name=\"div\", class_=\"mfd-post\"), extract_mfd_comment_data)\n",
    "af_df.sample(5)"
   ]
  },
  {
   "cell_type": "code",
   "execution_count": 124,
   "metadata": {},
   "outputs": [],
   "source": [
    "soup = BeautifulSoup(resp.text, \"html.parser\")\n",
    "tmp = soup.find_all(**dict(name=\"div\", class_=\"mfd-post\"))[4]\n"
   ]
  },
  {
   "cell_type": "code",
   "execution_count": 118,
   "metadata": {},
   "outputs": [
    {
     "data": {
      "text/plain": [
       "{'comment_text': 'И последнее добавляю с сайта решение собрания акционеров:  ПРОЕКТЫ РЕШЕНИЙ ВНЕОЧЕРЕДНОГО ОБЩЕГО СОБРАНИЯ АКЦИОНЕРОВ   ОАО «КАМЧАТСКЭНЕРГО»   Вопрос №1: О реорганизации Открытого акционерного общества энергетики и электрификации «Камчатскэнерго» в форме присоединения к нему Открытого акционерного общества «Камчатские ТЭЦ», Открытого акционерного общества «Центральные электрические сети», Открытого акционерного общества «Камчатская тепло-транспортная компания»    Проект решения:  1. Реорганизовать Открытое акционерное общество энергетики и электрификации «Камчатскэнерго» в форме присоединения к нему Открытого акционерного общества «Камчатские ТЭЦ», Открытого акционерного общества «Центральные электрические сети», Открытого акционерного общества «Камчатская тепло-транспортная компания» на условиях, предусмотренных Договором о присоединении Открытого акционерного общества «Камчатские ТЭЦ», Открытого акционерного общества «Центральные электрические сети», Открытого акционерного общества «Камчатская тепло-транспортная компания» к Открытому акционерному обществу энергетики и электрификации «Камчатскэнерго».  2. Утвердить Договор о присоединении Открытого акционерного общества «Камчатские ТЭЦ», Открытого акционерного общества «Центральные электрические сети», Открытого акционерного общества «Камчатская тепло-транспортная компания» к Открытому акционерному обществу энергетики и электрификации «Камчатскэнерго» (Приложение).  3. Определить, что уведомление органа, осуществляющего государственную регистрацию юридических лиц, о начале процедуры реорганизации Открытого акционерного общества энергетики и электрификации «Камчатскэнерго», Открытого акционерного общества «Камчатские ТЭЦ», Открытого акционерного общества «Центральные электрические сети», Открытого акционерного общества « Камчатская тепло-транспортная компания» и публикацию сообщения о реорганизации от имени всех участвующих в реорганизации юридических лиц осуществляет Открытое акционерное общество энергетики и электрификации «Камчатскэнерго».   Вопрос №2: О внесении изменений в Устав Открытого акционерного общества энергетики и электрификации «Камчатскэнерго», связанных с его реорганизацией в форме присоединения к нему Открытого акционерного общества «Камчатские ТЭЦ», Открытого акционерного общества «Центральные электрические сети», Открытого акционерного общества «Камчатская тепло-транспортная компания».    Проект решения:  1. Внести изменения в Устав Открытого акционерного общества энергетики и электрификации «Камчатскэнерго», дополнив пункт 1.2 Устава вторым абзацем следующего содержания:   «Общество является правопреемником по всем правам и обязанностям Открытого акционерного общества «Камчатские ТЭЦ», Открытого акционерного общества «Центральные электрические сети», Открытое акционерного общества «Камчатская тепло-транспортная компания».  2. Осуществить государственную регистрацию изменений, вносимых в Устав Открытого акционерного общества энергетики и электрификации «Камчатскэнерго», после завершения присоединения Открытого акционерного общества «Камчатские ТЭЦ», Открытого акционерного общества «Центральные электрические сети», Открытого акционерного общества «Камчатская тепло-транспортная компания» к Открытому акционерному обществу энергетики и электрификации «Камчатскэнерго».   Это только часть подробнее на сайте ! Посмотрим как отразится на котировках в понедельник !  До завтра!!!',\n",
       " 'comment_score': 0,\n",
       " 'comment_datetime': datetime.datetime(2010, 11, 28, 17, 49, tzinfo=tzutc()),\n",
       " 'comment_misc': None,\n",
       " 'user_id': '/forum/poster/?id=59135',\n",
       " 'user_score': 2522}"
      ]
     },
     "execution_count": 118,
     "metadata": {},
     "output_type": "execute_result"
    }
   ],
   "source": [
    "extract_mfd_comment_data(tmp)\n"
   ]
  },
  {
   "cell_type": "code",
   "execution_count": 98,
   "metadata": {},
   "outputs": [
    {
     "data": {
      "text/plain": [
       "<table><tr><td><a href=\"/forum/poster/?id=65375\" rel=\"nofollow\">Оптовик</a><td>+</td></td></tr></table>"
      ]
     },
     "execution_count": 98,
     "metadata": {},
     "output_type": "execute_result"
    }
   ],
   "source": [
    "tmp.find(\"table\")\n"
   ]
  },
  {
   "cell_type": "code",
   "execution_count": 127,
   "metadata": {},
   "outputs": [],
   "source": [
    "import re"
   ]
  },
  {
   "cell_type": "code",
   "execution_count": 130,
   "metadata": {},
   "outputs": [
    {
     "data": {
      "text/plain": [
       "'2522'"
      ]
     },
     "execution_count": 130,
     "metadata": {},
     "output_type": "execute_result"
    }
   ],
   "source": [
    "int(match.group(1))"
   ]
  },
  {
   "cell_type": "code",
   "execution_count": 86,
   "metadata": {},
   "outputs": [
    {
     "ename": "AttributeError",
     "evalue": "'NoneType' object has no attribute 'text'",
     "output_type": "error",
     "traceback": [
      "\u001b[1;31m---------------------------------------------------------------------------\u001b[0m",
      "\u001b[1;31mAttributeError\u001b[0m                            Traceback (most recent call last)",
      "\u001b[1;32mc:\\Users\\Miqasa\\OneDrive\\Документы\\ds_projs\\other\\pnd_detector\\notebooks\\test.ipynb Cell 68\u001b[0m line \u001b[0;36m1\n\u001b[1;32m----> <a href='vscode-notebook-cell:/c%3A/Users/Miqasa/OneDrive/%D0%94%D0%BE%D0%BA%D1%83%D0%BC%D0%B5%D0%BD%D1%82%D1%8B/ds_projs/other/pnd_detector/notebooks/test.ipynb#Y151sZmlsZQ%3D%3D?line=0'>1</a>\u001b[0m tmp\u001b[39m.\u001b[39;49mfind(\u001b[39m\"\u001b[39;49m\u001b[39mspan\u001b[39;49m\u001b[39m\"\u001b[39;49m, class_\u001b[39m=\u001b[39;49m\u001b[39m\"\u001b[39;49m\u001b[39mu\u001b[39;49m\u001b[39m\"\u001b[39;49m)\u001b[39m.\u001b[39;49mtext\n",
      "\u001b[1;31mAttributeError\u001b[0m: 'NoneType' object has no attribute 'text'"
     ]
    }
   ],
   "source": [
    "tmp.find(\"span\", class_=\"u\").text"
   ]
  },
  {
   "cell_type": "code",
   "execution_count": 79,
   "metadata": {},
   "outputs": [
    {
     "data": {
      "text/plain": [
       "'1Оптовик+'"
      ]
     },
     "execution_count": 79,
     "metadata": {},
     "output_type": "execute_result"
    }
   ],
   "source": [
    "tmp.find(\"div\",class_=\"mfd-post-top-2\").text\n"
   ]
  },
  {
   "cell_type": "code",
   "execution_count": 70,
   "metadata": {},
   "outputs": [
    {
     "ename": "ValueError",
     "evalue": "invalid literal for int() with base 10: ''",
     "output_type": "error",
     "traceback": [
      "\u001b[1;31m---------------------------------------------------------------------------\u001b[0m",
      "\u001b[1;31mValueError\u001b[0m                                Traceback (most recent call last)",
      "\u001b[1;32mc:\\Users\\Miqasa\\OneDrive\\Документы\\ds_projs\\other\\pnd_detector\\notebooks\\test.ipynb Cell 69\u001b[0m line \u001b[0;36m1\n\u001b[1;32m----> <a href='vscode-notebook-cell:/c%3A/Users/Miqasa/OneDrive/%D0%94%D0%BE%D0%BA%D1%83%D0%BC%D0%B5%D0%BD%D1%82%D1%8B/ds_projs/other/pnd_detector/notebooks/test.ipynb#Y135sZmlsZQ%3D%3D?line=0'>1</a>\u001b[0m \u001b[39mint\u001b[39;49m(tmp\u001b[39m.\u001b[39;49mfind(\u001b[39m\"\u001b[39;49m\u001b[39mdiv\u001b[39;49m\u001b[39m\"\u001b[39;49m, class_\u001b[39m=\u001b[39;49m\u001b[39m\"\u001b[39;49m\u001b[39mmfd-post-body-left\u001b[39;49m\u001b[39m\"\u001b[39;49m)\u001b[39m.\u001b[39;49mtext)\n",
      "\u001b[1;31mValueError\u001b[0m: invalid literal for int() with base 10: ''"
     ]
    }
   ],
   "source": [
    "int(tmp.find(\"div\", class_=\"mfd-post-body-left\").text)"
   ]
  },
  {
   "cell_type": "code",
   "execution_count": 60,
   "metadata": {},
   "outputs": [
    {
     "data": {
      "text/plain": [
       "'на чем растет???'"
      ]
     },
     "execution_count": 60,
     "metadata": {},
     "output_type": "execute_result"
    }
   ],
   "source": [
    "tmp.find(\"div\", class_=\"mfd-post-text\").text"
   ]
  },
  {
   "cell_type": "code",
   "execution_count": 61,
   "metadata": {},
   "outputs": [
    {
     "ename": "AttributeError",
     "evalue": "'NoneType' object has no attribute 'text'",
     "output_type": "error",
     "traceback": [
      "\u001b[1;31m---------------------------------------------------------------------------\u001b[0m",
      "\u001b[1;31mAttributeError\u001b[0m                            Traceback (most recent call last)",
      "\u001b[1;32mc:\\Users\\Miqasa\\OneDrive\\Документы\\ds_projs\\other\\pnd_detector\\notebooks\\test.ipynb Cell 69\u001b[0m line \u001b[0;36m1\n\u001b[1;32m----> <a href='vscode-notebook-cell:/c%3A/Users/Miqasa/OneDrive/%D0%94%D0%BE%D0%BA%D1%83%D0%BC%D0%B5%D0%BD%D1%82%D1%8B/ds_projs/other/pnd_detector/notebooks/test.ipynb#Y144sZmlsZQ%3D%3D?line=0'>1</a>\u001b[0m tmp\u001b[39m.\u001b[39;49mfind(\u001b[39m\"\u001b[39;49m\u001b[39mdiv\u001b[39;49m\u001b[39m\"\u001b[39;49m, class_\u001b[39m=\u001b[39;49m\u001b[39m\"\u001b[39;49m\u001b[39mmfd-post-remark\u001b[39;49m\u001b[39m\"\u001b[39;49m)\u001b[39m.\u001b[39;49mtext\n",
      "\u001b[1;31mAttributeError\u001b[0m: 'NoneType' object has no attribute 'text'"
     ]
    }
   ],
   "source": [
    "tmp.find(\"div\", class_=\"mfd-post-remark\").text"
   ]
  },
  {
   "cell_type": "code",
   "execution_count": null,
   "metadata": {},
   "outputs": [],
   "source": [
    "extract_comments_from_page(resp, comment_dict=dict(name=\"div\", class_=\"mfd-post\"), )"
   ]
  },
  {
   "cell_type": "code",
   "execution_count": 1,
   "metadata": {},
   "outputs": [],
   "source": [
    "import numpy as np \n",
    "import matplotlib.pyplot as plt"
   ]
  },
  {
   "cell_type": "code",
   "execution_count": null,
   "metadata": {},
   "outputs": [],
   "source": [
    "t = np.linspace()"
   ]
  },
  {
   "cell_type": "markdown",
   "metadata": {},
   "source": [
    "### e-disclosure stuff\n"
   ]
  },
  {
   "cell_type": "code",
   "execution_count": 18,
   "metadata": {},
   "outputs": [
    {
     "data": {
      "text/plain": [
       "['PAZA', 'IGSTP', 'ISKJ', 'LVHK', 'BLNG']"
      ]
     },
     "execution_count": 18,
     "metadata": {},
     "output_type": "execute_result"
    }
   ],
   "source": [
    "tokens = pnd_token_date_df.sample(5)[\"token\"].tolist()\n",
    "tokens"
   ]
  },
  {
   "cell_type": "code",
   "execution_count": 3,
   "metadata": {},
   "outputs": [
    {
     "data": {
      "text/html": [
       "<div>\n",
       "<style scoped>\n",
       "    .dataframe tbody tr th:only-of-type {\n",
       "        vertical-align: middle;\n",
       "    }\n",
       "\n",
       "    .dataframe tbody tr th {\n",
       "        vertical-align: top;\n",
       "    }\n",
       "\n",
       "    .dataframe thead th {\n",
       "        text-align: right;\n",
       "    }\n",
       "</style>\n",
       "<table border=\"1\" class=\"dataframe\">\n",
       "  <thead>\n",
       "    <tr style=\"text-align: right;\">\n",
       "      <th></th>\n",
       "      <th>shortname</th>\n",
       "      <th>longname</th>\n",
       "      <th>token</th>\n",
       "    </tr>\n",
       "  </thead>\n",
       "  <tbody>\n",
       "    <tr>\n",
       "      <th>5</th>\n",
       "      <td>БСП ап</td>\n",
       "      <td>Банк Санкт-Петербург ап</td>\n",
       "      <td>BSPBP</td>\n",
       "    </tr>\n",
       "    <tr>\n",
       "      <th>7</th>\n",
       "      <td>ДагСб ао</td>\n",
       "      <td>ао Дагестанская энергосб.комп.</td>\n",
       "      <td>DASB</td>\n",
       "    </tr>\n",
       "    <tr>\n",
       "      <th>3</th>\n",
       "      <td>НоваБев ао</td>\n",
       "      <td>НоваБев Групп ПАО ао</td>\n",
       "      <td>BELU</td>\n",
       "    </tr>\n",
       "    <tr>\n",
       "      <th>24</th>\n",
       "      <td>КрасОкт-1п</td>\n",
       "      <td>КрасныйОктябрь-1п</td>\n",
       "      <td>KROTP</td>\n",
       "    </tr>\n",
       "    <tr>\n",
       "      <th>20</th>\n",
       "      <td>КамчатЭ ао</td>\n",
       "      <td>Камчатскэнерго ПАО ао</td>\n",
       "      <td>KCHE</td>\n",
       "    </tr>\n",
       "  </tbody>\n",
       "</table>\n",
       "</div>"
      ],
      "text/plain": [
       "     shortname                        longname  token\n",
       "5       БСП ап         Банк Санкт-Петербург ап  BSPBP\n",
       "7     ДагСб ао  ао Дагестанская энергосб.комп.   DASB\n",
       "3   НоваБев ао            НоваБев Групп ПАО ао   BELU\n",
       "24  КрасОкт-1п               КрасныйОктябрь-1п  KROTP\n",
       "20  КамчатЭ ао           Камчатскэнерго ПАО ао   KCHE"
      ]
     },
     "execution_count": 3,
     "metadata": {},
     "output_type": "execute_result"
    }
   ],
   "source": [
    "sn_df = pd.read_parquet(os.path.join(datasets_folder_path, \"sec_names.parquet\"))\n",
    "sn_df.sample(5)"
   ]
  },
  {
   "cell_type": "code",
   "execution_count": 24,
   "metadata": {},
   "outputs": [],
   "source": [
    "tokens = sn_df[\"token\"].unique().tolist()"
   ]
  },
  {
   "cell_type": "code",
   "execution_count": 23,
   "metadata": {},
   "outputs": [],
   "source": [
    "from pnd_moex.general.scraper import get_smartlab_forum_urls\n",
    "import httpx\n"
   ]
  },
  {
   "cell_type": "code",
   "execution_count": 26,
   "metadata": {},
   "outputs": [
    {
     "ename": "AttributeError",
     "evalue": "'list' object has no attribute 'head'",
     "output_type": "error",
     "traceback": [
      "\u001b[1;31m---------------------------------------------------------------------------\u001b[0m",
      "\u001b[1;31mAttributeError\u001b[0m                            Traceback (most recent call last)",
      "\u001b[1;32mc:\\Users\\Miqasa\\OneDrive\\Документы\\ds_projs\\other\\pnd_detector\\notebooks\\test.ipynb Cell 86\u001b[0m line \u001b[0;36m5\n\u001b[0;32m      <a href='vscode-notebook-cell:/c%3A/Users/Miqasa/OneDrive/%D0%94%D0%BE%D0%BA%D1%83%D0%BC%D0%B5%D0%BD%D1%82%D1%8B/ds_projs/other/pnd_detector/notebooks/test.ipynb#Y200sZmlsZQ%3D%3D?line=2'>3</a>\u001b[0m \u001b[39m# Token forum pages\u001b[39;00m\n\u001b[0;32m      <a href='vscode-notebook-cell:/c%3A/Users/Miqasa/OneDrive/%D0%94%D0%BE%D0%BA%D1%83%D0%BC%D0%B5%D0%BD%D1%82%D1%8B/ds_projs/other/pnd_detector/notebooks/test.ipynb#Y200sZmlsZQ%3D%3D?line=3'>4</a>\u001b[0m forum_token_endpoints_1 \u001b[39m=\u001b[39m get_smartlab_forum_urls(tokens, \u001b[39m95\u001b[39m)\n\u001b[1;32m----> <a href='vscode-notebook-cell:/c%3A/Users/Miqasa/OneDrive/%D0%94%D0%BE%D0%BA%D1%83%D0%BC%D0%B5%D0%BD%D1%82%D1%8B/ds_projs/other/pnd_detector/notebooks/test.ipynb#Y200sZmlsZQ%3D%3D?line=4'>5</a>\u001b[0m forum_token_endpoints_1\u001b[39m.\u001b[39;49mhead(\u001b[39m5\u001b[39m)\n",
      "\u001b[1;31mAttributeError\u001b[0m: 'list' object has no attribute 'head'"
     ]
    }
   ],
   "source": [
    "raw_url_df_list = []\n",
    "base_url = \"https://smart-lab.ru/\"\n",
    "# Token forum pages\n",
    "forum_token_endpoints_1 = get_smartlab_forum_urls(tokens, 95)\n",
    "forum_token_endpoints_1[:5]"
   ]
  },
  {
   "cell_type": "code",
   "execution_count": 27,
   "metadata": {},
   "outputs": [
    {
     "data": {
      "text/plain": [
       "[('ABRD', '/forum/ABRD'),\n",
       " ('ALBK', '/forum/ALBK'),\n",
       " ('ASSB', '/forum/ASSB'),\n",
       " ('BELU', '/forum/BELU'),\n",
       " ('BLNG', '/forum/BLNG'),\n",
       " ('BSPBP', '/forum/BSPB'),\n",
       " ('CHKZ', '/forum/CHKZ'),\n",
       " ('DASB', '/forum/DASB'),\n",
       " ('DVEC', '/forum/DVEC'),\n",
       " ('DZRD', '/forum/DZRD'),\n",
       " ('ELTZ', '/forum/ELTZ'),\n",
       " ('FXRW', '/forum/FXRW'),\n",
       " ('FXWO', '/forum/FXWO'),\n",
       " ('GECO', '/forum/GECO'),\n",
       " ('GTLC', '/forum/GTLC'),\n",
       " ('GTRK', '/forum/GTRK'),\n",
       " ('IDVP', '/forum/IDVP'),\n",
       " ('IGST', '/forum/IGST'),\n",
       " ('IGSTP', '/forum/IGST'),\n",
       " ('ISKJ', '/forum/ISKJ'),\n",
       " ('KCHE', '/forum/KCHE'),\n",
       " ('KCHEP', '/forum/KCHE'),\n",
       " ('KRKOP', '/forum/KRKO'),\n",
       " ('KROT', '/forum/KROT'),\n",
       " ('KROTP', None),\n",
       " ('KTSB', '/forum/KTSB'),\n",
       " ('KTSBP', None),\n",
       " ('KUBE', '/forum/KUBE'),\n",
       " ('KUZB', '/forum/KUZB'),\n",
       " ('LENT', '/forum/LENT'),\n",
       " ('LNZL', '/forum/LNZL'),\n",
       " ('LNZLP', '/forum/LNZL'),\n",
       " ('LPSB', '/forum/LPSB'),\n",
       " ('LVHK', '/forum/LVHK'),\n",
       " ('MERF', '/forum/MERF'),\n",
       " ('MGVM', '/forum/MGVM'),\n",
       " ('MISB', '/forum/MISB'),\n",
       " ('MISBP', '/forum/MISB'),\n",
       " ('MOBB', '/forum/MOBB'),\n",
       " ('MRKS', '/forum/MRKS'),\n",
       " ('MSST', '/forum/MSST'),\n",
       " ('MSTT', '/forum/MSTT'),\n",
       " ('NKHP', '/forum/NKHP'),\n",
       " ('NNSBP', '/forum/TNSE'),\n",
       " ('ORUP', '/forum/ORUP'),\n",
       " ('PAZA', '/forum/PAZA'),\n",
       " ('RDRB', '/forum/RDRB'),\n",
       " ('RKKE', '/forum/RKKE'),\n",
       " ('RLMNP', '/forum/RLMN'),\n",
       " ('ROSB', '/forum/ROSB'),\n",
       " ('ROST', '/forum/ROST'),\n",
       " ('RTSB', '/forum/RTSB'),\n",
       " ('RTSBP', '/forum/TNSE'),\n",
       " ('RU000A101NK4', None),\n",
       " ('RUSI', '/forum/RUSI'),\n",
       " ('SVAV', '/forum/SVAV'),\n",
       " ('SVET', '/forum/SVET'),\n",
       " ('TGKBP', '/forum/TGKB'),\n",
       " ('TGKN', '/forum/TGKN'),\n",
       " ('TNSE', '/forum/TNSE'),\n",
       " ('UCSS', '/forum/UCSS'),\n",
       " ('UKUZ', '/forum/UKUZ'),\n",
       " ('UNKL', '/forum/UNKL'),\n",
       " ('UWGN', '/forum/UWGN'),\n",
       " ('VGSBP', '/forum/VGSB'),\n",
       " ('VJGZ', '/forum/VJGZ'),\n",
       " ('VJGZP', '/forum/VJGZ'),\n",
       " ('VRSB', '/forum/VRSB'),\n",
       " ('VRSBP', '/forum/VRSB'),\n",
       " ('VSYD', '/forum/VSYD'),\n",
       " ('VSYDP', '/forum/VSYDP'),\n",
       " ('YAKG', '/forum/YAKG')]"
      ]
     },
     "execution_count": 27,
     "metadata": {},
     "output_type": "execute_result"
    }
   ],
   "source": [
    "forum_token_endpoints_1\n"
   ]
  },
  {
   "cell_type": "code",
   "execution_count": null,
   "metadata": {},
   "outputs": [],
   "source": [
    "# вписать сюда дополнение к названиям с формумов.\n",
    "# пофиксить залупу с хуёвыми ссылками\n",
    "# ну и подумать как всё собрать вместе и сохранить в "
   ]
  },
  {
   "cell_type": "code",
   "execution_count": null,
   "metadata": {},
   "outputs": [],
   "source": [
    "sn_df.head(5)"
   ]
  },
  {
   "cell_type": "code",
   "execution_count": 5,
   "metadata": {},
   "outputs": [],
   "source": [
    "client = httpx.Client()"
   ]
  },
  {
   "cell_type": "code",
   "execution_count": 9,
   "metadata": {},
   "outputs": [
    {
     "data": {
      "text/plain": [
       "200"
      ]
     },
     "execution_count": 9,
     "metadata": {},
     "output_type": "execute_result"
    }
   ],
   "source": [
    "url = 'https://www.e-disclosure.ru/api/search/companies'\n",
    "data = {\n",
    "    'textfield': 'КрасОкт-1п',\n",
    "    'radReg': 'FederalDistricts',\n",
    "    'districtsCheckboxGroup': '-1',\n",
    "    'regionsCheckboxGroup': '-1',\n",
    "    'branchesCheckboxGroup': '-1',\n",
    "    'lastPageSize': '10',\n",
    "    'lastPageNumber': '1',\n",
    "    'query': 'КрасОкт-1п',\n",
    "}\n",
    "\n",
    "# Выполните POST-запрос\n",
    "response = client.post(url, data=data, follow_redirects=True)\n",
    "response.status_code"
   ]
  },
  {
   "cell_type": "code",
   "execution_count": 10,
   "metadata": {},
   "outputs": [
    {
     "data": {
      "text/plain": [
       "b'{\"foundCompaniesList\":[],\"pagingInfo\":{\"totalItems\":0,\"itemsPerPage\":10,\"currentPage\":1,\"totalPages\":0},\"allFoundCompanies\":0,\"maxFoundCompaniesToShow\":400}'"
      ]
     },
     "execution_count": 10,
     "metadata": {},
     "output_type": "execute_result"
    }
   ],
   "source": [
    "response.content"
   ]
  },
  {
   "cell_type": "code",
   "execution_count": null,
   "metadata": {},
   "outputs": [],
   "source": []
  },
  {
   "cell_type": "code",
   "execution_count": 11,
   "metadata": {},
   "outputs": [],
   "source": [
    "from selenium import webdriver\n",
    "from selenium.webdriver.common.by import By\n",
    "from selenium.webdriver.support import expected_conditions as EC\n",
    "from selenium.webdriver.support.ui import WebDriverWait\n"
   ]
  },
  {
   "cell_type": "code",
   "execution_count": 12,
   "metadata": {},
   "outputs": [],
   "source": [
    "driver = webdriver.Firefox()"
   ]
  },
  {
   "cell_type": "code",
   "execution_count": 13,
   "metadata": {},
   "outputs": [],
   "source": [
    "driver.implicitly_wait(10)"
   ]
  },
  {
   "cell_type": "code",
   "execution_count": 14,
   "metadata": {},
   "outputs": [],
   "source": [
    "driver.get(\"https://www.e-disclosure.ru/poisk-po-kompaniyam\")"
   ]
  },
  {
   "cell_type": "code",
   "execution_count": 28,
   "metadata": {},
   "outputs": [
    {
     "data": {
      "text/plain": [
       "<selenium.webdriver.remote.webelement.WebElement (session=\"b4daa431-7dae-4e82-bc1b-2c4558bce2ed\", element=\"e10521af-821c-4033-9c19-2d7d82cb9cef\")>"
      ]
     },
     "execution_count": 28,
     "metadata": {},
     "output_type": "execute_result"
    }
   ],
   "source": [
    "elem = driver.find_element(By.TAG_NAME, \"input\")\n",
    "elem"
   ]
  },
  {
   "cell_type": "code",
   "execution_count": 29,
   "metadata": {},
   "outputs": [
    {
     "ename": "ElementNotInteractableException",
     "evalue": "Message: Element <input name=\"__RequestVerificationToken\" type=\"hidden\"> is not reachable by keyboard\nStacktrace:\nRemoteError@chrome://remote/content/shared/RemoteError.sys.mjs:8:8\nWebDriverError@chrome://remote/content/shared/webdriver/Errors.sys.mjs:189:5\nElementNotInteractableError@chrome://remote/content/shared/webdriver/Errors.sys.mjs:349:5\nwebdriverSendKeysToElement@chrome://remote/content/marionette/interaction.sys.mjs:629:13\ninteraction.sendKeysToElement@chrome://remote/content/marionette/interaction.sys.mjs:603:11\nsendKeysToElement@chrome://remote/content/marionette/actors/MarionetteCommandsChild.sys.mjs:533:29\nreceiveMessage@chrome://remote/content/marionette/actors/MarionetteCommandsChild.sys.mjs:150:31\n",
     "output_type": "error",
     "traceback": [
      "\u001b[1;31m---------------------------------------------------------------------------\u001b[0m",
      "\u001b[1;31mElementNotInteractableException\u001b[0m           Traceback (most recent call last)",
      "\u001b[1;32mc:\\Users\\Miqasa\\OneDrive\\Документы\\ds_projs\\other\\pnd_detector\\notebooks\\test.ipynb Cell 92\u001b[0m line \u001b[0;36m1\n\u001b[1;32m----> <a href='vscode-notebook-cell:/c%3A/Users/Miqasa/OneDrive/%D0%94%D0%BE%D0%BA%D1%83%D0%BC%D0%B5%D0%BD%D1%82%D1%8B/ds_projs/other/pnd_detector/notebooks/test.ipynb#Y162sZmlsZQ%3D%3D?line=0'>1</a>\u001b[0m elem\u001b[39m.\u001b[39;49msend_keys(\u001b[39m\"\u001b[39;49m\u001b[39mМультисис\u001b[39;49m\u001b[39m\"\u001b[39;49m)\n",
      "File \u001b[1;32mc:\\Users\\Miqasa\\OneDrive\\Документы\\ds_projs\\other\\pnd_detector\\.venv\\Lib\\site-packages\\selenium\\webdriver\\remote\\webelement.py:231\u001b[0m, in \u001b[0;36mWebElement.send_keys\u001b[1;34m(self, *value)\u001b[0m\n\u001b[0;32m    228\u001b[0m             remote_files\u001b[39m.\u001b[39mappend(\u001b[39mself\u001b[39m\u001b[39m.\u001b[39m_upload(file))\n\u001b[0;32m    229\u001b[0m         value \u001b[39m=\u001b[39m \u001b[39m\"\u001b[39m\u001b[39m\\n\u001b[39;00m\u001b[39m\"\u001b[39m\u001b[39m.\u001b[39mjoin(remote_files)\n\u001b[1;32m--> 231\u001b[0m \u001b[39mself\u001b[39;49m\u001b[39m.\u001b[39;49m_execute(\n\u001b[0;32m    232\u001b[0m     Command\u001b[39m.\u001b[39;49mSEND_KEYS_TO_ELEMENT, {\u001b[39m\"\u001b[39;49m\u001b[39mtext\u001b[39;49m\u001b[39m\"\u001b[39;49m: \u001b[39m\"\u001b[39;49m\u001b[39m\"\u001b[39;49m\u001b[39m.\u001b[39;49mjoin(keys_to_typing(value)), \u001b[39m\"\u001b[39;49m\u001b[39mvalue\u001b[39;49m\u001b[39m\"\u001b[39;49m: keys_to_typing(value)}\n\u001b[0;32m    233\u001b[0m )\n",
      "File \u001b[1;32mc:\\Users\\Miqasa\\OneDrive\\Документы\\ds_projs\\other\\pnd_detector\\.venv\\Lib\\site-packages\\selenium\\webdriver\\remote\\webelement.py:395\u001b[0m, in \u001b[0;36mWebElement._execute\u001b[1;34m(self, command, params)\u001b[0m\n\u001b[0;32m    393\u001b[0m     params \u001b[39m=\u001b[39m {}\n\u001b[0;32m    394\u001b[0m params[\u001b[39m\"\u001b[39m\u001b[39mid\u001b[39m\u001b[39m\"\u001b[39m] \u001b[39m=\u001b[39m \u001b[39mself\u001b[39m\u001b[39m.\u001b[39m_id\n\u001b[1;32m--> 395\u001b[0m \u001b[39mreturn\u001b[39;00m \u001b[39mself\u001b[39;49m\u001b[39m.\u001b[39;49m_parent\u001b[39m.\u001b[39;49mexecute(command, params)\n",
      "File \u001b[1;32mc:\\Users\\Miqasa\\OneDrive\\Документы\\ds_projs\\other\\pnd_detector\\.venv\\Lib\\site-packages\\selenium\\webdriver\\remote\\webdriver.py:345\u001b[0m, in \u001b[0;36mWebDriver.execute\u001b[1;34m(self, driver_command, params)\u001b[0m\n\u001b[0;32m    343\u001b[0m response \u001b[39m=\u001b[39m \u001b[39mself\u001b[39m\u001b[39m.\u001b[39mcommand_executor\u001b[39m.\u001b[39mexecute(driver_command, params)\n\u001b[0;32m    344\u001b[0m \u001b[39mif\u001b[39;00m response:\n\u001b[1;32m--> 345\u001b[0m     \u001b[39mself\u001b[39;49m\u001b[39m.\u001b[39;49merror_handler\u001b[39m.\u001b[39;49mcheck_response(response)\n\u001b[0;32m    346\u001b[0m     response[\u001b[39m\"\u001b[39m\u001b[39mvalue\u001b[39m\u001b[39m\"\u001b[39m] \u001b[39m=\u001b[39m \u001b[39mself\u001b[39m\u001b[39m.\u001b[39m_unwrap_value(response\u001b[39m.\u001b[39mget(\u001b[39m\"\u001b[39m\u001b[39mvalue\u001b[39m\u001b[39m\"\u001b[39m, \u001b[39mNone\u001b[39;00m))\n\u001b[0;32m    347\u001b[0m     \u001b[39mreturn\u001b[39;00m response\n",
      "File \u001b[1;32mc:\\Users\\Miqasa\\OneDrive\\Документы\\ds_projs\\other\\pnd_detector\\.venv\\Lib\\site-packages\\selenium\\webdriver\\remote\\errorhandler.py:229\u001b[0m, in \u001b[0;36mErrorHandler.check_response\u001b[1;34m(self, response)\u001b[0m\n\u001b[0;32m    227\u001b[0m         alert_text \u001b[39m=\u001b[39m value[\u001b[39m\"\u001b[39m\u001b[39malert\u001b[39m\u001b[39m\"\u001b[39m]\u001b[39m.\u001b[39mget(\u001b[39m\"\u001b[39m\u001b[39mtext\u001b[39m\u001b[39m\"\u001b[39m)\n\u001b[0;32m    228\u001b[0m     \u001b[39mraise\u001b[39;00m exception_class(message, screen, stacktrace, alert_text)  \u001b[39m# type: ignore[call-arg]  # mypy is not smart enough here\u001b[39;00m\n\u001b[1;32m--> 229\u001b[0m \u001b[39mraise\u001b[39;00m exception_class(message, screen, stacktrace)\n",
      "\u001b[1;31mElementNotInteractableException\u001b[0m: Message: Element <input name=\"__RequestVerificationToken\" type=\"hidden\"> is not reachable by keyboard\nStacktrace:\nRemoteError@chrome://remote/content/shared/RemoteError.sys.mjs:8:8\nWebDriverError@chrome://remote/content/shared/webdriver/Errors.sys.mjs:189:5\nElementNotInteractableError@chrome://remote/content/shared/webdriver/Errors.sys.mjs:349:5\nwebdriverSendKeysToElement@chrome://remote/content/marionette/interaction.sys.mjs:629:13\ninteraction.sendKeysToElement@chrome://remote/content/marionette/interaction.sys.mjs:603:11\nsendKeysToElement@chrome://remote/content/marionette/actors/MarionetteCommandsChild.sys.mjs:533:29\nreceiveMessage@chrome://remote/content/marionette/actors/MarionetteCommandsChild.sys.mjs:150:31\n"
     ]
    }
   ],
   "source": [
    "elem.send_keys(\"Мультисис\")\n"
   ]
  }
 ],
 "metadata": {
  "kernelspec": {
   "display_name": ".venv",
   "language": "python",
   "name": "python3"
  },
  "language_info": {
   "codemirror_mode": {
    "name": "ipython",
    "version": 3
   },
   "file_extension": ".py",
   "mimetype": "text/x-python",
   "name": "python",
   "nbconvert_exporter": "python",
   "pygments_lexer": "ipython3",
   "version": "3.11.3"
  },
  "orig_nbformat": 4
 },
 "nbformat": 4,
 "nbformat_minor": 2
}
