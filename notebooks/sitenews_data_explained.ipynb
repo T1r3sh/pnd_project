{
 "cells": [
  {
   "cell_type": "markdown",
   "metadata": {},
   "source": [
    "### Explaining Sitenews Preprocessing\n"
   ]
  },
  {
   "cell_type": "code",
   "execution_count": null,
   "metadata": {},
   "outputs": [],
   "source": [
    "# Loading all sitenews. It takes a lot of time. \n",
    "# There are ./datasets/final_df.parquet - this function result\n",
    "\n",
    "# final_df = run_async(load_all_sitenews, max_connections=20)\n",
    "# save_dataframe_to_parquet(final_df, \"final_df.parquet\")"
   ]
  },
  {
   "cell_type": "code",
   "execution_count": 16,
   "metadata": {},
   "outputs": [],
   "source": [
    "from isswrapper.util.helpers import read_parquet_into_dataframe\n",
    "import pandas as pd \n",
    "from bs4 import BeautifulSoup\n",
    "import os"
   ]
  },
  {
   "cell_type": "code",
   "execution_count": 26,
   "metadata": {},
   "outputs": [
    {
     "name": "stdout",
     "output_type": "stream",
     "text": [
      "(40799, 6)\n"
     ]
    },
    {
     "data": {
      "text/html": [
       "<div>\n",
       "<style scoped>\n",
       "    .dataframe tbody tr th:only-of-type {\n",
       "        vertical-align: middle;\n",
       "    }\n",
       "\n",
       "    .dataframe tbody tr th {\n",
       "        vertical-align: top;\n",
       "    }\n",
       "\n",
       "    .dataframe thead th {\n",
       "        text-align: right;\n",
       "    }\n",
       "</style>\n",
       "<table border=\"1\" class=\"dataframe\">\n",
       "  <thead>\n",
       "    <tr style=\"text-align: right;\">\n",
       "      <th></th>\n",
       "      <th>id</th>\n",
       "      <th>tag</th>\n",
       "      <th>title</th>\n",
       "      <th>published_at</th>\n",
       "      <th>modified_at</th>\n",
       "      <th>body</th>\n",
       "    </tr>\n",
       "  </thead>\n",
       "  <tbody>\n",
       "    <tr>\n",
       "      <th>0</th>\n",
       "      <td>63318</td>\n",
       "      <td>site</td>\n",
       "      <td>О выявленном несоответствии ценных бумаг</td>\n",
       "      <td>2023-08-21 19:00:00</td>\n",
       "      <td>2023-08-21 19:00:05</td>\n",
       "      <td>&lt;p&gt;В соответствии с Правилами листинга ПАО Мос...</td>\n",
       "    </tr>\n",
       "    <tr>\n",
       "      <th>1</th>\n",
       "      <td>63316</td>\n",
       "      <td>site</td>\n",
       "      <td>Об установлении риск-параметров на фондовом ры...</td>\n",
       "      <td>2023-08-21 18:54:24</td>\n",
       "      <td>2023-08-21 18:54:24</td>\n",
       "      <td>&lt;p&gt;С 22.08.2023 решением НКО НКЦ (АО) устанавл...</td>\n",
       "    </tr>\n",
       "    <tr>\n",
       "      <th>2</th>\n",
       "      <td>63315</td>\n",
       "      <td>site</td>\n",
       "      <td>О вступлении в силу внутренних документов Моск...</td>\n",
       "      <td>2023-08-21 18:53:22</td>\n",
       "      <td>2023-08-21 18:53:23</td>\n",
       "      <td>&lt;p&gt;&lt;span&gt;Информируем, что 28 августа 2023 года...</td>\n",
       "    </tr>\n",
       "    <tr>\n",
       "      <th>3</th>\n",
       "      <td>63314</td>\n",
       "      <td>site</td>\n",
       "      <td>Об изменении уровня листинга ценных бумаг</td>\n",
       "      <td>2023-08-21 18:24:25</td>\n",
       "      <td>2023-08-21 18:24:26</td>\n",
       "      <td>&lt;p&gt;В соответствии с Правилами листинга ПАО Мос...</td>\n",
       "    </tr>\n",
       "    <tr>\n",
       "      <th>4</th>\n",
       "      <td>63313</td>\n",
       "      <td>site</td>\n",
       "      <td>О регистрации программ биржевых облигаций</td>\n",
       "      <td>2023-08-21 18:19:22</td>\n",
       "      <td>2023-08-21 18:19:22</td>\n",
       "      <td>&lt;p&gt;&lt;span&gt;В соответствии c Правилами листинга П...</td>\n",
       "    </tr>\n",
       "  </tbody>\n",
       "</table>\n",
       "</div>"
      ],
      "text/plain": [
       "      id   tag                                              title  \\\n",
       "0  63318  site           О выявленном несоответствии ценных бумаг   \n",
       "1  63316  site  Об установлении риск-параметров на фондовом ры...   \n",
       "2  63315  site  О вступлении в силу внутренних документов Моск...   \n",
       "3  63314  site          Об изменении уровня листинга ценных бумаг   \n",
       "4  63313  site          О регистрации программ биржевых облигаций   \n",
       "\n",
       "         published_at         modified_at  \\\n",
       "0 2023-08-21 19:00:00 2023-08-21 19:00:05   \n",
       "1 2023-08-21 18:54:24 2023-08-21 18:54:24   \n",
       "2 2023-08-21 18:53:22 2023-08-21 18:53:23   \n",
       "3 2023-08-21 18:24:25 2023-08-21 18:24:26   \n",
       "4 2023-08-21 18:19:22 2023-08-21 18:19:22   \n",
       "\n",
       "                                                body  \n",
       "0  <p>В соответствии с Правилами листинга ПАО Мос...  \n",
       "1  <p>С 22.08.2023 решением НКО НКЦ (АО) устанавл...  \n",
       "2  <p><span>Информируем, что 28 августа 2023 года...  \n",
       "3  <p>В соответствии с Правилами листинга ПАО Мос...  \n",
       "4  <p><span>В соответствии c Правилами листинга П...  "
      ]
     },
     "execution_count": 26,
     "metadata": {},
     "output_type": "execute_result"
    }
   ],
   "source": [
    "current_path = os.getcwd()\n",
    "project_path = os.path.dirname(current_path)\n",
    "datasets_folder_path = os.path.join(project_path, 'datasets') \n",
    "df = read_parquet_into_dataframe(os.path.join(datasets_folder_path, \"final_df.parquet\"))\n",
    "print(df.shape)\n",
    "df.head()\n"
   ]
  },
  {
   "cell_type": "markdown",
   "metadata": {},
   "source": [
    "We're dealing with a bunch of news articles, but our focus is on news related to unusual behavior in securities. We've noticed that if an article contains the phrase 'отклонения цен заявок' (price order deviations), it includes tables with information about changes in risk parameters for certain securities. What does that imply? Essentially, it means there might be fewer restrictions or, on the flip side, new limitations introduced. Our main interest lies in the latter scenario. Here, it's either something positive that's happened, or it could indicate someone with questionable intentions trying a pump-and-dump strategy.\n",
    "\n",
    "So, our initial step is to sort through all the records that match our criteria."
   ]
  },
  {
   "cell_type": "code",
   "execution_count": 28,
   "metadata": {},
   "outputs": [
    {
     "data": {
      "text/plain": [
       "(140, 6)"
      ]
     },
     "execution_count": 28,
     "metadata": {},
     "output_type": "execute_result"
    }
   ],
   "source": [
    "filtered_df= df[df[\"body\"].str.contains(\"отклонения цен заявок\")]\n",
    "filtered_df.shape"
   ]
  },
  {
   "cell_type": "code",
   "execution_count": 32,
   "metadata": {},
   "outputs": [
    {
     "data": {
      "text/plain": [
       "(140, 6)"
      ]
     },
     "execution_count": 32,
     "metadata": {},
     "output_type": "execute_result"
    }
   ],
   "source": [
    "def has_table(html):\n",
    "    soup = BeautifulSoup(html, 'html.parser')\n",
    "    table = soup.find('table')\n",
    "    return table is not None\n",
    "\n",
    "w_table_df = filtered_df[filtered_df[\"body\"].apply(has_table)]\n",
    "w_table_df.shape"
   ]
  },
  {
   "cell_type": "markdown",
   "metadata": {},
   "source": [
    "The next phase involves extracting these tables from the news articles and trimming away extraneous details.\n",
    "\n",
    "However, not all tables within this dataset are well-organized. The older ones might lack the 'th' tag. In these instances, we will rely on the first row to act as the header.\n",
    "\n",
    "The 'extract_table' function is purpose-built for this task. It functions by taking the HTML body and parsing out the table, converting it into a pandas DataFrame.\n",
    "\n",
    "Subsequently, the 'preprocess' function trims away redundant and uninformative particulars—such as full names and numbers. Following this, it rearranges the column names for enhanced convenience and converts percentage data into standard numerical values."
   ]
  },
  {
   "cell_type": "code",
   "execution_count": 33,
   "metadata": {},
   "outputs": [
    {
     "data": {
      "text/plain": [
       "(136, 8)"
      ]
     },
     "execution_count": 33,
     "metadata": {},
     "output_type": "execute_result"
    }
   ],
   "source": [
    "def extract_table(html):\n",
    "    soup = BeautifulSoup(html, \"html.parser\")\n",
    "    header = None\n",
    "    if not soup.findAll(\"th\"):\n",
    "        header = 0  \n",
    "    tables = pd.read_html(str(soup), header=header)\n",
    "    table = tables[0]\n",
    "    return table\n",
    "\n",
    "def preprocess(df):\n",
    "    if df.shape[1] == 5:\n",
    "        df.drop(columns = \"№\", inplace=True)\n",
    "    df.drop(columns=\"Название\", inplace=True)\n",
    "    df.rename(\n",
    "        columns ={df.columns[0]:\"token\", df.columns[1]:\"current_limit\", df.columns[2]:\"new_limit\"},\n",
    "        inplace=True,\n",
    "        )\n",
    "    df[\"current_limit\"] = df[\"current_limit\"].str.rstrip(\"%\").astype(float)\n",
    "    df[\"new_limit\"] = df[\"new_limit\"].str.rstrip(\"%\").astype(float)\n",
    "    return df\n",
    "w_table_df[\"table\"] = w_table_df[\"body\"].apply(extract_table)\n",
    "w_table_df[\"t_shape\"] = w_table_df[\"table\"].apply(lambda x: x.shape[1])\n",
    "w_table_df.drop(w_table_df[w_table_df[\"t_shape\"]>6].index, inplace=True)\n",
    "w_table_df[\"table\"] = w_table_df[\"table\"].apply(preprocess)\n",
    "w_table_df.shape\n"
   ]
  },
  {
   "cell_type": "markdown",
   "metadata": {},
   "source": [
    "Why do we omit tables with more than 6 columns? In short, this concerns just 3 entries among the entire dataset, and these tables don't hold significant data. Moreover, automatic data extraction becomes notably challenging due to their lack of standardization. Thus, it proves more convenient to bypass such tables altogether.\n"
   ]
  },
  {
   "cell_type": "code",
   "execution_count": 34,
   "metadata": {},
   "outputs": [
    {
     "data": {
      "text/html": [
       "<div>\n",
       "<style scoped>\n",
       "    .dataframe tbody tr th:only-of-type {\n",
       "        vertical-align: middle;\n",
       "    }\n",
       "\n",
       "    .dataframe tbody tr th {\n",
       "        vertical-align: top;\n",
       "    }\n",
       "\n",
       "    .dataframe thead th {\n",
       "        text-align: right;\n",
       "    }\n",
       "</style>\n",
       "<table border=\"1\" class=\"dataframe\">\n",
       "  <thead>\n",
       "    <tr style=\"text-align: right;\">\n",
       "      <th></th>\n",
       "      <th>token</th>\n",
       "      <th>current_limit</th>\n",
       "      <th>new_limit</th>\n",
       "    </tr>\n",
       "  </thead>\n",
       "  <tbody>\n",
       "    <tr>\n",
       "      <th>0</th>\n",
       "      <td>DZRD</td>\n",
       "      <td>40.0</td>\n",
       "      <td>10.0</td>\n",
       "    </tr>\n",
       "    <tr>\n",
       "      <th>1</th>\n",
       "      <td>RKKE</td>\n",
       "      <td>20.0</td>\n",
       "      <td>10.0</td>\n",
       "    </tr>\n",
       "    <tr>\n",
       "      <th>0</th>\n",
       "      <td>VRSB</td>\n",
       "      <td>10.0</td>\n",
       "      <td>40.0</td>\n",
       "    </tr>\n",
       "    <tr>\n",
       "      <th>1</th>\n",
       "      <td>MRKS</td>\n",
       "      <td>10.0</td>\n",
       "      <td>40.0</td>\n",
       "    </tr>\n",
       "    <tr>\n",
       "      <th>2</th>\n",
       "      <td>ROST</td>\n",
       "      <td>10.0</td>\n",
       "      <td>40.0</td>\n",
       "    </tr>\n",
       "    <tr>\n",
       "      <th>...</th>\n",
       "      <td>...</td>\n",
       "      <td>...</td>\n",
       "      <td>...</td>\n",
       "    </tr>\n",
       "    <tr>\n",
       "      <th>0</th>\n",
       "      <td>LPSB</td>\n",
       "      <td>10.0</td>\n",
       "      <td>40.0</td>\n",
       "    </tr>\n",
       "    <tr>\n",
       "      <th>0</th>\n",
       "      <td>RUSI</td>\n",
       "      <td>10.0</td>\n",
       "      <td>40.0</td>\n",
       "    </tr>\n",
       "    <tr>\n",
       "      <th>0</th>\n",
       "      <td>UCSS</td>\n",
       "      <td>40.0</td>\n",
       "      <td>10.0</td>\n",
       "    </tr>\n",
       "    <tr>\n",
       "      <th>0</th>\n",
       "      <td>LPSB</td>\n",
       "      <td>40.0</td>\n",
       "      <td>10.0</td>\n",
       "    </tr>\n",
       "    <tr>\n",
       "      <th>0</th>\n",
       "      <td>RUSI</td>\n",
       "      <td>40.0</td>\n",
       "      <td>10.0</td>\n",
       "    </tr>\n",
       "  </tbody>\n",
       "</table>\n",
       "<p>193 rows × 3 columns</p>\n",
       "</div>"
      ],
      "text/plain": [
       "   token  current_limit  new_limit\n",
       "0   DZRD           40.0       10.0\n",
       "1   RKKE           20.0       10.0\n",
       "0   VRSB           10.0       40.0\n",
       "1   MRKS           10.0       40.0\n",
       "2   ROST           10.0       40.0\n",
       "..   ...            ...        ...\n",
       "0   LPSB           10.0       40.0\n",
       "0   RUSI           10.0       40.0\n",
       "0   UCSS           40.0       10.0\n",
       "0   LPSB           40.0       10.0\n",
       "0   RUSI           40.0       10.0\n",
       "\n",
       "[193 rows x 3 columns]"
      ]
     },
     "execution_count": 34,
     "metadata": {},
     "output_type": "execute_result"
    }
   ],
   "source": [
    "pd_list = w_table_df[\"table\"].tolist()\n",
    "f_df = pd.concat(pd_list)\n",
    "f_df"
   ]
  },
  {
   "cell_type": "markdown",
   "metadata": {},
   "source": [
    "Now, let's direct our attention to the entries where new limitations have been introduced (new_limit < current_limit)."
   ]
  },
  {
   "cell_type": "code",
   "execution_count": 35,
   "metadata": {},
   "outputs": [
    {
     "data": {
      "text/html": [
       "<div>\n",
       "<style scoped>\n",
       "    .dataframe tbody tr th:only-of-type {\n",
       "        vertical-align: middle;\n",
       "    }\n",
       "\n",
       "    .dataframe tbody tr th {\n",
       "        vertical-align: top;\n",
       "    }\n",
       "\n",
       "    .dataframe thead th {\n",
       "        text-align: right;\n",
       "    }\n",
       "</style>\n",
       "<table border=\"1\" class=\"dataframe\">\n",
       "  <thead>\n",
       "    <tr style=\"text-align: right;\">\n",
       "      <th></th>\n",
       "      <th>token</th>\n",
       "      <th>current_limit</th>\n",
       "      <th>new_limit</th>\n",
       "    </tr>\n",
       "  </thead>\n",
       "  <tbody>\n",
       "    <tr>\n",
       "      <th>0</th>\n",
       "      <td>DZRD</td>\n",
       "      <td>40.0</td>\n",
       "      <td>10.0</td>\n",
       "    </tr>\n",
       "    <tr>\n",
       "      <th>1</th>\n",
       "      <td>RKKE</td>\n",
       "      <td>20.0</td>\n",
       "      <td>10.0</td>\n",
       "    </tr>\n",
       "    <tr>\n",
       "      <th>0</th>\n",
       "      <td>VSYD</td>\n",
       "      <td>40.0</td>\n",
       "      <td>10.0</td>\n",
       "    </tr>\n",
       "    <tr>\n",
       "      <th>1</th>\n",
       "      <td>VSYDP</td>\n",
       "      <td>40.0</td>\n",
       "      <td>10.0</td>\n",
       "    </tr>\n",
       "    <tr>\n",
       "      <th>2</th>\n",
       "      <td>GTRK</td>\n",
       "      <td>100.0</td>\n",
       "      <td>10.0</td>\n",
       "    </tr>\n",
       "    <tr>\n",
       "      <th>...</th>\n",
       "      <td>...</td>\n",
       "      <td>...</td>\n",
       "      <td>...</td>\n",
       "    </tr>\n",
       "    <tr>\n",
       "      <th>0</th>\n",
       "      <td>MGVM</td>\n",
       "      <td>40.0</td>\n",
       "      <td>10.0</td>\n",
       "    </tr>\n",
       "    <tr>\n",
       "      <th>0</th>\n",
       "      <td>IDVP</td>\n",
       "      <td>40.0</td>\n",
       "      <td>10.0</td>\n",
       "    </tr>\n",
       "    <tr>\n",
       "      <th>0</th>\n",
       "      <td>UCSS</td>\n",
       "      <td>40.0</td>\n",
       "      <td>10.0</td>\n",
       "    </tr>\n",
       "    <tr>\n",
       "      <th>0</th>\n",
       "      <td>LPSB</td>\n",
       "      <td>40.0</td>\n",
       "      <td>10.0</td>\n",
       "    </tr>\n",
       "    <tr>\n",
       "      <th>0</th>\n",
       "      <td>RUSI</td>\n",
       "      <td>40.0</td>\n",
       "      <td>10.0</td>\n",
       "    </tr>\n",
       "  </tbody>\n",
       "</table>\n",
       "<p>95 rows × 3 columns</p>\n",
       "</div>"
      ],
      "text/plain": [
       "    token  current_limit  new_limit\n",
       "0    DZRD           40.0       10.0\n",
       "1    RKKE           20.0       10.0\n",
       "0    VSYD           40.0       10.0\n",
       "1   VSYDP           40.0       10.0\n",
       "2    GTRK          100.0       10.0\n",
       "..    ...            ...        ...\n",
       "0    MGVM           40.0       10.0\n",
       "0    IDVP           40.0       10.0\n",
       "0    UCSS           40.0       10.0\n",
       "0    LPSB           40.0       10.0\n",
       "0    RUSI           40.0       10.0\n",
       "\n",
       "[95 rows x 3 columns]"
      ]
     },
     "execution_count": 35,
     "metadata": {},
     "output_type": "execute_result"
    }
   ],
   "source": [
    "f_df[f_df[\"current_limit\"]>f_df[\"new_limit\"]]"
   ]
  },
  {
   "cell_type": "markdown",
   "metadata": {},
   "source": [
    "At this juncture, we have identified the securities that warrant scrutiny for potential pump-and-dump activities."
   ]
  },
  {
   "cell_type": "code",
   "execution_count": 36,
   "metadata": {},
   "outputs": [
    {
     "data": {
      "text/plain": [
       "array(['DZRD', 'RKKE', 'VSYD', 'VSYDP', 'GTRK', 'ASSB', 'TNSE', 'KCHEP',\n",
       "       'MISBP', 'NNSBP', 'KCHE', 'VRSBP', 'RTSB', 'ROST', 'VRSB', 'NKHP',\n",
       "       'TGKN', 'ELTZ', 'KUBE', 'BSPBP', 'SVAV', 'GECO', 'VGSBP', 'KTSB',\n",
       "       'KTSBP', 'LNZLP', 'ROSB', 'KROTP', 'KROT', 'CHKZ', 'BLNG', 'MSTT',\n",
       "       'UWGN', 'ORUP', 'RUSI', 'RU000A101NK4', 'MRKS', 'MSST', 'DASB',\n",
       "       'LENT', 'IGST', 'IGSTP', 'DVEC', 'LPSB', 'UKUZ', 'RTSBP', 'LVHK',\n",
       "       'ALBK', 'LNZL', 'KUZB', 'KRKOP', 'BELU', 'SVET', 'VJGZ', 'VJGZP',\n",
       "       'RLMNP', 'ABRD', 'MERF', 'UNKL', 'MOBB', 'ISKJ', 'GTLC', 'TGKBP',\n",
       "       'YAKG', 'FXRW', 'FXWO', 'RDRB', 'PAZA', 'MISB', 'IDVP', 'MGVM',\n",
       "       'UCSS'], dtype=object)"
      ]
     },
     "execution_count": 36,
     "metadata": {},
     "output_type": "execute_result"
    }
   ],
   "source": [
    "f_df[f_df[\"current_limit\"]>f_df[\"new_limit\"]][\"token\"].unique()"
   ]
  }
 ],
 "metadata": {
  "kernelspec": {
   "display_name": ".venv",
   "language": "python",
   "name": "python3"
  },
  "language_info": {
   "codemirror_mode": {
    "name": "ipython",
    "version": 3
   },
   "file_extension": ".py",
   "mimetype": "text/x-python",
   "name": "python",
   "nbconvert_exporter": "python",
   "pygments_lexer": "ipython3",
   "version": "3.11.3"
  },
  "orig_nbformat": 4
 },
 "nbformat": 4,
 "nbformat_minor": 2
}
